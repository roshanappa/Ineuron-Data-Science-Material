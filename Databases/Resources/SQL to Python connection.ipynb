{
 "cells": [
  {
   "cell_type": "markdown",
   "metadata": {},
   "source": [
    "## MySQL Connection Package."
   ]
  },
  {
   "cell_type": "markdown",
   "metadata": {},
   "source": [
    "Link :- https://pypi.org/project/mysql-connector-python/"
   ]
  },
  {
   "cell_type": "code",
   "execution_count": 1,
   "metadata": {},
   "outputs": [
    {
     "name": "stdout",
     "output_type": "stream",
     "text": [
      "Requirement already satisfied: mysql-connector-python in f:\\anaconda\\lib\\site-packages (8.0.23)\n",
      "Requirement already satisfied: protobuf>=3.0.0 in f:\\anaconda\\lib\\site-packages (from mysql-connector-python) (3.15.8)\n",
      "Requirement already satisfied: six>=1.9 in f:\\anaconda\\lib\\site-packages (from protobuf>=3.0.0->mysql-connector-python) (1.15.0)\n"
     ]
    }
   ],
   "source": [
    "!pip install mysql-connector-python"
   ]
  },
  {
   "cell_type": "code",
   "execution_count": 2,
   "metadata": {},
   "outputs": [],
   "source": [
    "import mysql.connector as connection"
   ]
  },
  {
   "cell_type": "code",
   "execution_count": 3,
   "metadata": {},
   "outputs": [
    {
     "name": "stdout",
     "output_type": "stream",
     "text": [
      "[('information_schema',), ('mysql',), ('new',), ('performance_schema',), ('sakila',), ('student_information',), ('sys',), ('world',)]\n"
     ]
    }
   ],
   "source": [
    "try:\n",
    "    mydb = connection.connect(host=\"localhost\",user=\"root\",passwd=\"Roshan@123\",use_pure=True)\n",
    "        #for the local system we have localhost and for the cloud sytem there will be some url provided by admin.\n",
    "    query = \"SHOW DATABASES\"\n",
    "    cur = mydb.cursor()\n",
    "    cur.execute(query)\n",
    "    result=cur.fetchall()\n",
    "    print(result)\n",
    "except Exception as e:\n",
    "    mydb.close()\n",
    "    print(str(e))"
   ]
  },
  {
   "cell_type": "markdown",
   "metadata": {},
   "source": [
    "## Explaination"
   ]
  },
  {
   "cell_type": "code",
   "execution_count": 4,
   "metadata": {},
   "outputs": [
    {
     "data": {
      "text/plain": [
       "<mysql.connector.connection.MySQLConnection at 0x1c7f71939d0>"
      ]
     },
     "execution_count": 4,
     "metadata": {},
     "output_type": "execute_result"
    }
   ],
   "source": [
    "connection.connect(host=\"localhost\",user=\"root\",passwd=\"Roshan@123\",use_pure=True) \n",
    "#This means we have establish the connection"
   ]
  },
  {
   "cell_type": "markdown",
   "metadata": {},
   "source": [
    "- After by creation of connection with sql by using Python.\n",
    "- We have to do the cursor to exccute the query of Mysql"
   ]
  },
  {
   "cell_type": "code",
   "execution_count": 5,
   "metadata": {},
   "outputs": [],
   "source": [
    "connect = connection.connect(host=\"localhost\",user=\"root\",passwd=\"Roshan@123\",use_pure=True) #connection variable\n",
    "cur = connect.cursor() #cursor made for the MySQL.\n",
    "query = \"SHOW DATABASES\" #Query that we want to execute.\n",
    "cur.execute(query)#with the cursor we are able to get the that query."
   ]
  },
  {
   "cell_type": "markdown",
   "metadata": {},
   "source": [
    "Now we want to see the command output for that we to following command."
   ]
  },
  {
   "cell_type": "code",
   "execution_count": 6,
   "metadata": {},
   "outputs": [],
   "source": [
    "database =cur.fetchall() #this many databases we have in our SQL Database."
   ]
  },
  {
   "cell_type": "markdown",
   "metadata": {},
   "source": [
    "Althogh we can see that all the databases are avalible inside the `tuple` form."
   ]
  },
  {
   "cell_type": "code",
   "execution_count": 7,
   "metadata": {},
   "outputs": [
    {
     "data": {
      "text/plain": [
       "[('information_schema',),\n",
       " ('mysql',),\n",
       " ('new',),\n",
       " ('performance_schema',),\n",
       " ('sakila',),\n",
       " ('student_information',),\n",
       " ('sys',),\n",
       " ('world',)]"
      ]
     },
     "execution_count": 7,
     "metadata": {},
     "output_type": "execute_result"
    }
   ],
   "source": [
    "database"
   ]
  },
  {
   "cell_type": "code",
   "execution_count": 8,
   "metadata": {},
   "outputs": [
    {
     "data": {
      "text/plain": [
       "'information_schema'"
      ]
     },
     "execution_count": 8,
     "metadata": {},
     "output_type": "execute_result"
    }
   ],
   "source": [
    "database[0][0]"
   ]
  },
  {
   "cell_type": "code",
   "execution_count": 9,
   "metadata": {},
   "outputs": [
    {
     "name": "stdout",
     "output_type": "stream",
     "text": [
      "information_schema\n",
      "mysql\n",
      "new\n",
      "performance_schema\n",
      "sakila\n",
      "student_information\n",
      "sys\n",
      "world\n"
     ]
    }
   ],
   "source": [
    "for i in database:\n",
    "    print(i[0])"
   ]
  },
  {
   "cell_type": "markdown",
   "metadata": {},
   "source": [
    "### Example 1."
   ]
  },
  {
   "cell_type": "markdown",
   "metadata": {},
   "source": [
    "### Create a new database."
   ]
  },
  {
   "cell_type": "code",
   "execution_count": 10,
   "metadata": {},
   "outputs": [],
   "source": [
    "import mysql.connector as connection"
   ]
  },
  {
   "cell_type": "code",
   "execution_count": 11,
   "metadata": {},
   "outputs": [
    {
     "name": "stdout",
     "output_type": "stream",
     "text": [
      "[]\n"
     ]
    }
   ],
   "source": [
    "try:\n",
    "    mysql = connection.Connect(host ='localhost',passwd ='Roshan@123',user ='root',use_pure=True)\n",
    "    cur = connect.cursor()\n",
    "    query = \"CREATE   DATABASE IF NOT EXISTS NEW_DATABASE\"\n",
    "    cur.execute(query)\n",
    "    Result = cur.fetchall()\n",
    "    print(Result)\n",
    "except Exception as e:\n",
    "    mysql.close()\n",
    "    print(str(e))"
   ]
  },
  {
   "cell_type": "markdown",
   "metadata": {},
   "source": [
    "### Drop Database "
   ]
  },
  {
   "cell_type": "code",
   "execution_count": 12,
   "metadata": {},
   "outputs": [
    {
     "name": "stdout",
     "output_type": "stream",
     "text": [
      "[]\n"
     ]
    }
   ],
   "source": [
    "try:\n",
    "    mysql = connection.Connect(host ='localhost',passwd ='Roshan@123',user ='root',use_pure=True)\n",
    "    cur = connect.cursor()\n",
    "    query = \" DROP  DATABASE IF EXISTS NEW_DATABASE\"\n",
    "    cur.execute(query)\n",
    "    Result = cur.fetchall()\n",
    "    print(Result)\n",
    "except Exception as e:\n",
    "    mysql.close()\n",
    "    print(str(e))"
   ]
  },
  {
   "cell_type": "markdown",
   "metadata": {},
   "source": [
    "### Table Creation."
   ]
  },
  {
   "cell_type": "code",
   "execution_count": 13,
   "metadata": {},
   "outputs": [
    {
     "name": "stdout",
     "output_type": "stream",
     "text": [
      "[]\n"
     ]
    }
   ],
   "source": [
    "try:\n",
    "    mysql = connection.Connect(host ='localhost',passwd ='Roshan@123',user ='root',use_pure=True)\n",
    "    cur = connect.cursor()\n",
    "    query = \"CREATE   DATABASE IF NOT EXISTS new\"\n",
    "    cur.execute(query)\n",
    "    Result = cur.fetchall()\n",
    "    print(Result)\n",
    "except Exception as e:\n",
    "    mysql.close()\n",
    "    print(str(e))"
   ]
  },
  {
   "cell_type": "code",
   "execution_count": 14,
   "metadata": {},
   "outputs": [
    {
     "name": "stdout",
     "output_type": "stream",
     "text": [
      "1050 (42S01): Table 'sales' already exists\n"
     ]
    }
   ],
   "source": [
    "try:\n",
    "    mysql = connection.Connect(host ='localhost',database =\"new\",passwd ='Roshan@123',user ='root',use_pure=True)\n",
    "    mysql.is_connected()\n",
    "    cur = connect.cursor()\n",
    "    query1,query2 = \"USE new\",\"CREATE TABLE sales(id int(10) AUTO_INCREMENT PRIMARY KEY,Name Varchar(18) UNIQUE ,product Varchar(20))\"\n",
    "    cur.execute(query1)\n",
    "    cur.execute(query2)\n",
    "    Result = cur.fetchall()\n",
    "    print(Result)\n",
    "except Exception as e:\n",
    "    mysql.close()\n",
    "    print(str(e))"
   ]
  },
  {
   "cell_type": "markdown",
   "metadata": {},
   "source": [
    "### Insert the values inside the column of the table."
   ]
  },
  {
   "cell_type": "code",
   "execution_count": 15,
   "metadata": {},
   "outputs": [
    {
     "name": "stdout",
     "output_type": "stream",
     "text": [
      "[]\n"
     ]
    }
   ],
   "source": [
    "try:\n",
    "    mysql = connection.Connect(host ='localhost',database =\"new\",passwd ='Roshan@123',user ='root',use_pure=True)\n",
    "    mysql.is_connected()\n",
    "    cur = connect.cursor()\n",
    "    query1=\"USE new\"\n",
    "    query2 = \"INSERT INTO sales VALUES(1,'Hari','Laptop'),(2,'Nitish','DVD'),(3,'Pavan','Pen-Drive'),(4,'Girish','T.V.')\"\n",
    "    \n",
    "    cur.execute(query1)\n",
    "    cur.execute(query2)\n",
    "    Result = cur.fetchall()\n",
    "    print(Result)\n",
    "except Exception as e:\n",
    "    mysql.close()\n",
    "    print(str(e))"
   ]
  },
  {
   "cell_type": "markdown",
   "metadata": {},
   "source": [
    "After this execution of code,I will not get any data inside the database."
   ]
  },
  {
   "cell_type": "markdown",
   "metadata": {},
   "source": [
    "In order to get the data we have to use the **`mysql.commit()`**"
   ]
  },
  {
   "cell_type": "code",
   "execution_count": 16,
   "metadata": {},
   "outputs": [],
   "source": [
    "try:\n",
    "    mysql = connection.Connect(host ='localhost',database =\"new\",passwd ='Roshan@123',user ='root',use_pure=True)\n",
    "    mysql.is_connected()\n",
    "    cur = connect.cursor()\n",
    "    query1=\"USE new\"\n",
    "    query2 = \"INSERT INTO sales VALUES(11,'Nil','Laptop'),(12,'Go','DVD'),(13,'Ni','Pen-Drive'),(15,'Ga','T.V.')\"\n",
    "    \n",
    "    cur.execute(query1)\n",
    "    cur.execute(query2)\n",
    "    Result = cur.fetchall()\n",
    "    mysql.commit()\n",
    "    mysql.close()\n",
    "except Exception as e:\n",
    "    print(str(e))"
   ]
  },
  {
   "cell_type": "code",
   "execution_count": 17,
   "metadata": {},
   "outputs": [
    {
     "name": "stdout",
     "output_type": "stream",
     "text": [
      "True\n",
      "(1, 'PENELOPE', 'GUINESS', datetime.datetime(2006, 2, 15, 4, 34, 33))\n",
      "(2, 'NICK', 'WAHLBERG', datetime.datetime(2006, 2, 15, 4, 34, 33))\n",
      "(3, 'ED', 'CHASE', datetime.datetime(2006, 2, 15, 4, 34, 33))\n",
      "(4, 'JENNIFER', 'DAVIS', datetime.datetime(2006, 2, 15, 4, 34, 33))\n",
      "(5, 'JOHNNY', 'LOLLOBRIGIDA', datetime.datetime(2006, 2, 15, 4, 34, 33))\n",
      "(6, 'BETTE', 'NICHOLSON', datetime.datetime(2006, 2, 15, 4, 34, 33))\n",
      "(7, 'GRACE', 'MOSTEL', datetime.datetime(2006, 2, 15, 4, 34, 33))\n",
      "(8, 'MATTHEW', 'JOHANSSON', datetime.datetime(2006, 2, 15, 4, 34, 33))\n",
      "(9, 'JOE', 'SWANK', datetime.datetime(2006, 2, 15, 4, 34, 33))\n",
      "(10, 'CHRISTIAN', 'GABLE', datetime.datetime(2006, 2, 15, 4, 34, 33))\n",
      "(11, 'ZERO', 'CAGE', datetime.datetime(2006, 2, 15, 4, 34, 33))\n",
      "(12, 'KARL', 'BERRY', datetime.datetime(2006, 2, 15, 4, 34, 33))\n",
      "(13, 'UMA', 'WOOD', datetime.datetime(2006, 2, 15, 4, 34, 33))\n",
      "(14, 'VIVIEN', 'BERGEN', datetime.datetime(2006, 2, 15, 4, 34, 33))\n",
      "(15, 'CUBA', 'OLIVIER', datetime.datetime(2006, 2, 15, 4, 34, 33))\n",
      "(16, 'FRED', 'COSTNER', datetime.datetime(2006, 2, 15, 4, 34, 33))\n",
      "(17, 'HELEN', 'VOIGHT', datetime.datetime(2006, 2, 15, 4, 34, 33))\n",
      "(18, 'DAN', 'TORN', datetime.datetime(2006, 2, 15, 4, 34, 33))\n",
      "(19, 'BOB', 'FAWCETT', datetime.datetime(2006, 2, 15, 4, 34, 33))\n",
      "(20, 'LUCILLE', 'TRACY', datetime.datetime(2006, 2, 15, 4, 34, 33))\n",
      "(21, 'KIRSTEN', 'PALTROW', datetime.datetime(2006, 2, 15, 4, 34, 33))\n",
      "(22, 'ELVIS', 'MARX', datetime.datetime(2006, 2, 15, 4, 34, 33))\n",
      "(23, 'SANDRA', 'KILMER', datetime.datetime(2006, 2, 15, 4, 34, 33))\n",
      "(24, 'CAMERON', 'STREEP', datetime.datetime(2006, 2, 15, 4, 34, 33))\n",
      "(25, 'KEVIN', 'BLOOM', datetime.datetime(2006, 2, 15, 4, 34, 33))\n",
      "(26, 'RIP', 'CRAWFORD', datetime.datetime(2006, 2, 15, 4, 34, 33))\n",
      "(27, 'JULIA', 'MCQUEEN', datetime.datetime(2006, 2, 15, 4, 34, 33))\n",
      "(28, 'WOODY', 'HOFFMAN', datetime.datetime(2006, 2, 15, 4, 34, 33))\n",
      "(29, 'ALEC', 'WAYNE', datetime.datetime(2006, 2, 15, 4, 34, 33))\n",
      "(30, 'SANDRA', 'PECK', datetime.datetime(2006, 2, 15, 4, 34, 33))\n",
      "(31, 'SISSY', 'SOBIESKI', datetime.datetime(2006, 2, 15, 4, 34, 33))\n",
      "(32, 'TIM', 'HACKMAN', datetime.datetime(2006, 2, 15, 4, 34, 33))\n",
      "(33, 'MILLA', 'PECK', datetime.datetime(2006, 2, 15, 4, 34, 33))\n",
      "(34, 'AUDREY', 'OLIVIER', datetime.datetime(2006, 2, 15, 4, 34, 33))\n",
      "(35, 'JUDY', 'DEAN', datetime.datetime(2006, 2, 15, 4, 34, 33))\n",
      "(36, 'BURT', 'DUKAKIS', datetime.datetime(2006, 2, 15, 4, 34, 33))\n",
      "(37, 'VAL', 'BOLGER', datetime.datetime(2006, 2, 15, 4, 34, 33))\n",
      "(38, 'TOM', 'MCKELLEN', datetime.datetime(2006, 2, 15, 4, 34, 33))\n",
      "(39, 'GOLDIE', 'BRODY', datetime.datetime(2006, 2, 15, 4, 34, 33))\n",
      "(40, 'JOHNNY', 'CAGE', datetime.datetime(2006, 2, 15, 4, 34, 33))\n",
      "(41, 'JODIE', 'DEGENERES', datetime.datetime(2006, 2, 15, 4, 34, 33))\n",
      "(42, 'TOM', 'MIRANDA', datetime.datetime(2006, 2, 15, 4, 34, 33))\n",
      "(43, 'KIRK', 'JOVOVICH', datetime.datetime(2006, 2, 15, 4, 34, 33))\n",
      "(44, 'NICK', 'STALLONE', datetime.datetime(2006, 2, 15, 4, 34, 33))\n",
      "(45, 'REESE', 'KILMER', datetime.datetime(2006, 2, 15, 4, 34, 33))\n",
      "(46, 'PARKER', 'GOLDBERG', datetime.datetime(2006, 2, 15, 4, 34, 33))\n",
      "(47, 'JULIA', 'BARRYMORE', datetime.datetime(2006, 2, 15, 4, 34, 33))\n",
      "(48, 'FRANCES', 'DAY-LEWIS', datetime.datetime(2006, 2, 15, 4, 34, 33))\n",
      "(49, 'ANNE', 'CRONYN', datetime.datetime(2006, 2, 15, 4, 34, 33))\n",
      "(50, 'NATALIE', 'HOPKINS', datetime.datetime(2006, 2, 15, 4, 34, 33))\n",
      "(51, 'GARY', 'PHOENIX', datetime.datetime(2006, 2, 15, 4, 34, 33))\n",
      "(52, 'CARMEN', 'HUNT', datetime.datetime(2006, 2, 15, 4, 34, 33))\n",
      "(53, 'MENA', 'TEMPLE', datetime.datetime(2006, 2, 15, 4, 34, 33))\n",
      "(54, 'PENELOPE', 'PINKETT', datetime.datetime(2006, 2, 15, 4, 34, 33))\n",
      "(55, 'FAY', 'KILMER', datetime.datetime(2006, 2, 15, 4, 34, 33))\n",
      "(56, 'DAN', 'HARRIS', datetime.datetime(2006, 2, 15, 4, 34, 33))\n",
      "(57, 'JUDE', 'CRUISE', datetime.datetime(2006, 2, 15, 4, 34, 33))\n",
      "(58, 'CHRISTIAN', 'AKROYD', datetime.datetime(2006, 2, 15, 4, 34, 33))\n",
      "(59, 'DUSTIN', 'TAUTOU', datetime.datetime(2006, 2, 15, 4, 34, 33))\n",
      "(60, 'HENRY', 'BERRY', datetime.datetime(2006, 2, 15, 4, 34, 33))\n",
      "(61, 'CHRISTIAN', 'NEESON', datetime.datetime(2006, 2, 15, 4, 34, 33))\n",
      "(62, 'JAYNE', 'NEESON', datetime.datetime(2006, 2, 15, 4, 34, 33))\n",
      "(63, 'CAMERON', 'WRAY', datetime.datetime(2006, 2, 15, 4, 34, 33))\n",
      "(64, 'RAY', 'JOHANSSON', datetime.datetime(2006, 2, 15, 4, 34, 33))\n",
      "(65, 'ANGELA', 'HUDSON', datetime.datetime(2006, 2, 15, 4, 34, 33))\n",
      "(66, 'MARY', 'TANDY', datetime.datetime(2006, 2, 15, 4, 34, 33))\n",
      "(67, 'JESSICA', 'BAILEY', datetime.datetime(2006, 2, 15, 4, 34, 33))\n",
      "(68, 'RIP', 'WINSLET', datetime.datetime(2006, 2, 15, 4, 34, 33))\n",
      "(69, 'KENNETH', 'PALTROW', datetime.datetime(2006, 2, 15, 4, 34, 33))\n",
      "(70, 'MICHELLE', 'MCCONAUGHEY', datetime.datetime(2006, 2, 15, 4, 34, 33))\n",
      "(71, 'ADAM', 'GRANT', datetime.datetime(2006, 2, 15, 4, 34, 33))\n",
      "(72, 'SEAN', 'WILLIAMS', datetime.datetime(2006, 2, 15, 4, 34, 33))\n",
      "(73, 'GARY', 'PENN', datetime.datetime(2006, 2, 15, 4, 34, 33))\n",
      "(74, 'MILLA', 'KEITEL', datetime.datetime(2006, 2, 15, 4, 34, 33))\n",
      "(75, 'BURT', 'POSEY', datetime.datetime(2006, 2, 15, 4, 34, 33))\n",
      "(76, 'ANGELINA', 'ASTAIRE', datetime.datetime(2006, 2, 15, 4, 34, 33))\n",
      "(77, 'CARY', 'MCCONAUGHEY', datetime.datetime(2006, 2, 15, 4, 34, 33))\n",
      "(78, 'GROUCHO', 'SINATRA', datetime.datetime(2006, 2, 15, 4, 34, 33))\n",
      "(79, 'MAE', 'HOFFMAN', datetime.datetime(2006, 2, 15, 4, 34, 33))\n",
      "(80, 'RALPH', 'CRUZ', datetime.datetime(2006, 2, 15, 4, 34, 33))\n",
      "(81, 'SCARLETT', 'DAMON', datetime.datetime(2006, 2, 15, 4, 34, 33))\n",
      "(82, 'WOODY', 'JOLIE', datetime.datetime(2006, 2, 15, 4, 34, 33))\n",
      "(83, 'BEN', 'WILLIS', datetime.datetime(2006, 2, 15, 4, 34, 33))\n",
      "(84, 'JAMES', 'PITT', datetime.datetime(2006, 2, 15, 4, 34, 33))\n",
      "(85, 'MINNIE', 'ZELLWEGER', datetime.datetime(2006, 2, 15, 4, 34, 33))\n",
      "(86, 'GREG', 'CHAPLIN', datetime.datetime(2006, 2, 15, 4, 34, 33))\n",
      "(87, 'SPENCER', 'PECK', datetime.datetime(2006, 2, 15, 4, 34, 33))\n",
      "(88, 'KENNETH', 'PESCI', datetime.datetime(2006, 2, 15, 4, 34, 33))\n",
      "(89, 'CHARLIZE', 'DENCH', datetime.datetime(2006, 2, 15, 4, 34, 33))\n",
      "(90, 'SEAN', 'GUINESS', datetime.datetime(2006, 2, 15, 4, 34, 33))\n",
      "(91, 'CHRISTOPHER', 'BERRY', datetime.datetime(2006, 2, 15, 4, 34, 33))\n",
      "(92, 'KIRSTEN', 'AKROYD', datetime.datetime(2006, 2, 15, 4, 34, 33))\n",
      "(93, 'ELLEN', 'PRESLEY', datetime.datetime(2006, 2, 15, 4, 34, 33))\n",
      "(94, 'KENNETH', 'TORN', datetime.datetime(2006, 2, 15, 4, 34, 33))\n",
      "(95, 'DARYL', 'WAHLBERG', datetime.datetime(2006, 2, 15, 4, 34, 33))\n",
      "(96, 'GENE', 'WILLIS', datetime.datetime(2006, 2, 15, 4, 34, 33))\n",
      "(97, 'MEG', 'HAWKE', datetime.datetime(2006, 2, 15, 4, 34, 33))\n",
      "(98, 'CHRIS', 'BRIDGES', datetime.datetime(2006, 2, 15, 4, 34, 33))\n",
      "(99, 'JIM', 'MOSTEL', datetime.datetime(2006, 2, 15, 4, 34, 33))\n",
      "(100, 'SPENCER', 'DEPP', datetime.datetime(2006, 2, 15, 4, 34, 33))\n",
      "(101, 'SUSAN', 'DAVIS', datetime.datetime(2006, 2, 15, 4, 34, 33))\n",
      "(102, 'WALTER', 'TORN', datetime.datetime(2006, 2, 15, 4, 34, 33))\n",
      "(103, 'MATTHEW', 'LEIGH', datetime.datetime(2006, 2, 15, 4, 34, 33))\n",
      "(104, 'PENELOPE', 'CRONYN', datetime.datetime(2006, 2, 15, 4, 34, 33))\n",
      "(105, 'SIDNEY', 'CROWE', datetime.datetime(2006, 2, 15, 4, 34, 33))\n",
      "(106, 'GROUCHO', 'DUNST', datetime.datetime(2006, 2, 15, 4, 34, 33))\n",
      "(107, 'GINA', 'DEGENERES', datetime.datetime(2006, 2, 15, 4, 34, 33))\n",
      "(108, 'WARREN', 'NOLTE', datetime.datetime(2006, 2, 15, 4, 34, 33))\n",
      "(109, 'SYLVESTER', 'DERN', datetime.datetime(2006, 2, 15, 4, 34, 33))\n",
      "(110, 'SUSAN', 'DAVIS', datetime.datetime(2006, 2, 15, 4, 34, 33))\n",
      "(111, 'CAMERON', 'ZELLWEGER', datetime.datetime(2006, 2, 15, 4, 34, 33))\n",
      "(112, 'RUSSELL', 'BACALL', datetime.datetime(2006, 2, 15, 4, 34, 33))\n",
      "(113, 'MORGAN', 'HOPKINS', datetime.datetime(2006, 2, 15, 4, 34, 33))\n",
      "(114, 'MORGAN', 'MCDORMAND', datetime.datetime(2006, 2, 15, 4, 34, 33))\n",
      "(115, 'HARRISON', 'BALE', datetime.datetime(2006, 2, 15, 4, 34, 33))\n",
      "(116, 'DAN', 'STREEP', datetime.datetime(2006, 2, 15, 4, 34, 33))\n",
      "(117, 'RENEE', 'TRACY', datetime.datetime(2006, 2, 15, 4, 34, 33))\n",
      "(118, 'CUBA', 'ALLEN', datetime.datetime(2006, 2, 15, 4, 34, 33))\n",
      "(119, 'WARREN', 'JACKMAN', datetime.datetime(2006, 2, 15, 4, 34, 33))\n",
      "(120, 'PENELOPE', 'MONROE', datetime.datetime(2006, 2, 15, 4, 34, 33))\n",
      "(121, 'LIZA', 'BERGMAN', datetime.datetime(2006, 2, 15, 4, 34, 33))\n",
      "(122, 'SALMA', 'NOLTE', datetime.datetime(2006, 2, 15, 4, 34, 33))\n",
      "(123, 'JULIANNE', 'DENCH', datetime.datetime(2006, 2, 15, 4, 34, 33))\n",
      "(124, 'SCARLETT', 'BENING', datetime.datetime(2006, 2, 15, 4, 34, 33))\n",
      "(125, 'ALBERT', 'NOLTE', datetime.datetime(2006, 2, 15, 4, 34, 33))\n",
      "(126, 'FRANCES', 'TOMEI', datetime.datetime(2006, 2, 15, 4, 34, 33))\n",
      "(127, 'KEVIN', 'GARLAND', datetime.datetime(2006, 2, 15, 4, 34, 33))\n",
      "(128, 'CATE', 'MCQUEEN', datetime.datetime(2006, 2, 15, 4, 34, 33))\n",
      "(129, 'DARYL', 'CRAWFORD', datetime.datetime(2006, 2, 15, 4, 34, 33))\n",
      "(130, 'GRETA', 'KEITEL', datetime.datetime(2006, 2, 15, 4, 34, 33))\n",
      "(131, 'JANE', 'JACKMAN', datetime.datetime(2006, 2, 15, 4, 34, 33))\n",
      "(132, 'ADAM', 'HOPPER', datetime.datetime(2006, 2, 15, 4, 34, 33))\n",
      "(133, 'RICHARD', 'PENN', datetime.datetime(2006, 2, 15, 4, 34, 33))\n",
      "(134, 'GENE', 'HOPKINS', datetime.datetime(2006, 2, 15, 4, 34, 33))\n",
      "(135, 'RITA', 'REYNOLDS', datetime.datetime(2006, 2, 15, 4, 34, 33))\n",
      "(136, 'ED', 'MANSFIELD', datetime.datetime(2006, 2, 15, 4, 34, 33))\n",
      "(137, 'MORGAN', 'WILLIAMS', datetime.datetime(2006, 2, 15, 4, 34, 33))\n",
      "(138, 'LUCILLE', 'DEE', datetime.datetime(2006, 2, 15, 4, 34, 33))\n",
      "(139, 'EWAN', 'GOODING', datetime.datetime(2006, 2, 15, 4, 34, 33))\n",
      "(140, 'WHOOPI', 'HURT', datetime.datetime(2006, 2, 15, 4, 34, 33))\n",
      "(141, 'CATE', 'HARRIS', datetime.datetime(2006, 2, 15, 4, 34, 33))\n",
      "(142, 'JADA', 'RYDER', datetime.datetime(2006, 2, 15, 4, 34, 33))\n",
      "(143, 'RIVER', 'DEAN', datetime.datetime(2006, 2, 15, 4, 34, 33))\n",
      "(144, 'ANGELA', 'WITHERSPOON', datetime.datetime(2006, 2, 15, 4, 34, 33))\n",
      "(145, 'KIM', 'ALLEN', datetime.datetime(2006, 2, 15, 4, 34, 33))\n",
      "(146, 'ALBERT', 'JOHANSSON', datetime.datetime(2006, 2, 15, 4, 34, 33))\n",
      "(147, 'FAY', 'WINSLET', datetime.datetime(2006, 2, 15, 4, 34, 33))\n",
      "(148, 'EMILY', 'DEE', datetime.datetime(2006, 2, 15, 4, 34, 33))\n",
      "(149, 'RUSSELL', 'TEMPLE', datetime.datetime(2006, 2, 15, 4, 34, 33))\n",
      "(150, 'JAYNE', 'NOLTE', datetime.datetime(2006, 2, 15, 4, 34, 33))\n",
      "(151, 'GEOFFREY', 'HESTON', datetime.datetime(2006, 2, 15, 4, 34, 33))\n",
      "(152, 'BEN', 'HARRIS', datetime.datetime(2006, 2, 15, 4, 34, 33))\n",
      "(153, 'MINNIE', 'KILMER', datetime.datetime(2006, 2, 15, 4, 34, 33))\n",
      "(154, 'MERYL', 'GIBSON', datetime.datetime(2006, 2, 15, 4, 34, 33))\n",
      "(155, 'IAN', 'TANDY', datetime.datetime(2006, 2, 15, 4, 34, 33))\n",
      "(156, 'FAY', 'WOOD', datetime.datetime(2006, 2, 15, 4, 34, 33))\n",
      "(157, 'GRETA', 'MALDEN', datetime.datetime(2006, 2, 15, 4, 34, 33))\n",
      "(158, 'VIVIEN', 'BASINGER', datetime.datetime(2006, 2, 15, 4, 34, 33))\n",
      "(159, 'LAURA', 'BRODY', datetime.datetime(2006, 2, 15, 4, 34, 33))\n",
      "(160, 'CHRIS', 'DEPP', datetime.datetime(2006, 2, 15, 4, 34, 33))\n",
      "(161, 'HARVEY', 'HOPE', datetime.datetime(2006, 2, 15, 4, 34, 33))\n",
      "(162, 'OPRAH', 'KILMER', datetime.datetime(2006, 2, 15, 4, 34, 33))\n",
      "(163, 'CHRISTOPHER', 'WEST', datetime.datetime(2006, 2, 15, 4, 34, 33))\n",
      "(164, 'HUMPHREY', 'WILLIS', datetime.datetime(2006, 2, 15, 4, 34, 33))\n",
      "(165, 'AL', 'GARLAND', datetime.datetime(2006, 2, 15, 4, 34, 33))\n",
      "(166, 'NICK', 'DEGENERES', datetime.datetime(2006, 2, 15, 4, 34, 33))\n",
      "(167, 'LAURENCE', 'BULLOCK', datetime.datetime(2006, 2, 15, 4, 34, 33))\n",
      "(168, 'WILL', 'WILSON', datetime.datetime(2006, 2, 15, 4, 34, 33))\n",
      "(169, 'KENNETH', 'HOFFMAN', datetime.datetime(2006, 2, 15, 4, 34, 33))\n",
      "(170, 'MENA', 'HOPPER', datetime.datetime(2006, 2, 15, 4, 34, 33))\n",
      "(171, 'OLYMPIA', 'PFEIFFER', datetime.datetime(2006, 2, 15, 4, 34, 33))\n",
      "(172, 'GROUCHO', 'WILLIAMS', datetime.datetime(2006, 2, 15, 4, 34, 33))\n",
      "(173, 'ALAN', 'DREYFUSS', datetime.datetime(2006, 2, 15, 4, 34, 33))\n",
      "(174, 'MICHAEL', 'BENING', datetime.datetime(2006, 2, 15, 4, 34, 33))\n",
      "(175, 'WILLIAM', 'HACKMAN', datetime.datetime(2006, 2, 15, 4, 34, 33))\n",
      "(176, 'JON', 'CHASE', datetime.datetime(2006, 2, 15, 4, 34, 33))\n",
      "(177, 'GENE', 'MCKELLEN', datetime.datetime(2006, 2, 15, 4, 34, 33))\n",
      "(178, 'LISA', 'MONROE', datetime.datetime(2006, 2, 15, 4, 34, 33))\n",
      "(179, 'ED', 'GUINESS', datetime.datetime(2006, 2, 15, 4, 34, 33))\n",
      "(180, 'JEFF', 'SILVERSTONE', datetime.datetime(2006, 2, 15, 4, 34, 33))\n",
      "(181, 'MATTHEW', 'CARREY', datetime.datetime(2006, 2, 15, 4, 34, 33))\n",
      "(182, 'DEBBIE', 'AKROYD', datetime.datetime(2006, 2, 15, 4, 34, 33))\n",
      "(183, 'RUSSELL', 'CLOSE', datetime.datetime(2006, 2, 15, 4, 34, 33))\n",
      "(184, 'HUMPHREY', 'GARLAND', datetime.datetime(2006, 2, 15, 4, 34, 33))\n",
      "(185, 'MICHAEL', 'BOLGER', datetime.datetime(2006, 2, 15, 4, 34, 33))\n",
      "(186, 'JULIA', 'ZELLWEGER', datetime.datetime(2006, 2, 15, 4, 34, 33))\n",
      "(187, 'RENEE', 'BALL', datetime.datetime(2006, 2, 15, 4, 34, 33))\n",
      "(188, 'ROCK', 'DUKAKIS', datetime.datetime(2006, 2, 15, 4, 34, 33))\n",
      "(189, 'CUBA', 'BIRCH', datetime.datetime(2006, 2, 15, 4, 34, 33))\n",
      "(190, 'AUDREY', 'BAILEY', datetime.datetime(2006, 2, 15, 4, 34, 33))\n",
      "(191, 'GREGORY', 'GOODING', datetime.datetime(2006, 2, 15, 4, 34, 33))\n",
      "(192, 'JOHN', 'SUVARI', datetime.datetime(2006, 2, 15, 4, 34, 33))\n",
      "(193, 'BURT', 'TEMPLE', datetime.datetime(2006, 2, 15, 4, 34, 33))\n",
      "(194, 'MERYL', 'ALLEN', datetime.datetime(2006, 2, 15, 4, 34, 33))\n",
      "(195, 'JAYNE', 'SILVERSTONE', datetime.datetime(2006, 2, 15, 4, 34, 33))\n",
      "(196, 'BELA', 'WALKEN', datetime.datetime(2006, 2, 15, 4, 34, 33))\n",
      "(197, 'REESE', 'WEST', datetime.datetime(2006, 2, 15, 4, 34, 33))\n",
      "(198, 'MARY', 'KEITEL', datetime.datetime(2006, 2, 15, 4, 34, 33))\n",
      "(199, 'JULIA', 'FAWCETT', datetime.datetime(2006, 2, 15, 4, 34, 33))\n",
      "(200, 'THORA', 'TEMPLE', datetime.datetime(2006, 2, 15, 4, 34, 33))\n"
     ]
    }
   ],
   "source": [
    "try:\n",
    "    mysql = connection.Connect(host ='localhost',database =\"sakila\",passwd ='Roshan@123',user ='root',use_pure=True)\n",
    "    print(mysql.is_connected())\n",
    "    cur = connect.cursor()\n",
    "    query1=\"USE sakila\"\n",
    "    query2 = \"SELECT *FROM actor\"\n",
    "    cur.execute(query1)\n",
    "    cur.execute(query2)\n",
    "    Result = cur.fetchall()\n",
    "    \n",
    "    for i in Result:\n",
    "        print(i)\n",
    "    mysql.close()\n",
    "except Exception as e:\n",
    "    print(str(e))"
   ]
  },
  {
   "cell_type": "markdown",
   "metadata": {},
   "source": [
    "## Output In DataFrame."
   ]
  },
  {
   "cell_type": "code",
   "execution_count": 42,
   "metadata": {},
   "outputs": [
    {
     "name": "stdout",
     "output_type": "stream",
     "text": [
      "True\n",
      "   language_id      name         last_update\n",
      "0            1   English 2006-02-15 05:02:19\n",
      "1            2   Italian 2006-02-15 05:02:19\n",
      "2            3  Japanese 2006-02-15 05:02:19\n",
      "3            4  Mandarin 2006-02-15 05:02:19\n",
      "4            5    French 2006-02-15 05:02:19\n",
      "5            6    German 2006-02-15 05:02:19\n"
     ]
    }
   ],
   "source": [
    "import pandas as pd\n",
    "try:\n",
    "    mydb = connection.Connect(host ='localhost',database =\"sakila\",passwd ='Roshan@123',user ='root',use_pure=True)\n",
    "    print(mydb.is_connected())\n",
    "    cur = mydb.cursor()\n",
    "    query1=\"USE sakila\"\n",
    "    query2 = \"SELECT *FROM language\"\n",
    "    cur.execute(query1)\n",
    "    cur.execute(query2)\n",
    "    from pandas import DataFrame\n",
    "    df = DataFrame(cur.fetchall())\n",
    "    result_dataframe=pd.read_sql(query2,mydb)\n",
    "    print(result_dataframe)\n",
    "    mydb.close()\n",
    "except Exception as e:\n",
    "    print(str(e))"
   ]
  },
  {
   "cell_type": "markdown",
   "metadata": {},
   "source": [
    "### DataFrame"
   ]
  },
  {
   "cell_type": "code",
   "execution_count": 46,
   "metadata": {},
   "outputs": [
    {
     "name": "stdout",
     "output_type": "stream",
     "text": [
      "True\n"
     ]
    },
    {
     "data": {
      "text/html": [
       "<div>\n",
       "<style scoped>\n",
       "    .dataframe tbody tr th:only-of-type {\n",
       "        vertical-align: middle;\n",
       "    }\n",
       "\n",
       "    .dataframe tbody tr th {\n",
       "        vertical-align: top;\n",
       "    }\n",
       "\n",
       "    .dataframe thead th {\n",
       "        text-align: right;\n",
       "    }\n",
       "</style>\n",
       "<table border=\"1\" class=\"dataframe\">\n",
       "  <thead>\n",
       "    <tr style=\"text-align: right;\">\n",
       "      <th></th>\n",
       "      <th>city_id</th>\n",
       "      <th>city</th>\n",
       "      <th>country_id</th>\n",
       "      <th>last_update</th>\n",
       "    </tr>\n",
       "  </thead>\n",
       "  <tbody>\n",
       "    <tr>\n",
       "      <th>0</th>\n",
       "      <td>1</td>\n",
       "      <td>A Corua (La Corua)</td>\n",
       "      <td>87</td>\n",
       "      <td>2006-02-15 04:45:25</td>\n",
       "    </tr>\n",
       "    <tr>\n",
       "      <th>1</th>\n",
       "      <td>2</td>\n",
       "      <td>Abha</td>\n",
       "      <td>82</td>\n",
       "      <td>2006-02-15 04:45:25</td>\n",
       "    </tr>\n",
       "    <tr>\n",
       "      <th>2</th>\n",
       "      <td>3</td>\n",
       "      <td>Abu Dhabi</td>\n",
       "      <td>101</td>\n",
       "      <td>2006-02-15 04:45:25</td>\n",
       "    </tr>\n",
       "    <tr>\n",
       "      <th>3</th>\n",
       "      <td>4</td>\n",
       "      <td>Acua</td>\n",
       "      <td>60</td>\n",
       "      <td>2006-02-15 04:45:25</td>\n",
       "    </tr>\n",
       "    <tr>\n",
       "      <th>4</th>\n",
       "      <td>5</td>\n",
       "      <td>Adana</td>\n",
       "      <td>97</td>\n",
       "      <td>2006-02-15 04:45:25</td>\n",
       "    </tr>\n",
       "    <tr>\n",
       "      <th>...</th>\n",
       "      <td>...</td>\n",
       "      <td>...</td>\n",
       "      <td>...</td>\n",
       "      <td>...</td>\n",
       "    </tr>\n",
       "    <tr>\n",
       "      <th>595</th>\n",
       "      <td>596</td>\n",
       "      <td>Zaria</td>\n",
       "      <td>69</td>\n",
       "      <td>2006-02-15 04:45:25</td>\n",
       "    </tr>\n",
       "    <tr>\n",
       "      <th>596</th>\n",
       "      <td>597</td>\n",
       "      <td>Zeleznogorsk</td>\n",
       "      <td>80</td>\n",
       "      <td>2006-02-15 04:45:25</td>\n",
       "    </tr>\n",
       "    <tr>\n",
       "      <th>597</th>\n",
       "      <td>598</td>\n",
       "      <td>Zhezqazghan</td>\n",
       "      <td>51</td>\n",
       "      <td>2006-02-15 04:45:25</td>\n",
       "    </tr>\n",
       "    <tr>\n",
       "      <th>598</th>\n",
       "      <td>599</td>\n",
       "      <td>Zhoushan</td>\n",
       "      <td>23</td>\n",
       "      <td>2006-02-15 04:45:25</td>\n",
       "    </tr>\n",
       "    <tr>\n",
       "      <th>599</th>\n",
       "      <td>600</td>\n",
       "      <td>Ziguinchor</td>\n",
       "      <td>83</td>\n",
       "      <td>2006-02-15 04:45:25</td>\n",
       "    </tr>\n",
       "  </tbody>\n",
       "</table>\n",
       "<p>600 rows × 4 columns</p>\n",
       "</div>"
      ],
      "text/plain": [
       "     city_id                city  country_id         last_update\n",
       "0          1  A Corua (La Corua)          87 2006-02-15 04:45:25\n",
       "1          2                Abha          82 2006-02-15 04:45:25\n",
       "2          3           Abu Dhabi         101 2006-02-15 04:45:25\n",
       "3          4                Acua          60 2006-02-15 04:45:25\n",
       "4          5               Adana          97 2006-02-15 04:45:25\n",
       "..       ...                 ...         ...                 ...\n",
       "595      596               Zaria          69 2006-02-15 04:45:25\n",
       "596      597        Zeleznogorsk          80 2006-02-15 04:45:25\n",
       "597      598         Zhezqazghan          51 2006-02-15 04:45:25\n",
       "598      599            Zhoushan          23 2006-02-15 04:45:25\n",
       "599      600          Ziguinchor          83 2006-02-15 04:45:25\n",
       "\n",
       "[600 rows x 4 columns]"
      ]
     },
     "execution_count": 46,
     "metadata": {},
     "output_type": "execute_result"
    }
   ],
   "source": [
    "mydb = connection.Connect(host ='localhost',database =\"sakila\",passwd ='Roshan@123',user ='root',use_pure=True)\n",
    "print(mydb.is_connected())\n",
    "cur = mydb.cursor()\n",
    "query1=\"USE sakila\"\n",
    "query2 = \"SELECT *FROM city\"\n",
    "cur.execute(query1)\n",
    "cur.execute(query2)\n",
    "from pandas import DataFrame\n",
    "df = DataFrame(cur.fetchall())\n",
    "pd.read_sql('SELECT *FROM city',mydb)"
   ]
  },
  {
   "cell_type": "code",
   "execution_count": 50,
   "metadata": {},
   "outputs": [
    {
     "name": "stdout",
     "output_type": "stream",
     "text": [
      "True\n"
     ]
    },
    {
     "data": {
      "text/html": [
       "<div>\n",
       "<style scoped>\n",
       "    .dataframe tbody tr th:only-of-type {\n",
       "        vertical-align: middle;\n",
       "    }\n",
       "\n",
       "    .dataframe tbody tr th {\n",
       "        vertical-align: top;\n",
       "    }\n",
       "\n",
       "    .dataframe thead th {\n",
       "        text-align: right;\n",
       "    }\n",
       "</style>\n",
       "<table border=\"1\" class=\"dataframe\">\n",
       "  <thead>\n",
       "    <tr style=\"text-align: right;\">\n",
       "      <th></th>\n",
       "      <th>city</th>\n",
       "      <th>city_id</th>\n",
       "    </tr>\n",
       "  </thead>\n",
       "  <tbody>\n",
       "    <tr>\n",
       "      <th>0</th>\n",
       "      <td>A Corua (La Corua)</td>\n",
       "      <td>1</td>\n",
       "    </tr>\n",
       "    <tr>\n",
       "      <th>1</th>\n",
       "      <td>Abha</td>\n",
       "      <td>2</td>\n",
       "    </tr>\n",
       "    <tr>\n",
       "      <th>2</th>\n",
       "      <td>Abu Dhabi</td>\n",
       "      <td>3</td>\n",
       "    </tr>\n",
       "    <tr>\n",
       "      <th>3</th>\n",
       "      <td>Acua</td>\n",
       "      <td>4</td>\n",
       "    </tr>\n",
       "    <tr>\n",
       "      <th>4</th>\n",
       "      <td>Adana</td>\n",
       "      <td>5</td>\n",
       "    </tr>\n",
       "    <tr>\n",
       "      <th>...</th>\n",
       "      <td>...</td>\n",
       "      <td>...</td>\n",
       "    </tr>\n",
       "    <tr>\n",
       "      <th>595</th>\n",
       "      <td>Zaria</td>\n",
       "      <td>596</td>\n",
       "    </tr>\n",
       "    <tr>\n",
       "      <th>596</th>\n",
       "      <td>Zeleznogorsk</td>\n",
       "      <td>597</td>\n",
       "    </tr>\n",
       "    <tr>\n",
       "      <th>597</th>\n",
       "      <td>Zhezqazghan</td>\n",
       "      <td>598</td>\n",
       "    </tr>\n",
       "    <tr>\n",
       "      <th>598</th>\n",
       "      <td>Zhoushan</td>\n",
       "      <td>599</td>\n",
       "    </tr>\n",
       "    <tr>\n",
       "      <th>599</th>\n",
       "      <td>Ziguinchor</td>\n",
       "      <td>600</td>\n",
       "    </tr>\n",
       "  </tbody>\n",
       "</table>\n",
       "<p>600 rows × 2 columns</p>\n",
       "</div>"
      ],
      "text/plain": [
       "                   city  city_id\n",
       "0    A Corua (La Corua)        1\n",
       "1                  Abha        2\n",
       "2             Abu Dhabi        3\n",
       "3                  Acua        4\n",
       "4                 Adana        5\n",
       "..                  ...      ...\n",
       "595               Zaria      596\n",
       "596        Zeleznogorsk      597\n",
       "597         Zhezqazghan      598\n",
       "598            Zhoushan      599\n",
       "599          Ziguinchor      600\n",
       "\n",
       "[600 rows x 2 columns]"
      ]
     },
     "execution_count": 50,
     "metadata": {},
     "output_type": "execute_result"
    }
   ],
   "source": [
    "mydb = connection.Connect(host ='localhost',database =\"sakila\",passwd ='Roshan@123',user ='root',use_pure=True)\n",
    "print(mydb.is_connected())\n",
    "cur = mydb.cursor()\n",
    "query1=\"USE sakila\"\n",
    "query2 = \"SELECT *FROM city\"\n",
    "cur.execute(query1)\n",
    "cur.execute(query2)\n",
    "from pandas import DataFrame\n",
    "df = DataFrame(cur.fetchall())\n",
    "pd.read_sql('SELECT city,city_id FROM city',mydb)"
   ]
  },
  {
   "cell_type": "markdown",
   "metadata": {},
   "source": [
    "### All table to SQL table conversion"
   ]
  },
  {
   "cell_type": "code",
   "execution_count": 52,
   "metadata": {},
   "outputs": [
    {
     "name": "stdout",
     "output_type": "stream",
     "text": [
      "True\n"
     ]
    }
   ],
   "source": [
    "mydb = connection.Connect(host ='localhost',database =\"sakila\",passwd ='Roshan@123',user ='root',use_pure=True)\n",
    "print(mydb.is_connected())\n",
    "cur = mydb.cursor()\n",
    "query1=\"USE sakila\"\n",
    "query2 = \"SELECT *FROM city\"\n",
    "cur.execute(query1)\n",
    "cur.execute(query2)\n",
    "from pandas import DataFrame\n",
    "df = DataFrame(cur.fetchall())\n",
    "a=pd.read_sql('SELECT city,city_id FROM city',mydb)\n",
    "#a.to_sql() we can convert all data in sql table format."
   ]
  },
  {
   "cell_type": "markdown",
   "metadata": {},
   "source": [
    "### All table to csv file conversion"
   ]
  },
  {
   "cell_type": "code",
   "execution_count": 54,
   "metadata": {},
   "outputs": [
    {
     "name": "stdout",
     "output_type": "stream",
     "text": [
      "True\n"
     ]
    }
   ],
   "source": [
    "mydb = connection.Connect(host ='localhost',database =\"sakila\",passwd ='Roshan@123',user ='root',use_pure=True)\n",
    "print(mydb.is_connected())\n",
    "cur = mydb.cursor()\n",
    "query1=\"USE sakila\"\n",
    "query2 = \"SELECT *FROM city\"\n",
    "cur.execute(query1)\n",
    "cur.execute(query2)\n",
    "from pandas import DataFrame\n",
    "df = DataFrame(cur.fetchall())\n",
    "a=pd.read_sql('SELECT city,city_id FROM city',mydb)\n",
    "a.to_csv(\"mydata.csv\")\n",
    "#a.to_sql() we can convert all data in sql table format"
   ]
  },
  {
   "cell_type": "markdown",
   "metadata": {},
   "source": [
    "### CSV to SQL dump data."
   ]
  },
  {
   "cell_type": "code",
   "execution_count": null,
   "metadata": {},
   "outputs": [],
   "source": [
    "mydb = connection.Connect(host ='localhost',database =\"sakila\",passwd ='Roshan@123',user ='root',use_pure=True)\n",
    "print(mydb.is_connected())\n",
    "cur = mydb.cursor()\n",
    "query1=\"USE sakila\"\n",
    "query2 = \"SELECT *FROM city\"\n",
    "cur.execute(query1)\n",
    "cur.execute(query2)\n",
    "from pandas import DataFrame\n",
    "df = DataFrame(cur.fetchall())\n",
    "a=pd.read_sql('SELECT city,city_id FROM city',mydb)\n",
    "data = pd.read_csv('mydata.csv')\n",
    "data.to_sql(\"MAA\",mydb,if_exists = 'append',index = False, chunksize = 1000)\n",
    "\n",
    "#a.to_sql() we can convert all data in sql table format"
   ]
  },
  {
   "cell_type": "markdown",
   "metadata": {},
   "source": [
    "### Insertion of data from SQL to CSV"
   ]
  },
  {
   "attachments": {
    "image.png": {
     "image/png": "[encoded data removed]"
    }
   },
   "cell_type": "markdown",
   "metadata": {},
   "source": [
    "![image.png](attachment:image.png)"
   ]
  }
 ],
 "metadata": {
  "kernelspec": {
   "display_name": "Python 3",
   "language": "python",
   "name": "python3"
  },
  "language_info": {
   "codemirror_mode": {
    "name": "ipython",
    "version": 3
   },
   "file_extension": ".py",
   "mimetype": "text/x-python",
   "name": "python",
   "nbconvert_exporter": "python",
   "pygments_lexer": "ipython3",
   "version": "3.8.5"
  }
 },
 "nbformat": 4,
 "nbformat_minor": 4
}
