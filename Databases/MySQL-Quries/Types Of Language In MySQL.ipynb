{
 "cells": [
  {
   "cell_type": "markdown",
   "metadata": {},
   "source": [
    "Structured Query Language(SQL) as we all know is the database language by the use of which we can perform certain operations on the existing database and also we can use this language to create a database. SQL uses certain commands like Create, Drop, Insert, etc. to carry out the required tasks. \n",
    "\n",
    "These SQL commands are mainly categorized into four categories as: "
   ]
  },
  {
   "cell_type": "markdown",
   "metadata": {},
   "source": [
    "- **DDL** – Data Definition Language\n",
    "- **DML** – Data Manipulation Language\n",
    "- **DCL** – Data Control Language\n",
    "- **TCL** - Transaction Control Language"
   ]
  },
  {
   "cell_type": "markdown",
   "metadata": {},
   "source": [
    "**DDL(Data Definition Language) :**\n",
    "\n",
    "DDL or Data Definition Language actually consists of the SQL commands that can be used to define the database schema. It simply deals with descriptions of the database schema and is used to create and modify the structure of database objects in the database. \n",
    "\n",
    "Examples of DDL commands: \n"
   ]
  },
  {
   "cell_type": "markdown",
   "metadata": {},
   "source": [
    "- CREATE – is used to create the database or its objects (like table, index, function, views, store procedure and triggers).\n",
    "- DROP –   is used to delete objects from the database.\n",
    "- ALTER-   is used to alter the structure of the database.\n",
    "- TRUNCATE–is used to remove all records from a table, including all spaces allocated for the records are removed.\n",
    "- COMMENT –is used to add comments to the data dictionary.\n",
    "- RENAME – is used to rename an object existing in the database."
   ]
  },
  {
   "cell_type": "markdown",
   "metadata": {},
   "source": [
    "#### DML(Data Manipulation Language): "
   ]
  },
  {
   "cell_type": "markdown",
   "metadata": {},
   "source": [
    "DML(Data Manipulation Language): The SQL commands that deals with the manipulation of data present in the database belong to DML or Data Manipulation Language and this includes most of the SQL statements. \n",
    "Examples of DML: \n",
    "\n",
    "- INSERT – is used to insert data into a table.\n",
    "- UPDATE – is used to update existing data within a table.\n",
    "- DELETE – is used to delete records from a database table."
   ]
  },
  {
   "cell_type": "markdown",
   "metadata": {},
   "source": [
    "#### DCL(Data Control Language):"
   ]
  },
  {
   "cell_type": "markdown",
   "metadata": {},
   "source": [
    "DCL includes commands such as GRANT and REVOKE which mainly deal with the rights, permissions and other controls of the database system. \n",
    "Examples of DCL commands: \n",
    "\n",
    "- GRANT-gives user’s access privileges to the database.\n",
    "- REVOKE-withdraw user’s access privileges given by using the GRANT command."
   ]
  },
  {
   "cell_type": "markdown",
   "metadata": {},
   "source": [
    "#### TCL(transaction Control Language): "
   ]
  },
  {
   "cell_type": "markdown",
   "metadata": {},
   "source": [
    "TCL commands deal with the transaction within the database. \n",
    "Examples of TCL commands: \n",
    "\n",
    "- COMMIT– commits a Transaction.\n",
    "- ROLLBACK– rollbacks a transaction in case of any error occurs.\n",
    "- SAVEPOINT–sets a savepoint within a transaction.\n",
    "- SET TRANSACTION–specify characteristics for the transaction."
   ]
  },
  {
   "cell_type": "code",
   "execution_count": null,
   "metadata": {},
   "outputs": [],
   "source": []
  }
 ],
 "metadata": {
  "kernelspec": {
   "display_name": "Python 3",
   "language": "python",
   "name": "python3"
  },
  "language_info": {
   "codemirror_mode": {
    "name": "ipython",
    "version": 3
   },
   "file_extension": ".py",
   "mimetype": "text/x-python",
   "name": "python",
   "nbconvert_exporter": "python",
   "pygments_lexer": "ipython3",
   "version": "3.8.5"
  }
 },
 "nbformat": 4,
 "nbformat_minor": 4
}
