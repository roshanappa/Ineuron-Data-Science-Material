{
 "cells": [
  {
   "cell_type": "markdown",
   "metadata": {},
   "source": [
    "# What is Stastics ?\n",
    "\n",
    "- Statistics is a branch of applied mathematics that involves the collection, description, analysis, and inference of conclusions from quantitative data. The mathematical theories behind statistics rely heavily on differential and integral calculus, linear algebra, and probability theory. Statisticians, people who do statistics, are particularly concerned with determining how to draw reliable conclusions about large groups and general phenomena from the observable characteristics of small samples that represent only a small portion of the large group or a limited number of instances of a general phenomenon.\n",
    "\n",
    "\n",
    "- The two major areas of statistics are known as descriptive statistics, which describes the properties of sample and population data, and inferential statistics, which uses those properties to test hypotheses and draw conclusions."
   ]
  },
  {
   "cell_type": "markdown",
   "metadata": {},
   "source": [
    "## Descriptive Stastics"
   ]
  },
  {
   "cell_type": "markdown",
   "metadata": {},
   "source": [
    "- Inside the descriptive analysis,we have to do the analysis,exploration and visualization of data by using diffrent different techniques.\n",
    "- In that we just want to unserstand the data.\n",
    "- Nowadays, Big Data and Data Science have become high volume keywords. They tend to become extensively researched and this makes this data to be processed and studied with scrutiny. One of the techniques to analyse this data is Descriptive Analysis.\n",
    "- This data needs to be analysed to provide great insights.\n",
    "- Inside the inferential statstics we have to do the visualize and summarize the data and for that we use the mutiple tools like bar,scatter plot,histogram and pie chart and so on.\n",
    "\n",
    "- Inside this we have an options to analyse the data via PowerBi,Tableau,plotly,seaborn,matplotlib and plotly."
   ]
  },
  {
   "cell_type": "markdown",
   "metadata": {},
   "source": [
    "## Inferential Stastics"
   ]
  },
  {
   "cell_type": "markdown",
   "metadata": {},
   "source": [
    "- Inside the Inferential statstics we have the pull the sample data from pupulation and then perform some operation or experimennt on top of that and come with some conclusion at the end. \n",
    "- In that we have to do hypothesis testing and other testing as well like `P_value,T_test,F_test,Chi2_test and Z_test.`\n",
    "- All the above comes under the inferential Statstics."
   ]
  },
  {
   "cell_type": "markdown",
   "metadata": {},
   "source": [
    "## Population"
   ]
  },
  {
   "cell_type": "markdown",
   "metadata": {},
   "source": [
    "- In statistics, a population is the pool of individuals from which a statistical sample is drawn for a study. Thus, any selection of individuals grouped together by a common feature can be said to be a population.\n",
    "- Polulation is the all over data that whole attributes.\n",
    "- In statistics, a population is a set of similar items or events which is of interest for some question or experiment."
   ]
  },
  {
   "cell_type": "markdown",
   "metadata": {},
   "source": [
    "## Sampling"
   ]
  },
  {
   "cell_type": "markdown",
   "metadata": {},
   "source": [
    "Sampling is a technique of selecting individual members or a subset of the population to make statistical inferences from them and estimate characteristics of the whole population. Different sampling methods are widely used by researchers in market research so that they do not need to research the entire population to collect actionable insights."
   ]
  },
  {
   "cell_type": "markdown",
   "metadata": {},
   "source": [
    "### Types of sampling technques"
   ]
  },
  {
   "cell_type": "markdown",
   "metadata": {},
   "source": [
    "#### 1.Random Sampling."
   ]
  },
  {
   "cell_type": "markdown",
   "metadata": {},
   "source": [
    "Data points are reamdomly getting selected from population."
   ]
  },
  {
   "cell_type": "markdown",
   "metadata": {},
   "source": [
    "Disadvantages:-\n",
    "    \n",
    "    - Overlapping\n",
    "    - Repeated item can be select."
   ]
  },
  {
   "cell_type": "markdown",
   "metadata": {},
   "source": [
    "#### 2. Stratified Sampling."
   ]
  },
  {
   "cell_type": "markdown",
   "metadata": {},
   "source": [
    "- Population is devide into strata.\n",
    "- Like population will get subSampled with the help of some categories.\n",
    "- Like Gender can be Male and Female.\n",
    "- Homogeous Subgrouping.\n",
    "- Here overlapping in data not possible."
   ]
  },
  {
   "cell_type": "markdown",
   "metadata": {},
   "source": [
    "#### 3. Systematic Sampling."
   ]
  },
  {
   "cell_type": "markdown",
   "metadata": {},
   "source": [
    "Systematic sampling is a statistical method that researchers use to zero down on the desired population they want to research. Researchers calculate the sampling interval by dividing the entire population size by the desired sample size. Systematic sampling is an extended implementation of probability sampling in which each member of the group is selected at regular periods to form a sample."
   ]
  },
  {
   "cell_type": "markdown",
   "metadata": {},
   "source": [
    "Systematic sampling is defined as a probability sampling method where the researcher chooses elements from a target population by selecting a random starting point and selects sample members after a fixed ‘sampling interval.’"
   ]
  },
  {
   "cell_type": "markdown",
   "metadata": {},
   "source": [
    "For example, in school, while selecting the captain of a sports team, most of our coaches asked us to call out numbers such as 1-5 (1-n) and the students with a random number decided by the coach. For instance, three would be called out to be the captains of different teams. It is a non-stressful selection process for both the coach and the players. There’s an equal opportunity for every member of a population to be selected using this sampling technique."
   ]
  },
  {
   "cell_type": "markdown",
   "metadata": {},
   "source": [
    "https://www.questionpro.com/blog/systematic-sampling/"
   ]
  },
  {
   "cell_type": "markdown",
   "metadata": {},
   "source": [
    "#### 4. Cluster Sampling."
   ]
  },
  {
   "cell_type": "markdown",
   "metadata": {},
   "source": [
    "According similarity between the data points we can make the cluster of it and each cluster a cluster sample and this technique called as cluster sampling.\n",
    "\n",
    "It is hetrogeous data contains in different cluster\n",
    "\n",
    "There will be overalapping can be happen."
   ]
  },
  {
   "cell_type": "markdown",
   "metadata": {},
   "source": [
    "### Measure Central Tendency"
   ]
  },
  {
   "cell_type": "markdown",
   "metadata": {},
   "source": [
    "- **Mean :-** It is an average of data.\n",
    "- **Mode :-** Highly frequest data inside the population and mode can be more than one.If we have data and side that if we have 10 twice times and 9 is twice time then we can say 10 and 9 is the mode of that particular data.\n",
    "- **Median :-** It is the sorted data middle value for odd and for even two middle values average."
   ]
  },
  {
   "cell_type": "markdown",
   "metadata": {},
   "source": [
    "### Random Variable"
   ]
  },
  {
   "cell_type": "markdown",
   "metadata": {},
   "source": [
    "The variable which comes from the random phenomenon."
   ]
  },
  {
   "cell_type": "markdown",
   "metadata": {},
   "source": [
    "There are two types of variable \n",
    "\n",
    "- 1.**Categorical Variable (Qualitative Variable).**\n",
    "- 2.**Continuous Variable (Quantitative Variable).**"
   ]
  },
  {
   "cell_type": "markdown",
   "metadata": {},
   "source": [
    "Inside the Categorical variable we have again two subtypes these are :-\n",
    "\n",
    "- Nominal:- It is just the categories which does not have an order.Like name of people and City.\n",
    "- Ordinal:- It have an order like good,better and best.High,low and medium."
   ]
  },
  {
   "cell_type": "markdown",
   "metadata": {},
   "source": [
    "Inside the Continuous variable we have again two subtypes these are :-\n",
    "- Descrete Continuous :- There is some fix values are present.\n",
    "\n",
    "  e.g.Age of the customer.\n",
    "  \n",
    "  \n",
    "- Continous Variable :- Some values are varying with respect to time.\n",
    "\n",
    "  e.g.Sensor data.Height of the person."
   ]
  },
  {
   "cell_type": "markdown",
   "metadata": {},
   "source": [
    "- Chidrens in family is also called as descrete variable because chidren can not in fraction number.\n",
    "- City name is also the descrete variable."
   ]
  },
  {
   "cell_type": "markdown",
   "metadata": {},
   "source": [
    "### Sample Feature\n",
    "\n",
    "#### 1.Independent Feature\n",
    "#### 2.Dependent Feature"
   ]
  },
  {
   "cell_type": "markdown",
   "metadata": {},
   "source": [
    "### Important Notes"
   ]
  },
  {
   "cell_type": "markdown",
   "metadata": {},
   "source": [
    "- Inside the machine learning we have to lot of hit and trial until we are not able to get the good accuracy.\n",
    "- We have to each new assumption when used assumption will not work.\n",
    "- Population we can not count unless we have very less population.If I will made cluster sampling then we can consider that as population.\n",
    "- Category selection of month or anything is depends upon the problem statement."
   ]
  },
  {
   "cell_type": "markdown",
   "metadata": {},
   "source": [
    "### Measures Of Dispersion"
   ]
  },
  {
   "cell_type": "markdown",
   "metadata": {},
   "source": [
    "### Probablity"
   ]
  },
  {
   "cell_type": "markdown",
   "metadata": {},
   "source": [
    "### Permutation and Combination"
   ]
  }
 ],
 "metadata": {
  "kernelspec": {
   "display_name": "Python 3",
   "language": "python",
   "name": "python3"
  },
  "language_info": {
   "codemirror_mode": {
    "name": "ipython",
    "version": 3
   },
   "file_extension": ".py",
   "mimetype": "text/x-python",
   "name": "python",
   "nbconvert_exporter": "python",
   "pygments_lexer": "ipython3",
   "version": "3.8.5"
  }
 },
 "nbformat": 4,
 "nbformat_minor": 4
}
