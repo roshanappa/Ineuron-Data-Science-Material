{
 "cells": [
  {
   "cell_type": "markdown",
   "metadata": {},
   "source": [
    "## Inheritance In Python."
   ]
  },
  {
   "cell_type": "markdown",
   "metadata": {},
   "source": [
    "- In object-oriented programming, inheritance is the mechanism of basing an object or class upon another object (prototype-based inheritance) or class (class-based inheritance), retaining similar implementation.\n",
    "- Also defined as deriving new classes (sub classes) from existing ones such as super class or base class and then forming them into a hierarchy of classes. \n",
    "- In most class-based object-oriented languages, an object created through inheritance, a \"child object\", acquires all the properties and behaviors of the \"parent object\" , with the exception of: constructors, destructor, overloaded operators and friend functions of the base class. \n",
    "- Inheritance allows programmers to create classes that are built upon existing classes, to specify a new implementation while maintaining the same behaviors (realizing an interface), to reuse code and to independently extend original software via public classes and interfaces.\n",
    "- The relationships of objects or classes through inheritance give rise to a directed graph.\n"
   ]
  },
  {
   "cell_type": "markdown",
   "metadata": {},
   "source": [
    "- Inheritance is one of the most important aspects of Object Oriented Programming (OOP).\n",
    "- The key to understanding Inheritance is that it provides code re-usability.\n",
    "- In place of writing the same code, again and again, we can simply inherit the properties of one class into the other.\n",
    "- Inheritance is the procedure in which one class inherits the attributes and methods of another class. \n",
    "- The class whose properties and methods are inherited is known as the Parent class. And the class that inherits the properties from the parent class is the Child class."
   ]
  },
  {
   "cell_type": "markdown",
   "metadata": {},
   "source": [
    "`class parent_class:\n",
    "body of parent class`\n",
    "\n",
    "`class child_class( parent_class):\n",
    "body of child class`"
   ]
  },
  {
   "cell_type": "markdown",
   "metadata": {},
   "source": [
    "### Example."
   ]
  },
  {
   "cell_type": "markdown",
   "metadata": {},
   "source": [
    "#### 1.Parent Class."
   ]
  },
  {
   "cell_type": "code",
   "execution_count": 9,
   "metadata": {},
   "outputs": [],
   "source": [
    "class test(object):\n",
    "    def __init__(self,a,b,c,d):\n",
    "        self._a= a\n",
    "        self.b = b\n",
    "        self.c = c\n",
    "        self.d = d\n",
    "        \n",
    "        \n",
    "        \n",
    "    def test_custom(self,other):\n",
    "        return other - self._a\n",
    "    \n",
    "    def __str__(self):\n",
    "        return \"This is the test code for an extarction.\""
   ]
  },
  {
   "cell_type": "code",
   "execution_count": 10,
   "metadata": {},
   "outputs": [],
   "source": [
    "test = test(11,22,44,55)"
   ]
  },
  {
   "cell_type": "code",
   "execution_count": 11,
   "metadata": {},
   "outputs": [
    {
     "data": {
      "text/plain": [
       "(11, 22, 44, 55)"
      ]
     },
     "execution_count": 11,
     "metadata": {},
     "output_type": "execute_result"
    }
   ],
   "source": [
    "test._a,test.b,test.c,test.d"
   ]
  },
  {
   "cell_type": "markdown",
   "metadata": {},
   "source": [
    "#### 2.Child Class"
   ]
  },
  {
   "cell_type": "markdown",
   "metadata": {},
   "source": [
    "In order to get the `__init__` of parent class into the child we have to use the `super` keyword."
   ]
  },
  {
   "cell_type": "code",
   "execution_count": 12,
   "metadata": {},
   "outputs": [
    {
     "ename": "TypeError",
     "evalue": "__init__() missing 1 required positional argument: 'd'",
     "output_type": "error",
     "traceback": [
      "\u001b[1;31m---------------------------------------------------------------------------\u001b[0m",
      "\u001b[1;31mTypeError\u001b[0m                                 Traceback (most recent call last)",
      "\u001b[1;32m<ipython-input-12-c4f0a1154889>\u001b[0m in \u001b[0;36m<module>\u001b[1;34m\u001b[0m\n\u001b[1;32m----> 1\u001b[1;33m \u001b[1;32mclass\u001b[0m \u001b[0mtest1\u001b[0m\u001b[1;33m(\u001b[0m\u001b[0mtest\u001b[0m\u001b[1;33m)\u001b[0m\u001b[1;33m:\u001b[0m\u001b[1;33m\u001b[0m\u001b[1;33m\u001b[0m\u001b[0m\n\u001b[0m\u001b[0;32m      2\u001b[0m \u001b[1;33m\u001b[0m\u001b[0m\n\u001b[0;32m      3\u001b[0m     \u001b[1;32mdef\u001b[0m \u001b[0m__init__\u001b[0m\u001b[1;33m(\u001b[0m\u001b[0mself\u001b[0m\u001b[1;33m,\u001b[0m\u001b[0mj\u001b[0m\u001b[1;33m,\u001b[0m\u001b[1;33m*\u001b[0m\u001b[0margs\u001b[0m\u001b[1;33m)\u001b[0m\u001b[1;33m:\u001b[0m\u001b[1;33m\u001b[0m\u001b[1;33m\u001b[0m\u001b[0m\n\u001b[0;32m      4\u001b[0m         \u001b[0mself\u001b[0m\u001b[1;33m.\u001b[0m\u001b[0mj\u001b[0m \u001b[1;33m=\u001b[0m \u001b[0mj\u001b[0m\u001b[1;33m\u001b[0m\u001b[1;33m\u001b[0m\u001b[0m\n\u001b[0;32m      5\u001b[0m         \u001b[0msuper\u001b[0m\u001b[1;33m(\u001b[0m\u001b[0mtest1\u001b[0m\u001b[1;33m,\u001b[0m\u001b[0mself\u001b[0m\u001b[1;33m)\u001b[0m\u001b[1;33m.\u001b[0m\u001b[0m__init__\u001b[0m\u001b[1;33m(\u001b[0m\u001b[1;33m*\u001b[0m\u001b[0margs\u001b[0m\u001b[1;33m)\u001b[0m\u001b[1;33m\u001b[0m\u001b[1;33m\u001b[0m\u001b[0m\n",
      "\u001b[1;31mTypeError\u001b[0m: __init__() missing 1 required positional argument: 'd'"
     ]
    }
   ],
   "source": [
    "class test1(test):\n",
    "    \n",
    "    def __init__(self,j,*args):\n",
    "        self.j = j\n",
    "        super(test1,self).__init__(*args)\n",
    "        \n",
    "m = test1(99,22,445,6,9)"
   ]
  },
  {
   "cell_type": "code",
   "execution_count": 13,
   "metadata": {},
   "outputs": [
    {
     "name": "stdout",
     "output_type": "stream",
     "text": [
      "{'battery_type': 'battery', 'model': 'ford', 'color': 'golden', 'mpg': 10}\n"
     ]
    }
   ],
   "source": [
    "class Car(object):\n",
    "    condition = \"new\"\n",
    "\n",
    "    def __init__(self, model, color, mpg):\n",
    "        self.model = model\n",
    "        self.color = color\n",
    "        self.mpg   = mpg\n",
    "\n",
    "class ElectricCar(Car):\n",
    "    def __init__(self, battery_type, model, color, mpg):\n",
    "        self.battery_type=battery_type\n",
    "        super(ElectricCar, self).__init__(model, color, mpg)\n",
    "\n",
    "car = ElectricCar('battery', 'ford', 'golden', 10)\n",
    "print(car.__dict__)"
   ]
  },
  {
   "cell_type": "markdown",
   "metadata": {},
   "source": [
    "### Link :- https://www.analyticsvidhya.com/blog/2020/10/inheritance-object-oriented-programming/"
   ]
  },
  {
   "cell_type": "markdown",
   "metadata": {},
   "source": [
    "There are two types of inheritance \n",
    "\n",
    "- one to one heritance that is nothing parent to child inheritance.\n",
    "-  Mutiple inheritance"
   ]
  },
  {
   "cell_type": "markdown",
   "metadata": {},
   "source": [
    "### Multiple Inheritance."
   ]
  },
  {
   "cell_type": "markdown",
   "metadata": {},
   "source": [
    "- In multiple inheritance,there is pattern we have follow that is left to right.MRO.\n",
    "- Here in the left hand side we have ElectricCar and righ hand side we have Car class.\n",
    "- So according to that we have decide the flow while writting the code for the inheritance."
   ]
  },
  {
   "cell_type": "code",
   "execution_count": 41,
   "metadata": {},
   "outputs": [
    {
     "name": "stdout",
     "output_type": "stream",
     "text": [
      "{'battery_type': 'battery', 'model': 'ford', 'color': 'golden', 'mpg': 10}\n"
     ]
    }
   ],
   "source": [
    "class Car(object):\n",
    "    condition = \"new\"\n",
    "\n",
    "    def __init__(self, model, color, mpg):\n",
    "        self.model = model\n",
    "        self.color = color\n",
    "        self.mpg   = mpg\n",
    "\n",
    "class ElectricCar(Car):\n",
    "    def __init__(self, battery_type, model, color, mpg):\n",
    "        self.battery_type=battery_type\n",
    "        super(ElectricCar, self).__init__(model, color, mpg)\n",
    "\n",
    "class info(ElectricCar,Car):\n",
    "    def intro(self):\n",
    "        return 'This is about the info of car and electic car'\n",
    "        \n",
    "\n",
    "car = info('battery', 'ford', 'golden', 10)\n",
    "print(car.__dict__)"
   ]
  },
  {
   "cell_type": "markdown",
   "metadata": {},
   "source": [
    "http://www.srikanthtechnologies.com/blog/python/mro.aspx"
   ]
  },
  {
   "cell_type": "markdown",
   "metadata": {},
   "source": [
    "### Task1 :-"
   ]
  },
  {
   "cell_type": "code",
   "execution_count": 40,
   "metadata": {},
   "outputs": [
    {
     "name": "stdout",
     "output_type": "stream",
     "text": [
      "Ths is belong to class test\n",
      "This is belong to class test1\n"
     ]
    }
   ],
   "source": [
    "class test:\n",
    "    def a(self):\n",
    "        return print('Ths is belong to class test')\n",
    "class test1:\n",
    "    def a(self):\n",
    "        return print('This is belong to class test1')\n",
    "    \n",
    "class test2():\n",
    "    t = test()\n",
    "    t.a()\n",
    "    t1 = test1()\n",
    "    t1.a()"
   ]
  },
  {
   "cell_type": "code",
   "execution_count": 42,
   "metadata": {},
   "outputs": [],
   "source": [
    "class test:\n",
    "    def a(self):\n",
    "        print('Function is from the class test.')\n",
    "\n",
    "class test1:\n",
    "    def a(self):\n",
    "        print('Function is from the class test1.')\n",
    "class test2:\n",
    "    def a(self):\n",
    "        test.a(self)\n",
    "        test1.a(self)"
   ]
  },
  {
   "cell_type": "code",
   "execution_count": 43,
   "metadata": {},
   "outputs": [
    {
     "name": "stdout",
     "output_type": "stream",
     "text": [
      "Function is from the class test.\n",
      "Function is from the class test1.\n"
     ]
    }
   ],
   "source": [
    "t = test2()\n",
    "t.a()"
   ]
  },
  {
   "cell_type": "code",
   "execution_count": null,
   "metadata": {},
   "outputs": [],
   "source": []
  },
  {
   "cell_type": "code",
   "execution_count": null,
   "metadata": {},
   "outputs": [],
   "source": []
  }
 ],
 "metadata": {
  "kernelspec": {
   "display_name": "Python 3",
   "language": "python",
   "name": "python3"
  },
  "language_info": {
   "codemirror_mode": {
    "name": "ipython",
    "version": 3
   },
   "file_extension": ".py",
   "mimetype": "text/x-python",
   "name": "python",
   "nbconvert_exporter": "python",
   "pygments_lexer": "ipython3",
   "version": "3.8.5"
  }
 },
 "nbformat": 4,
 "nbformat_minor": 4
}
