{
 "cells": [
  {
   "cell_type": "markdown",
   "metadata": {},
   "source": [
    "- 1. Feasibility of the project has to be check.\n",
    "- 2. Does our project require machine lerning to solve it ?\n",
    "- 3. Proper Brainstorming is required.\n",
    "- 4. Explained AI(Before starting any project ahead we need to be understand how much percentage it will work ?)\n",
    "- 5. Domain Knowledge is very much important.\n",
    "- 6. Inexperienced Data Scientist.\n",
    "- 7. Insufficient and Accurate Data.\n",
    "- 8. Data Validation hs to be done.\n",
    "- 9. Inaccurate Data File Format.\n",
    "- 10. Red the complex data is difficult so in order to do so We have practice on it."
   ]
  },
  {
   "cell_type": "code",
   "execution_count": null,
   "metadata": {},
   "outputs": [],
   "source": []
  },
  {
   "cell_type": "code",
   "execution_count": null,
   "metadata": {},
   "outputs": [],
   "source": []
  },
  {
   "cell_type": "markdown",
   "metadata": {},
   "source": [
    "## Thanks !!"
   ]
  }
 ],
 "metadata": {
  "kernelspec": {
   "display_name": "Python 3",
   "language": "python",
   "name": "python3"
  },
  "language_info": {
   "codemirror_mode": {
    "name": "ipython",
    "version": 3
   },
   "file_extension": ".py",
   "mimetype": "text/x-python",
   "name": "python",
   "nbconvert_exporter": "python",
   "pygments_lexer": "ipython3",
   "version": "3.8.5"
  }
 },
 "nbformat": 4,
 "nbformat_minor": 4
}
