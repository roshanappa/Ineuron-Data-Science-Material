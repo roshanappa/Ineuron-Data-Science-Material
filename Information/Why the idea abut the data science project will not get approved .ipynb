{
 "cells": [
  {
   "cell_type": "markdown",
   "metadata": {},
   "source": [
    "- Used case or idea in AI should be revenue generation idea because company invest more on top of that project.\n",
    "- AI usecase Scalable\n",
    "- Additional Functionality\n",
    "- Revenue generation for long time.\n",
    "- "
   ]
  }
 ],
 "metadata": {
  "kernelspec": {
   "display_name": "Python 3",
   "language": "python",
   "name": "python3"
  },
  "language_info": {
   "codemirror_mode": {
    "name": "ipython",
    "version": 3
   },
   "file_extension": ".py",
   "mimetype": "text/x-python",
   "name": "python",
   "nbconvert_exporter": "python",
   "pygments_lexer": "ipython3",
   "version": "3.8.5"
  }
 },
 "nbformat": 4,
 "nbformat_minor": 4
}
