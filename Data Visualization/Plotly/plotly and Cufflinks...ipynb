{
 "cells": [
  {
   "cell_type": "markdown",
   "metadata": {},
   "source": [
    "- It is widely use for the intractive plots."
   ]
  },
  {
   "cell_type": "markdown",
   "metadata": {},
   "source": [
    "## Using the Cufflinks and iplot()"
   ]
  },
  {
   "cell_type": "markdown",
   "metadata": {},
   "source": [
    "- Line\n",
    "- Scatterplot\n",
    "- Bar\n",
    "- Box\n",
    "- Spread\n",
    "- Ratio\n",
    "- Heatmap\n",
    "- Surface\n",
    "- Histogram."
   ]
  },
  {
   "cell_type": "code",
   "execution_count": 1,
   "metadata": {},
   "outputs": [],
   "source": [
    "import numpy as np\n",
    "import pandas as pd\n",
    "import matplotlib.pyplot as plt\n",
    "import seaborn as sns"
   ]
  },
  {
   "cell_type": "code",
   "execution_count": 2,
   "metadata": {},
   "outputs": [],
   "source": [
    "import plotly.tools as tls\n",
    "from plotly.offline import iplot\n",
    "import plotly as py"
   ]
  },
  {
   "cell_type": "code",
   "execution_count": 3,
   "metadata": {},
   "outputs": [],
   "source": [
    "import cufflinks as cf"
   ]
  },
  {
   "cell_type": "code",
   "execution_count": 4,
   "metadata": {},
   "outputs": [
    {
     "name": "stdout",
     "output_type": "stream",
     "text": [
      "Help on method _iplot in module cufflinks.plotlytools:\n",
      "\n",
      "_iplot(kind='scatter', data=None, layout=None, filename='', sharing=None, title='', xTitle='', yTitle='', zTitle='', theme=None, colors=None, colorscale=None, fill=False, width=None, dash='solid', mode='', interpolation='linear', symbol='circle', size=12, barmode='', sortbars=False, bargap=None, bargroupgap=None, bins=None, histnorm='', histfunc='count', orientation='v', boxpoints=False, annotations=None, keys=False, bestfit=False, bestfit_colors=None, mean=False, mean_colors=None, categories='', x='', y='', z='', text='', gridcolor=None, zerolinecolor=None, margin=None, labels=None, values=None, secondary_y='', secondary_y_title='', subplots=False, shape=None, error_x=None, error_y=None, error_type='data', locations=None, lon=None, lat=None, asFrame=False, asDates=False, asFigure=False, asImage=False, dimensions=None, asPlot=False, asUrl=False, online=None, **kwargs) method of pandas.core.frame.DataFrame instance\n",
      "           Returns a plotly chart either as inline chart, image of Figure object\n",
      "    \n",
      "           Parameters:\n",
      "           -----------\n",
      "                   kind : string\n",
      "                           Kind of chart\n",
      "                                   scatter\n",
      "                                   bar\n",
      "                                   box\n",
      "                                   spread\n",
      "                                   ratio\n",
      "                                   heatmap\n",
      "                                   surface\n",
      "                                   histogram\n",
      "                                   bubble\n",
      "                                   bubble3d\n",
      "                                   scatter3d       \n",
      "                                   scattergeo\n",
      "                                   ohlc\n",
      "                                   candle\n",
      "                                   pie\n",
      "                                   choroplet       \n",
      "                   data : Data\n",
      "                           Plotly Data Object.\n",
      "                           If not entered then the Data object will be automatically\n",
      "                           generated from the DataFrame.\n",
      "                   layout : Layout\n",
      "                           Plotly layout Object\n",
      "                           If not entered then the Layout objet will be automatically\n",
      "                           generated from the DataFrame.\n",
      "                   filename : string\n",
      "                           Filename to be saved as in plotly account\n",
      "                   sharing : string\n",
      "                           Sets the sharing level permission\n",
      "                                   public - anyone can see this chart\n",
      "                                   private - only you can see this chart\n",
      "                                   secret - only people with the link can see the chart\n",
      "                   title : string\n",
      "                           Chart Title                             \n",
      "                   xTitle : string\n",
      "                           X Axis Title\n",
      "                   yTitle : string\n",
      "                           Y Axis Title\n",
      "                                   zTitle : string\n",
      "                   zTitle : string\n",
      "                           Z Axis Title\n",
      "                           Applicable only for 3d charts\n",
      "                   theme : string\n",
      "                           Layout Theme\n",
      "                                   solar\n",
      "                                   pearl\n",
      "                                   white           \n",
      "                           see cufflinks.getThemes() for all \n",
      "                           available themes\n",
      "                   colors : dict, list or string\n",
      "                           {key:color} to specify the color for each column\n",
      "                           [colors] to use the colors in the defined order\n",
      "                   colorscale : string\n",
      "                           Color scale name\n",
      "                           If the color name is preceded by a minus (-) \n",
      "                           then the scale is inversed\n",
      "                           Only valid if 'colors' is null\n",
      "                           See cufflinks.colors.scales() for available scales\n",
      "                   fill : bool\n",
      "                           Filled Traces           \n",
      "                   width : dict, list or int\n",
      "                                   int : applies to all traces\n",
      "                                   list : applies to each trace in the order \n",
      "                                                   specified\n",
      "                                   dict: {column:value} for each column in \n",
      "                                                   the dataframe\n",
      "                           Line width      \n",
      "                   dash : dict, list or string\n",
      "                                   string : applies to all traces\n",
      "                                   list : applies to each trace in the order \n",
      "                                                   specified\n",
      "                                   dict: {column:value} for each column in \n",
      "                                                   the dataframe\n",
      "                           Drawing style of lines\n",
      "                                   solid\n",
      "                                   dash\n",
      "                                   dashdot\n",
      "                                   dot\n",
      "                   mode : dict, list or string\n",
      "                                   string : applies to all traces\n",
      "                                   list : applies to each trace in the order \n",
      "                                                   specified\n",
      "                                   dict: {column:value} for each column in \n",
      "                                                   the dataframe\n",
      "                           Plotting mode for scatter trace\n",
      "                                   lines\n",
      "                                   markers\n",
      "                                   lines+markers\n",
      "                                   lines+text\n",
      "                                   markers+text\n",
      "                                   lines+markers+text\n",
      "                   interpolation : dict, list, or string\n",
      "                                   string : applies to all traces\n",
      "                                   list : applies to each trace in the order \n",
      "                                                   specified\n",
      "                                   dict: {column:value} for each column in \n",
      "                                                   the dataframe\n",
      "                           Positioning of the connecting lines\n",
      "                                   linear\n",
      "                                   spline\n",
      "                                   vhv\n",
      "                                   hvh\n",
      "                                   vh\n",
      "                                   hv              \n",
      "                   symbol : dict, list or string\n",
      "                                   string : applies to all traces\n",
      "                                   list : applies to each trace in the order \n",
      "                                                   specified\n",
      "                                   dict: {column:value} for each column in \n",
      "                                                   the dataframe\n",
      "                           The symbol that is drawn on the plot for each marker\n",
      "                           Valid only when mode includes markers\n",
      "                                   circle\n",
      "                                   circle-dot\n",
      "                                   diamond\n",
      "                                   square\n",
      "                                   and many more...(see plotly.validators.scatter.marker.SymbolValidator.values)\n",
      "                   size : string or int \n",
      "                           Size of marker \n",
      "                           Valid only if marker in mode\n",
      "                   barmode : string\n",
      "                           Mode when displaying bars\n",
      "                                   group\n",
      "                                   stack\n",
      "                                   overlay\n",
      "                           * Only valid when kind='bar'\n",
      "                   sortbars : bool\n",
      "                           Sort bars in descending order\n",
      "                           * Only valid when kind='bar'\n",
      "                   bargap : float\n",
      "                           Sets the gap between bars\n",
      "                                   [0,1)\n",
      "                           * Only valid when kind is 'histogram' or 'bar'\n",
      "                   bargroupgap : float\n",
      "                           Set the gap between groups\n",
      "                                   [0,1)\n",
      "                           * Only valid when kind is 'histogram' or 'bar'          \n",
      "                   bins : int or tuple \n",
      "                           if int:\n",
      "                                   Specifies the number of bins \n",
      "                           if tuple:\n",
      "                                   (start, end, size)\n",
      "                                   start : starting value\n",
      "                                   end: end value\n",
      "                                   size: bin size\n",
      "                           * Only valid when kind='histogram'\n",
      "    \n",
      "                   histnorm : string\n",
      "                                   '' (frequency)\n",
      "                                   percent\n",
      "                                   probability\n",
      "                                   density\n",
      "                                   probability density\n",
      "                           Sets the type of normalization for an histogram trace. By default\n",
      "                           the height of each bar displays the frequency of occurrence, i.e., \n",
      "                           the number of times this value was found in the\n",
      "                           corresponding bin. If set to 'percent', the height of each bar\n",
      "                           displays the percentage of total occurrences found within the\n",
      "                           corresponding bin. If set to 'probability', the height of each bar\n",
      "                           displays the probability that an event will fall into the\n",
      "                           corresponding bin. If set to 'density', the height of each bar is\n",
      "                           equal to the number of occurrences in a bin divided by the size of\n",
      "                           the bin interval such that summing the area of all bins will yield\n",
      "                           the total number of occurrences. If set to 'probability density',\n",
      "                           the height of each bar is equal to the number of probability that an\n",
      "                           event will fall into the corresponding bin divided by the size of\n",
      "                           the bin interval such that summing the area of all bins will yield\n",
      "                           1.\n",
      "                           * Only valid when kind='histogram'\n",
      "                   histfunc : string\n",
      "                                   count\n",
      "                                   sum\n",
      "                                   avg\n",
      "                                   min\n",
      "                                   max\n",
      "                      Sets the binning function used for an histogram trace. \n",
      "                           * Only valid when kind='histogram'           \n",
      "                   orientation : string\n",
      "                                   h \n",
      "                                   v\n",
      "                           Sets the orientation of the bars. If set to 'v', the length of each\n",
      "    |          bar will run vertically. If set to 'h', the length of each bar will\n",
      "    |          run horizontally\n",
      "                           * Only valid when kind is 'histogram','bar' or 'box'\n",
      "                   boxpoints : string\n",
      "                           Displays data points in a box plot\n",
      "                                   outliers\n",
      "                                   all\n",
      "                                   suspectedoutliers\n",
      "                                   False\n",
      "                   annotations : dictionary\n",
      "                           Dictionary of annotations\n",
      "                           {x_point : text}\n",
      "                   keys : list of columns\n",
      "                           List of columns to chart.\n",
      "                           Also can be used for custom sorting.\n",
      "                   bestfit : boolean or list\n",
      "                           If True then a best fit line will be generated for\n",
      "                           all columns.\n",
      "                           If list then a best fit line will be generated for\n",
      "                           each key on the list.\n",
      "                   bestfit_colors : list or dict\n",
      "                           {key:color} to specify the color for each column\n",
      "                           [colors] to use the colors in the defined order \n",
      "                   categories : string\n",
      "                           Name of the column that contains the categories\n",
      "                   x : string\n",
      "                           Name of the column that contains the x axis values              \n",
      "                   y : string\n",
      "                           Name of the column that contains the y axis values\n",
      "                   z : string\n",
      "                           Name of the column that contains the z axis values                                      \n",
      "                   text : string\n",
      "                           Name of the column that contains the text values        \n",
      "                   gridcolor : string\n",
      "                           Grid color      \n",
      "                   zerolinecolor : string\n",
      "                           Zero line color\n",
      "                   margin : dict or tuple\n",
      "                           Dictionary (l,r,b,t) or\n",
      "                           Tuple containing the left,\n",
      "                           right, bottom and top margins\n",
      "                   labels : string\n",
      "                           Name of the column that contains the labels.\n",
      "                           * Only valid when kind='pie' \n",
      "                   values : string\n",
      "                           Name of the column that contains the values.\n",
      "                           * Only valid when kind='pie'\n",
      "                   secondary_y : string or list(string)\n",
      "                           Name(s) of the column to be charted on the \n",
      "                           right hand side axis\n",
      "                   secondary_y_title : string\n",
      "                           Title of the secondary axis\n",
      "                   subplots : bool\n",
      "                           If true then each trace is placed in \n",
      "                           subplot layout\n",
      "                   shape : (rows,cols)\n",
      "                           Tuple indicating the size of rows and columns\n",
      "                           If omitted then the layout is automatically set\n",
      "                           * Only valid when subplots=True\n",
      "                   error_x : int or float or [int or float]\n",
      "                           error values for the x axis\n",
      "                   error_y : int or float or [int or float]\n",
      "                           error values for the y axis\n",
      "                   error_type : string\n",
      "                           type of error bars\n",
      "                                   'data' \n",
      "                                   'constant'\n",
      "                                   'percent'\n",
      "                                   'sqrt'\n",
      "                                   'continuous'\n",
      "                                   'continuous_percent'\n",
      "                   asFrame : bool\n",
      "                           If true then the data component of Figure will\n",
      "                           be of Pandas form (Series) otherwise they will \n",
      "                           be index values\n",
      "                   asDates : bool\n",
      "                           If true it truncates times from a DatetimeIndex\n",
      "                   asFigure : bool\n",
      "                           If True returns plotly Figure\n",
      "                   asImage : bool\n",
      "                           If True it returns an Image (png)\n",
      "                           In ONLINE mode:\n",
      "                                   Image file is saved in the working directory                            \n",
      "                                           Accepts:\n",
      "                                                   filename\n",
      "                                                   dimensions\n",
      "                                                   scale\n",
      "                                                   display_image\n",
      "                           In OFFLINE mode:\n",
      "                                   Image file is downloaded (downloads folder) and a \n",
      "                                   regular plotly chart is displayed in Jupyter\n",
      "                                           Accepts:\n",
      "                                                   filename\n",
      "                                                   dimensions\n",
      "                   dimensions : tuple(int,int)\n",
      "                           Dimensions for image / chart\n",
      "                                   (width,height)          \n",
      "                   asPlot : bool\n",
      "                           If True the chart opens in browser\n",
      "                   asUrl : bool\n",
      "                           If True the chart url/path is returned. No chart is displayed. \n",
      "                                   If Online : the URL is returned\n",
      "                                   If Offline : the local path is returned\n",
      "                   online : bool\n",
      "                           If True then the chart/image is rendered on the server \n",
      "                           even when running in offline mode. \n",
      "    \n",
      "                   Other Kwargs\n",
      "                   ============\n",
      "                   Line, Scatter\n",
      "                           connectgaps : bool\n",
      "                                   If True, empty values are connected \n",
      "                   Pie charts\n",
      "                           sort : bool\n",
      "                                   If True it sorts the labels by value\n",
      "                           pull : float [0-1]\n",
      "                                   Pulls the slices from the centre \n",
      "                           hole : float [0-1]\n",
      "                                   Sets the size of the inner hole\n",
      "                           linecolor : string\n",
      "                                   Sets the color for the contour line of the slices\n",
      "                           linewidth : string\n",
      "                                   Sets the width for the contour line of the slices       \n",
      "                           textcolor : string\n",
      "                                   Sets the color for the text in the slices\n",
      "                           textposition : string \n",
      "                                   Sets the position of the legends for each slice\n",
      "                                           outside\n",
      "                                           inner\n",
      "                           textinfo : string \n",
      "                                   Sets the information to be displayed on \n",
      "                                   the legends \n",
      "                                           label\n",
      "                                           percent\n",
      "                                           value\n",
      "                                           * or ony combination of the above using \n",
      "                                             '+' between each item\n",
      "                                             ie 'label+percent'\n",
      "    \n",
      "                   Histogram\n",
      "                           linecolor : string\n",
      "                                   specifies the line color of the histogram\n",
      "    \n",
      "                   Heatmap and Surface\n",
      "                           center_scale : float\n",
      "                                   Centers the colorscale at a specific value\n",
      "                                   Automatically sets the (zmin,zmax) values\n",
      "                           zmin : float\n",
      "                                   Defines the minimum range for the z values. \n",
      "                                   This affects the range for the colorscale\n",
      "                           zmax : float\n",
      "                                   Defines the maximum range for the z values. \n",
      "                                   This affects the range for the colorscale\n",
      "    \n",
      "                   Error Bars\n",
      "                           error_trace : string\n",
      "                                   Name of the column for which error should be \n",
      "                                   plotted. If omitted then errors apply to all \n",
      "                                   traces.\n",
      "                           error_values_minus : int or float or [int or float]\n",
      "                                   Values corresponding to the span of the error bars \n",
      "                                   below the trace coordinates\n",
      "                           error_color : string\n",
      "                                   Color for error bars\n",
      "                           error_thickness : float \n",
      "                                   Sets the line thickness of the error bars\n",
      "                           error_width :  float\n",
      "                                   Sets the width (in pixels) of the cross-bar at both \n",
      "                                   ends of the error bars\n",
      "                           error_opacity : float [0,1]\n",
      "                                   Opacity for the error bars\n",
      "    \n",
      "                   Subplots\n",
      "                           horizontal_spacing : float [0,1]\n",
      "                                   Space between subplot columns.\n",
      "                           vertical_spacing : float [0,1]\n",
      "                                   Space between subplot rows.\n",
      "                           subplot_titles : bool\n",
      "                                   If True, chart titles are plotted\n",
      "                                   at the top of each subplot\n",
      "                           shared_xaxes : bool\n",
      "                                   Assign shared x axes.\n",
      "                                   If True, subplots in the same grid column have one common\n",
      "                                   shared x-axis at the bottom of the grid.\n",
      "                           shared_yaxes : bool\n",
      "                                   Assign shared y axes.\n",
      "                                   If True, subplots in the same grid row have one common\n",
      "                                   shared y-axis on the left-hand side of the grid.\n",
      "    \n",
      "                   Shapes\n",
      "                           hline : float, list or dict\n",
      "                                   Draws a horizontal line at the \n",
      "                                   indicated y position(s)\n",
      "                                   Extra parameters can be passed in\n",
      "                                   the form of a dictionary (see shapes)\n",
      "                           vline : float, list or dict\n",
      "                                   Draws a vertical line at the \n",
      "                                   indicated x position(s)\n",
      "                                   Extra parameters can be passed in\n",
      "                                   the form of a dictionary (see shapes)\n",
      "                           hpsan : (y0,y1)\n",
      "                                   Draws a horizontal rectangle at the \n",
      "                                   indicated (y0,y1) positions.\n",
      "                                   Extra parameters can be passed in\n",
      "                                   the form of a dictionary (see shapes)\n",
      "                           vspan : (x0,x1)\n",
      "                                   Draws a vertical rectangle at the \n",
      "                                   indicated (x0,x1) positions.\n",
      "                                   Extra parameters can be passed in\n",
      "                                   the form of a dictionary (see shapes)\n",
      "                           shapes : dict or list(dict)\n",
      "                                   List of dictionaries with the \n",
      "                                   specifications of a given shape.\n",
      "                                   See help(cufflinks.tools.get_shape)\n",
      "                                   for more information\n",
      "                   \n",
      "                   Axis Ranges\n",
      "                           xrange : [lower_bound,upper_bound]\n",
      "                                   Sets the range for the x axis\n",
      "                           yrange : [lower_bound,upper_bound]\n",
      "                                   Sets the range for the y axis\n",
      "                           zrange : [lower_bound,upper_bound]\n",
      "                                   Sets the range for the z axis\n",
      "                                   \n",
      "                   Explicit Layout Updates\n",
      "                           layout_update : dict\n",
      "                                   The layout will be modified with all \n",
      "                                   the explicit values stated in the \n",
      "                                   dictionary. \n",
      "                                   It will not apply if layout is passed\n",
      "                                   as parameter.\n",
      "    \n",
      "    \n",
      "                   Range Selector\n",
      "                           rangeselector : dict\n",
      "                                   Defines a rangeselector object\n",
      "                                   see help(cf.tools.get_range_selector) for more information\n",
      "                                   Example:\n",
      "                                           {'steps':['1y','2 months','5 weeks','ytd','2mtd'],\n",
      "                                            'axis':'xaxis', 'bgcolor' : ('blue',.3),\n",
      "                                            'x': 0.2 , 'y' : 0.9}\n",
      "    \n",
      "                   Range Slider\n",
      "                           rangeslider : bool or dict\n",
      "                                   Defines if a rangeslider is displayed\n",
      "                                   If bool: \n",
      "                                           True : Makes it visible\n",
      "                                   if dict:\n",
      "                                           Rangeslider object\n",
      "                                   Example:\n",
      "                                           {'bgcolor':('blue',.3),'autorange':True}\n",
      "    \n",
      "                   Annotations\n",
      "                           fontcolor : str\n",
      "                                   Text color for annotations\n",
      "                           fontsize : int\n",
      "                                   Text size for annotations\n",
      "                           textangle : int\n",
      "                                   Text angle \n",
      "                           See https://plot.ly/python/reference/#layout-annotations \n",
      "                           for a complete list of valid parameters.\n",
      "    \n",
      "                   Exports\n",
      "                           display_image : bool\n",
      "                                   If True then the image if displayed after being saved\n",
      "                                   ** only valid if asImage=True\n",
      "                           scale : integer\n",
      "                                   Increase the resolution of the image by `scale` amount\n",
      "                                   Only valid when asImage=True\n",
      "\n"
     ]
    }
   ],
   "source": [
    "df = pd.DataFrame()\n",
    "help(df.iplot)"
   ]
  },
  {
   "cell_type": "code",
   "execution_count": 5,
   "metadata": {},
   "outputs": [
    {
     "data": {
      "text/html": [
       "        <script type=\"text/javascript\">\n",
       "        window.PlotlyConfig = {MathJaxConfig: 'local'};\n",
       "        if (window.MathJax) {MathJax.Hub.Config({SVG: {font: \"STIX-Web\"}});}\n",
       "        if (typeof require !== 'undefined') {\n",
       "        require.undef(\"plotly\");\n",
       "        requirejs.config({\n",
       "            paths: {\n",
       "                'plotly': ['https://cdn.plot.ly/plotly-2.3.1.min']\n",
       "            }\n",
       "        });\n",
       "        require(['plotly'], function(Plotly) {\n",
       "            window._Plotly = Plotly;\n",
       "        });\n",
       "        }\n",
       "        </script>\n",
       "        "
      ]
     },
     "metadata": {},
     "output_type": "display_data"
    }
   ],
   "source": [
    "py.offline.init_notebook_mode(connected=True)"
   ]
  },
  {
   "cell_type": "code",
   "execution_count": 6,
   "metadata": {},
   "outputs": [
    {
     "data": {
      "text/html": [
       "        <script type=\"text/javascript\">\n",
       "        window.PlotlyConfig = {MathJaxConfig: 'local'};\n",
       "        if (window.MathJax) {MathJax.Hub.Config({SVG: {font: \"STIX-Web\"}});}\n",
       "        if (typeof require !== 'undefined') {\n",
       "        require.undef(\"plotly\");\n",
       "        requirejs.config({\n",
       "            paths: {\n",
       "                'plotly': ['https://cdn.plot.ly/plotly-2.3.1.min']\n",
       "            }\n",
       "        });\n",
       "        require(['plotly'], function(Plotly) {\n",
       "            window._Plotly = Plotly;\n",
       "        });\n",
       "        }\n",
       "        </script>\n",
       "        "
      ]
     },
     "metadata": {},
     "output_type": "display_data"
    }
   ],
   "source": [
    "cf.go_offline()"
   ]
  },
  {
   "cell_type": "code",
   "execution_count": 7,
   "metadata": {},
   "outputs": [],
   "source": [
    "df = pd.DataFrame(np.random.randn(100,3),columns=['A','B','C'])"
   ]
  },
  {
   "cell_type": "code",
   "execution_count": 8,
   "metadata": {},
   "outputs": [
    {
     "data": {
      "text/html": [
       "<div>\n",
       "<style scoped>\n",
       "    .dataframe tbody tr th:only-of-type {\n",
       "        vertical-align: middle;\n",
       "    }\n",
       "\n",
       "    .dataframe tbody tr th {\n",
       "        vertical-align: top;\n",
       "    }\n",
       "\n",
       "    .dataframe thead th {\n",
       "        text-align: right;\n",
       "    }\n",
       "</style>\n",
       "<table border=\"1\" class=\"dataframe\">\n",
       "  <thead>\n",
       "    <tr style=\"text-align: right;\">\n",
       "      <th></th>\n",
       "      <th>A</th>\n",
       "      <th>B</th>\n",
       "      <th>C</th>\n",
       "    </tr>\n",
       "  </thead>\n",
       "  <tbody>\n",
       "    <tr>\n",
       "      <th>0</th>\n",
       "      <td>1.144703</td>\n",
       "      <td>0.901246</td>\n",
       "      <td>0.118169</td>\n",
       "    </tr>\n",
       "    <tr>\n",
       "      <th>1</th>\n",
       "      <td>0.427575</td>\n",
       "      <td>-0.906915</td>\n",
       "      <td>0.741686</td>\n",
       "    </tr>\n",
       "    <tr>\n",
       "      <th>2</th>\n",
       "      <td>-0.351924</td>\n",
       "      <td>0.718893</td>\n",
       "      <td>0.407896</td>\n",
       "    </tr>\n",
       "    <tr>\n",
       "      <th>3</th>\n",
       "      <td>-0.894125</td>\n",
       "      <td>-0.010713</td>\n",
       "      <td>-1.265379</td>\n",
       "    </tr>\n",
       "    <tr>\n",
       "      <th>4</th>\n",
       "      <td>0.010304</td>\n",
       "      <td>2.224372</td>\n",
       "      <td>-1.087081</td>\n",
       "    </tr>\n",
       "  </tbody>\n",
       "</table>\n",
       "</div>"
      ],
      "text/plain": [
       "          A         B         C\n",
       "0  1.144703  0.901246  0.118169\n",
       "1  0.427575 -0.906915  0.741686\n",
       "2 -0.351924  0.718893  0.407896\n",
       "3 -0.894125 -0.010713 -1.265379\n",
       "4  0.010304  2.224372 -1.087081"
      ]
     },
     "execution_count": 8,
     "metadata": {},
     "output_type": "execute_result"
    }
   ],
   "source": [
    "df.head()"
   ]
  },
  {
   "cell_type": "code",
   "execution_count": 9,
   "metadata": {},
   "outputs": [
    {
     "data": {
      "application/vnd.plotly.v1+json": {
       "config": {
        "linkText": "Export to plotly.your-company.com",
        "plotlyServerURL": "https://plotly.your-company.com",
        "showLink": true
       },
       "data": [
        {
         "line": {
          "color": "rgba(255, 153, 51, 1.0)",
          "dash": "solid",
          "shape": "linear",
          "width": 1.3
         },
         "mode": "lines",
         "name": "A",
         "text": "",
         "type": "scatter",
         "x": [
          0,
          1,
          2,
          3,
          4,
          5,
          6,
          7,
          8,
          9,
          10,
          11,
          12,
          13,
          14,
          15,
          16,
          17,
          18,
          19,
          20,
          21,
          22,
          23,
          24,
          25,
          26,
          27,
          28,
          29,
          30,
          31,
          32,
          33,
          34,
          35,
          36,
          37,
          38,
          39,
          40,
          41,
          42,
          43,
          44,
          45,
          46,
          47,
          48,
          49,
          50,
          51,
          52,
          53,
          54,
          55,
          56,
          57,
          58,
          59,
          60,
          61,
          62,
          63,
          64,
          65,
          66,
          67,
          68,
          69,
          70,
          71,
          72,
          73,
          74,
          75,
          76,
          77,
          78,
          79,
          80,
          81,
          82,
          83,
          84,
          85,
          86,
          87,
          88,
          89,
          90,
          91,
          92,
          93,
          94,
          95,
          96,
          97,
          98,
          99
         ],
         "y": [
          1.144703284679413,
          1.5722787271941105,
          1.2203543069389293,
          0.3262294356692099,
          0.33653340984199,
          -0.22898400761619297,
          0.2798817662302078,
          0.3380547124818544,
          0.9922620288427806,
          -0.20706946698884598,
          -0.8317910313693455,
          -0.41198930772017633,
          1.674475504975882,
          1.4417204774455334,
          3.1985994779266798,
          2.9983324813075374,
          3.9452046994678813,
          3.9810545585907513,
          2.8199151683008443,
          2.436384912274818,
          2.4025073096754688,
          2.225590282365636,
          1.2832151777068612,
          0.6928867744888247,
          -0.4911709867439442,
          -1.7307303531846838,
          -2.9208026884371154,
          -1.4647459145959838,
          -1.0922675000999034,
          -1.058554365577961,
          -1.0655953954558703,
          0.03184802772994422,
          -1.3228052168200815,
          -0.7704786315820228,
          0.434254176721374,
          -0.4810486515623198,
          -0.8308711795865421,
          -1.3487641294009656,
          0.042443675879225484,
          1.5041182727283777,
          0.5707847903455265,
          1.5443998976689137,
          2.7795195629738227,
          3.926852807945745,
          4.603051997493748,
          5.042440725573563,
          5.868007230613663,
          6.887240487655134,
          6.796779607141673,
          7.1787185521350425,
          7.812084924008351,
          7.3490492607713875,
          7.657358733279934,
          6.7396517004568,
          4.933501628420706,
          4.66402645743654,
          3.93054976413918,
          3.5316677540594514,
          4.021548944670262,
          2.9936748670072193,
          2.874725745430641,
          4.370053859376738,
          4.306219979674888,
          3.65087432601264,
          4.610403593757262,
          3.677707371322866,
          3.2038952347787557,
          2.762636415878079,
          2.7709285121240366,
          1.6030131260260652,
          2.283368749601624,
          1.51133386487078,
          0.8696012172069488,
          0.4072504458642411,
          2.531829113801064,
          1.6967058474830545,
          2.1648868377580466,
          3.0659332912954427,
          3.638368940851822,
          4.33579202001542,
          5.097439462097295,
          4.733093117713918,
          5.860827792774909,
          4.986389099524408,
          5.768987923204952,
          5.830920530659538,
          5.98392250384305,
          6.296710312039984,
          7.103559007675642,
          7.4456441831272775,
          7.065835248973794,
          6.70879791568223,
          4.411910833324907,
          5.529627285196841,
          6.823367129989277,
          6.3764127524195455,
          6.842380027958228,
          6.877589329123712,
          8.533615064187787,
          9.877267832010245
         ]
        },
        {
         "line": {
          "color": "rgba(55, 128, 191, 1.0)",
          "dash": "solid",
          "shape": "linear",
          "width": 1.3
         },
         "mode": "lines",
         "name": "B",
         "text": "",
         "type": "scatter",
         "x": [
          0,
          1,
          2,
          3,
          4,
          5,
          6,
          7,
          8,
          9,
          10,
          11,
          12,
          13,
          14,
          15,
          16,
          17,
          18,
          19,
          20,
          21,
          22,
          23,
          24,
          25,
          26,
          27,
          28,
          29,
          30,
          31,
          32,
          33,
          34,
          35,
          36,
          37,
          38,
          39,
          40,
          41,
          42,
          43,
          44,
          45,
          46,
          47,
          48,
          49,
          50,
          51,
          52,
          53,
          54,
          55,
          56,
          57,
          58,
          59,
          60,
          61,
          62,
          63,
          64,
          65,
          66,
          67,
          68,
          69,
          70,
          71,
          72,
          73,
          74,
          75,
          76,
          77,
          78,
          79,
          80,
          81,
          82,
          83,
          84,
          85,
          86,
          87,
          88,
          89,
          90,
          91,
          92,
          93,
          94,
          95,
          96,
          97,
          98,
          99
         ],
         "y": [
          0.9012456139675201,
          -0.005669210129429336,
          0.7132236374444865,
          0.7025107240172088,
          2.9268829753365297,
          3.926065044947865,
          3.609382104243574,
          3.8547116044502774,
          5.833035426887022,
          5.872032340170762,
          5.518701434358688,
          4.7503756704462345,
          4.1927672537956004,
          2.602534909908738,
          1.1937156474465174,
          0.8218690789045012,
          0.7471295788511693,
          1.3089912656596385,
          3.054558484683188,
          4.480180748510357,
          6.717022455511012,
          6.302494547014423,
          6.647374480832201,
          8.463583091763708,
          7.435648288938667,
          9.432931160448387,
          10.132184180585238,
          9.832453739900698,
          8.595100369886236,
          8.076248638261145,
          8.440911659312752,
          9.091284518659196,
          7.546408344669909,
          7.594192993908493,
          8.563865403106345,
          9.223294696584759,
          9.251111370469028,
          9.822151616648355,
          10.572184791347178,
          9.393948806165005,
          10.544983495009694,
          9.292620077570124,
          9.707687554257335,
          8.431145949442993,
          9.422138671730563,
          10.959801882369536,
          11.499547838533758,
          13.653364119407817,
          13.415488822759828,
          13.271423308793022,
          13.328009446929514,
          13.724850377277873,
          13.877020977986938,
          12.949705372576181,
          14.155897214897182,
          14.826796756770921,
          15.551958570570179,
          15.492640878398728,
          15.504629794354285,
          16.36673593334079,
          15.959926253857105,
          16.580430406178294,
          16.341408933516313,
          16.761365158802935,
          15.746621741557258,
          15.1278958783391,
          14.369894302932753,
          14.830527033839992,
          16.84323969785907,
          15.01162045927309,
          13.436696176475074,
          12.654859481037356,
          11.961108374073884,
          12.663310097609006,
          13.067353489374286,
          12.0581874497734,
          12.419520323644157,
          12.590064479747525,
          13.91014722607856,
          13.019278945651603,
          12.48406291049027,
          11.6177954272535,
          10.660877653325779,
          9.985455204231535,
          8.917367281956277,
          8.861398266211351,
          7.337826227544964,
          7.0908968138578325,
          5.420090936869641,
          5.223439638286755,
          6.160319198567473,
          8.05921031425476,
          7.393852728697599,
          9.788412915848308,
          9.100908531826231,
          9.584749707876263,
          10.063618802884307,
          10.870633542785136,
          11.01487543101498,
          11.090180829969059
         ]
        },
        {
         "line": {
          "color": "rgba(50, 171, 96, 1.0)",
          "dash": "solid",
          "shape": "linear",
          "width": 1.3
         },
         "mode": "lines",
         "name": "C",
         "text": "",
         "type": "scatter",
         "x": [
          0,
          1,
          2,
          3,
          4,
          5,
          6,
          7,
          8,
          9,
          10,
          11,
          12,
          13,
          14,
          15,
          16,
          17,
          18,
          19,
          20,
          21,
          22,
          23,
          24,
          25,
          26,
          27,
          28,
          29,
          30,
          31,
          32,
          33,
          34,
          35,
          36,
          37,
          38,
          39,
          40,
          41,
          42,
          43,
          44,
          45,
          46,
          47,
          48,
          49,
          50,
          51,
          52,
          53,
          54,
          55,
          56,
          57,
          58,
          59,
          60,
          61,
          62,
          63,
          64,
          65,
          66,
          67,
          68,
          69,
          70,
          71,
          72,
          73,
          74,
          75,
          76,
          77,
          78,
          79,
          80,
          81,
          82,
          83,
          84,
          85,
          86,
          87,
          88,
          89,
          90,
          91,
          92,
          93,
          94,
          95,
          96,
          97,
          98,
          99
         ],
         "y": [
          0.11816942918113256,
          0.8598551525377256,
          1.2677506553179076,
          0.00237116361238332,
          -1.0847103230093624,
          -2.432104360708205,
          -4.140839614169552,
          -3.2491215900061454,
          -2.9015090531035415,
          -4.606166933946416,
          -6.55277417327471,
          -7.927587302021544,
          -8.376071053328928,
          -9.541927555851164,
          -10.520167017169797,
          -11.845943035508935,
          -12.72298932538193,
          -12.51591039916324,
          -12.187595808296512,
          -12.158544327534532,
          -10.49717088826922,
          -9.836246901427508,
          -10.621825958662216,
          -11.678501472141258,
          -12.552825714428705,
          -12.895647266656493,
          -11.954844492024693,
          -12.621510390062305,
          -13.069558522720987,
          -12.578586295085854,
          -14.102903625816447,
          -14.237949060055454,
          -15.148991855493318,
          -14.716483943375742,
          -13.157855316046257,
          -12.23079858681877,
          -12.505935747653742,
          -12.836240838755131,
          -12.14688262935563,
          -13.980130053403471,
          -13.868676187972492,
          -14.81607965990658,
          -15.679872731034811,
          -15.676936718217528,
          -15.69717559058203,
          -14.697791022004493,
          -14.44858065201321,
          -15.632272874528326,
          -16.48331575807077,
          -16.46666733951859,
          -16.68689103687568,
          -18.63639827333169,
          -18.737141202355925,
          -18.87667656591514,
          -19.433695481699967,
          -21.27172468442301,
          -21.17070513809577,
          -19.534617490349408,
          -19.598359512109514,
          -20.157380783443195,
          -20.30489993218087,
          -19.944424340955955,
          -20.426662372082756,
          -20.712572250835777,
          -21.816564226809952,
          -18.45632471871582,
          -18.547805989944845,
          -17.74897375536891,
          -20.016790758159516,
          -20.54382527209872,
          -21.79512770833297,
          -20.424522670495623,
          -20.385285036283015,
          -20.13432796036997,
          -21.176056969209448,
          -20.592319376648803,
          -21.28305698522954,
          -20.81284883494392,
          -21.422898847439992,
          -18.97765750727099,
          -20.289142586028635,
          -19.828680520549685,
          -17.258867827289226,
          -17.601441354096266,
          -17.793314293911244,
          -16.855929541500952,
          -18.39207757575349,
          -18.75846181303762,
          -16.4387669233956,
          -17.854297454826906,
          -16.075098959344555,
          -15.825700850990312,
          -15.426212027108136,
          -15.99488475962516,
          -15.491239280071753,
          -16.655468579477414,
          -16.116289630281564,
          -15.846304013802488,
          -15.316449135702168,
          -16.632423328933356
         ]
        }
       ],
       "layout": {
        "legend": {
         "bgcolor": "#FFFFFF",
         "font": {
          "color": "#4D5663"
         }
        },
        "paper_bgcolor": "#FFFFFF",
        "plot_bgcolor": "#FFFFFF",
        "template": {
         "data": {
          "bar": [
           {
            "error_x": {
             "color": "#2a3f5f"
            },
            "error_y": {
             "color": "#2a3f5f"
            },
            "marker": {
             "line": {
              "color": "#E5ECF6",
              "width": 0.5
             },
             "pattern": {
              "fillmode": "overlay",
              "size": 10,
              "solidity": 0.2
             }
            },
            "type": "bar"
           }
          ],
          "barpolar": [
           {
            "marker": {
             "line": {
              "color": "#E5ECF6",
              "width": 0.5
             },
             "pattern": {
              "fillmode": "overlay",
              "size": 10,
              "solidity": 0.2
             }
            },
            "type": "barpolar"
           }
          ],
          "carpet": [
           {
            "aaxis": {
             "endlinecolor": "#2a3f5f",
             "gridcolor": "white",
             "linecolor": "white",
             "minorgridcolor": "white",
             "startlinecolor": "#2a3f5f"
            },
            "baxis": {
             "endlinecolor": "#2a3f5f",
             "gridcolor": "white",
             "linecolor": "white",
             "minorgridcolor": "white",
             "startlinecolor": "#2a3f5f"
            },
            "type": "carpet"
           }
          ],
          "choropleth": [
           {
            "colorbar": {
             "outlinewidth": 0,
             "ticks": ""
            },
            "type": "choropleth"
           }
          ],
          "contour": [
           {
            "colorbar": {
             "outlinewidth": 0,
             "ticks": ""
            },
            "colorscale": [
             [
              0,
              "#0d0887"
             ],
             [
              0.1111111111111111,
              "#46039f"
             ],
             [
              0.2222222222222222,
              "#7201a8"
             ],
             [
              0.3333333333333333,
              "#9c179e"
             ],
             [
              0.4444444444444444,
              "#bd3786"
             ],
             [
              0.5555555555555556,
              "#d8576b"
             ],
             [
              0.6666666666666666,
              "#ed7953"
             ],
             [
              0.7777777777777778,
              "#fb9f3a"
             ],
             [
              0.8888888888888888,
              "#fdca26"
             ],
             [
              1,
              "#f0f921"
             ]
            ],
            "type": "contour"
           }
          ],
          "contourcarpet": [
           {
            "colorbar": {
             "outlinewidth": 0,
             "ticks": ""
            },
            "type": "contourcarpet"
           }
          ],
          "heatmap": [
           {
            "colorbar": {
             "outlinewidth": 0,
             "ticks": ""
            },
            "colorscale": [
             [
              0,
              "#0d0887"
             ],
             [
              0.1111111111111111,
              "#46039f"
             ],
             [
              0.2222222222222222,
              "#7201a8"
             ],
             [
              0.3333333333333333,
              "#9c179e"
             ],
             [
              0.4444444444444444,
              "#bd3786"
             ],
             [
              0.5555555555555556,
              "#d8576b"
             ],
             [
              0.6666666666666666,
              "#ed7953"
             ],
             [
              0.7777777777777778,
              "#fb9f3a"
             ],
             [
              0.8888888888888888,
              "#fdca26"
             ],
             [
              1,
              "#f0f921"
             ]
            ],
            "type": "heatmap"
           }
          ],
          "heatmapgl": [
           {
            "colorbar": {
             "outlinewidth": 0,
             "ticks": ""
            },
            "colorscale": [
             [
              0,
              "#0d0887"
             ],
             [
              0.1111111111111111,
              "#46039f"
             ],
             [
              0.2222222222222222,
              "#7201a8"
             ],
             [
              0.3333333333333333,
              "#9c179e"
             ],
             [
              0.4444444444444444,
              "#bd3786"
             ],
             [
              0.5555555555555556,
              "#d8576b"
             ],
             [
              0.6666666666666666,
              "#ed7953"
             ],
             [
              0.7777777777777778,
              "#fb9f3a"
             ],
             [
              0.8888888888888888,
              "#fdca26"
             ],
             [
              1,
              "#f0f921"
             ]
            ],
            "type": "heatmapgl"
           }
          ],
          "histogram": [
           {
            "marker": {
             "pattern": {
              "fillmode": "overlay",
              "size": 10,
              "solidity": 0.2
             }
            },
            "type": "histogram"
           }
          ],
          "histogram2d": [
           {
            "colorbar": {
             "outlinewidth": 0,
             "ticks": ""
            },
            "colorscale": [
             [
              0,
              "#0d0887"
             ],
             [
              0.1111111111111111,
              "#46039f"
             ],
             [
              0.2222222222222222,
              "#7201a8"
             ],
             [
              0.3333333333333333,
              "#9c179e"
             ],
             [
              0.4444444444444444,
              "#bd3786"
             ],
             [
              0.5555555555555556,
              "#d8576b"
             ],
             [
              0.6666666666666666,
              "#ed7953"
             ],
             [
              0.7777777777777778,
              "#fb9f3a"
             ],
             [
              0.8888888888888888,
              "#fdca26"
             ],
             [
              1,
              "#f0f921"
             ]
            ],
            "type": "histogram2d"
           }
          ],
          "histogram2dcontour": [
           {
            "colorbar": {
             "outlinewidth": 0,
             "ticks": ""
            },
            "colorscale": [
             [
              0,
              "#0d0887"
             ],
             [
              0.1111111111111111,
              "#46039f"
             ],
             [
              0.2222222222222222,
              "#7201a8"
             ],
             [
              0.3333333333333333,
              "#9c179e"
             ],
             [
              0.4444444444444444,
              "#bd3786"
             ],
             [
              0.5555555555555556,
              "#d8576b"
             ],
             [
              0.6666666666666666,
              "#ed7953"
             ],
             [
              0.7777777777777778,
              "#fb9f3a"
             ],
             [
              0.8888888888888888,
              "#fdca26"
             ],
             [
              1,
              "#f0f921"
             ]
            ],
            "type": "histogram2dcontour"
           }
          ],
          "mesh3d": [
           {
            "colorbar": {
             "outlinewidth": 0,
             "ticks": ""
            },
            "type": "mesh3d"
           }
          ],
          "parcoords": [
           {
            "line": {
             "colorbar": {
              "outlinewidth": 0,
              "ticks": ""
             }
            },
            "type": "parcoords"
           }
          ],
          "pie": [
           {
            "automargin": true,
            "type": "pie"
           }
          ],
          "scatter": [
           {
            "marker": {
             "colorbar": {
              "outlinewidth": 0,
              "ticks": ""
             }
            },
            "type": "scatter"
           }
          ],
          "scatter3d": [
           {
            "line": {
             "colorbar": {
              "outlinewidth": 0,
              "ticks": ""
             }
            },
            "marker": {
             "colorbar": {
              "outlinewidth": 0,
              "ticks": ""
             }
            },
            "type": "scatter3d"
           }
          ],
          "scattercarpet": [
           {
            "marker": {
             "colorbar": {
              "outlinewidth": 0,
              "ticks": ""
             }
            },
            "type": "scattercarpet"
           }
          ],
          "scattergeo": [
           {
            "marker": {
             "colorbar": {
              "outlinewidth": 0,
              "ticks": ""
             }
            },
            "type": "scattergeo"
           }
          ],
          "scattergl": [
           {
            "marker": {
             "colorbar": {
              "outlinewidth": 0,
              "ticks": ""
             }
            },
            "type": "scattergl"
           }
          ],
          "scattermapbox": [
           {
            "marker": {
             "colorbar": {
              "outlinewidth": 0,
              "ticks": ""
             }
            },
            "type": "scattermapbox"
           }
          ],
          "scatterpolar": [
           {
            "marker": {
             "colorbar": {
              "outlinewidth": 0,
              "ticks": ""
             }
            },
            "type": "scatterpolar"
           }
          ],
          "scatterpolargl": [
           {
            "marker": {
             "colorbar": {
              "outlinewidth": 0,
              "ticks": ""
             }
            },
            "type": "scatterpolargl"
           }
          ],
          "scatterternary": [
           {
            "marker": {
             "colorbar": {
              "outlinewidth": 0,
              "ticks": ""
             }
            },
            "type": "scatterternary"
           }
          ],
          "surface": [
           {
            "colorbar": {
             "outlinewidth": 0,
             "ticks": ""
            },
            "colorscale": [
             [
              0,
              "#0d0887"
             ],
             [
              0.1111111111111111,
              "#46039f"
             ],
             [
              0.2222222222222222,
              "#7201a8"
             ],
             [
              0.3333333333333333,
              "#9c179e"
             ],
             [
              0.4444444444444444,
              "#bd3786"
             ],
             [
              0.5555555555555556,
              "#d8576b"
             ],
             [
              0.6666666666666666,
              "#ed7953"
             ],
             [
              0.7777777777777778,
              "#fb9f3a"
             ],
             [
              0.8888888888888888,
              "#fdca26"
             ],
             [
              1,
              "#f0f921"
             ]
            ],
            "type": "surface"
           }
          ],
          "table": [
           {
            "cells": {
             "fill": {
              "color": "#EBF0F8"
             },
             "line": {
              "color": "white"
             }
            },
            "header": {
             "fill": {
              "color": "#C8D4E3"
             },
             "line": {
              "color": "white"
             }
            },
            "type": "table"
           }
          ]
         },
         "layout": {
          "annotationdefaults": {
           "arrowcolor": "#2a3f5f",
           "arrowhead": 0,
           "arrowwidth": 1
          },
          "autotypenumbers": "strict",
          "coloraxis": {
           "colorbar": {
            "outlinewidth": 0,
            "ticks": ""
           }
          },
          "colorscale": {
           "diverging": [
            [
             0,
             "#8e0152"
            ],
            [
             0.1,
             "#c51b7d"
            ],
            [
             0.2,
             "#de77ae"
            ],
            [
             0.3,
             "#f1b6da"
            ],
            [
             0.4,
             "#fde0ef"
            ],
            [
             0.5,
             "#f7f7f7"
            ],
            [
             0.6,
             "#e6f5d0"
            ],
            [
             0.7,
             "#b8e186"
            ],
            [
             0.8,
             "#7fbc41"
            ],
            [
             0.9,
             "#4d9221"
            ],
            [
             1,
             "#276419"
            ]
           ],
           "sequential": [
            [
             0,
             "#0d0887"
            ],
            [
             0.1111111111111111,
             "#46039f"
            ],
            [
             0.2222222222222222,
             "#7201a8"
            ],
            [
             0.3333333333333333,
             "#9c179e"
            ],
            [
             0.4444444444444444,
             "#bd3786"
            ],
            [
             0.5555555555555556,
             "#d8576b"
            ],
            [
             0.6666666666666666,
             "#ed7953"
            ],
            [
             0.7777777777777778,
             "#fb9f3a"
            ],
            [
             0.8888888888888888,
             "#fdca26"
            ],
            [
             1,
             "#f0f921"
            ]
           ],
           "sequentialminus": [
            [
             0,
             "#0d0887"
            ],
            [
             0.1111111111111111,
             "#46039f"
            ],
            [
             0.2222222222222222,
             "#7201a8"
            ],
            [
             0.3333333333333333,
             "#9c179e"
            ],
            [
             0.4444444444444444,
             "#bd3786"
            ],
            [
             0.5555555555555556,
             "#d8576b"
            ],
            [
             0.6666666666666666,
             "#ed7953"
            ],
            [
             0.7777777777777778,
             "#fb9f3a"
            ],
            [
             0.8888888888888888,
             "#fdca26"
            ],
            [
             1,
             "#f0f921"
            ]
           ]
          },
          "colorway": [
           "#636efa",
           "#EF553B",
           "#00cc96",
           "#ab63fa",
           "#FFA15A",
           "#19d3f3",
           "#FF6692",
           "#B6E880",
           "#FF97FF",
           "#FECB52"
          ],
          "font": {
           "color": "#2a3f5f"
          },
          "geo": {
           "bgcolor": "white",
           "lakecolor": "white",
           "landcolor": "#E5ECF6",
           "showlakes": true,
           "showland": true,
           "subunitcolor": "white"
          },
          "hoverlabel": {
           "align": "left"
          },
          "hovermode": "closest",
          "mapbox": {
           "style": "light"
          },
          "paper_bgcolor": "white",
          "plot_bgcolor": "#E5ECF6",
          "polar": {
           "angularaxis": {
            "gridcolor": "white",
            "linecolor": "white",
            "ticks": ""
           },
           "bgcolor": "#E5ECF6",
           "radialaxis": {
            "gridcolor": "white",
            "linecolor": "white",
            "ticks": ""
           }
          },
          "scene": {
           "xaxis": {
            "backgroundcolor": "#E5ECF6",
            "gridcolor": "white",
            "gridwidth": 2,
            "linecolor": "white",
            "showbackground": true,
            "ticks": "",
            "zerolinecolor": "white"
           },
           "yaxis": {
            "backgroundcolor": "#E5ECF6",
            "gridcolor": "white",
            "gridwidth": 2,
            "linecolor": "white",
            "showbackground": true,
            "ticks": "",
            "zerolinecolor": "white"
           },
           "zaxis": {
            "backgroundcolor": "#E5ECF6",
            "gridcolor": "white",
            "gridwidth": 2,
            "linecolor": "white",
            "showbackground": true,
            "ticks": "",
            "zerolinecolor": "white"
           }
          },
          "shapedefaults": {
           "line": {
            "color": "#2a3f5f"
           }
          },
          "ternary": {
           "aaxis": {
            "gridcolor": "white",
            "linecolor": "white",
            "ticks": ""
           },
           "baxis": {
            "gridcolor": "white",
            "linecolor": "white",
            "ticks": ""
           },
           "bgcolor": "#E5ECF6",
           "caxis": {
            "gridcolor": "white",
            "linecolor": "white",
            "ticks": ""
           }
          },
          "title": {
           "x": 0.05
          },
          "xaxis": {
           "automargin": true,
           "gridcolor": "white",
           "linecolor": "white",
           "ticks": "",
           "title": {
            "standoff": 15
           },
           "zerolinecolor": "white",
           "zerolinewidth": 2
          },
          "yaxis": {
           "automargin": true,
           "gridcolor": "white",
           "linecolor": "white",
           "ticks": "",
           "title": {
            "standoff": 15
           },
           "zerolinecolor": "white",
           "zerolinewidth": 2
          }
         }
        },
        "title": {
         "font": {
          "color": "#4D5663"
         }
        },
        "xaxis": {
         "gridcolor": "#E1E5ED",
         "showgrid": true,
         "tickfont": {
          "color": "#4D5663"
         },
         "title": {
          "font": {
           "color": "#4D5663"
          },
          "text": ""
         },
         "zerolinecolor": "#E1E5ED"
        },
        "yaxis": {
         "gridcolor": "#E1E5ED",
         "showgrid": true,
         "tickfont": {
          "color": "#4D5663"
         },
         "title": {
          "font": {
           "color": "#4D5663"
          },
          "text": ""
         },
         "zerolinecolor": "#E1E5ED"
        }
       }
      },
      "text/html": [
       "<div>                            <div id=\"877dd297-d4a3-4d53-8ff7-03af43032c50\" class=\"plotly-graph-div\" style=\"height:525px; width:100%;\"></div>            <script type=\"text/javascript\">                require([\"plotly\"], function(Plotly) {                    window.PLOTLYENV=window.PLOTLYENV || {};\n",
       "                    window.PLOTLYENV.BASE_URL='https://plotly.your-company.com';                                    if (document.getElementById(\"877dd297-d4a3-4d53-8ff7-03af43032c50\")) {                    Plotly.newPlot(                        \"877dd297-d4a3-4d53-8ff7-03af43032c50\",                        [{\"line\":{\"color\":\"rgba(255, 153, 51, 1.0)\",\"dash\":\"solid\",\"shape\":\"linear\",\"width\":1.3},\"mode\":\"lines\",\"name\":\"A\",\"text\":\"\",\"type\":\"scatter\",\"x\":[0,1,2,3,4,5,6,7,8,9,10,11,12,13,14,15,16,17,18,19,20,21,22,23,24,25,26,27,28,29,30,31,32,33,34,35,36,37,38,39,40,41,42,43,44,45,46,47,48,49,50,51,52,53,54,55,56,57,58,59,60,61,62,63,64,65,66,67,68,69,70,71,72,73,74,75,76,77,78,79,80,81,82,83,84,85,86,87,88,89,90,91,92,93,94,95,96,97,98,99],\"y\":[1.144703284679413,1.5722787271941105,1.2203543069389293,0.3262294356692099,0.33653340984199,-0.22898400761619297,0.2798817662302078,0.3380547124818544,0.9922620288427806,-0.20706946698884598,-0.8317910313693455,-0.41198930772017633,1.674475504975882,1.4417204774455334,3.1985994779266798,2.9983324813075374,3.9452046994678813,3.9810545585907513,2.8199151683008443,2.436384912274818,2.4025073096754688,2.225590282365636,1.2832151777068612,0.6928867744888247,-0.4911709867439442,-1.7307303531846838,-2.9208026884371154,-1.4647459145959838,-1.0922675000999034,-1.058554365577961,-1.0655953954558703,0.03184802772994422,-1.3228052168200815,-0.7704786315820228,0.434254176721374,-0.4810486515623198,-0.8308711795865421,-1.3487641294009656,0.042443675879225484,1.5041182727283777,0.5707847903455265,1.5443998976689137,2.7795195629738227,3.926852807945745,4.603051997493748,5.042440725573563,5.868007230613663,6.887240487655134,6.796779607141673,7.1787185521350425,7.812084924008351,7.3490492607713875,7.657358733279934,6.7396517004568,4.933501628420706,4.66402645743654,3.93054976413918,3.5316677540594514,4.021548944670262,2.9936748670072193,2.874725745430641,4.370053859376738,4.306219979674888,3.65087432601264,4.610403593757262,3.677707371322866,3.2038952347787557,2.762636415878079,2.7709285121240366,1.6030131260260652,2.283368749601624,1.51133386487078,0.8696012172069488,0.4072504458642411,2.531829113801064,1.6967058474830545,2.1648868377580466,3.0659332912954427,3.638368940851822,4.33579202001542,5.097439462097295,4.733093117713918,5.860827792774909,4.986389099524408,5.768987923204952,5.830920530659538,5.98392250384305,6.296710312039984,7.103559007675642,7.4456441831272775,7.065835248973794,6.70879791568223,4.411910833324907,5.529627285196841,6.823367129989277,6.3764127524195455,6.842380027958228,6.877589329123712,8.533615064187787,9.877267832010245]},{\"line\":{\"color\":\"rgba(55, 128, 191, 1.0)\",\"dash\":\"solid\",\"shape\":\"linear\",\"width\":1.3},\"mode\":\"lines\",\"name\":\"B\",\"text\":\"\",\"type\":\"scatter\",\"x\":[0,1,2,3,4,5,6,7,8,9,10,11,12,13,14,15,16,17,18,19,20,21,22,23,24,25,26,27,28,29,30,31,32,33,34,35,36,37,38,39,40,41,42,43,44,45,46,47,48,49,50,51,52,53,54,55,56,57,58,59,60,61,62,63,64,65,66,67,68,69,70,71,72,73,74,75,76,77,78,79,80,81,82,83,84,85,86,87,88,89,90,91,92,93,94,95,96,97,98,99],\"y\":[0.9012456139675201,-0.005669210129429336,0.7132236374444865,0.7025107240172088,2.9268829753365297,3.926065044947865,3.609382104243574,3.8547116044502774,5.833035426887022,5.872032340170762,5.518701434358688,4.7503756704462345,4.1927672537956004,2.602534909908738,1.1937156474465174,0.8218690789045012,0.7471295788511693,1.3089912656596385,3.054558484683188,4.480180748510357,6.717022455511012,6.302494547014423,6.647374480832201,8.463583091763708,7.435648288938667,9.432931160448387,10.132184180585238,9.832453739900698,8.595100369886236,8.076248638261145,8.440911659312752,9.091284518659196,7.546408344669909,7.594192993908493,8.563865403106345,9.223294696584759,9.251111370469028,9.822151616648355,10.572184791347178,9.393948806165005,10.544983495009694,9.292620077570124,9.707687554257335,8.431145949442993,9.422138671730563,10.959801882369536,11.499547838533758,13.653364119407817,13.415488822759828,13.271423308793022,13.328009446929514,13.724850377277873,13.877020977986938,12.949705372576181,14.155897214897182,14.826796756770921,15.551958570570179,15.492640878398728,15.504629794354285,16.36673593334079,15.959926253857105,16.580430406178294,16.341408933516313,16.761365158802935,15.746621741557258,15.1278958783391,14.369894302932753,14.830527033839992,16.84323969785907,15.01162045927309,13.436696176475074,12.654859481037356,11.961108374073884,12.663310097609006,13.067353489374286,12.0581874497734,12.419520323644157,12.590064479747525,13.91014722607856,13.019278945651603,12.48406291049027,11.6177954272535,10.660877653325779,9.985455204231535,8.917367281956277,8.861398266211351,7.337826227544964,7.0908968138578325,5.420090936869641,5.223439638286755,6.160319198567473,8.05921031425476,7.393852728697599,9.788412915848308,9.100908531826231,9.584749707876263,10.063618802884307,10.870633542785136,11.01487543101498,11.090180829969059]},{\"line\":{\"color\":\"rgba(50, 171, 96, 1.0)\",\"dash\":\"solid\",\"shape\":\"linear\",\"width\":1.3},\"mode\":\"lines\",\"name\":\"C\",\"text\":\"\",\"type\":\"scatter\",\"x\":[0,1,2,3,4,5,6,7,8,9,10,11,12,13,14,15,16,17,18,19,20,21,22,23,24,25,26,27,28,29,30,31,32,33,34,35,36,37,38,39,40,41,42,43,44,45,46,47,48,49,50,51,52,53,54,55,56,57,58,59,60,61,62,63,64,65,66,67,68,69,70,71,72,73,74,75,76,77,78,79,80,81,82,83,84,85,86,87,88,89,90,91,92,93,94,95,96,97,98,99],\"y\":[0.11816942918113256,0.8598551525377256,1.2677506553179076,0.00237116361238332,-1.0847103230093624,-2.432104360708205,-4.140839614169552,-3.2491215900061454,-2.9015090531035415,-4.606166933946416,-6.55277417327471,-7.927587302021544,-8.376071053328928,-9.541927555851164,-10.520167017169797,-11.845943035508935,-12.72298932538193,-12.51591039916324,-12.187595808296512,-12.158544327534532,-10.49717088826922,-9.836246901427508,-10.621825958662216,-11.678501472141258,-12.552825714428705,-12.895647266656493,-11.954844492024693,-12.621510390062305,-13.069558522720987,-12.578586295085854,-14.102903625816447,-14.237949060055454,-15.148991855493318,-14.716483943375742,-13.157855316046257,-12.23079858681877,-12.505935747653742,-12.836240838755131,-12.14688262935563,-13.980130053403471,-13.868676187972492,-14.81607965990658,-15.679872731034811,-15.676936718217528,-15.69717559058203,-14.697791022004493,-14.44858065201321,-15.632272874528326,-16.48331575807077,-16.46666733951859,-16.68689103687568,-18.63639827333169,-18.737141202355925,-18.87667656591514,-19.433695481699967,-21.27172468442301,-21.17070513809577,-19.534617490349408,-19.598359512109514,-20.157380783443195,-20.30489993218087,-19.944424340955955,-20.426662372082756,-20.712572250835777,-21.816564226809952,-18.45632471871582,-18.547805989944845,-17.74897375536891,-20.016790758159516,-20.54382527209872,-21.79512770833297,-20.424522670495623,-20.385285036283015,-20.13432796036997,-21.176056969209448,-20.592319376648803,-21.28305698522954,-20.81284883494392,-21.422898847439992,-18.97765750727099,-20.289142586028635,-19.828680520549685,-17.258867827289226,-17.601441354096266,-17.793314293911244,-16.855929541500952,-18.39207757575349,-18.75846181303762,-16.4387669233956,-17.854297454826906,-16.075098959344555,-15.825700850990312,-15.426212027108136,-15.99488475962516,-15.491239280071753,-16.655468579477414,-16.116289630281564,-15.846304013802488,-15.316449135702168,-16.632423328933356]}],                        {\"legend\":{\"bgcolor\":\"#FFFFFF\",\"font\":{\"color\":\"#4D5663\"}},\"paper_bgcolor\":\"#FFFFFF\",\"plot_bgcolor\":\"#FFFFFF\",\"template\":{\"data\":{\"bar\":[{\"error_x\":{\"color\":\"#2a3f5f\"},\"error_y\":{\"color\":\"#2a3f5f\"},\"marker\":{\"line\":{\"color\":\"#E5ECF6\",\"width\":0.5},\"pattern\":{\"fillmode\":\"overlay\",\"size\":10,\"solidity\":0.2}},\"type\":\"bar\"}],\"barpolar\":[{\"marker\":{\"line\":{\"color\":\"#E5ECF6\",\"width\":0.5},\"pattern\":{\"fillmode\":\"overlay\",\"size\":10,\"solidity\":0.2}},\"type\":\"barpolar\"}],\"carpet\":[{\"aaxis\":{\"endlinecolor\":\"#2a3f5f\",\"gridcolor\":\"white\",\"linecolor\":\"white\",\"minorgridcolor\":\"white\",\"startlinecolor\":\"#2a3f5f\"},\"baxis\":{\"endlinecolor\":\"#2a3f5f\",\"gridcolor\":\"white\",\"linecolor\":\"white\",\"minorgridcolor\":\"white\",\"startlinecolor\":\"#2a3f5f\"},\"type\":\"carpet\"}],\"choropleth\":[{\"colorbar\":{\"outlinewidth\":0,\"ticks\":\"\"},\"type\":\"choropleth\"}],\"contour\":[{\"colorbar\":{\"outlinewidth\":0,\"ticks\":\"\"},\"colorscale\":[[0.0,\"#0d0887\"],[0.1111111111111111,\"#46039f\"],[0.2222222222222222,\"#7201a8\"],[0.3333333333333333,\"#9c179e\"],[0.4444444444444444,\"#bd3786\"],[0.5555555555555556,\"#d8576b\"],[0.6666666666666666,\"#ed7953\"],[0.7777777777777778,\"#fb9f3a\"],[0.8888888888888888,\"#fdca26\"],[1.0,\"#f0f921\"]],\"type\":\"contour\"}],\"contourcarpet\":[{\"colorbar\":{\"outlinewidth\":0,\"ticks\":\"\"},\"type\":\"contourcarpet\"}],\"heatmap\":[{\"colorbar\":{\"outlinewidth\":0,\"ticks\":\"\"},\"colorscale\":[[0.0,\"#0d0887\"],[0.1111111111111111,\"#46039f\"],[0.2222222222222222,\"#7201a8\"],[0.3333333333333333,\"#9c179e\"],[0.4444444444444444,\"#bd3786\"],[0.5555555555555556,\"#d8576b\"],[0.6666666666666666,\"#ed7953\"],[0.7777777777777778,\"#fb9f3a\"],[0.8888888888888888,\"#fdca26\"],[1.0,\"#f0f921\"]],\"type\":\"heatmap\"}],\"heatmapgl\":[{\"colorbar\":{\"outlinewidth\":0,\"ticks\":\"\"},\"colorscale\":[[0.0,\"#0d0887\"],[0.1111111111111111,\"#46039f\"],[0.2222222222222222,\"#7201a8\"],[0.3333333333333333,\"#9c179e\"],[0.4444444444444444,\"#bd3786\"],[0.5555555555555556,\"#d8576b\"],[0.6666666666666666,\"#ed7953\"],[0.7777777777777778,\"#fb9f3a\"],[0.8888888888888888,\"#fdca26\"],[1.0,\"#f0f921\"]],\"type\":\"heatmapgl\"}],\"histogram\":[{\"marker\":{\"pattern\":{\"fillmode\":\"overlay\",\"size\":10,\"solidity\":0.2}},\"type\":\"histogram\"}],\"histogram2d\":[{\"colorbar\":{\"outlinewidth\":0,\"ticks\":\"\"},\"colorscale\":[[0.0,\"#0d0887\"],[0.1111111111111111,\"#46039f\"],[0.2222222222222222,\"#7201a8\"],[0.3333333333333333,\"#9c179e\"],[0.4444444444444444,\"#bd3786\"],[0.5555555555555556,\"#d8576b\"],[0.6666666666666666,\"#ed7953\"],[0.7777777777777778,\"#fb9f3a\"],[0.8888888888888888,\"#fdca26\"],[1.0,\"#f0f921\"]],\"type\":\"histogram2d\"}],\"histogram2dcontour\":[{\"colorbar\":{\"outlinewidth\":0,\"ticks\":\"\"},\"colorscale\":[[0.0,\"#0d0887\"],[0.1111111111111111,\"#46039f\"],[0.2222222222222222,\"#7201a8\"],[0.3333333333333333,\"#9c179e\"],[0.4444444444444444,\"#bd3786\"],[0.5555555555555556,\"#d8576b\"],[0.6666666666666666,\"#ed7953\"],[0.7777777777777778,\"#fb9f3a\"],[0.8888888888888888,\"#fdca26\"],[1.0,\"#f0f921\"]],\"type\":\"histogram2dcontour\"}],\"mesh3d\":[{\"colorbar\":{\"outlinewidth\":0,\"ticks\":\"\"},\"type\":\"mesh3d\"}],\"parcoords\":[{\"line\":{\"colorbar\":{\"outlinewidth\":0,\"ticks\":\"\"}},\"type\":\"parcoords\"}],\"pie\":[{\"automargin\":true,\"type\":\"pie\"}],\"scatter\":[{\"marker\":{\"colorbar\":{\"outlinewidth\":0,\"ticks\":\"\"}},\"type\":\"scatter\"}],\"scatter3d\":[{\"line\":{\"colorbar\":{\"outlinewidth\":0,\"ticks\":\"\"}},\"marker\":{\"colorbar\":{\"outlinewidth\":0,\"ticks\":\"\"}},\"type\":\"scatter3d\"}],\"scattercarpet\":[{\"marker\":{\"colorbar\":{\"outlinewidth\":0,\"ticks\":\"\"}},\"type\":\"scattercarpet\"}],\"scattergeo\":[{\"marker\":{\"colorbar\":{\"outlinewidth\":0,\"ticks\":\"\"}},\"type\":\"scattergeo\"}],\"scattergl\":[{\"marker\":{\"colorbar\":{\"outlinewidth\":0,\"ticks\":\"\"}},\"type\":\"scattergl\"}],\"scattermapbox\":[{\"marker\":{\"colorbar\":{\"outlinewidth\":0,\"ticks\":\"\"}},\"type\":\"scattermapbox\"}],\"scatterpolar\":[{\"marker\":{\"colorbar\":{\"outlinewidth\":0,\"ticks\":\"\"}},\"type\":\"scatterpolar\"}],\"scatterpolargl\":[{\"marker\":{\"colorbar\":{\"outlinewidth\":0,\"ticks\":\"\"}},\"type\":\"scatterpolargl\"}],\"scatterternary\":[{\"marker\":{\"colorbar\":{\"outlinewidth\":0,\"ticks\":\"\"}},\"type\":\"scatterternary\"}],\"surface\":[{\"colorbar\":{\"outlinewidth\":0,\"ticks\":\"\"},\"colorscale\":[[0.0,\"#0d0887\"],[0.1111111111111111,\"#46039f\"],[0.2222222222222222,\"#7201a8\"],[0.3333333333333333,\"#9c179e\"],[0.4444444444444444,\"#bd3786\"],[0.5555555555555556,\"#d8576b\"],[0.6666666666666666,\"#ed7953\"],[0.7777777777777778,\"#fb9f3a\"],[0.8888888888888888,\"#fdca26\"],[1.0,\"#f0f921\"]],\"type\":\"surface\"}],\"table\":[{\"cells\":{\"fill\":{\"color\":\"#EBF0F8\"},\"line\":{\"color\":\"white\"}},\"header\":{\"fill\":{\"color\":\"#C8D4E3\"},\"line\":{\"color\":\"white\"}},\"type\":\"table\"}]},\"layout\":{\"annotationdefaults\":{\"arrowcolor\":\"#2a3f5f\",\"arrowhead\":0,\"arrowwidth\":1},\"autotypenumbers\":\"strict\",\"coloraxis\":{\"colorbar\":{\"outlinewidth\":0,\"ticks\":\"\"}},\"colorscale\":{\"diverging\":[[0,\"#8e0152\"],[0.1,\"#c51b7d\"],[0.2,\"#de77ae\"],[0.3,\"#f1b6da\"],[0.4,\"#fde0ef\"],[0.5,\"#f7f7f7\"],[0.6,\"#e6f5d0\"],[0.7,\"#b8e186\"],[0.8,\"#7fbc41\"],[0.9,\"#4d9221\"],[1,\"#276419\"]],\"sequential\":[[0.0,\"#0d0887\"],[0.1111111111111111,\"#46039f\"],[0.2222222222222222,\"#7201a8\"],[0.3333333333333333,\"#9c179e\"],[0.4444444444444444,\"#bd3786\"],[0.5555555555555556,\"#d8576b\"],[0.6666666666666666,\"#ed7953\"],[0.7777777777777778,\"#fb9f3a\"],[0.8888888888888888,\"#fdca26\"],[1.0,\"#f0f921\"]],\"sequentialminus\":[[0.0,\"#0d0887\"],[0.1111111111111111,\"#46039f\"],[0.2222222222222222,\"#7201a8\"],[0.3333333333333333,\"#9c179e\"],[0.4444444444444444,\"#bd3786\"],[0.5555555555555556,\"#d8576b\"],[0.6666666666666666,\"#ed7953\"],[0.7777777777777778,\"#fb9f3a\"],[0.8888888888888888,\"#fdca26\"],[1.0,\"#f0f921\"]]},\"colorway\":[\"#636efa\",\"#EF553B\",\"#00cc96\",\"#ab63fa\",\"#FFA15A\",\"#19d3f3\",\"#FF6692\",\"#B6E880\",\"#FF97FF\",\"#FECB52\"],\"font\":{\"color\":\"#2a3f5f\"},\"geo\":{\"bgcolor\":\"white\",\"lakecolor\":\"white\",\"landcolor\":\"#E5ECF6\",\"showlakes\":true,\"showland\":true,\"subunitcolor\":\"white\"},\"hoverlabel\":{\"align\":\"left\"},\"hovermode\":\"closest\",\"mapbox\":{\"style\":\"light\"},\"paper_bgcolor\":\"white\",\"plot_bgcolor\":\"#E5ECF6\",\"polar\":{\"angularaxis\":{\"gridcolor\":\"white\",\"linecolor\":\"white\",\"ticks\":\"\"},\"bgcolor\":\"#E5ECF6\",\"radialaxis\":{\"gridcolor\":\"white\",\"linecolor\":\"white\",\"ticks\":\"\"}},\"scene\":{\"xaxis\":{\"backgroundcolor\":\"#E5ECF6\",\"gridcolor\":\"white\",\"gridwidth\":2,\"linecolor\":\"white\",\"showbackground\":true,\"ticks\":\"\",\"zerolinecolor\":\"white\"},\"yaxis\":{\"backgroundcolor\":\"#E5ECF6\",\"gridcolor\":\"white\",\"gridwidth\":2,\"linecolor\":\"white\",\"showbackground\":true,\"ticks\":\"\",\"zerolinecolor\":\"white\"},\"zaxis\":{\"backgroundcolor\":\"#E5ECF6\",\"gridcolor\":\"white\",\"gridwidth\":2,\"linecolor\":\"white\",\"showbackground\":true,\"ticks\":\"\",\"zerolinecolor\":\"white\"}},\"shapedefaults\":{\"line\":{\"color\":\"#2a3f5f\"}},\"ternary\":{\"aaxis\":{\"gridcolor\":\"white\",\"linecolor\":\"white\",\"ticks\":\"\"},\"baxis\":{\"gridcolor\":\"white\",\"linecolor\":\"white\",\"ticks\":\"\"},\"bgcolor\":\"#E5ECF6\",\"caxis\":{\"gridcolor\":\"white\",\"linecolor\":\"white\",\"ticks\":\"\"}},\"title\":{\"x\":0.05},\"xaxis\":{\"automargin\":true,\"gridcolor\":\"white\",\"linecolor\":\"white\",\"ticks\":\"\",\"title\":{\"standoff\":15},\"zerolinecolor\":\"white\",\"zerolinewidth\":2},\"yaxis\":{\"automargin\":true,\"gridcolor\":\"white\",\"linecolor\":\"white\",\"ticks\":\"\",\"title\":{\"standoff\":15},\"zerolinecolor\":\"white\",\"zerolinewidth\":2}}},\"title\":{\"font\":{\"color\":\"#4D5663\"}},\"xaxis\":{\"gridcolor\":\"#E1E5ED\",\"showgrid\":true,\"tickfont\":{\"color\":\"#4D5663\"},\"title\":{\"font\":{\"color\":\"#4D5663\"},\"text\":\"\"},\"zerolinecolor\":\"#E1E5ED\"},\"yaxis\":{\"gridcolor\":\"#E1E5ED\",\"showgrid\":true,\"tickfont\":{\"color\":\"#4D5663\"},\"title\":{\"font\":{\"color\":\"#4D5663\"},\"text\":\"\"},\"zerolinecolor\":\"#E1E5ED\"}},                        {\"showLink\": true, \"linkText\": \"Export to plotly.your-company.com\", \"plotlyServerURL\": \"https://plotly.your-company.com\", \"responsive\": true}                    ).then(function(){\n",
       "                            \n",
       "var gd = document.getElementById('877dd297-d4a3-4d53-8ff7-03af43032c50');\n",
       "var x = new MutationObserver(function (mutations, observer) {{\n",
       "        var display = window.getComputedStyle(gd).display;\n",
       "        if (!display || display === 'none') {{\n",
       "            console.log([gd, 'removed!']);\n",
       "            Plotly.purge(gd);\n",
       "            observer.disconnect();\n",
       "        }}\n",
       "}});\n",
       "\n",
       "// Listen for the removal of the full notebook cells\n",
       "var notebookContainer = gd.closest('#notebook-container');\n",
       "if (notebookContainer) {{\n",
       "    x.observe(notebookContainer, {childList: true});\n",
       "}}\n",
       "\n",
       "// Listen for the clearing of the current output cell\n",
       "var outputEl = gd.closest('.output');\n",
       "if (outputEl) {{\n",
       "    x.observe(outputEl, {childList: true});\n",
       "}}\n",
       "\n",
       "                        })                };                });            </script>        </div>"
      ]
     },
     "metadata": {},
     "output_type": "display_data"
    }
   ],
   "source": [
    "df.cumsum().iplot()"
   ]
  },
  {
   "cell_type": "code",
   "execution_count": 10,
   "metadata": {},
   "outputs": [
    {
     "data": {
      "application/vnd.plotly.v1+json": {
       "config": {
        "linkText": "Export to plotly.your-company.com",
        "plotlyServerURL": "https://plotly.your-company.com",
        "showLink": true
       },
       "data": [
        {
         "line": {
          "color": "rgba(255, 153, 51, 1.0)",
          "dash": "solid",
          "shape": "linear",
          "width": 1.3
         },
         "marker": {
          "size": 12,
          "symbol": "circle"
         },
         "mode": "markers",
         "name": "A",
         "text": "",
         "type": "scatter",
         "x": [
          0,
          1,
          2,
          3,
          4,
          5,
          6,
          7,
          8,
          9,
          10,
          11,
          12,
          13,
          14,
          15,
          16,
          17,
          18,
          19,
          20,
          21,
          22,
          23,
          24,
          25,
          26,
          27,
          28,
          29,
          30,
          31,
          32,
          33,
          34,
          35,
          36,
          37,
          38,
          39,
          40,
          41,
          42,
          43,
          44,
          45,
          46,
          47,
          48,
          49,
          50,
          51,
          52,
          53,
          54,
          55,
          56,
          57,
          58,
          59,
          60,
          61,
          62,
          63,
          64,
          65,
          66,
          67,
          68,
          69,
          70,
          71,
          72,
          73,
          74,
          75,
          76,
          77,
          78,
          79,
          80,
          81,
          82,
          83,
          84,
          85,
          86,
          87,
          88,
          89,
          90,
          91,
          92,
          93,
          94,
          95,
          96,
          97,
          98,
          99
         ],
         "y": [
          1.144703284679413,
          0.42757544251469765,
          -0.35192442025518117,
          -0.8941248712697194,
          0.010303974172780074,
          -0.565517417458183,
          0.5088657738464007,
          0.05817294625164663,
          0.6542073163609262,
          -1.1993314958316266,
          -0.6247215643804995,
          0.4198017236491692,
          2.0864648126960583,
          -0.23275502753034852,
          1.7568790004811463,
          -0.2002669966191424,
          0.9468722181603442,
          0.03584985912287011,
          -1.1611393902899068,
          -0.3835302560260267,
          -0.03387760259934896,
          -0.17691702730983283,
          -0.9423751046587749,
          -0.5903284032180365,
          -1.184057761232769,
          -1.2395593664407396,
          -1.1900723352524316,
          1.4560567738411316,
          0.3724784144960803,
          0.03371313452194243,
          -0.007041029877909425,
          1.0974434231858146,
          -1.3546532445500257,
          0.5523265852380587,
          1.2047328083033968,
          -0.9153028282836938,
          -0.3498225280242223,
          -0.5178929498144236,
          1.391207805280191,
          1.4616745968491522,
          -0.9333334823828512,
          0.9736151073233872,
          1.2351196653049088,
          1.1473332449719225,
          0.6761991895480024,
          0.4393887280798155,
          0.8255665050400999,
          1.0192332570414717,
          -0.09046088051346117,
          0.38193894499336983,
          0.6333663718733085,
          -0.463035663236964,
          0.30830947250854623,
          -0.9177070328231333,
          -1.8061500720360941,
          -0.2694751709841663,
          -0.7334766932973601,
          -0.39888201007972846,
          0.48988119061081065,
          -1.0278740776630428,
          -0.11894912157657848,
          1.4953281139460974,
          -0.06383387970184953,
          -0.6553456536622485,
          0.9595292677446223,
          -0.9326962224343956,
          -0.4738121365441105,
          -0.44125881890067653,
          0.008292096245957448,
          -1.1679153860979714,
          0.6803556235755589,
          -0.7720348847308444,
          -0.6417326476638311,
          -0.46235077134270774,
          2.124578667936823,
          -0.8351232663180091,
          0.4681809902749921,
          0.9010464535373961,
          0.5724356495563795,
          0.6974230791635984,
          0.761647442081875,
          -0.3643463443833772,
          1.1277346750609916,
          -0.8744386932505009,
          0.7825988236805438,
          0.06193260745458717,
          0.15300197318351122,
          0.31278780819693397,
          0.8068486956356575,
          0.34208517545163536,
          -0.37980893415348355,
          -0.35703733329156384,
          -2.296887082357323,
          1.117716451871934,
          1.2937398447924362,
          -0.4469543775697318,
          0.4659672755386829,
          0.03520930116548328,
          1.6560257350640744,
          1.3436527678224581
         ]
        },
        {
         "line": {
          "color": "rgba(55, 128, 191, 1.0)",
          "dash": "solid",
          "shape": "linear",
          "width": 1.3
         },
         "marker": {
          "size": 12,
          "symbol": "circle"
         },
         "mode": "markers",
         "name": "B",
         "text": "",
         "type": "scatter",
         "x": [
          0,
          1,
          2,
          3,
          4,
          5,
          6,
          7,
          8,
          9,
          10,
          11,
          12,
          13,
          14,
          15,
          16,
          17,
          18,
          19,
          20,
          21,
          22,
          23,
          24,
          25,
          26,
          27,
          28,
          29,
          30,
          31,
          32,
          33,
          34,
          35,
          36,
          37,
          38,
          39,
          40,
          41,
          42,
          43,
          44,
          45,
          46,
          47,
          48,
          49,
          50,
          51,
          52,
          53,
          54,
          55,
          56,
          57,
          58,
          59,
          60,
          61,
          62,
          63,
          64,
          65,
          66,
          67,
          68,
          69,
          70,
          71,
          72,
          73,
          74,
          75,
          76,
          77,
          78,
          79,
          80,
          81,
          82,
          83,
          84,
          85,
          86,
          87,
          88,
          89,
          90,
          91,
          92,
          93,
          94,
          95,
          96,
          97,
          98,
          99
         ],
         "y": [
          0.9012456139675201,
          -0.9069148240969495,
          0.7188928475739158,
          -0.010712913427277598,
          2.2243722513193207,
          0.9991820696113353,
          -0.316682940704291,
          0.24532950020670366,
          1.978323822436745,
          0.03899691328373934,
          -0.3533309058120735,
          -0.768325763912453,
          -0.5576084166506344,
          -1.5902323438868622,
          -1.4088192624622207,
          -0.37184656854201614,
          -0.074739500053332,
          0.5618616868084693,
          1.7455672190235496,
          1.4256222638271683,
          2.236841707000655,
          -0.4145279084965887,
          0.3448799338177773,
          1.8162086109315068,
          -1.0279348028250406,
          1.9972828715097193,
          0.6992530201368505,
          -0.29973044068454013,
          -1.2373533700144632,
          -0.5188517316250908,
          0.36466302105160747,
          0.6503728593464441,
          -1.5448761739892864,
          0.047784649238583735,
          0.9696724091978512,
          0.6594292934784134,
          0.027816673884268412,
          0.571040246179327,
          0.7500331746988234,
          -1.1782359851821727,
          1.1510346888446892,
          -1.2523634174395701,
          0.41506747668721183,
          -1.276541604814342,
          0.9909927222875703,
          1.5376632106389738,
          0.5397459561642224,
          2.153816280874059,
          -0.23787529664798834,
          -0.14406551396680597,
          0.056586138136492124,
          0.3968409303483598,
          0.15217060070906469,
          -0.9273156054107566,
          1.2061918423210012,
          0.6708995418737386,
          0.7251618137992578,
          -0.05931769217145088,
          0.011988915955556631,
          0.8621061389865066,
          -0.40680967948368674,
          0.6205041523211877,
          -0.2390214726619803,
          0.41995622528662285,
          -1.0147434172456777,
          -0.6187258632181581,
          -0.7580015754063466,
          0.4606327309072387,
          2.012712664019078,
          -1.8316192385859789,
          -1.5749242827980148,
          -0.781836695437718,
          -0.693751106963471,
          0.7022017235351213,
          0.40404339176528,
          -1.0091660396008861,
          0.36133287387075724,
          0.1705441561033673,
          1.3200827463310363,
          -0.8908682804269574,
          -0.5352160351613332,
          -0.8662674832367702,
          -0.9569177739277203,
          -0.6754224490942432,
          -1.068087922275257,
          -0.05596901574492606,
          -1.5235720386663867,
          -0.2469294136871314,
          -1.6708058769881922,
          -0.1966512985828853,
          0.9368795602807177,
          1.8988911156872859,
          -0.66535758555716,
          2.3945601871507103,
          -0.6875043840220773,
          0.48384117605003163,
          0.4788690950080444,
          0.807014739900829,
          0.14424188822984477,
          0.0753053989540786
         ]
        },
        {
         "line": {
          "color": "rgba(50, 171, 96, 1.0)",
          "dash": "solid",
          "shape": "linear",
          "width": 1.3
         },
         "marker": {
          "size": 12,
          "symbol": "circle"
         },
         "mode": "markers",
         "name": "C",
         "text": "",
         "type": "scatter",
         "x": [
          0,
          1,
          2,
          3,
          4,
          5,
          6,
          7,
          8,
          9,
          10,
          11,
          12,
          13,
          14,
          15,
          16,
          17,
          18,
          19,
          20,
          21,
          22,
          23,
          24,
          25,
          26,
          27,
          28,
          29,
          30,
          31,
          32,
          33,
          34,
          35,
          36,
          37,
          38,
          39,
          40,
          41,
          42,
          43,
          44,
          45,
          46,
          47,
          48,
          49,
          50,
          51,
          52,
          53,
          54,
          55,
          56,
          57,
          58,
          59,
          60,
          61,
          62,
          63,
          64,
          65,
          66,
          67,
          68,
          69,
          70,
          71,
          72,
          73,
          74,
          75,
          76,
          77,
          78,
          79,
          80,
          81,
          82,
          83,
          84,
          85,
          86,
          87,
          88,
          89,
          90,
          91,
          92,
          93,
          94,
          95,
          96,
          97,
          98,
          99
         ],
         "y": [
          0.11816942918113256,
          0.741685723356593,
          0.4078955027801821,
          -1.2653794917055243,
          -1.0870814866217458,
          -1.3473940376988425,
          -1.7087352534613476,
          0.8917180241634067,
          0.34761253690260413,
          -1.7046578808428747,
          -1.9466072393282936,
          -1.374813128746834,
          -0.44848375130738516,
          -1.1658565025222343,
          -0.9782394613186325,
          -1.325776018339137,
          -0.8770462898729945,
          0.20707892621869003,
          0.32831459086672604,
          0.029051480761979543,
          1.661373439265312,
          0.6609239868417132,
          -0.7855790572347076,
          -1.056675513479043,
          -0.8743242422874468,
          -0.3428215522277884,
          0.9408027746318007,
          -0.6666658980376114,
          -0.44804813265868204,
          0.4909722276351332,
          -1.5243173307305933,
          -0.13504543423900814,
          -0.9110427954378634,
          0.4325079121175746,
          1.5586286273294845,
          0.9270567292274876,
          -0.27513716083497314,
          -0.33030509110138906,
          0.6893582093995015,
          -1.8332474240478402,
          0.11145386543098021,
          -0.9474034719340884,
          -0.8637930711282321,
          0.002936012817284153,
          -0.020238872364501972,
          0.9993845685775354,
          0.24921036999128424,
          -1.1836922225151159,
          -0.8510428835424434,
          0.016648418552180785,
          -0.22022369735709013,
          -1.9495072364560115,
          -0.1007429290242349,
          -0.13953536355921473,
          -0.5570189157848265,
          -1.838029202723041,
          0.10101954632723922,
          1.636087647746361,
          -0.06374202176010661,
          -0.5590212713336815,
          -0.1475191487376764,
          0.360475591224915,
          -0.48223803112680164,
          -0.28590987875302204,
          -1.1039919759741768,
          3.3602395080941303,
          -0.09148127122902347,
          0.798832234575934,
          -2.267817002790606,
          -0.527034513939202,
          -1.2513024362342513,
          1.370605037837346,
          0.03923763421260761,
          0.2509570759130447,
          -1.0417290088394782,
          0.5837375925606461,
          -0.6907376085807362,
          0.4702081502856197,
          -0.6100500124960715,
          2.4452413401690007,
          -1.3114850787576462,
          0.4604620654789494,
          2.569812693260461,
          -0.3425735268070394,
          -0.19187293981497872,
          0.9373847524102931,
          -1.5361480342525387,
          -0.3663842372841314,
          2.3196948896420193,
          -1.415530531431303,
          1.7791984954823528,
          0.24939810835424286,
          0.39948882388217594,
          -0.5686727325170238,
          0.5036454795534082,
          -1.1642292994056618,
          0.5391789491958506,
          0.26998561647907604,
          0.529854878100319,
          -1.3159741932311897
         ]
        }
       ],
       "layout": {
        "legend": {
         "bgcolor": "#FFFFFF",
         "font": {
          "color": "#4D5663"
         }
        },
        "paper_bgcolor": "#FFFFFF",
        "plot_bgcolor": "#FFFFFF",
        "template": {
         "data": {
          "bar": [
           {
            "error_x": {
             "color": "#2a3f5f"
            },
            "error_y": {
             "color": "#2a3f5f"
            },
            "marker": {
             "line": {
              "color": "#E5ECF6",
              "width": 0.5
             },
             "pattern": {
              "fillmode": "overlay",
              "size": 10,
              "solidity": 0.2
             }
            },
            "type": "bar"
           }
          ],
          "barpolar": [
           {
            "marker": {
             "line": {
              "color": "#E5ECF6",
              "width": 0.5
             },
             "pattern": {
              "fillmode": "overlay",
              "size": 10,
              "solidity": 0.2
             }
            },
            "type": "barpolar"
           }
          ],
          "carpet": [
           {
            "aaxis": {
             "endlinecolor": "#2a3f5f",
             "gridcolor": "white",
             "linecolor": "white",
             "minorgridcolor": "white",
             "startlinecolor": "#2a3f5f"
            },
            "baxis": {
             "endlinecolor": "#2a3f5f",
             "gridcolor": "white",
             "linecolor": "white",
             "minorgridcolor": "white",
             "startlinecolor": "#2a3f5f"
            },
            "type": "carpet"
           }
          ],
          "choropleth": [
           {
            "colorbar": {
             "outlinewidth": 0,
             "ticks": ""
            },
            "type": "choropleth"
           }
          ],
          "contour": [
           {
            "colorbar": {
             "outlinewidth": 0,
             "ticks": ""
            },
            "colorscale": [
             [
              0,
              "#0d0887"
             ],
             [
              0.1111111111111111,
              "#46039f"
             ],
             [
              0.2222222222222222,
              "#7201a8"
             ],
             [
              0.3333333333333333,
              "#9c179e"
             ],
             [
              0.4444444444444444,
              "#bd3786"
             ],
             [
              0.5555555555555556,
              "#d8576b"
             ],
             [
              0.6666666666666666,
              "#ed7953"
             ],
             [
              0.7777777777777778,
              "#fb9f3a"
             ],
             [
              0.8888888888888888,
              "#fdca26"
             ],
             [
              1,
              "#f0f921"
             ]
            ],
            "type": "contour"
           }
          ],
          "contourcarpet": [
           {
            "colorbar": {
             "outlinewidth": 0,
             "ticks": ""
            },
            "type": "contourcarpet"
           }
          ],
          "heatmap": [
           {
            "colorbar": {
             "outlinewidth": 0,
             "ticks": ""
            },
            "colorscale": [
             [
              0,
              "#0d0887"
             ],
             [
              0.1111111111111111,
              "#46039f"
             ],
             [
              0.2222222222222222,
              "#7201a8"
             ],
             [
              0.3333333333333333,
              "#9c179e"
             ],
             [
              0.4444444444444444,
              "#bd3786"
             ],
             [
              0.5555555555555556,
              "#d8576b"
             ],
             [
              0.6666666666666666,
              "#ed7953"
             ],
             [
              0.7777777777777778,
              "#fb9f3a"
             ],
             [
              0.8888888888888888,
              "#fdca26"
             ],
             [
              1,
              "#f0f921"
             ]
            ],
            "type": "heatmap"
           }
          ],
          "heatmapgl": [
           {
            "colorbar": {
             "outlinewidth": 0,
             "ticks": ""
            },
            "colorscale": [
             [
              0,
              "#0d0887"
             ],
             [
              0.1111111111111111,
              "#46039f"
             ],
             [
              0.2222222222222222,
              "#7201a8"
             ],
             [
              0.3333333333333333,
              "#9c179e"
             ],
             [
              0.4444444444444444,
              "#bd3786"
             ],
             [
              0.5555555555555556,
              "#d8576b"
             ],
             [
              0.6666666666666666,
              "#ed7953"
             ],
             [
              0.7777777777777778,
              "#fb9f3a"
             ],
             [
              0.8888888888888888,
              "#fdca26"
             ],
             [
              1,
              "#f0f921"
             ]
            ],
            "type": "heatmapgl"
           }
          ],
          "histogram": [
           {
            "marker": {
             "pattern": {
              "fillmode": "overlay",
              "size": 10,
              "solidity": 0.2
             }
            },
            "type": "histogram"
           }
          ],
          "histogram2d": [
           {
            "colorbar": {
             "outlinewidth": 0,
             "ticks": ""
            },
            "colorscale": [
             [
              0,
              "#0d0887"
             ],
             [
              0.1111111111111111,
              "#46039f"
             ],
             [
              0.2222222222222222,
              "#7201a8"
             ],
             [
              0.3333333333333333,
              "#9c179e"
             ],
             [
              0.4444444444444444,
              "#bd3786"
             ],
             [
              0.5555555555555556,
              "#d8576b"
             ],
             [
              0.6666666666666666,
              "#ed7953"
             ],
             [
              0.7777777777777778,
              "#fb9f3a"
             ],
             [
              0.8888888888888888,
              "#fdca26"
             ],
             [
              1,
              "#f0f921"
             ]
            ],
            "type": "histogram2d"
           }
          ],
          "histogram2dcontour": [
           {
            "colorbar": {
             "outlinewidth": 0,
             "ticks": ""
            },
            "colorscale": [
             [
              0,
              "#0d0887"
             ],
             [
              0.1111111111111111,
              "#46039f"
             ],
             [
              0.2222222222222222,
              "#7201a8"
             ],
             [
              0.3333333333333333,
              "#9c179e"
             ],
             [
              0.4444444444444444,
              "#bd3786"
             ],
             [
              0.5555555555555556,
              "#d8576b"
             ],
             [
              0.6666666666666666,
              "#ed7953"
             ],
             [
              0.7777777777777778,
              "#fb9f3a"
             ],
             [
              0.8888888888888888,
              "#fdca26"
             ],
             [
              1,
              "#f0f921"
             ]
            ],
            "type": "histogram2dcontour"
           }
          ],
          "mesh3d": [
           {
            "colorbar": {
             "outlinewidth": 0,
             "ticks": ""
            },
            "type": "mesh3d"
           }
          ],
          "parcoords": [
           {
            "line": {
             "colorbar": {
              "outlinewidth": 0,
              "ticks": ""
             }
            },
            "type": "parcoords"
           }
          ],
          "pie": [
           {
            "automargin": true,
            "type": "pie"
           }
          ],
          "scatter": [
           {
            "marker": {
             "colorbar": {
              "outlinewidth": 0,
              "ticks": ""
             }
            },
            "type": "scatter"
           }
          ],
          "scatter3d": [
           {
            "line": {
             "colorbar": {
              "outlinewidth": 0,
              "ticks": ""
             }
            },
            "marker": {
             "colorbar": {
              "outlinewidth": 0,
              "ticks": ""
             }
            },
            "type": "scatter3d"
           }
          ],
          "scattercarpet": [
           {
            "marker": {
             "colorbar": {
              "outlinewidth": 0,
              "ticks": ""
             }
            },
            "type": "scattercarpet"
           }
          ],
          "scattergeo": [
           {
            "marker": {
             "colorbar": {
              "outlinewidth": 0,
              "ticks": ""
             }
            },
            "type": "scattergeo"
           }
          ],
          "scattergl": [
           {
            "marker": {
             "colorbar": {
              "outlinewidth": 0,
              "ticks": ""
             }
            },
            "type": "scattergl"
           }
          ],
          "scattermapbox": [
           {
            "marker": {
             "colorbar": {
              "outlinewidth": 0,
              "ticks": ""
             }
            },
            "type": "scattermapbox"
           }
          ],
          "scatterpolar": [
           {
            "marker": {
             "colorbar": {
              "outlinewidth": 0,
              "ticks": ""
             }
            },
            "type": "scatterpolar"
           }
          ],
          "scatterpolargl": [
           {
            "marker": {
             "colorbar": {
              "outlinewidth": 0,
              "ticks": ""
             }
            },
            "type": "scatterpolargl"
           }
          ],
          "scatterternary": [
           {
            "marker": {
             "colorbar": {
              "outlinewidth": 0,
              "ticks": ""
             }
            },
            "type": "scatterternary"
           }
          ],
          "surface": [
           {
            "colorbar": {
             "outlinewidth": 0,
             "ticks": ""
            },
            "colorscale": [
             [
              0,
              "#0d0887"
             ],
             [
              0.1111111111111111,
              "#46039f"
             ],
             [
              0.2222222222222222,
              "#7201a8"
             ],
             [
              0.3333333333333333,
              "#9c179e"
             ],
             [
              0.4444444444444444,
              "#bd3786"
             ],
             [
              0.5555555555555556,
              "#d8576b"
             ],
             [
              0.6666666666666666,
              "#ed7953"
             ],
             [
              0.7777777777777778,
              "#fb9f3a"
             ],
             [
              0.8888888888888888,
              "#fdca26"
             ],
             [
              1,
              "#f0f921"
             ]
            ],
            "type": "surface"
           }
          ],
          "table": [
           {
            "cells": {
             "fill": {
              "color": "#EBF0F8"
             },
             "line": {
              "color": "white"
             }
            },
            "header": {
             "fill": {
              "color": "#C8D4E3"
             },
             "line": {
              "color": "white"
             }
            },
            "type": "table"
           }
          ]
         },
         "layout": {
          "annotationdefaults": {
           "arrowcolor": "#2a3f5f",
           "arrowhead": 0,
           "arrowwidth": 1
          },
          "autotypenumbers": "strict",
          "coloraxis": {
           "colorbar": {
            "outlinewidth": 0,
            "ticks": ""
           }
          },
          "colorscale": {
           "diverging": [
            [
             0,
             "#8e0152"
            ],
            [
             0.1,
             "#c51b7d"
            ],
            [
             0.2,
             "#de77ae"
            ],
            [
             0.3,
             "#f1b6da"
            ],
            [
             0.4,
             "#fde0ef"
            ],
            [
             0.5,
             "#f7f7f7"
            ],
            [
             0.6,
             "#e6f5d0"
            ],
            [
             0.7,
             "#b8e186"
            ],
            [
             0.8,
             "#7fbc41"
            ],
            [
             0.9,
             "#4d9221"
            ],
            [
             1,
             "#276419"
            ]
           ],
           "sequential": [
            [
             0,
             "#0d0887"
            ],
            [
             0.1111111111111111,
             "#46039f"
            ],
            [
             0.2222222222222222,
             "#7201a8"
            ],
            [
             0.3333333333333333,
             "#9c179e"
            ],
            [
             0.4444444444444444,
             "#bd3786"
            ],
            [
             0.5555555555555556,
             "#d8576b"
            ],
            [
             0.6666666666666666,
             "#ed7953"
            ],
            [
             0.7777777777777778,
             "#fb9f3a"
            ],
            [
             0.8888888888888888,
             "#fdca26"
            ],
            [
             1,
             "#f0f921"
            ]
           ],
           "sequentialminus": [
            [
             0,
             "#0d0887"
            ],
            [
             0.1111111111111111,
             "#46039f"
            ],
            [
             0.2222222222222222,
             "#7201a8"
            ],
            [
             0.3333333333333333,
             "#9c179e"
            ],
            [
             0.4444444444444444,
             "#bd3786"
            ],
            [
             0.5555555555555556,
             "#d8576b"
            ],
            [
             0.6666666666666666,
             "#ed7953"
            ],
            [
             0.7777777777777778,
             "#fb9f3a"
            ],
            [
             0.8888888888888888,
             "#fdca26"
            ],
            [
             1,
             "#f0f921"
            ]
           ]
          },
          "colorway": [
           "#636efa",
           "#EF553B",
           "#00cc96",
           "#ab63fa",
           "#FFA15A",
           "#19d3f3",
           "#FF6692",
           "#B6E880",
           "#FF97FF",
           "#FECB52"
          ],
          "font": {
           "color": "#2a3f5f"
          },
          "geo": {
           "bgcolor": "white",
           "lakecolor": "white",
           "landcolor": "#E5ECF6",
           "showlakes": true,
           "showland": true,
           "subunitcolor": "white"
          },
          "hoverlabel": {
           "align": "left"
          },
          "hovermode": "closest",
          "mapbox": {
           "style": "light"
          },
          "paper_bgcolor": "white",
          "plot_bgcolor": "#E5ECF6",
          "polar": {
           "angularaxis": {
            "gridcolor": "white",
            "linecolor": "white",
            "ticks": ""
           },
           "bgcolor": "#E5ECF6",
           "radialaxis": {
            "gridcolor": "white",
            "linecolor": "white",
            "ticks": ""
           }
          },
          "scene": {
           "xaxis": {
            "backgroundcolor": "#E5ECF6",
            "gridcolor": "white",
            "gridwidth": 2,
            "linecolor": "white",
            "showbackground": true,
            "ticks": "",
            "zerolinecolor": "white"
           },
           "yaxis": {
            "backgroundcolor": "#E5ECF6",
            "gridcolor": "white",
            "gridwidth": 2,
            "linecolor": "white",
            "showbackground": true,
            "ticks": "",
            "zerolinecolor": "white"
           },
           "zaxis": {
            "backgroundcolor": "#E5ECF6",
            "gridcolor": "white",
            "gridwidth": 2,
            "linecolor": "white",
            "showbackground": true,
            "ticks": "",
            "zerolinecolor": "white"
           }
          },
          "shapedefaults": {
           "line": {
            "color": "#2a3f5f"
           }
          },
          "ternary": {
           "aaxis": {
            "gridcolor": "white",
            "linecolor": "white",
            "ticks": ""
           },
           "baxis": {
            "gridcolor": "white",
            "linecolor": "white",
            "ticks": ""
           },
           "bgcolor": "#E5ECF6",
           "caxis": {
            "gridcolor": "white",
            "linecolor": "white",
            "ticks": ""
           }
          },
          "title": {
           "x": 0.05
          },
          "xaxis": {
           "automargin": true,
           "gridcolor": "white",
           "linecolor": "white",
           "ticks": "",
           "title": {
            "standoff": 15
           },
           "zerolinecolor": "white",
           "zerolinewidth": 2
          },
          "yaxis": {
           "automargin": true,
           "gridcolor": "white",
           "linecolor": "white",
           "ticks": "",
           "title": {
            "standoff": 15
           },
           "zerolinecolor": "white",
           "zerolinewidth": 2
          }
         }
        },
        "title": {
         "font": {
          "color": "#4D5663"
         }
        },
        "xaxis": {
         "gridcolor": "#E1E5ED",
         "showgrid": true,
         "tickfont": {
          "color": "#4D5663"
         },
         "title": {
          "font": {
           "color": "#4D5663"
          },
          "text": "x axis"
         },
         "zerolinecolor": "#E1E5ED"
        },
        "yaxis": {
         "gridcolor": "#E1E5ED",
         "showgrid": true,
         "tickfont": {
          "color": "#4D5663"
         },
         "title": {
          "font": {
           "color": "#4D5663"
          },
          "text": "y axis"
         },
         "zerolinecolor": "#E1E5ED"
        }
       }
      },
      "text/html": [
       "<div>                            <div id=\"fc9177ae-7baf-4f76-8aac-379d8d95db88\" class=\"plotly-graph-div\" style=\"height:525px; width:100%;\"></div>            <script type=\"text/javascript\">                require([\"plotly\"], function(Plotly) {                    window.PLOTLYENV=window.PLOTLYENV || {};\n",
       "                    window.PLOTLYENV.BASE_URL='https://plotly.your-company.com';                                    if (document.getElementById(\"fc9177ae-7baf-4f76-8aac-379d8d95db88\")) {                    Plotly.newPlot(                        \"fc9177ae-7baf-4f76-8aac-379d8d95db88\",                        [{\"line\":{\"color\":\"rgba(255, 153, 51, 1.0)\",\"dash\":\"solid\",\"shape\":\"linear\",\"width\":1.3},\"marker\":{\"size\":12,\"symbol\":\"circle\"},\"mode\":\"markers\",\"name\":\"A\",\"text\":\"\",\"type\":\"scatter\",\"x\":[0,1,2,3,4,5,6,7,8,9,10,11,12,13,14,15,16,17,18,19,20,21,22,23,24,25,26,27,28,29,30,31,32,33,34,35,36,37,38,39,40,41,42,43,44,45,46,47,48,49,50,51,52,53,54,55,56,57,58,59,60,61,62,63,64,65,66,67,68,69,70,71,72,73,74,75,76,77,78,79,80,81,82,83,84,85,86,87,88,89,90,91,92,93,94,95,96,97,98,99],\"y\":[1.144703284679413,0.42757544251469765,-0.35192442025518117,-0.8941248712697194,0.010303974172780074,-0.565517417458183,0.5088657738464007,0.05817294625164663,0.6542073163609262,-1.1993314958316266,-0.6247215643804995,0.4198017236491692,2.0864648126960583,-0.23275502753034852,1.7568790004811463,-0.2002669966191424,0.9468722181603442,0.03584985912287011,-1.1611393902899068,-0.3835302560260267,-0.03387760259934896,-0.17691702730983283,-0.9423751046587749,-0.5903284032180365,-1.184057761232769,-1.2395593664407396,-1.1900723352524316,1.4560567738411316,0.3724784144960803,0.03371313452194243,-0.007041029877909425,1.0974434231858146,-1.3546532445500257,0.5523265852380587,1.2047328083033968,-0.9153028282836938,-0.3498225280242223,-0.5178929498144236,1.391207805280191,1.4616745968491522,-0.9333334823828512,0.9736151073233872,1.2351196653049088,1.1473332449719225,0.6761991895480024,0.4393887280798155,0.8255665050400999,1.0192332570414717,-0.09046088051346117,0.38193894499336983,0.6333663718733085,-0.463035663236964,0.30830947250854623,-0.9177070328231333,-1.8061500720360941,-0.2694751709841663,-0.7334766932973601,-0.39888201007972846,0.48988119061081065,-1.0278740776630428,-0.11894912157657848,1.4953281139460974,-0.06383387970184953,-0.6553456536622485,0.9595292677446223,-0.9326962224343956,-0.4738121365441105,-0.44125881890067653,0.008292096245957448,-1.1679153860979714,0.6803556235755589,-0.7720348847308444,-0.6417326476638311,-0.46235077134270774,2.124578667936823,-0.8351232663180091,0.4681809902749921,0.9010464535373961,0.5724356495563795,0.6974230791635984,0.761647442081875,-0.3643463443833772,1.1277346750609916,-0.8744386932505009,0.7825988236805438,0.06193260745458717,0.15300197318351122,0.31278780819693397,0.8068486956356575,0.34208517545163536,-0.37980893415348355,-0.35703733329156384,-2.296887082357323,1.117716451871934,1.2937398447924362,-0.4469543775697318,0.4659672755386829,0.03520930116548328,1.6560257350640744,1.3436527678224581]},{\"line\":{\"color\":\"rgba(55, 128, 191, 1.0)\",\"dash\":\"solid\",\"shape\":\"linear\",\"width\":1.3},\"marker\":{\"size\":12,\"symbol\":\"circle\"},\"mode\":\"markers\",\"name\":\"B\",\"text\":\"\",\"type\":\"scatter\",\"x\":[0,1,2,3,4,5,6,7,8,9,10,11,12,13,14,15,16,17,18,19,20,21,22,23,24,25,26,27,28,29,30,31,32,33,34,35,36,37,38,39,40,41,42,43,44,45,46,47,48,49,50,51,52,53,54,55,56,57,58,59,60,61,62,63,64,65,66,67,68,69,70,71,72,73,74,75,76,77,78,79,80,81,82,83,84,85,86,87,88,89,90,91,92,93,94,95,96,97,98,99],\"y\":[0.9012456139675201,-0.9069148240969495,0.7188928475739158,-0.010712913427277598,2.2243722513193207,0.9991820696113353,-0.316682940704291,0.24532950020670366,1.978323822436745,0.03899691328373934,-0.3533309058120735,-0.768325763912453,-0.5576084166506344,-1.5902323438868622,-1.4088192624622207,-0.37184656854201614,-0.074739500053332,0.5618616868084693,1.7455672190235496,1.4256222638271683,2.236841707000655,-0.4145279084965887,0.3448799338177773,1.8162086109315068,-1.0279348028250406,1.9972828715097193,0.6992530201368505,-0.29973044068454013,-1.2373533700144632,-0.5188517316250908,0.36466302105160747,0.6503728593464441,-1.5448761739892864,0.047784649238583735,0.9696724091978512,0.6594292934784134,0.027816673884268412,0.571040246179327,0.7500331746988234,-1.1782359851821727,1.1510346888446892,-1.2523634174395701,0.41506747668721183,-1.276541604814342,0.9909927222875703,1.5376632106389738,0.5397459561642224,2.153816280874059,-0.23787529664798834,-0.14406551396680597,0.056586138136492124,0.3968409303483598,0.15217060070906469,-0.9273156054107566,1.2061918423210012,0.6708995418737386,0.7251618137992578,-0.05931769217145088,0.011988915955556631,0.8621061389865066,-0.40680967948368674,0.6205041523211877,-0.2390214726619803,0.41995622528662285,-1.0147434172456777,-0.6187258632181581,-0.7580015754063466,0.4606327309072387,2.012712664019078,-1.8316192385859789,-1.5749242827980148,-0.781836695437718,-0.693751106963471,0.7022017235351213,0.40404339176528,-1.0091660396008861,0.36133287387075724,0.1705441561033673,1.3200827463310363,-0.8908682804269574,-0.5352160351613332,-0.8662674832367702,-0.9569177739277203,-0.6754224490942432,-1.068087922275257,-0.05596901574492606,-1.5235720386663867,-0.2469294136871314,-1.6708058769881922,-0.1966512985828853,0.9368795602807177,1.8988911156872859,-0.66535758555716,2.3945601871507103,-0.6875043840220773,0.48384117605003163,0.4788690950080444,0.807014739900829,0.14424188822984477,0.0753053989540786]},{\"line\":{\"color\":\"rgba(50, 171, 96, 1.0)\",\"dash\":\"solid\",\"shape\":\"linear\",\"width\":1.3},\"marker\":{\"size\":12,\"symbol\":\"circle\"},\"mode\":\"markers\",\"name\":\"C\",\"text\":\"\",\"type\":\"scatter\",\"x\":[0,1,2,3,4,5,6,7,8,9,10,11,12,13,14,15,16,17,18,19,20,21,22,23,24,25,26,27,28,29,30,31,32,33,34,35,36,37,38,39,40,41,42,43,44,45,46,47,48,49,50,51,52,53,54,55,56,57,58,59,60,61,62,63,64,65,66,67,68,69,70,71,72,73,74,75,76,77,78,79,80,81,82,83,84,85,86,87,88,89,90,91,92,93,94,95,96,97,98,99],\"y\":[0.11816942918113256,0.741685723356593,0.4078955027801821,-1.2653794917055243,-1.0870814866217458,-1.3473940376988425,-1.7087352534613476,0.8917180241634067,0.34761253690260413,-1.7046578808428747,-1.9466072393282936,-1.374813128746834,-0.44848375130738516,-1.1658565025222343,-0.9782394613186325,-1.325776018339137,-0.8770462898729945,0.20707892621869003,0.32831459086672604,0.029051480761979543,1.661373439265312,0.6609239868417132,-0.7855790572347076,-1.056675513479043,-0.8743242422874468,-0.3428215522277884,0.9408027746318007,-0.6666658980376114,-0.44804813265868204,0.4909722276351332,-1.5243173307305933,-0.13504543423900814,-0.9110427954378634,0.4325079121175746,1.5586286273294845,0.9270567292274876,-0.27513716083497314,-0.33030509110138906,0.6893582093995015,-1.8332474240478402,0.11145386543098021,-0.9474034719340884,-0.8637930711282321,0.002936012817284153,-0.020238872364501972,0.9993845685775354,0.24921036999128424,-1.1836922225151159,-0.8510428835424434,0.016648418552180785,-0.22022369735709013,-1.9495072364560115,-0.1007429290242349,-0.13953536355921473,-0.5570189157848265,-1.838029202723041,0.10101954632723922,1.636087647746361,-0.06374202176010661,-0.5590212713336815,-0.1475191487376764,0.360475591224915,-0.48223803112680164,-0.28590987875302204,-1.1039919759741768,3.3602395080941303,-0.09148127122902347,0.798832234575934,-2.267817002790606,-0.527034513939202,-1.2513024362342513,1.370605037837346,0.03923763421260761,0.2509570759130447,-1.0417290088394782,0.5837375925606461,-0.6907376085807362,0.4702081502856197,-0.6100500124960715,2.4452413401690007,-1.3114850787576462,0.4604620654789494,2.569812693260461,-0.3425735268070394,-0.19187293981497872,0.9373847524102931,-1.5361480342525387,-0.3663842372841314,2.3196948896420193,-1.415530531431303,1.7791984954823528,0.24939810835424286,0.39948882388217594,-0.5686727325170238,0.5036454795534082,-1.1642292994056618,0.5391789491958506,0.26998561647907604,0.529854878100319,-1.3159741932311897]}],                        {\"legend\":{\"bgcolor\":\"#FFFFFF\",\"font\":{\"color\":\"#4D5663\"}},\"paper_bgcolor\":\"#FFFFFF\",\"plot_bgcolor\":\"#FFFFFF\",\"template\":{\"data\":{\"bar\":[{\"error_x\":{\"color\":\"#2a3f5f\"},\"error_y\":{\"color\":\"#2a3f5f\"},\"marker\":{\"line\":{\"color\":\"#E5ECF6\",\"width\":0.5},\"pattern\":{\"fillmode\":\"overlay\",\"size\":10,\"solidity\":0.2}},\"type\":\"bar\"}],\"barpolar\":[{\"marker\":{\"line\":{\"color\":\"#E5ECF6\",\"width\":0.5},\"pattern\":{\"fillmode\":\"overlay\",\"size\":10,\"solidity\":0.2}},\"type\":\"barpolar\"}],\"carpet\":[{\"aaxis\":{\"endlinecolor\":\"#2a3f5f\",\"gridcolor\":\"white\",\"linecolor\":\"white\",\"minorgridcolor\":\"white\",\"startlinecolor\":\"#2a3f5f\"},\"baxis\":{\"endlinecolor\":\"#2a3f5f\",\"gridcolor\":\"white\",\"linecolor\":\"white\",\"minorgridcolor\":\"white\",\"startlinecolor\":\"#2a3f5f\"},\"type\":\"carpet\"}],\"choropleth\":[{\"colorbar\":{\"outlinewidth\":0,\"ticks\":\"\"},\"type\":\"choropleth\"}],\"contour\":[{\"colorbar\":{\"outlinewidth\":0,\"ticks\":\"\"},\"colorscale\":[[0.0,\"#0d0887\"],[0.1111111111111111,\"#46039f\"],[0.2222222222222222,\"#7201a8\"],[0.3333333333333333,\"#9c179e\"],[0.4444444444444444,\"#bd3786\"],[0.5555555555555556,\"#d8576b\"],[0.6666666666666666,\"#ed7953\"],[0.7777777777777778,\"#fb9f3a\"],[0.8888888888888888,\"#fdca26\"],[1.0,\"#f0f921\"]],\"type\":\"contour\"}],\"contourcarpet\":[{\"colorbar\":{\"outlinewidth\":0,\"ticks\":\"\"},\"type\":\"contourcarpet\"}],\"heatmap\":[{\"colorbar\":{\"outlinewidth\":0,\"ticks\":\"\"},\"colorscale\":[[0.0,\"#0d0887\"],[0.1111111111111111,\"#46039f\"],[0.2222222222222222,\"#7201a8\"],[0.3333333333333333,\"#9c179e\"],[0.4444444444444444,\"#bd3786\"],[0.5555555555555556,\"#d8576b\"],[0.6666666666666666,\"#ed7953\"],[0.7777777777777778,\"#fb9f3a\"],[0.8888888888888888,\"#fdca26\"],[1.0,\"#f0f921\"]],\"type\":\"heatmap\"}],\"heatmapgl\":[{\"colorbar\":{\"outlinewidth\":0,\"ticks\":\"\"},\"colorscale\":[[0.0,\"#0d0887\"],[0.1111111111111111,\"#46039f\"],[0.2222222222222222,\"#7201a8\"],[0.3333333333333333,\"#9c179e\"],[0.4444444444444444,\"#bd3786\"],[0.5555555555555556,\"#d8576b\"],[0.6666666666666666,\"#ed7953\"],[0.7777777777777778,\"#fb9f3a\"],[0.8888888888888888,\"#fdca26\"],[1.0,\"#f0f921\"]],\"type\":\"heatmapgl\"}],\"histogram\":[{\"marker\":{\"pattern\":{\"fillmode\":\"overlay\",\"size\":10,\"solidity\":0.2}},\"type\":\"histogram\"}],\"histogram2d\":[{\"colorbar\":{\"outlinewidth\":0,\"ticks\":\"\"},\"colorscale\":[[0.0,\"#0d0887\"],[0.1111111111111111,\"#46039f\"],[0.2222222222222222,\"#7201a8\"],[0.3333333333333333,\"#9c179e\"],[0.4444444444444444,\"#bd3786\"],[0.5555555555555556,\"#d8576b\"],[0.6666666666666666,\"#ed7953\"],[0.7777777777777778,\"#fb9f3a\"],[0.8888888888888888,\"#fdca26\"],[1.0,\"#f0f921\"]],\"type\":\"histogram2d\"}],\"histogram2dcontour\":[{\"colorbar\":{\"outlinewidth\":0,\"ticks\":\"\"},\"colorscale\":[[0.0,\"#0d0887\"],[0.1111111111111111,\"#46039f\"],[0.2222222222222222,\"#7201a8\"],[0.3333333333333333,\"#9c179e\"],[0.4444444444444444,\"#bd3786\"],[0.5555555555555556,\"#d8576b\"],[0.6666666666666666,\"#ed7953\"],[0.7777777777777778,\"#fb9f3a\"],[0.8888888888888888,\"#fdca26\"],[1.0,\"#f0f921\"]],\"type\":\"histogram2dcontour\"}],\"mesh3d\":[{\"colorbar\":{\"outlinewidth\":0,\"ticks\":\"\"},\"type\":\"mesh3d\"}],\"parcoords\":[{\"line\":{\"colorbar\":{\"outlinewidth\":0,\"ticks\":\"\"}},\"type\":\"parcoords\"}],\"pie\":[{\"automargin\":true,\"type\":\"pie\"}],\"scatter\":[{\"marker\":{\"colorbar\":{\"outlinewidth\":0,\"ticks\":\"\"}},\"type\":\"scatter\"}],\"scatter3d\":[{\"line\":{\"colorbar\":{\"outlinewidth\":0,\"ticks\":\"\"}},\"marker\":{\"colorbar\":{\"outlinewidth\":0,\"ticks\":\"\"}},\"type\":\"scatter3d\"}],\"scattercarpet\":[{\"marker\":{\"colorbar\":{\"outlinewidth\":0,\"ticks\":\"\"}},\"type\":\"scattercarpet\"}],\"scattergeo\":[{\"marker\":{\"colorbar\":{\"outlinewidth\":0,\"ticks\":\"\"}},\"type\":\"scattergeo\"}],\"scattergl\":[{\"marker\":{\"colorbar\":{\"outlinewidth\":0,\"ticks\":\"\"}},\"type\":\"scattergl\"}],\"scattermapbox\":[{\"marker\":{\"colorbar\":{\"outlinewidth\":0,\"ticks\":\"\"}},\"type\":\"scattermapbox\"}],\"scatterpolar\":[{\"marker\":{\"colorbar\":{\"outlinewidth\":0,\"ticks\":\"\"}},\"type\":\"scatterpolar\"}],\"scatterpolargl\":[{\"marker\":{\"colorbar\":{\"outlinewidth\":0,\"ticks\":\"\"}},\"type\":\"scatterpolargl\"}],\"scatterternary\":[{\"marker\":{\"colorbar\":{\"outlinewidth\":0,\"ticks\":\"\"}},\"type\":\"scatterternary\"}],\"surface\":[{\"colorbar\":{\"outlinewidth\":0,\"ticks\":\"\"},\"colorscale\":[[0.0,\"#0d0887\"],[0.1111111111111111,\"#46039f\"],[0.2222222222222222,\"#7201a8\"],[0.3333333333333333,\"#9c179e\"],[0.4444444444444444,\"#bd3786\"],[0.5555555555555556,\"#d8576b\"],[0.6666666666666666,\"#ed7953\"],[0.7777777777777778,\"#fb9f3a\"],[0.8888888888888888,\"#fdca26\"],[1.0,\"#f0f921\"]],\"type\":\"surface\"}],\"table\":[{\"cells\":{\"fill\":{\"color\":\"#EBF0F8\"},\"line\":{\"color\":\"white\"}},\"header\":{\"fill\":{\"color\":\"#C8D4E3\"},\"line\":{\"color\":\"white\"}},\"type\":\"table\"}]},\"layout\":{\"annotationdefaults\":{\"arrowcolor\":\"#2a3f5f\",\"arrowhead\":0,\"arrowwidth\":1},\"autotypenumbers\":\"strict\",\"coloraxis\":{\"colorbar\":{\"outlinewidth\":0,\"ticks\":\"\"}},\"colorscale\":{\"diverging\":[[0,\"#8e0152\"],[0.1,\"#c51b7d\"],[0.2,\"#de77ae\"],[0.3,\"#f1b6da\"],[0.4,\"#fde0ef\"],[0.5,\"#f7f7f7\"],[0.6,\"#e6f5d0\"],[0.7,\"#b8e186\"],[0.8,\"#7fbc41\"],[0.9,\"#4d9221\"],[1,\"#276419\"]],\"sequential\":[[0.0,\"#0d0887\"],[0.1111111111111111,\"#46039f\"],[0.2222222222222222,\"#7201a8\"],[0.3333333333333333,\"#9c179e\"],[0.4444444444444444,\"#bd3786\"],[0.5555555555555556,\"#d8576b\"],[0.6666666666666666,\"#ed7953\"],[0.7777777777777778,\"#fb9f3a\"],[0.8888888888888888,\"#fdca26\"],[1.0,\"#f0f921\"]],\"sequentialminus\":[[0.0,\"#0d0887\"],[0.1111111111111111,\"#46039f\"],[0.2222222222222222,\"#7201a8\"],[0.3333333333333333,\"#9c179e\"],[0.4444444444444444,\"#bd3786\"],[0.5555555555555556,\"#d8576b\"],[0.6666666666666666,\"#ed7953\"],[0.7777777777777778,\"#fb9f3a\"],[0.8888888888888888,\"#fdca26\"],[1.0,\"#f0f921\"]]},\"colorway\":[\"#636efa\",\"#EF553B\",\"#00cc96\",\"#ab63fa\",\"#FFA15A\",\"#19d3f3\",\"#FF6692\",\"#B6E880\",\"#FF97FF\",\"#FECB52\"],\"font\":{\"color\":\"#2a3f5f\"},\"geo\":{\"bgcolor\":\"white\",\"lakecolor\":\"white\",\"landcolor\":\"#E5ECF6\",\"showlakes\":true,\"showland\":true,\"subunitcolor\":\"white\"},\"hoverlabel\":{\"align\":\"left\"},\"hovermode\":\"closest\",\"mapbox\":{\"style\":\"light\"},\"paper_bgcolor\":\"white\",\"plot_bgcolor\":\"#E5ECF6\",\"polar\":{\"angularaxis\":{\"gridcolor\":\"white\",\"linecolor\":\"white\",\"ticks\":\"\"},\"bgcolor\":\"#E5ECF6\",\"radialaxis\":{\"gridcolor\":\"white\",\"linecolor\":\"white\",\"ticks\":\"\"}},\"scene\":{\"xaxis\":{\"backgroundcolor\":\"#E5ECF6\",\"gridcolor\":\"white\",\"gridwidth\":2,\"linecolor\":\"white\",\"showbackground\":true,\"ticks\":\"\",\"zerolinecolor\":\"white\"},\"yaxis\":{\"backgroundcolor\":\"#E5ECF6\",\"gridcolor\":\"white\",\"gridwidth\":2,\"linecolor\":\"white\",\"showbackground\":true,\"ticks\":\"\",\"zerolinecolor\":\"white\"},\"zaxis\":{\"backgroundcolor\":\"#E5ECF6\",\"gridcolor\":\"white\",\"gridwidth\":2,\"linecolor\":\"white\",\"showbackground\":true,\"ticks\":\"\",\"zerolinecolor\":\"white\"}},\"shapedefaults\":{\"line\":{\"color\":\"#2a3f5f\"}},\"ternary\":{\"aaxis\":{\"gridcolor\":\"white\",\"linecolor\":\"white\",\"ticks\":\"\"},\"baxis\":{\"gridcolor\":\"white\",\"linecolor\":\"white\",\"ticks\":\"\"},\"bgcolor\":\"#E5ECF6\",\"caxis\":{\"gridcolor\":\"white\",\"linecolor\":\"white\",\"ticks\":\"\"}},\"title\":{\"x\":0.05},\"xaxis\":{\"automargin\":true,\"gridcolor\":\"white\",\"linecolor\":\"white\",\"ticks\":\"\",\"title\":{\"standoff\":15},\"zerolinecolor\":\"white\",\"zerolinewidth\":2},\"yaxis\":{\"automargin\":true,\"gridcolor\":\"white\",\"linecolor\":\"white\",\"ticks\":\"\",\"title\":{\"standoff\":15},\"zerolinecolor\":\"white\",\"zerolinewidth\":2}}},\"title\":{\"font\":{\"color\":\"#4D5663\"}},\"xaxis\":{\"gridcolor\":\"#E1E5ED\",\"showgrid\":true,\"tickfont\":{\"color\":\"#4D5663\"},\"title\":{\"font\":{\"color\":\"#4D5663\"},\"text\":\"x axis\"},\"zerolinecolor\":\"#E1E5ED\"},\"yaxis\":{\"gridcolor\":\"#E1E5ED\",\"showgrid\":true,\"tickfont\":{\"color\":\"#4D5663\"},\"title\":{\"font\":{\"color\":\"#4D5663\"},\"text\":\"y axis\"},\"zerolinecolor\":\"#E1E5ED\"}},                        {\"showLink\": true, \"linkText\": \"Export to plotly.your-company.com\", \"plotlyServerURL\": \"https://plotly.your-company.com\", \"responsive\": true}                    ).then(function(){\n",
       "                            \n",
       "var gd = document.getElementById('fc9177ae-7baf-4f76-8aac-379d8d95db88');\n",
       "var x = new MutationObserver(function (mutations, observer) {{\n",
       "        var display = window.getComputedStyle(gd).display;\n",
       "        if (!display || display === 'none') {{\n",
       "            console.log([gd, 'removed!']);\n",
       "            Plotly.purge(gd);\n",
       "            observer.disconnect();\n",
       "        }}\n",
       "}});\n",
       "\n",
       "// Listen for the removal of the full notebook cells\n",
       "var notebookContainer = gd.closest('#notebook-container');\n",
       "if (notebookContainer) {{\n",
       "    x.observe(notebookContainer, {childList: true});\n",
       "}}\n",
       "\n",
       "// Listen for the clearing of the current output cell\n",
       "var outputEl = gd.closest('.output');\n",
       "if (outputEl) {{\n",
       "    x.observe(outputEl, {childList: true});\n",
       "}}\n",
       "\n",
       "                        })                };                });            </script>        </div>"
      ]
     },
     "metadata": {},
     "output_type": "display_data"
    }
   ],
   "source": [
    "df.iplot(mode='markers',xTitle='x axis',yTitle='y axis')"
   ]
  },
  {
   "cell_type": "code",
   "execution_count": 11,
   "metadata": {},
   "outputs": [
    {
     "data": {
      "application/vnd.plotly.v1+json": {
       "config": {
        "linkText": "Export to plotly.your-company.com",
        "plotlyServerURL": "https://plotly.your-company.com",
        "showLink": true
       },
       "data": [
        {
         "marker": {
          "color": "rgba(255, 153, 51, 0.6)",
          "line": {
           "color": "rgba(255, 153, 51, 1.0)",
           "width": 1
          }
         },
         "name": "A",
         "orientation": "v",
         "text": "",
         "type": "bar",
         "x": [
          0,
          1,
          2,
          3,
          4,
          5,
          6,
          7,
          8,
          9,
          10,
          11,
          12,
          13,
          14,
          15,
          16,
          17,
          18,
          19,
          20,
          21,
          22,
          23,
          24,
          25,
          26,
          27,
          28,
          29,
          30,
          31,
          32,
          33,
          34,
          35,
          36,
          37,
          38,
          39,
          40,
          41,
          42,
          43,
          44,
          45,
          46,
          47,
          48,
          49,
          50,
          51,
          52,
          53,
          54,
          55,
          56,
          57,
          58,
          59,
          60,
          61,
          62,
          63,
          64,
          65,
          66,
          67,
          68,
          69,
          70,
          71,
          72,
          73,
          74,
          75,
          76,
          77,
          78,
          79,
          80,
          81,
          82,
          83,
          84,
          85,
          86,
          87,
          88,
          89,
          90,
          91,
          92,
          93,
          94,
          95,
          96,
          97,
          98,
          99
         ],
         "y": [
          1.144703284679413,
          0.42757544251469765,
          -0.35192442025518117,
          -0.8941248712697194,
          0.010303974172780074,
          -0.565517417458183,
          0.5088657738464007,
          0.05817294625164663,
          0.6542073163609262,
          -1.1993314958316266,
          -0.6247215643804995,
          0.4198017236491692,
          2.0864648126960583,
          -0.23275502753034852,
          1.7568790004811463,
          -0.2002669966191424,
          0.9468722181603442,
          0.03584985912287011,
          -1.1611393902899068,
          -0.3835302560260267,
          -0.03387760259934896,
          -0.17691702730983283,
          -0.9423751046587749,
          -0.5903284032180365,
          -1.184057761232769,
          -1.2395593664407396,
          -1.1900723352524316,
          1.4560567738411316,
          0.3724784144960803,
          0.03371313452194243,
          -0.007041029877909425,
          1.0974434231858146,
          -1.3546532445500257,
          0.5523265852380587,
          1.2047328083033968,
          -0.9153028282836938,
          -0.3498225280242223,
          -0.5178929498144236,
          1.391207805280191,
          1.4616745968491522,
          -0.9333334823828512,
          0.9736151073233872,
          1.2351196653049088,
          1.1473332449719225,
          0.6761991895480024,
          0.4393887280798155,
          0.8255665050400999,
          1.0192332570414717,
          -0.09046088051346117,
          0.38193894499336983,
          0.6333663718733085,
          -0.463035663236964,
          0.30830947250854623,
          -0.9177070328231333,
          -1.8061500720360941,
          -0.2694751709841663,
          -0.7334766932973601,
          -0.39888201007972846,
          0.48988119061081065,
          -1.0278740776630428,
          -0.11894912157657848,
          1.4953281139460974,
          -0.06383387970184953,
          -0.6553456536622485,
          0.9595292677446223,
          -0.9326962224343956,
          -0.4738121365441105,
          -0.44125881890067653,
          0.008292096245957448,
          -1.1679153860979714,
          0.6803556235755589,
          -0.7720348847308444,
          -0.6417326476638311,
          -0.46235077134270774,
          2.124578667936823,
          -0.8351232663180091,
          0.4681809902749921,
          0.9010464535373961,
          0.5724356495563795,
          0.6974230791635984,
          0.761647442081875,
          -0.3643463443833772,
          1.1277346750609916,
          -0.8744386932505009,
          0.7825988236805438,
          0.06193260745458717,
          0.15300197318351122,
          0.31278780819693397,
          0.8068486956356575,
          0.34208517545163536,
          -0.37980893415348355,
          -0.35703733329156384,
          -2.296887082357323,
          1.117716451871934,
          1.2937398447924362,
          -0.4469543775697318,
          0.4659672755386829,
          0.03520930116548328,
          1.6560257350640744,
          1.3436527678224581
         ]
        },
        {
         "marker": {
          "color": "rgba(55, 128, 191, 0.6)",
          "line": {
           "color": "rgba(55, 128, 191, 1.0)",
           "width": 1
          }
         },
         "name": "B",
         "orientation": "v",
         "text": "",
         "type": "bar",
         "x": [
          0,
          1,
          2,
          3,
          4,
          5,
          6,
          7,
          8,
          9,
          10,
          11,
          12,
          13,
          14,
          15,
          16,
          17,
          18,
          19,
          20,
          21,
          22,
          23,
          24,
          25,
          26,
          27,
          28,
          29,
          30,
          31,
          32,
          33,
          34,
          35,
          36,
          37,
          38,
          39,
          40,
          41,
          42,
          43,
          44,
          45,
          46,
          47,
          48,
          49,
          50,
          51,
          52,
          53,
          54,
          55,
          56,
          57,
          58,
          59,
          60,
          61,
          62,
          63,
          64,
          65,
          66,
          67,
          68,
          69,
          70,
          71,
          72,
          73,
          74,
          75,
          76,
          77,
          78,
          79,
          80,
          81,
          82,
          83,
          84,
          85,
          86,
          87,
          88,
          89,
          90,
          91,
          92,
          93,
          94,
          95,
          96,
          97,
          98,
          99
         ],
         "y": [
          0.9012456139675201,
          -0.9069148240969495,
          0.7188928475739158,
          -0.010712913427277598,
          2.2243722513193207,
          0.9991820696113353,
          -0.316682940704291,
          0.24532950020670366,
          1.978323822436745,
          0.03899691328373934,
          -0.3533309058120735,
          -0.768325763912453,
          -0.5576084166506344,
          -1.5902323438868622,
          -1.4088192624622207,
          -0.37184656854201614,
          -0.074739500053332,
          0.5618616868084693,
          1.7455672190235496,
          1.4256222638271683,
          2.236841707000655,
          -0.4145279084965887,
          0.3448799338177773,
          1.8162086109315068,
          -1.0279348028250406,
          1.9972828715097193,
          0.6992530201368505,
          -0.29973044068454013,
          -1.2373533700144632,
          -0.5188517316250908,
          0.36466302105160747,
          0.6503728593464441,
          -1.5448761739892864,
          0.047784649238583735,
          0.9696724091978512,
          0.6594292934784134,
          0.027816673884268412,
          0.571040246179327,
          0.7500331746988234,
          -1.1782359851821727,
          1.1510346888446892,
          -1.2523634174395701,
          0.41506747668721183,
          -1.276541604814342,
          0.9909927222875703,
          1.5376632106389738,
          0.5397459561642224,
          2.153816280874059,
          -0.23787529664798834,
          -0.14406551396680597,
          0.056586138136492124,
          0.3968409303483598,
          0.15217060070906469,
          -0.9273156054107566,
          1.2061918423210012,
          0.6708995418737386,
          0.7251618137992578,
          -0.05931769217145088,
          0.011988915955556631,
          0.8621061389865066,
          -0.40680967948368674,
          0.6205041523211877,
          -0.2390214726619803,
          0.41995622528662285,
          -1.0147434172456777,
          -0.6187258632181581,
          -0.7580015754063466,
          0.4606327309072387,
          2.012712664019078,
          -1.8316192385859789,
          -1.5749242827980148,
          -0.781836695437718,
          -0.693751106963471,
          0.7022017235351213,
          0.40404339176528,
          -1.0091660396008861,
          0.36133287387075724,
          0.1705441561033673,
          1.3200827463310363,
          -0.8908682804269574,
          -0.5352160351613332,
          -0.8662674832367702,
          -0.9569177739277203,
          -0.6754224490942432,
          -1.068087922275257,
          -0.05596901574492606,
          -1.5235720386663867,
          -0.2469294136871314,
          -1.6708058769881922,
          -0.1966512985828853,
          0.9368795602807177,
          1.8988911156872859,
          -0.66535758555716,
          2.3945601871507103,
          -0.6875043840220773,
          0.48384117605003163,
          0.4788690950080444,
          0.807014739900829,
          0.14424188822984477,
          0.0753053989540786
         ]
        },
        {
         "marker": {
          "color": "rgba(50, 171, 96, 0.6)",
          "line": {
           "color": "rgba(50, 171, 96, 1.0)",
           "width": 1
          }
         },
         "name": "C",
         "orientation": "v",
         "text": "",
         "type": "bar",
         "x": [
          0,
          1,
          2,
          3,
          4,
          5,
          6,
          7,
          8,
          9,
          10,
          11,
          12,
          13,
          14,
          15,
          16,
          17,
          18,
          19,
          20,
          21,
          22,
          23,
          24,
          25,
          26,
          27,
          28,
          29,
          30,
          31,
          32,
          33,
          34,
          35,
          36,
          37,
          38,
          39,
          40,
          41,
          42,
          43,
          44,
          45,
          46,
          47,
          48,
          49,
          50,
          51,
          52,
          53,
          54,
          55,
          56,
          57,
          58,
          59,
          60,
          61,
          62,
          63,
          64,
          65,
          66,
          67,
          68,
          69,
          70,
          71,
          72,
          73,
          74,
          75,
          76,
          77,
          78,
          79,
          80,
          81,
          82,
          83,
          84,
          85,
          86,
          87,
          88,
          89,
          90,
          91,
          92,
          93,
          94,
          95,
          96,
          97,
          98,
          99
         ],
         "y": [
          0.11816942918113256,
          0.741685723356593,
          0.4078955027801821,
          -1.2653794917055243,
          -1.0870814866217458,
          -1.3473940376988425,
          -1.7087352534613476,
          0.8917180241634067,
          0.34761253690260413,
          -1.7046578808428747,
          -1.9466072393282936,
          -1.374813128746834,
          -0.44848375130738516,
          -1.1658565025222343,
          -0.9782394613186325,
          -1.325776018339137,
          -0.8770462898729945,
          0.20707892621869003,
          0.32831459086672604,
          0.029051480761979543,
          1.661373439265312,
          0.6609239868417132,
          -0.7855790572347076,
          -1.056675513479043,
          -0.8743242422874468,
          -0.3428215522277884,
          0.9408027746318007,
          -0.6666658980376114,
          -0.44804813265868204,
          0.4909722276351332,
          -1.5243173307305933,
          -0.13504543423900814,
          -0.9110427954378634,
          0.4325079121175746,
          1.5586286273294845,
          0.9270567292274876,
          -0.27513716083497314,
          -0.33030509110138906,
          0.6893582093995015,
          -1.8332474240478402,
          0.11145386543098021,
          -0.9474034719340884,
          -0.8637930711282321,
          0.002936012817284153,
          -0.020238872364501972,
          0.9993845685775354,
          0.24921036999128424,
          -1.1836922225151159,
          -0.8510428835424434,
          0.016648418552180785,
          -0.22022369735709013,
          -1.9495072364560115,
          -0.1007429290242349,
          -0.13953536355921473,
          -0.5570189157848265,
          -1.838029202723041,
          0.10101954632723922,
          1.636087647746361,
          -0.06374202176010661,
          -0.5590212713336815,
          -0.1475191487376764,
          0.360475591224915,
          -0.48223803112680164,
          -0.28590987875302204,
          -1.1039919759741768,
          3.3602395080941303,
          -0.09148127122902347,
          0.798832234575934,
          -2.267817002790606,
          -0.527034513939202,
          -1.2513024362342513,
          1.370605037837346,
          0.03923763421260761,
          0.2509570759130447,
          -1.0417290088394782,
          0.5837375925606461,
          -0.6907376085807362,
          0.4702081502856197,
          -0.6100500124960715,
          2.4452413401690007,
          -1.3114850787576462,
          0.4604620654789494,
          2.569812693260461,
          -0.3425735268070394,
          -0.19187293981497872,
          0.9373847524102931,
          -1.5361480342525387,
          -0.3663842372841314,
          2.3196948896420193,
          -1.415530531431303,
          1.7791984954823528,
          0.24939810835424286,
          0.39948882388217594,
          -0.5686727325170238,
          0.5036454795534082,
          -1.1642292994056618,
          0.5391789491958506,
          0.26998561647907604,
          0.529854878100319,
          -1.3159741932311897
         ]
        }
       ],
       "layout": {
        "bargap": 0.5,
        "barmode": "stack",
        "legend": {
         "bgcolor": "#151516",
         "font": {
          "color": "#D9D9D9"
         },
         "traceorder": "normal"
        },
        "paper_bgcolor": "#151516",
        "plot_bgcolor": "#151516",
        "template": {
         "data": {
          "bar": [
           {
            "error_x": {
             "color": "#2a3f5f"
            },
            "error_y": {
             "color": "#2a3f5f"
            },
            "marker": {
             "line": {
              "color": "#E5ECF6",
              "width": 0.5
             },
             "pattern": {
              "fillmode": "overlay",
              "size": 10,
              "solidity": 0.2
             }
            },
            "type": "bar"
           }
          ],
          "barpolar": [
           {
            "marker": {
             "line": {
              "color": "#E5ECF6",
              "width": 0.5
             },
             "pattern": {
              "fillmode": "overlay",
              "size": 10,
              "solidity": 0.2
             }
            },
            "type": "barpolar"
           }
          ],
          "carpet": [
           {
            "aaxis": {
             "endlinecolor": "#2a3f5f",
             "gridcolor": "white",
             "linecolor": "white",
             "minorgridcolor": "white",
             "startlinecolor": "#2a3f5f"
            },
            "baxis": {
             "endlinecolor": "#2a3f5f",
             "gridcolor": "white",
             "linecolor": "white",
             "minorgridcolor": "white",
             "startlinecolor": "#2a3f5f"
            },
            "type": "carpet"
           }
          ],
          "choropleth": [
           {
            "colorbar": {
             "outlinewidth": 0,
             "ticks": ""
            },
            "type": "choropleth"
           }
          ],
          "contour": [
           {
            "colorbar": {
             "outlinewidth": 0,
             "ticks": ""
            },
            "colorscale": [
             [
              0,
              "#0d0887"
             ],
             [
              0.1111111111111111,
              "#46039f"
             ],
             [
              0.2222222222222222,
              "#7201a8"
             ],
             [
              0.3333333333333333,
              "#9c179e"
             ],
             [
              0.4444444444444444,
              "#bd3786"
             ],
             [
              0.5555555555555556,
              "#d8576b"
             ],
             [
              0.6666666666666666,
              "#ed7953"
             ],
             [
              0.7777777777777778,
              "#fb9f3a"
             ],
             [
              0.8888888888888888,
              "#fdca26"
             ],
             [
              1,
              "#f0f921"
             ]
            ],
            "type": "contour"
           }
          ],
          "contourcarpet": [
           {
            "colorbar": {
             "outlinewidth": 0,
             "ticks": ""
            },
            "type": "contourcarpet"
           }
          ],
          "heatmap": [
           {
            "colorbar": {
             "outlinewidth": 0,
             "ticks": ""
            },
            "colorscale": [
             [
              0,
              "#0d0887"
             ],
             [
              0.1111111111111111,
              "#46039f"
             ],
             [
              0.2222222222222222,
              "#7201a8"
             ],
             [
              0.3333333333333333,
              "#9c179e"
             ],
             [
              0.4444444444444444,
              "#bd3786"
             ],
             [
              0.5555555555555556,
              "#d8576b"
             ],
             [
              0.6666666666666666,
              "#ed7953"
             ],
             [
              0.7777777777777778,
              "#fb9f3a"
             ],
             [
              0.8888888888888888,
              "#fdca26"
             ],
             [
              1,
              "#f0f921"
             ]
            ],
            "type": "heatmap"
           }
          ],
          "heatmapgl": [
           {
            "colorbar": {
             "outlinewidth": 0,
             "ticks": ""
            },
            "colorscale": [
             [
              0,
              "#0d0887"
             ],
             [
              0.1111111111111111,
              "#46039f"
             ],
             [
              0.2222222222222222,
              "#7201a8"
             ],
             [
              0.3333333333333333,
              "#9c179e"
             ],
             [
              0.4444444444444444,
              "#bd3786"
             ],
             [
              0.5555555555555556,
              "#d8576b"
             ],
             [
              0.6666666666666666,
              "#ed7953"
             ],
             [
              0.7777777777777778,
              "#fb9f3a"
             ],
             [
              0.8888888888888888,
              "#fdca26"
             ],
             [
              1,
              "#f0f921"
             ]
            ],
            "type": "heatmapgl"
           }
          ],
          "histogram": [
           {
            "marker": {
             "pattern": {
              "fillmode": "overlay",
              "size": 10,
              "solidity": 0.2
             }
            },
            "type": "histogram"
           }
          ],
          "histogram2d": [
           {
            "colorbar": {
             "outlinewidth": 0,
             "ticks": ""
            },
            "colorscale": [
             [
              0,
              "#0d0887"
             ],
             [
              0.1111111111111111,
              "#46039f"
             ],
             [
              0.2222222222222222,
              "#7201a8"
             ],
             [
              0.3333333333333333,
              "#9c179e"
             ],
             [
              0.4444444444444444,
              "#bd3786"
             ],
             [
              0.5555555555555556,
              "#d8576b"
             ],
             [
              0.6666666666666666,
              "#ed7953"
             ],
             [
              0.7777777777777778,
              "#fb9f3a"
             ],
             [
              0.8888888888888888,
              "#fdca26"
             ],
             [
              1,
              "#f0f921"
             ]
            ],
            "type": "histogram2d"
           }
          ],
          "histogram2dcontour": [
           {
            "colorbar": {
             "outlinewidth": 0,
             "ticks": ""
            },
            "colorscale": [
             [
              0,
              "#0d0887"
             ],
             [
              0.1111111111111111,
              "#46039f"
             ],
             [
              0.2222222222222222,
              "#7201a8"
             ],
             [
              0.3333333333333333,
              "#9c179e"
             ],
             [
              0.4444444444444444,
              "#bd3786"
             ],
             [
              0.5555555555555556,
              "#d8576b"
             ],
             [
              0.6666666666666666,
              "#ed7953"
             ],
             [
              0.7777777777777778,
              "#fb9f3a"
             ],
             [
              0.8888888888888888,
              "#fdca26"
             ],
             [
              1,
              "#f0f921"
             ]
            ],
            "type": "histogram2dcontour"
           }
          ],
          "mesh3d": [
           {
            "colorbar": {
             "outlinewidth": 0,
             "ticks": ""
            },
            "type": "mesh3d"
           }
          ],
          "parcoords": [
           {
            "line": {
             "colorbar": {
              "outlinewidth": 0,
              "ticks": ""
             }
            },
            "type": "parcoords"
           }
          ],
          "pie": [
           {
            "automargin": true,
            "type": "pie"
           }
          ],
          "scatter": [
           {
            "marker": {
             "colorbar": {
              "outlinewidth": 0,
              "ticks": ""
             }
            },
            "type": "scatter"
           }
          ],
          "scatter3d": [
           {
            "line": {
             "colorbar": {
              "outlinewidth": 0,
              "ticks": ""
             }
            },
            "marker": {
             "colorbar": {
              "outlinewidth": 0,
              "ticks": ""
             }
            },
            "type": "scatter3d"
           }
          ],
          "scattercarpet": [
           {
            "marker": {
             "colorbar": {
              "outlinewidth": 0,
              "ticks": ""
             }
            },
            "type": "scattercarpet"
           }
          ],
          "scattergeo": [
           {
            "marker": {
             "colorbar": {
              "outlinewidth": 0,
              "ticks": ""
             }
            },
            "type": "scattergeo"
           }
          ],
          "scattergl": [
           {
            "marker": {
             "colorbar": {
              "outlinewidth": 0,
              "ticks": ""
             }
            },
            "type": "scattergl"
           }
          ],
          "scattermapbox": [
           {
            "marker": {
             "colorbar": {
              "outlinewidth": 0,
              "ticks": ""
             }
            },
            "type": "scattermapbox"
           }
          ],
          "scatterpolar": [
           {
            "marker": {
             "colorbar": {
              "outlinewidth": 0,
              "ticks": ""
             }
            },
            "type": "scatterpolar"
           }
          ],
          "scatterpolargl": [
           {
            "marker": {
             "colorbar": {
              "outlinewidth": 0,
              "ticks": ""
             }
            },
            "type": "scatterpolargl"
           }
          ],
          "scatterternary": [
           {
            "marker": {
             "colorbar": {
              "outlinewidth": 0,
              "ticks": ""
             }
            },
            "type": "scatterternary"
           }
          ],
          "surface": [
           {
            "colorbar": {
             "outlinewidth": 0,
             "ticks": ""
            },
            "colorscale": [
             [
              0,
              "#0d0887"
             ],
             [
              0.1111111111111111,
              "#46039f"
             ],
             [
              0.2222222222222222,
              "#7201a8"
             ],
             [
              0.3333333333333333,
              "#9c179e"
             ],
             [
              0.4444444444444444,
              "#bd3786"
             ],
             [
              0.5555555555555556,
              "#d8576b"
             ],
             [
              0.6666666666666666,
              "#ed7953"
             ],
             [
              0.7777777777777778,
              "#fb9f3a"
             ],
             [
              0.8888888888888888,
              "#fdca26"
             ],
             [
              1,
              "#f0f921"
             ]
            ],
            "type": "surface"
           }
          ],
          "table": [
           {
            "cells": {
             "fill": {
              "color": "#EBF0F8"
             },
             "line": {
              "color": "white"
             }
            },
            "header": {
             "fill": {
              "color": "#C8D4E3"
             },
             "line": {
              "color": "white"
             }
            },
            "type": "table"
           }
          ]
         },
         "layout": {
          "annotationdefaults": {
           "arrowcolor": "#2a3f5f",
           "arrowhead": 0,
           "arrowwidth": 1
          },
          "autotypenumbers": "strict",
          "coloraxis": {
           "colorbar": {
            "outlinewidth": 0,
            "ticks": ""
           }
          },
          "colorscale": {
           "diverging": [
            [
             0,
             "#8e0152"
            ],
            [
             0.1,
             "#c51b7d"
            ],
            [
             0.2,
             "#de77ae"
            ],
            [
             0.3,
             "#f1b6da"
            ],
            [
             0.4,
             "#fde0ef"
            ],
            [
             0.5,
             "#f7f7f7"
            ],
            [
             0.6,
             "#e6f5d0"
            ],
            [
             0.7,
             "#b8e186"
            ],
            [
             0.8,
             "#7fbc41"
            ],
            [
             0.9,
             "#4d9221"
            ],
            [
             1,
             "#276419"
            ]
           ],
           "sequential": [
            [
             0,
             "#0d0887"
            ],
            [
             0.1111111111111111,
             "#46039f"
            ],
            [
             0.2222222222222222,
             "#7201a8"
            ],
            [
             0.3333333333333333,
             "#9c179e"
            ],
            [
             0.4444444444444444,
             "#bd3786"
            ],
            [
             0.5555555555555556,
             "#d8576b"
            ],
            [
             0.6666666666666666,
             "#ed7953"
            ],
            [
             0.7777777777777778,
             "#fb9f3a"
            ],
            [
             0.8888888888888888,
             "#fdca26"
            ],
            [
             1,
             "#f0f921"
            ]
           ],
           "sequentialminus": [
            [
             0,
             "#0d0887"
            ],
            [
             0.1111111111111111,
             "#46039f"
            ],
            [
             0.2222222222222222,
             "#7201a8"
            ],
            [
             0.3333333333333333,
             "#9c179e"
            ],
            [
             0.4444444444444444,
             "#bd3786"
            ],
            [
             0.5555555555555556,
             "#d8576b"
            ],
            [
             0.6666666666666666,
             "#ed7953"
            ],
            [
             0.7777777777777778,
             "#fb9f3a"
            ],
            [
             0.8888888888888888,
             "#fdca26"
            ],
            [
             1,
             "#f0f921"
            ]
           ]
          },
          "colorway": [
           "#636efa",
           "#EF553B",
           "#00cc96",
           "#ab63fa",
           "#FFA15A",
           "#19d3f3",
           "#FF6692",
           "#B6E880",
           "#FF97FF",
           "#FECB52"
          ],
          "font": {
           "color": "#2a3f5f"
          },
          "geo": {
           "bgcolor": "white",
           "lakecolor": "white",
           "landcolor": "#E5ECF6",
           "showlakes": true,
           "showland": true,
           "subunitcolor": "white"
          },
          "hoverlabel": {
           "align": "left"
          },
          "hovermode": "closest",
          "mapbox": {
           "style": "light"
          },
          "paper_bgcolor": "white",
          "plot_bgcolor": "#E5ECF6",
          "polar": {
           "angularaxis": {
            "gridcolor": "white",
            "linecolor": "white",
            "ticks": ""
           },
           "bgcolor": "#E5ECF6",
           "radialaxis": {
            "gridcolor": "white",
            "linecolor": "white",
            "ticks": ""
           }
          },
          "scene": {
           "xaxis": {
            "backgroundcolor": "#E5ECF6",
            "gridcolor": "white",
            "gridwidth": 2,
            "linecolor": "white",
            "showbackground": true,
            "ticks": "",
            "zerolinecolor": "white"
           },
           "yaxis": {
            "backgroundcolor": "#E5ECF6",
            "gridcolor": "white",
            "gridwidth": 2,
            "linecolor": "white",
            "showbackground": true,
            "ticks": "",
            "zerolinecolor": "white"
           },
           "zaxis": {
            "backgroundcolor": "#E5ECF6",
            "gridcolor": "white",
            "gridwidth": 2,
            "linecolor": "white",
            "showbackground": true,
            "ticks": "",
            "zerolinecolor": "white"
           }
          },
          "shapedefaults": {
           "line": {
            "color": "#2a3f5f"
           }
          },
          "ternary": {
           "aaxis": {
            "gridcolor": "white",
            "linecolor": "white",
            "ticks": ""
           },
           "baxis": {
            "gridcolor": "white",
            "linecolor": "white",
            "ticks": ""
           },
           "bgcolor": "#E5ECF6",
           "caxis": {
            "gridcolor": "white",
            "linecolor": "white",
            "ticks": ""
           }
          },
          "title": {
           "x": 0.05
          },
          "xaxis": {
           "automargin": true,
           "gridcolor": "white",
           "linecolor": "white",
           "ticks": "",
           "title": {
            "standoff": 15
           },
           "zerolinecolor": "white",
           "zerolinewidth": 2
          },
          "yaxis": {
           "automargin": true,
           "gridcolor": "white",
           "linecolor": "white",
           "ticks": "",
           "title": {
            "standoff": 15
           },
           "zerolinecolor": "white",
           "zerolinewidth": 2
          }
         }
        },
        "title": {
         "font": {
          "color": "#D9D9D9"
         }
        },
        "xaxis": {
         "gridcolor": "#434343",
         "showgrid": true,
         "tickfont": {
          "color": "#C2C2C2"
         },
         "title": {
          "font": {
           "color": "#D9D9D9"
          },
          "text": ""
         },
         "zerolinecolor": "#666570"
        },
        "yaxis": {
         "gridcolor": "#434343",
         "showgrid": true,
         "tickfont": {
          "color": "#C2C2C2"
         },
         "title": {
          "font": {
           "color": "#D9D9D9"
          },
          "text": ""
         },
         "zerolinecolor": "#666570"
        }
       }
      },
      "text/html": [
       "<div>                            <div id=\"4c91101a-8a1c-4af0-a1a8-ef10ee504f95\" class=\"plotly-graph-div\" style=\"height:525px; width:100%;\"></div>            <script type=\"text/javascript\">                require([\"plotly\"], function(Plotly) {                    window.PLOTLYENV=window.PLOTLYENV || {};\n",
       "                    window.PLOTLYENV.BASE_URL='https://plotly.your-company.com';                                    if (document.getElementById(\"4c91101a-8a1c-4af0-a1a8-ef10ee504f95\")) {                    Plotly.newPlot(                        \"4c91101a-8a1c-4af0-a1a8-ef10ee504f95\",                        [{\"marker\":{\"color\":\"rgba(255, 153, 51, 0.6)\",\"line\":{\"color\":\"rgba(255, 153, 51, 1.0)\",\"width\":1}},\"name\":\"A\",\"orientation\":\"v\",\"text\":\"\",\"type\":\"bar\",\"x\":[0,1,2,3,4,5,6,7,8,9,10,11,12,13,14,15,16,17,18,19,20,21,22,23,24,25,26,27,28,29,30,31,32,33,34,35,36,37,38,39,40,41,42,43,44,45,46,47,48,49,50,51,52,53,54,55,56,57,58,59,60,61,62,63,64,65,66,67,68,69,70,71,72,73,74,75,76,77,78,79,80,81,82,83,84,85,86,87,88,89,90,91,92,93,94,95,96,97,98,99],\"y\":[1.144703284679413,0.42757544251469765,-0.35192442025518117,-0.8941248712697194,0.010303974172780074,-0.565517417458183,0.5088657738464007,0.05817294625164663,0.6542073163609262,-1.1993314958316266,-0.6247215643804995,0.4198017236491692,2.0864648126960583,-0.23275502753034852,1.7568790004811463,-0.2002669966191424,0.9468722181603442,0.03584985912287011,-1.1611393902899068,-0.3835302560260267,-0.03387760259934896,-0.17691702730983283,-0.9423751046587749,-0.5903284032180365,-1.184057761232769,-1.2395593664407396,-1.1900723352524316,1.4560567738411316,0.3724784144960803,0.03371313452194243,-0.007041029877909425,1.0974434231858146,-1.3546532445500257,0.5523265852380587,1.2047328083033968,-0.9153028282836938,-0.3498225280242223,-0.5178929498144236,1.391207805280191,1.4616745968491522,-0.9333334823828512,0.9736151073233872,1.2351196653049088,1.1473332449719225,0.6761991895480024,0.4393887280798155,0.8255665050400999,1.0192332570414717,-0.09046088051346117,0.38193894499336983,0.6333663718733085,-0.463035663236964,0.30830947250854623,-0.9177070328231333,-1.8061500720360941,-0.2694751709841663,-0.7334766932973601,-0.39888201007972846,0.48988119061081065,-1.0278740776630428,-0.11894912157657848,1.4953281139460974,-0.06383387970184953,-0.6553456536622485,0.9595292677446223,-0.9326962224343956,-0.4738121365441105,-0.44125881890067653,0.008292096245957448,-1.1679153860979714,0.6803556235755589,-0.7720348847308444,-0.6417326476638311,-0.46235077134270774,2.124578667936823,-0.8351232663180091,0.4681809902749921,0.9010464535373961,0.5724356495563795,0.6974230791635984,0.761647442081875,-0.3643463443833772,1.1277346750609916,-0.8744386932505009,0.7825988236805438,0.06193260745458717,0.15300197318351122,0.31278780819693397,0.8068486956356575,0.34208517545163536,-0.37980893415348355,-0.35703733329156384,-2.296887082357323,1.117716451871934,1.2937398447924362,-0.4469543775697318,0.4659672755386829,0.03520930116548328,1.6560257350640744,1.3436527678224581]},{\"marker\":{\"color\":\"rgba(55, 128, 191, 0.6)\",\"line\":{\"color\":\"rgba(55, 128, 191, 1.0)\",\"width\":1}},\"name\":\"B\",\"orientation\":\"v\",\"text\":\"\",\"type\":\"bar\",\"x\":[0,1,2,3,4,5,6,7,8,9,10,11,12,13,14,15,16,17,18,19,20,21,22,23,24,25,26,27,28,29,30,31,32,33,34,35,36,37,38,39,40,41,42,43,44,45,46,47,48,49,50,51,52,53,54,55,56,57,58,59,60,61,62,63,64,65,66,67,68,69,70,71,72,73,74,75,76,77,78,79,80,81,82,83,84,85,86,87,88,89,90,91,92,93,94,95,96,97,98,99],\"y\":[0.9012456139675201,-0.9069148240969495,0.7188928475739158,-0.010712913427277598,2.2243722513193207,0.9991820696113353,-0.316682940704291,0.24532950020670366,1.978323822436745,0.03899691328373934,-0.3533309058120735,-0.768325763912453,-0.5576084166506344,-1.5902323438868622,-1.4088192624622207,-0.37184656854201614,-0.074739500053332,0.5618616868084693,1.7455672190235496,1.4256222638271683,2.236841707000655,-0.4145279084965887,0.3448799338177773,1.8162086109315068,-1.0279348028250406,1.9972828715097193,0.6992530201368505,-0.29973044068454013,-1.2373533700144632,-0.5188517316250908,0.36466302105160747,0.6503728593464441,-1.5448761739892864,0.047784649238583735,0.9696724091978512,0.6594292934784134,0.027816673884268412,0.571040246179327,0.7500331746988234,-1.1782359851821727,1.1510346888446892,-1.2523634174395701,0.41506747668721183,-1.276541604814342,0.9909927222875703,1.5376632106389738,0.5397459561642224,2.153816280874059,-0.23787529664798834,-0.14406551396680597,0.056586138136492124,0.3968409303483598,0.15217060070906469,-0.9273156054107566,1.2061918423210012,0.6708995418737386,0.7251618137992578,-0.05931769217145088,0.011988915955556631,0.8621061389865066,-0.40680967948368674,0.6205041523211877,-0.2390214726619803,0.41995622528662285,-1.0147434172456777,-0.6187258632181581,-0.7580015754063466,0.4606327309072387,2.012712664019078,-1.8316192385859789,-1.5749242827980148,-0.781836695437718,-0.693751106963471,0.7022017235351213,0.40404339176528,-1.0091660396008861,0.36133287387075724,0.1705441561033673,1.3200827463310363,-0.8908682804269574,-0.5352160351613332,-0.8662674832367702,-0.9569177739277203,-0.6754224490942432,-1.068087922275257,-0.05596901574492606,-1.5235720386663867,-0.2469294136871314,-1.6708058769881922,-0.1966512985828853,0.9368795602807177,1.8988911156872859,-0.66535758555716,2.3945601871507103,-0.6875043840220773,0.48384117605003163,0.4788690950080444,0.807014739900829,0.14424188822984477,0.0753053989540786]},{\"marker\":{\"color\":\"rgba(50, 171, 96, 0.6)\",\"line\":{\"color\":\"rgba(50, 171, 96, 1.0)\",\"width\":1}},\"name\":\"C\",\"orientation\":\"v\",\"text\":\"\",\"type\":\"bar\",\"x\":[0,1,2,3,4,5,6,7,8,9,10,11,12,13,14,15,16,17,18,19,20,21,22,23,24,25,26,27,28,29,30,31,32,33,34,35,36,37,38,39,40,41,42,43,44,45,46,47,48,49,50,51,52,53,54,55,56,57,58,59,60,61,62,63,64,65,66,67,68,69,70,71,72,73,74,75,76,77,78,79,80,81,82,83,84,85,86,87,88,89,90,91,92,93,94,95,96,97,98,99],\"y\":[0.11816942918113256,0.741685723356593,0.4078955027801821,-1.2653794917055243,-1.0870814866217458,-1.3473940376988425,-1.7087352534613476,0.8917180241634067,0.34761253690260413,-1.7046578808428747,-1.9466072393282936,-1.374813128746834,-0.44848375130738516,-1.1658565025222343,-0.9782394613186325,-1.325776018339137,-0.8770462898729945,0.20707892621869003,0.32831459086672604,0.029051480761979543,1.661373439265312,0.6609239868417132,-0.7855790572347076,-1.056675513479043,-0.8743242422874468,-0.3428215522277884,0.9408027746318007,-0.6666658980376114,-0.44804813265868204,0.4909722276351332,-1.5243173307305933,-0.13504543423900814,-0.9110427954378634,0.4325079121175746,1.5586286273294845,0.9270567292274876,-0.27513716083497314,-0.33030509110138906,0.6893582093995015,-1.8332474240478402,0.11145386543098021,-0.9474034719340884,-0.8637930711282321,0.002936012817284153,-0.020238872364501972,0.9993845685775354,0.24921036999128424,-1.1836922225151159,-0.8510428835424434,0.016648418552180785,-0.22022369735709013,-1.9495072364560115,-0.1007429290242349,-0.13953536355921473,-0.5570189157848265,-1.838029202723041,0.10101954632723922,1.636087647746361,-0.06374202176010661,-0.5590212713336815,-0.1475191487376764,0.360475591224915,-0.48223803112680164,-0.28590987875302204,-1.1039919759741768,3.3602395080941303,-0.09148127122902347,0.798832234575934,-2.267817002790606,-0.527034513939202,-1.2513024362342513,1.370605037837346,0.03923763421260761,0.2509570759130447,-1.0417290088394782,0.5837375925606461,-0.6907376085807362,0.4702081502856197,-0.6100500124960715,2.4452413401690007,-1.3114850787576462,0.4604620654789494,2.569812693260461,-0.3425735268070394,-0.19187293981497872,0.9373847524102931,-1.5361480342525387,-0.3663842372841314,2.3196948896420193,-1.415530531431303,1.7791984954823528,0.24939810835424286,0.39948882388217594,-0.5686727325170238,0.5036454795534082,-1.1642292994056618,0.5391789491958506,0.26998561647907604,0.529854878100319,-1.3159741932311897]}],                        {\"bargap\":0.5,\"barmode\":\"stack\",\"legend\":{\"bgcolor\":\"#151516\",\"font\":{\"color\":\"#D9D9D9\"},\"traceorder\":\"normal\"},\"paper_bgcolor\":\"#151516\",\"plot_bgcolor\":\"#151516\",\"template\":{\"data\":{\"bar\":[{\"error_x\":{\"color\":\"#2a3f5f\"},\"error_y\":{\"color\":\"#2a3f5f\"},\"marker\":{\"line\":{\"color\":\"#E5ECF6\",\"width\":0.5},\"pattern\":{\"fillmode\":\"overlay\",\"size\":10,\"solidity\":0.2}},\"type\":\"bar\"}],\"barpolar\":[{\"marker\":{\"line\":{\"color\":\"#E5ECF6\",\"width\":0.5},\"pattern\":{\"fillmode\":\"overlay\",\"size\":10,\"solidity\":0.2}},\"type\":\"barpolar\"}],\"carpet\":[{\"aaxis\":{\"endlinecolor\":\"#2a3f5f\",\"gridcolor\":\"white\",\"linecolor\":\"white\",\"minorgridcolor\":\"white\",\"startlinecolor\":\"#2a3f5f\"},\"baxis\":{\"endlinecolor\":\"#2a3f5f\",\"gridcolor\":\"white\",\"linecolor\":\"white\",\"minorgridcolor\":\"white\",\"startlinecolor\":\"#2a3f5f\"},\"type\":\"carpet\"}],\"choropleth\":[{\"colorbar\":{\"outlinewidth\":0,\"ticks\":\"\"},\"type\":\"choropleth\"}],\"contour\":[{\"colorbar\":{\"outlinewidth\":0,\"ticks\":\"\"},\"colorscale\":[[0.0,\"#0d0887\"],[0.1111111111111111,\"#46039f\"],[0.2222222222222222,\"#7201a8\"],[0.3333333333333333,\"#9c179e\"],[0.4444444444444444,\"#bd3786\"],[0.5555555555555556,\"#d8576b\"],[0.6666666666666666,\"#ed7953\"],[0.7777777777777778,\"#fb9f3a\"],[0.8888888888888888,\"#fdca26\"],[1.0,\"#f0f921\"]],\"type\":\"contour\"}],\"contourcarpet\":[{\"colorbar\":{\"outlinewidth\":0,\"ticks\":\"\"},\"type\":\"contourcarpet\"}],\"heatmap\":[{\"colorbar\":{\"outlinewidth\":0,\"ticks\":\"\"},\"colorscale\":[[0.0,\"#0d0887\"],[0.1111111111111111,\"#46039f\"],[0.2222222222222222,\"#7201a8\"],[0.3333333333333333,\"#9c179e\"],[0.4444444444444444,\"#bd3786\"],[0.5555555555555556,\"#d8576b\"],[0.6666666666666666,\"#ed7953\"],[0.7777777777777778,\"#fb9f3a\"],[0.8888888888888888,\"#fdca26\"],[1.0,\"#f0f921\"]],\"type\":\"heatmap\"}],\"heatmapgl\":[{\"colorbar\":{\"outlinewidth\":0,\"ticks\":\"\"},\"colorscale\":[[0.0,\"#0d0887\"],[0.1111111111111111,\"#46039f\"],[0.2222222222222222,\"#7201a8\"],[0.3333333333333333,\"#9c179e\"],[0.4444444444444444,\"#bd3786\"],[0.5555555555555556,\"#d8576b\"],[0.6666666666666666,\"#ed7953\"],[0.7777777777777778,\"#fb9f3a\"],[0.8888888888888888,\"#fdca26\"],[1.0,\"#f0f921\"]],\"type\":\"heatmapgl\"}],\"histogram\":[{\"marker\":{\"pattern\":{\"fillmode\":\"overlay\",\"size\":10,\"solidity\":0.2}},\"type\":\"histogram\"}],\"histogram2d\":[{\"colorbar\":{\"outlinewidth\":0,\"ticks\":\"\"},\"colorscale\":[[0.0,\"#0d0887\"],[0.1111111111111111,\"#46039f\"],[0.2222222222222222,\"#7201a8\"],[0.3333333333333333,\"#9c179e\"],[0.4444444444444444,\"#bd3786\"],[0.5555555555555556,\"#d8576b\"],[0.6666666666666666,\"#ed7953\"],[0.7777777777777778,\"#fb9f3a\"],[0.8888888888888888,\"#fdca26\"],[1.0,\"#f0f921\"]],\"type\":\"histogram2d\"}],\"histogram2dcontour\":[{\"colorbar\":{\"outlinewidth\":0,\"ticks\":\"\"},\"colorscale\":[[0.0,\"#0d0887\"],[0.1111111111111111,\"#46039f\"],[0.2222222222222222,\"#7201a8\"],[0.3333333333333333,\"#9c179e\"],[0.4444444444444444,\"#bd3786\"],[0.5555555555555556,\"#d8576b\"],[0.6666666666666666,\"#ed7953\"],[0.7777777777777778,\"#fb9f3a\"],[0.8888888888888888,\"#fdca26\"],[1.0,\"#f0f921\"]],\"type\":\"histogram2dcontour\"}],\"mesh3d\":[{\"colorbar\":{\"outlinewidth\":0,\"ticks\":\"\"},\"type\":\"mesh3d\"}],\"parcoords\":[{\"line\":{\"colorbar\":{\"outlinewidth\":0,\"ticks\":\"\"}},\"type\":\"parcoords\"}],\"pie\":[{\"automargin\":true,\"type\":\"pie\"}],\"scatter\":[{\"marker\":{\"colorbar\":{\"outlinewidth\":0,\"ticks\":\"\"}},\"type\":\"scatter\"}],\"scatter3d\":[{\"line\":{\"colorbar\":{\"outlinewidth\":0,\"ticks\":\"\"}},\"marker\":{\"colorbar\":{\"outlinewidth\":0,\"ticks\":\"\"}},\"type\":\"scatter3d\"}],\"scattercarpet\":[{\"marker\":{\"colorbar\":{\"outlinewidth\":0,\"ticks\":\"\"}},\"type\":\"scattercarpet\"}],\"scattergeo\":[{\"marker\":{\"colorbar\":{\"outlinewidth\":0,\"ticks\":\"\"}},\"type\":\"scattergeo\"}],\"scattergl\":[{\"marker\":{\"colorbar\":{\"outlinewidth\":0,\"ticks\":\"\"}},\"type\":\"scattergl\"}],\"scattermapbox\":[{\"marker\":{\"colorbar\":{\"outlinewidth\":0,\"ticks\":\"\"}},\"type\":\"scattermapbox\"}],\"scatterpolar\":[{\"marker\":{\"colorbar\":{\"outlinewidth\":0,\"ticks\":\"\"}},\"type\":\"scatterpolar\"}],\"scatterpolargl\":[{\"marker\":{\"colorbar\":{\"outlinewidth\":0,\"ticks\":\"\"}},\"type\":\"scatterpolargl\"}],\"scatterternary\":[{\"marker\":{\"colorbar\":{\"outlinewidth\":0,\"ticks\":\"\"}},\"type\":\"scatterternary\"}],\"surface\":[{\"colorbar\":{\"outlinewidth\":0,\"ticks\":\"\"},\"colorscale\":[[0.0,\"#0d0887\"],[0.1111111111111111,\"#46039f\"],[0.2222222222222222,\"#7201a8\"],[0.3333333333333333,\"#9c179e\"],[0.4444444444444444,\"#bd3786\"],[0.5555555555555556,\"#d8576b\"],[0.6666666666666666,\"#ed7953\"],[0.7777777777777778,\"#fb9f3a\"],[0.8888888888888888,\"#fdca26\"],[1.0,\"#f0f921\"]],\"type\":\"surface\"}],\"table\":[{\"cells\":{\"fill\":{\"color\":\"#EBF0F8\"},\"line\":{\"color\":\"white\"}},\"header\":{\"fill\":{\"color\":\"#C8D4E3\"},\"line\":{\"color\":\"white\"}},\"type\":\"table\"}]},\"layout\":{\"annotationdefaults\":{\"arrowcolor\":\"#2a3f5f\",\"arrowhead\":0,\"arrowwidth\":1},\"autotypenumbers\":\"strict\",\"coloraxis\":{\"colorbar\":{\"outlinewidth\":0,\"ticks\":\"\"}},\"colorscale\":{\"diverging\":[[0,\"#8e0152\"],[0.1,\"#c51b7d\"],[0.2,\"#de77ae\"],[0.3,\"#f1b6da\"],[0.4,\"#fde0ef\"],[0.5,\"#f7f7f7\"],[0.6,\"#e6f5d0\"],[0.7,\"#b8e186\"],[0.8,\"#7fbc41\"],[0.9,\"#4d9221\"],[1,\"#276419\"]],\"sequential\":[[0.0,\"#0d0887\"],[0.1111111111111111,\"#46039f\"],[0.2222222222222222,\"#7201a8\"],[0.3333333333333333,\"#9c179e\"],[0.4444444444444444,\"#bd3786\"],[0.5555555555555556,\"#d8576b\"],[0.6666666666666666,\"#ed7953\"],[0.7777777777777778,\"#fb9f3a\"],[0.8888888888888888,\"#fdca26\"],[1.0,\"#f0f921\"]],\"sequentialminus\":[[0.0,\"#0d0887\"],[0.1111111111111111,\"#46039f\"],[0.2222222222222222,\"#7201a8\"],[0.3333333333333333,\"#9c179e\"],[0.4444444444444444,\"#bd3786\"],[0.5555555555555556,\"#d8576b\"],[0.6666666666666666,\"#ed7953\"],[0.7777777777777778,\"#fb9f3a\"],[0.8888888888888888,\"#fdca26\"],[1.0,\"#f0f921\"]]},\"colorway\":[\"#636efa\",\"#EF553B\",\"#00cc96\",\"#ab63fa\",\"#FFA15A\",\"#19d3f3\",\"#FF6692\",\"#B6E880\",\"#FF97FF\",\"#FECB52\"],\"font\":{\"color\":\"#2a3f5f\"},\"geo\":{\"bgcolor\":\"white\",\"lakecolor\":\"white\",\"landcolor\":\"#E5ECF6\",\"showlakes\":true,\"showland\":true,\"subunitcolor\":\"white\"},\"hoverlabel\":{\"align\":\"left\"},\"hovermode\":\"closest\",\"mapbox\":{\"style\":\"light\"},\"paper_bgcolor\":\"white\",\"plot_bgcolor\":\"#E5ECF6\",\"polar\":{\"angularaxis\":{\"gridcolor\":\"white\",\"linecolor\":\"white\",\"ticks\":\"\"},\"bgcolor\":\"#E5ECF6\",\"radialaxis\":{\"gridcolor\":\"white\",\"linecolor\":\"white\",\"ticks\":\"\"}},\"scene\":{\"xaxis\":{\"backgroundcolor\":\"#E5ECF6\",\"gridcolor\":\"white\",\"gridwidth\":2,\"linecolor\":\"white\",\"showbackground\":true,\"ticks\":\"\",\"zerolinecolor\":\"white\"},\"yaxis\":{\"backgroundcolor\":\"#E5ECF6\",\"gridcolor\":\"white\",\"gridwidth\":2,\"linecolor\":\"white\",\"showbackground\":true,\"ticks\":\"\",\"zerolinecolor\":\"white\"},\"zaxis\":{\"backgroundcolor\":\"#E5ECF6\",\"gridcolor\":\"white\",\"gridwidth\":2,\"linecolor\":\"white\",\"showbackground\":true,\"ticks\":\"\",\"zerolinecolor\":\"white\"}},\"shapedefaults\":{\"line\":{\"color\":\"#2a3f5f\"}},\"ternary\":{\"aaxis\":{\"gridcolor\":\"white\",\"linecolor\":\"white\",\"ticks\":\"\"},\"baxis\":{\"gridcolor\":\"white\",\"linecolor\":\"white\",\"ticks\":\"\"},\"bgcolor\":\"#E5ECF6\",\"caxis\":{\"gridcolor\":\"white\",\"linecolor\":\"white\",\"ticks\":\"\"}},\"title\":{\"x\":0.05},\"xaxis\":{\"automargin\":true,\"gridcolor\":\"white\",\"linecolor\":\"white\",\"ticks\":\"\",\"title\":{\"standoff\":15},\"zerolinecolor\":\"white\",\"zerolinewidth\":2},\"yaxis\":{\"automargin\":true,\"gridcolor\":\"white\",\"linecolor\":\"white\",\"ticks\":\"\",\"title\":{\"standoff\":15},\"zerolinecolor\":\"white\",\"zerolinewidth\":2}}},\"title\":{\"font\":{\"color\":\"#D9D9D9\"}},\"xaxis\":{\"gridcolor\":\"#434343\",\"showgrid\":true,\"tickfont\":{\"color\":\"#C2C2C2\"},\"title\":{\"font\":{\"color\":\"#D9D9D9\"},\"text\":\"\"},\"zerolinecolor\":\"#666570\"},\"yaxis\":{\"gridcolor\":\"#434343\",\"showgrid\":true,\"tickfont\":{\"color\":\"#C2C2C2\"},\"title\":{\"font\":{\"color\":\"#D9D9D9\"},\"text\":\"\"},\"zerolinecolor\":\"#666570\"}},                        {\"showLink\": true, \"linkText\": \"Export to plotly.your-company.com\", \"plotlyServerURL\": \"https://plotly.your-company.com\", \"responsive\": true}                    ).then(function(){\n",
       "                            \n",
       "var gd = document.getElementById('4c91101a-8a1c-4af0-a1a8-ef10ee504f95');\n",
       "var x = new MutationObserver(function (mutations, observer) {{\n",
       "        var display = window.getComputedStyle(gd).display;\n",
       "        if (!display || display === 'none') {{\n",
       "            console.log([gd, 'removed!']);\n",
       "            Plotly.purge(gd);\n",
       "            observer.disconnect();\n",
       "        }}\n",
       "}});\n",
       "\n",
       "// Listen for the removal of the full notebook cells\n",
       "var notebookContainer = gd.closest('#notebook-container');\n",
       "if (notebookContainer) {{\n",
       "    x.observe(notebookContainer, {childList: true});\n",
       "}}\n",
       "\n",
       "// Listen for the clearing of the current output cell\n",
       "var outputEl = gd.closest('.output');\n",
       "if (outputEl) {{\n",
       "    x.observe(outputEl, {childList: true});\n",
       "}}\n",
       "\n",
       "                        })                };                });            </script>        </div>"
      ]
     },
     "metadata": {},
     "output_type": "display_data"
    }
   ],
   "source": [
    "cf.set_config_file(theme='solar')\n",
    "df.iplot(kind='bar',barmode='stack',bargap=0.5)"
   ]
  },
  {
   "cell_type": "code",
   "execution_count": 12,
   "metadata": {},
   "outputs": [
    {
     "data": {
      "application/vnd.plotly.v1+json": {
       "config": {
        "linkText": "Export to plotly.your-company.com",
        "plotlyServerURL": "https://plotly.your-company.com",
        "showLink": true
       },
       "data": [
        {
         "boxpoints": false,
         "line": {
          "width": 1.3
         },
         "marker": {
          "color": "rgba(255, 153, 51, 1.0)"
         },
         "name": "A",
         "orientation": "v",
         "type": "box",
         "y": [
          1.144703284679413,
          0.42757544251469765,
          -0.35192442025518117,
          -0.8941248712697194,
          0.010303974172780074,
          -0.565517417458183,
          0.5088657738464007,
          0.05817294625164663,
          0.6542073163609262,
          -1.1993314958316266,
          -0.6247215643804995,
          0.4198017236491692,
          2.0864648126960583,
          -0.23275502753034852,
          1.7568790004811463,
          -0.2002669966191424,
          0.9468722181603442,
          0.03584985912287011,
          -1.1611393902899068,
          -0.3835302560260267,
          -0.03387760259934896,
          -0.17691702730983283,
          -0.9423751046587749,
          -0.5903284032180365,
          -1.184057761232769,
          -1.2395593664407396,
          -1.1900723352524316,
          1.4560567738411316,
          0.3724784144960803,
          0.03371313452194243,
          -0.007041029877909425,
          1.0974434231858146,
          -1.3546532445500257,
          0.5523265852380587,
          1.2047328083033968,
          -0.9153028282836938,
          -0.3498225280242223,
          -0.5178929498144236,
          1.391207805280191,
          1.4616745968491522,
          -0.9333334823828512,
          0.9736151073233872,
          1.2351196653049088,
          1.1473332449719225,
          0.6761991895480024,
          0.4393887280798155,
          0.8255665050400999,
          1.0192332570414717,
          -0.09046088051346117,
          0.38193894499336983,
          0.6333663718733085,
          -0.463035663236964,
          0.30830947250854623,
          -0.9177070328231333,
          -1.8061500720360941,
          -0.2694751709841663,
          -0.7334766932973601,
          -0.39888201007972846,
          0.48988119061081065,
          -1.0278740776630428,
          -0.11894912157657848,
          1.4953281139460974,
          -0.06383387970184953,
          -0.6553456536622485,
          0.9595292677446223,
          -0.9326962224343956,
          -0.4738121365441105,
          -0.44125881890067653,
          0.008292096245957448,
          -1.1679153860979714,
          0.6803556235755589,
          -0.7720348847308444,
          -0.6417326476638311,
          -0.46235077134270774,
          2.124578667936823,
          -0.8351232663180091,
          0.4681809902749921,
          0.9010464535373961,
          0.5724356495563795,
          0.6974230791635984,
          0.761647442081875,
          -0.3643463443833772,
          1.1277346750609916,
          -0.8744386932505009,
          0.7825988236805438,
          0.06193260745458717,
          0.15300197318351122,
          0.31278780819693397,
          0.8068486956356575,
          0.34208517545163536,
          -0.37980893415348355,
          -0.35703733329156384,
          -2.296887082357323,
          1.117716451871934,
          1.2937398447924362,
          -0.4469543775697318,
          0.4659672755386829,
          0.03520930116548328,
          1.6560257350640744,
          1.3436527678224581
         ]
        },
        {
         "boxpoints": false,
         "line": {
          "width": 1.3
         },
         "marker": {
          "color": "rgba(55, 128, 191, 1.0)"
         },
         "name": "B",
         "orientation": "v",
         "type": "box",
         "y": [
          0.9012456139675201,
          -0.9069148240969495,
          0.7188928475739158,
          -0.010712913427277598,
          2.2243722513193207,
          0.9991820696113353,
          -0.316682940704291,
          0.24532950020670366,
          1.978323822436745,
          0.03899691328373934,
          -0.3533309058120735,
          -0.768325763912453,
          -0.5576084166506344,
          -1.5902323438868622,
          -1.4088192624622207,
          -0.37184656854201614,
          -0.074739500053332,
          0.5618616868084693,
          1.7455672190235496,
          1.4256222638271683,
          2.236841707000655,
          -0.4145279084965887,
          0.3448799338177773,
          1.8162086109315068,
          -1.0279348028250406,
          1.9972828715097193,
          0.6992530201368505,
          -0.29973044068454013,
          -1.2373533700144632,
          -0.5188517316250908,
          0.36466302105160747,
          0.6503728593464441,
          -1.5448761739892864,
          0.047784649238583735,
          0.9696724091978512,
          0.6594292934784134,
          0.027816673884268412,
          0.571040246179327,
          0.7500331746988234,
          -1.1782359851821727,
          1.1510346888446892,
          -1.2523634174395701,
          0.41506747668721183,
          -1.276541604814342,
          0.9909927222875703,
          1.5376632106389738,
          0.5397459561642224,
          2.153816280874059,
          -0.23787529664798834,
          -0.14406551396680597,
          0.056586138136492124,
          0.3968409303483598,
          0.15217060070906469,
          -0.9273156054107566,
          1.2061918423210012,
          0.6708995418737386,
          0.7251618137992578,
          -0.05931769217145088,
          0.011988915955556631,
          0.8621061389865066,
          -0.40680967948368674,
          0.6205041523211877,
          -0.2390214726619803,
          0.41995622528662285,
          -1.0147434172456777,
          -0.6187258632181581,
          -0.7580015754063466,
          0.4606327309072387,
          2.012712664019078,
          -1.8316192385859789,
          -1.5749242827980148,
          -0.781836695437718,
          -0.693751106963471,
          0.7022017235351213,
          0.40404339176528,
          -1.0091660396008861,
          0.36133287387075724,
          0.1705441561033673,
          1.3200827463310363,
          -0.8908682804269574,
          -0.5352160351613332,
          -0.8662674832367702,
          -0.9569177739277203,
          -0.6754224490942432,
          -1.068087922275257,
          -0.05596901574492606,
          -1.5235720386663867,
          -0.2469294136871314,
          -1.6708058769881922,
          -0.1966512985828853,
          0.9368795602807177,
          1.8988911156872859,
          -0.66535758555716,
          2.3945601871507103,
          -0.6875043840220773,
          0.48384117605003163,
          0.4788690950080444,
          0.807014739900829,
          0.14424188822984477,
          0.0753053989540786
         ]
        },
        {
         "boxpoints": false,
         "line": {
          "width": 1.3
         },
         "marker": {
          "color": "rgba(50, 171, 96, 1.0)"
         },
         "name": "C",
         "orientation": "v",
         "type": "box",
         "y": [
          0.11816942918113256,
          0.741685723356593,
          0.4078955027801821,
          -1.2653794917055243,
          -1.0870814866217458,
          -1.3473940376988425,
          -1.7087352534613476,
          0.8917180241634067,
          0.34761253690260413,
          -1.7046578808428747,
          -1.9466072393282936,
          -1.374813128746834,
          -0.44848375130738516,
          -1.1658565025222343,
          -0.9782394613186325,
          -1.325776018339137,
          -0.8770462898729945,
          0.20707892621869003,
          0.32831459086672604,
          0.029051480761979543,
          1.661373439265312,
          0.6609239868417132,
          -0.7855790572347076,
          -1.056675513479043,
          -0.8743242422874468,
          -0.3428215522277884,
          0.9408027746318007,
          -0.6666658980376114,
          -0.44804813265868204,
          0.4909722276351332,
          -1.5243173307305933,
          -0.13504543423900814,
          -0.9110427954378634,
          0.4325079121175746,
          1.5586286273294845,
          0.9270567292274876,
          -0.27513716083497314,
          -0.33030509110138906,
          0.6893582093995015,
          -1.8332474240478402,
          0.11145386543098021,
          -0.9474034719340884,
          -0.8637930711282321,
          0.002936012817284153,
          -0.020238872364501972,
          0.9993845685775354,
          0.24921036999128424,
          -1.1836922225151159,
          -0.8510428835424434,
          0.016648418552180785,
          -0.22022369735709013,
          -1.9495072364560115,
          -0.1007429290242349,
          -0.13953536355921473,
          -0.5570189157848265,
          -1.838029202723041,
          0.10101954632723922,
          1.636087647746361,
          -0.06374202176010661,
          -0.5590212713336815,
          -0.1475191487376764,
          0.360475591224915,
          -0.48223803112680164,
          -0.28590987875302204,
          -1.1039919759741768,
          3.3602395080941303,
          -0.09148127122902347,
          0.798832234575934,
          -2.267817002790606,
          -0.527034513939202,
          -1.2513024362342513,
          1.370605037837346,
          0.03923763421260761,
          0.2509570759130447,
          -1.0417290088394782,
          0.5837375925606461,
          -0.6907376085807362,
          0.4702081502856197,
          -0.6100500124960715,
          2.4452413401690007,
          -1.3114850787576462,
          0.4604620654789494,
          2.569812693260461,
          -0.3425735268070394,
          -0.19187293981497872,
          0.9373847524102931,
          -1.5361480342525387,
          -0.3663842372841314,
          2.3196948896420193,
          -1.415530531431303,
          1.7791984954823528,
          0.24939810835424286,
          0.39948882388217594,
          -0.5686727325170238,
          0.5036454795534082,
          -1.1642292994056618,
          0.5391789491958506,
          0.26998561647907604,
          0.529854878100319,
          -1.3159741932311897
         ]
        }
       ],
       "layout": {
        "legend": {
         "bgcolor": "#151516",
         "font": {
          "color": "#D9D9D9"
         }
        },
        "paper_bgcolor": "#151516",
        "plot_bgcolor": "#151516",
        "template": {
         "data": {
          "bar": [
           {
            "error_x": {
             "color": "#2a3f5f"
            },
            "error_y": {
             "color": "#2a3f5f"
            },
            "marker": {
             "line": {
              "color": "#E5ECF6",
              "width": 0.5
             },
             "pattern": {
              "fillmode": "overlay",
              "size": 10,
              "solidity": 0.2
             }
            },
            "type": "bar"
           }
          ],
          "barpolar": [
           {
            "marker": {
             "line": {
              "color": "#E5ECF6",
              "width": 0.5
             },
             "pattern": {
              "fillmode": "overlay",
              "size": 10,
              "solidity": 0.2
             }
            },
            "type": "barpolar"
           }
          ],
          "carpet": [
           {
            "aaxis": {
             "endlinecolor": "#2a3f5f",
             "gridcolor": "white",
             "linecolor": "white",
             "minorgridcolor": "white",
             "startlinecolor": "#2a3f5f"
            },
            "baxis": {
             "endlinecolor": "#2a3f5f",
             "gridcolor": "white",
             "linecolor": "white",
             "minorgridcolor": "white",
             "startlinecolor": "#2a3f5f"
            },
            "type": "carpet"
           }
          ],
          "choropleth": [
           {
            "colorbar": {
             "outlinewidth": 0,
             "ticks": ""
            },
            "type": "choropleth"
           }
          ],
          "contour": [
           {
            "colorbar": {
             "outlinewidth": 0,
             "ticks": ""
            },
            "colorscale": [
             [
              0,
              "#0d0887"
             ],
             [
              0.1111111111111111,
              "#46039f"
             ],
             [
              0.2222222222222222,
              "#7201a8"
             ],
             [
              0.3333333333333333,
              "#9c179e"
             ],
             [
              0.4444444444444444,
              "#bd3786"
             ],
             [
              0.5555555555555556,
              "#d8576b"
             ],
             [
              0.6666666666666666,
              "#ed7953"
             ],
             [
              0.7777777777777778,
              "#fb9f3a"
             ],
             [
              0.8888888888888888,
              "#fdca26"
             ],
             [
              1,
              "#f0f921"
             ]
            ],
            "type": "contour"
           }
          ],
          "contourcarpet": [
           {
            "colorbar": {
             "outlinewidth": 0,
             "ticks": ""
            },
            "type": "contourcarpet"
           }
          ],
          "heatmap": [
           {
            "colorbar": {
             "outlinewidth": 0,
             "ticks": ""
            },
            "colorscale": [
             [
              0,
              "#0d0887"
             ],
             [
              0.1111111111111111,
              "#46039f"
             ],
             [
              0.2222222222222222,
              "#7201a8"
             ],
             [
              0.3333333333333333,
              "#9c179e"
             ],
             [
              0.4444444444444444,
              "#bd3786"
             ],
             [
              0.5555555555555556,
              "#d8576b"
             ],
             [
              0.6666666666666666,
              "#ed7953"
             ],
             [
              0.7777777777777778,
              "#fb9f3a"
             ],
             [
              0.8888888888888888,
              "#fdca26"
             ],
             [
              1,
              "#f0f921"
             ]
            ],
            "type": "heatmap"
           }
          ],
          "heatmapgl": [
           {
            "colorbar": {
             "outlinewidth": 0,
             "ticks": ""
            },
            "colorscale": [
             [
              0,
              "#0d0887"
             ],
             [
              0.1111111111111111,
              "#46039f"
             ],
             [
              0.2222222222222222,
              "#7201a8"
             ],
             [
              0.3333333333333333,
              "#9c179e"
             ],
             [
              0.4444444444444444,
              "#bd3786"
             ],
             [
              0.5555555555555556,
              "#d8576b"
             ],
             [
              0.6666666666666666,
              "#ed7953"
             ],
             [
              0.7777777777777778,
              "#fb9f3a"
             ],
             [
              0.8888888888888888,
              "#fdca26"
             ],
             [
              1,
              "#f0f921"
             ]
            ],
            "type": "heatmapgl"
           }
          ],
          "histogram": [
           {
            "marker": {
             "pattern": {
              "fillmode": "overlay",
              "size": 10,
              "solidity": 0.2
             }
            },
            "type": "histogram"
           }
          ],
          "histogram2d": [
           {
            "colorbar": {
             "outlinewidth": 0,
             "ticks": ""
            },
            "colorscale": [
             [
              0,
              "#0d0887"
             ],
             [
              0.1111111111111111,
              "#46039f"
             ],
             [
              0.2222222222222222,
              "#7201a8"
             ],
             [
              0.3333333333333333,
              "#9c179e"
             ],
             [
              0.4444444444444444,
              "#bd3786"
             ],
             [
              0.5555555555555556,
              "#d8576b"
             ],
             [
              0.6666666666666666,
              "#ed7953"
             ],
             [
              0.7777777777777778,
              "#fb9f3a"
             ],
             [
              0.8888888888888888,
              "#fdca26"
             ],
             [
              1,
              "#f0f921"
             ]
            ],
            "type": "histogram2d"
           }
          ],
          "histogram2dcontour": [
           {
            "colorbar": {
             "outlinewidth": 0,
             "ticks": ""
            },
            "colorscale": [
             [
              0,
              "#0d0887"
             ],
             [
              0.1111111111111111,
              "#46039f"
             ],
             [
              0.2222222222222222,
              "#7201a8"
             ],
             [
              0.3333333333333333,
              "#9c179e"
             ],
             [
              0.4444444444444444,
              "#bd3786"
             ],
             [
              0.5555555555555556,
              "#d8576b"
             ],
             [
              0.6666666666666666,
              "#ed7953"
             ],
             [
              0.7777777777777778,
              "#fb9f3a"
             ],
             [
              0.8888888888888888,
              "#fdca26"
             ],
             [
              1,
              "#f0f921"
             ]
            ],
            "type": "histogram2dcontour"
           }
          ],
          "mesh3d": [
           {
            "colorbar": {
             "outlinewidth": 0,
             "ticks": ""
            },
            "type": "mesh3d"
           }
          ],
          "parcoords": [
           {
            "line": {
             "colorbar": {
              "outlinewidth": 0,
              "ticks": ""
             }
            },
            "type": "parcoords"
           }
          ],
          "pie": [
           {
            "automargin": true,
            "type": "pie"
           }
          ],
          "scatter": [
           {
            "marker": {
             "colorbar": {
              "outlinewidth": 0,
              "ticks": ""
             }
            },
            "type": "scatter"
           }
          ],
          "scatter3d": [
           {
            "line": {
             "colorbar": {
              "outlinewidth": 0,
              "ticks": ""
             }
            },
            "marker": {
             "colorbar": {
              "outlinewidth": 0,
              "ticks": ""
             }
            },
            "type": "scatter3d"
           }
          ],
          "scattercarpet": [
           {
            "marker": {
             "colorbar": {
              "outlinewidth": 0,
              "ticks": ""
             }
            },
            "type": "scattercarpet"
           }
          ],
          "scattergeo": [
           {
            "marker": {
             "colorbar": {
              "outlinewidth": 0,
              "ticks": ""
             }
            },
            "type": "scattergeo"
           }
          ],
          "scattergl": [
           {
            "marker": {
             "colorbar": {
              "outlinewidth": 0,
              "ticks": ""
             }
            },
            "type": "scattergl"
           }
          ],
          "scattermapbox": [
           {
            "marker": {
             "colorbar": {
              "outlinewidth": 0,
              "ticks": ""
             }
            },
            "type": "scattermapbox"
           }
          ],
          "scatterpolar": [
           {
            "marker": {
             "colorbar": {
              "outlinewidth": 0,
              "ticks": ""
             }
            },
            "type": "scatterpolar"
           }
          ],
          "scatterpolargl": [
           {
            "marker": {
             "colorbar": {
              "outlinewidth": 0,
              "ticks": ""
             }
            },
            "type": "scatterpolargl"
           }
          ],
          "scatterternary": [
           {
            "marker": {
             "colorbar": {
              "outlinewidth": 0,
              "ticks": ""
             }
            },
            "type": "scatterternary"
           }
          ],
          "surface": [
           {
            "colorbar": {
             "outlinewidth": 0,
             "ticks": ""
            },
            "colorscale": [
             [
              0,
              "#0d0887"
             ],
             [
              0.1111111111111111,
              "#46039f"
             ],
             [
              0.2222222222222222,
              "#7201a8"
             ],
             [
              0.3333333333333333,
              "#9c179e"
             ],
             [
              0.4444444444444444,
              "#bd3786"
             ],
             [
              0.5555555555555556,
              "#d8576b"
             ],
             [
              0.6666666666666666,
              "#ed7953"
             ],
             [
              0.7777777777777778,
              "#fb9f3a"
             ],
             [
              0.8888888888888888,
              "#fdca26"
             ],
             [
              1,
              "#f0f921"
             ]
            ],
            "type": "surface"
           }
          ],
          "table": [
           {
            "cells": {
             "fill": {
              "color": "#EBF0F8"
             },
             "line": {
              "color": "white"
             }
            },
            "header": {
             "fill": {
              "color": "#C8D4E3"
             },
             "line": {
              "color": "white"
             }
            },
            "type": "table"
           }
          ]
         },
         "layout": {
          "annotationdefaults": {
           "arrowcolor": "#2a3f5f",
           "arrowhead": 0,
           "arrowwidth": 1
          },
          "autotypenumbers": "strict",
          "coloraxis": {
           "colorbar": {
            "outlinewidth": 0,
            "ticks": ""
           }
          },
          "colorscale": {
           "diverging": [
            [
             0,
             "#8e0152"
            ],
            [
             0.1,
             "#c51b7d"
            ],
            [
             0.2,
             "#de77ae"
            ],
            [
             0.3,
             "#f1b6da"
            ],
            [
             0.4,
             "#fde0ef"
            ],
            [
             0.5,
             "#f7f7f7"
            ],
            [
             0.6,
             "#e6f5d0"
            ],
            [
             0.7,
             "#b8e186"
            ],
            [
             0.8,
             "#7fbc41"
            ],
            [
             0.9,
             "#4d9221"
            ],
            [
             1,
             "#276419"
            ]
           ],
           "sequential": [
            [
             0,
             "#0d0887"
            ],
            [
             0.1111111111111111,
             "#46039f"
            ],
            [
             0.2222222222222222,
             "#7201a8"
            ],
            [
             0.3333333333333333,
             "#9c179e"
            ],
            [
             0.4444444444444444,
             "#bd3786"
            ],
            [
             0.5555555555555556,
             "#d8576b"
            ],
            [
             0.6666666666666666,
             "#ed7953"
            ],
            [
             0.7777777777777778,
             "#fb9f3a"
            ],
            [
             0.8888888888888888,
             "#fdca26"
            ],
            [
             1,
             "#f0f921"
            ]
           ],
           "sequentialminus": [
            [
             0,
             "#0d0887"
            ],
            [
             0.1111111111111111,
             "#46039f"
            ],
            [
             0.2222222222222222,
             "#7201a8"
            ],
            [
             0.3333333333333333,
             "#9c179e"
            ],
            [
             0.4444444444444444,
             "#bd3786"
            ],
            [
             0.5555555555555556,
             "#d8576b"
            ],
            [
             0.6666666666666666,
             "#ed7953"
            ],
            [
             0.7777777777777778,
             "#fb9f3a"
            ],
            [
             0.8888888888888888,
             "#fdca26"
            ],
            [
             1,
             "#f0f921"
            ]
           ]
          },
          "colorway": [
           "#636efa",
           "#EF553B",
           "#00cc96",
           "#ab63fa",
           "#FFA15A",
           "#19d3f3",
           "#FF6692",
           "#B6E880",
           "#FF97FF",
           "#FECB52"
          ],
          "font": {
           "color": "#2a3f5f"
          },
          "geo": {
           "bgcolor": "white",
           "lakecolor": "white",
           "landcolor": "#E5ECF6",
           "showlakes": true,
           "showland": true,
           "subunitcolor": "white"
          },
          "hoverlabel": {
           "align": "left"
          },
          "hovermode": "closest",
          "mapbox": {
           "style": "light"
          },
          "paper_bgcolor": "white",
          "plot_bgcolor": "#E5ECF6",
          "polar": {
           "angularaxis": {
            "gridcolor": "white",
            "linecolor": "white",
            "ticks": ""
           },
           "bgcolor": "#E5ECF6",
           "radialaxis": {
            "gridcolor": "white",
            "linecolor": "white",
            "ticks": ""
           }
          },
          "scene": {
           "xaxis": {
            "backgroundcolor": "#E5ECF6",
            "gridcolor": "white",
            "gridwidth": 2,
            "linecolor": "white",
            "showbackground": true,
            "ticks": "",
            "zerolinecolor": "white"
           },
           "yaxis": {
            "backgroundcolor": "#E5ECF6",
            "gridcolor": "white",
            "gridwidth": 2,
            "linecolor": "white",
            "showbackground": true,
            "ticks": "",
            "zerolinecolor": "white"
           },
           "zaxis": {
            "backgroundcolor": "#E5ECF6",
            "gridcolor": "white",
            "gridwidth": 2,
            "linecolor": "white",
            "showbackground": true,
            "ticks": "",
            "zerolinecolor": "white"
           }
          },
          "shapedefaults": {
           "line": {
            "color": "#2a3f5f"
           }
          },
          "ternary": {
           "aaxis": {
            "gridcolor": "white",
            "linecolor": "white",
            "ticks": ""
           },
           "baxis": {
            "gridcolor": "white",
            "linecolor": "white",
            "ticks": ""
           },
           "bgcolor": "#E5ECF6",
           "caxis": {
            "gridcolor": "white",
            "linecolor": "white",
            "ticks": ""
           }
          },
          "title": {
           "x": 0.05
          },
          "xaxis": {
           "automargin": true,
           "gridcolor": "white",
           "linecolor": "white",
           "ticks": "",
           "title": {
            "standoff": 15
           },
           "zerolinecolor": "white",
           "zerolinewidth": 2
          },
          "yaxis": {
           "automargin": true,
           "gridcolor": "white",
           "linecolor": "white",
           "ticks": "",
           "title": {
            "standoff": 15
           },
           "zerolinecolor": "white",
           "zerolinewidth": 2
          }
         }
        },
        "title": {
         "font": {
          "color": "#D9D9D9"
         }
        },
        "xaxis": {
         "gridcolor": "#434343",
         "showgrid": true,
         "tickfont": {
          "color": "#C2C2C2"
         },
         "title": {
          "font": {
           "color": "#D9D9D9"
          },
          "text": ""
         },
         "zerolinecolor": "#666570"
        },
        "yaxis": {
         "gridcolor": "#434343",
         "showgrid": true,
         "tickfont": {
          "color": "#C2C2C2"
         },
         "title": {
          "font": {
           "color": "#D9D9D9"
          },
          "text": ""
         },
         "zerolinecolor": "#666570"
        }
       }
      },
      "text/html": [
       "<div>                            <div id=\"c47fe334-5246-4448-a532-8ee68df45182\" class=\"plotly-graph-div\" style=\"height:525px; width:100%;\"></div>            <script type=\"text/javascript\">                require([\"plotly\"], function(Plotly) {                    window.PLOTLYENV=window.PLOTLYENV || {};\n",
       "                    window.PLOTLYENV.BASE_URL='https://plotly.your-company.com';                                    if (document.getElementById(\"c47fe334-5246-4448-a532-8ee68df45182\")) {                    Plotly.newPlot(                        \"c47fe334-5246-4448-a532-8ee68df45182\",                        [{\"boxpoints\":false,\"line\":{\"width\":1.3},\"marker\":{\"color\":\"rgba(255, 153, 51, 1.0)\"},\"name\":\"A\",\"orientation\":\"v\",\"type\":\"box\",\"y\":[1.144703284679413,0.42757544251469765,-0.35192442025518117,-0.8941248712697194,0.010303974172780074,-0.565517417458183,0.5088657738464007,0.05817294625164663,0.6542073163609262,-1.1993314958316266,-0.6247215643804995,0.4198017236491692,2.0864648126960583,-0.23275502753034852,1.7568790004811463,-0.2002669966191424,0.9468722181603442,0.03584985912287011,-1.1611393902899068,-0.3835302560260267,-0.03387760259934896,-0.17691702730983283,-0.9423751046587749,-0.5903284032180365,-1.184057761232769,-1.2395593664407396,-1.1900723352524316,1.4560567738411316,0.3724784144960803,0.03371313452194243,-0.007041029877909425,1.0974434231858146,-1.3546532445500257,0.5523265852380587,1.2047328083033968,-0.9153028282836938,-0.3498225280242223,-0.5178929498144236,1.391207805280191,1.4616745968491522,-0.9333334823828512,0.9736151073233872,1.2351196653049088,1.1473332449719225,0.6761991895480024,0.4393887280798155,0.8255665050400999,1.0192332570414717,-0.09046088051346117,0.38193894499336983,0.6333663718733085,-0.463035663236964,0.30830947250854623,-0.9177070328231333,-1.8061500720360941,-0.2694751709841663,-0.7334766932973601,-0.39888201007972846,0.48988119061081065,-1.0278740776630428,-0.11894912157657848,1.4953281139460974,-0.06383387970184953,-0.6553456536622485,0.9595292677446223,-0.9326962224343956,-0.4738121365441105,-0.44125881890067653,0.008292096245957448,-1.1679153860979714,0.6803556235755589,-0.7720348847308444,-0.6417326476638311,-0.46235077134270774,2.124578667936823,-0.8351232663180091,0.4681809902749921,0.9010464535373961,0.5724356495563795,0.6974230791635984,0.761647442081875,-0.3643463443833772,1.1277346750609916,-0.8744386932505009,0.7825988236805438,0.06193260745458717,0.15300197318351122,0.31278780819693397,0.8068486956356575,0.34208517545163536,-0.37980893415348355,-0.35703733329156384,-2.296887082357323,1.117716451871934,1.2937398447924362,-0.4469543775697318,0.4659672755386829,0.03520930116548328,1.6560257350640744,1.3436527678224581]},{\"boxpoints\":false,\"line\":{\"width\":1.3},\"marker\":{\"color\":\"rgba(55, 128, 191, 1.0)\"},\"name\":\"B\",\"orientation\":\"v\",\"type\":\"box\",\"y\":[0.9012456139675201,-0.9069148240969495,0.7188928475739158,-0.010712913427277598,2.2243722513193207,0.9991820696113353,-0.316682940704291,0.24532950020670366,1.978323822436745,0.03899691328373934,-0.3533309058120735,-0.768325763912453,-0.5576084166506344,-1.5902323438868622,-1.4088192624622207,-0.37184656854201614,-0.074739500053332,0.5618616868084693,1.7455672190235496,1.4256222638271683,2.236841707000655,-0.4145279084965887,0.3448799338177773,1.8162086109315068,-1.0279348028250406,1.9972828715097193,0.6992530201368505,-0.29973044068454013,-1.2373533700144632,-0.5188517316250908,0.36466302105160747,0.6503728593464441,-1.5448761739892864,0.047784649238583735,0.9696724091978512,0.6594292934784134,0.027816673884268412,0.571040246179327,0.7500331746988234,-1.1782359851821727,1.1510346888446892,-1.2523634174395701,0.41506747668721183,-1.276541604814342,0.9909927222875703,1.5376632106389738,0.5397459561642224,2.153816280874059,-0.23787529664798834,-0.14406551396680597,0.056586138136492124,0.3968409303483598,0.15217060070906469,-0.9273156054107566,1.2061918423210012,0.6708995418737386,0.7251618137992578,-0.05931769217145088,0.011988915955556631,0.8621061389865066,-0.40680967948368674,0.6205041523211877,-0.2390214726619803,0.41995622528662285,-1.0147434172456777,-0.6187258632181581,-0.7580015754063466,0.4606327309072387,2.012712664019078,-1.8316192385859789,-1.5749242827980148,-0.781836695437718,-0.693751106963471,0.7022017235351213,0.40404339176528,-1.0091660396008861,0.36133287387075724,0.1705441561033673,1.3200827463310363,-0.8908682804269574,-0.5352160351613332,-0.8662674832367702,-0.9569177739277203,-0.6754224490942432,-1.068087922275257,-0.05596901574492606,-1.5235720386663867,-0.2469294136871314,-1.6708058769881922,-0.1966512985828853,0.9368795602807177,1.8988911156872859,-0.66535758555716,2.3945601871507103,-0.6875043840220773,0.48384117605003163,0.4788690950080444,0.807014739900829,0.14424188822984477,0.0753053989540786]},{\"boxpoints\":false,\"line\":{\"width\":1.3},\"marker\":{\"color\":\"rgba(50, 171, 96, 1.0)\"},\"name\":\"C\",\"orientation\":\"v\",\"type\":\"box\",\"y\":[0.11816942918113256,0.741685723356593,0.4078955027801821,-1.2653794917055243,-1.0870814866217458,-1.3473940376988425,-1.7087352534613476,0.8917180241634067,0.34761253690260413,-1.7046578808428747,-1.9466072393282936,-1.374813128746834,-0.44848375130738516,-1.1658565025222343,-0.9782394613186325,-1.325776018339137,-0.8770462898729945,0.20707892621869003,0.32831459086672604,0.029051480761979543,1.661373439265312,0.6609239868417132,-0.7855790572347076,-1.056675513479043,-0.8743242422874468,-0.3428215522277884,0.9408027746318007,-0.6666658980376114,-0.44804813265868204,0.4909722276351332,-1.5243173307305933,-0.13504543423900814,-0.9110427954378634,0.4325079121175746,1.5586286273294845,0.9270567292274876,-0.27513716083497314,-0.33030509110138906,0.6893582093995015,-1.8332474240478402,0.11145386543098021,-0.9474034719340884,-0.8637930711282321,0.002936012817284153,-0.020238872364501972,0.9993845685775354,0.24921036999128424,-1.1836922225151159,-0.8510428835424434,0.016648418552180785,-0.22022369735709013,-1.9495072364560115,-0.1007429290242349,-0.13953536355921473,-0.5570189157848265,-1.838029202723041,0.10101954632723922,1.636087647746361,-0.06374202176010661,-0.5590212713336815,-0.1475191487376764,0.360475591224915,-0.48223803112680164,-0.28590987875302204,-1.1039919759741768,3.3602395080941303,-0.09148127122902347,0.798832234575934,-2.267817002790606,-0.527034513939202,-1.2513024362342513,1.370605037837346,0.03923763421260761,0.2509570759130447,-1.0417290088394782,0.5837375925606461,-0.6907376085807362,0.4702081502856197,-0.6100500124960715,2.4452413401690007,-1.3114850787576462,0.4604620654789494,2.569812693260461,-0.3425735268070394,-0.19187293981497872,0.9373847524102931,-1.5361480342525387,-0.3663842372841314,2.3196948896420193,-1.415530531431303,1.7791984954823528,0.24939810835424286,0.39948882388217594,-0.5686727325170238,0.5036454795534082,-1.1642292994056618,0.5391789491958506,0.26998561647907604,0.529854878100319,-1.3159741932311897]}],                        {\"legend\":{\"bgcolor\":\"#151516\",\"font\":{\"color\":\"#D9D9D9\"}},\"paper_bgcolor\":\"#151516\",\"plot_bgcolor\":\"#151516\",\"template\":{\"data\":{\"bar\":[{\"error_x\":{\"color\":\"#2a3f5f\"},\"error_y\":{\"color\":\"#2a3f5f\"},\"marker\":{\"line\":{\"color\":\"#E5ECF6\",\"width\":0.5},\"pattern\":{\"fillmode\":\"overlay\",\"size\":10,\"solidity\":0.2}},\"type\":\"bar\"}],\"barpolar\":[{\"marker\":{\"line\":{\"color\":\"#E5ECF6\",\"width\":0.5},\"pattern\":{\"fillmode\":\"overlay\",\"size\":10,\"solidity\":0.2}},\"type\":\"barpolar\"}],\"carpet\":[{\"aaxis\":{\"endlinecolor\":\"#2a3f5f\",\"gridcolor\":\"white\",\"linecolor\":\"white\",\"minorgridcolor\":\"white\",\"startlinecolor\":\"#2a3f5f\"},\"baxis\":{\"endlinecolor\":\"#2a3f5f\",\"gridcolor\":\"white\",\"linecolor\":\"white\",\"minorgridcolor\":\"white\",\"startlinecolor\":\"#2a3f5f\"},\"type\":\"carpet\"}],\"choropleth\":[{\"colorbar\":{\"outlinewidth\":0,\"ticks\":\"\"},\"type\":\"choropleth\"}],\"contour\":[{\"colorbar\":{\"outlinewidth\":0,\"ticks\":\"\"},\"colorscale\":[[0.0,\"#0d0887\"],[0.1111111111111111,\"#46039f\"],[0.2222222222222222,\"#7201a8\"],[0.3333333333333333,\"#9c179e\"],[0.4444444444444444,\"#bd3786\"],[0.5555555555555556,\"#d8576b\"],[0.6666666666666666,\"#ed7953\"],[0.7777777777777778,\"#fb9f3a\"],[0.8888888888888888,\"#fdca26\"],[1.0,\"#f0f921\"]],\"type\":\"contour\"}],\"contourcarpet\":[{\"colorbar\":{\"outlinewidth\":0,\"ticks\":\"\"},\"type\":\"contourcarpet\"}],\"heatmap\":[{\"colorbar\":{\"outlinewidth\":0,\"ticks\":\"\"},\"colorscale\":[[0.0,\"#0d0887\"],[0.1111111111111111,\"#46039f\"],[0.2222222222222222,\"#7201a8\"],[0.3333333333333333,\"#9c179e\"],[0.4444444444444444,\"#bd3786\"],[0.5555555555555556,\"#d8576b\"],[0.6666666666666666,\"#ed7953\"],[0.7777777777777778,\"#fb9f3a\"],[0.8888888888888888,\"#fdca26\"],[1.0,\"#f0f921\"]],\"type\":\"heatmap\"}],\"heatmapgl\":[{\"colorbar\":{\"outlinewidth\":0,\"ticks\":\"\"},\"colorscale\":[[0.0,\"#0d0887\"],[0.1111111111111111,\"#46039f\"],[0.2222222222222222,\"#7201a8\"],[0.3333333333333333,\"#9c179e\"],[0.4444444444444444,\"#bd3786\"],[0.5555555555555556,\"#d8576b\"],[0.6666666666666666,\"#ed7953\"],[0.7777777777777778,\"#fb9f3a\"],[0.8888888888888888,\"#fdca26\"],[1.0,\"#f0f921\"]],\"type\":\"heatmapgl\"}],\"histogram\":[{\"marker\":{\"pattern\":{\"fillmode\":\"overlay\",\"size\":10,\"solidity\":0.2}},\"type\":\"histogram\"}],\"histogram2d\":[{\"colorbar\":{\"outlinewidth\":0,\"ticks\":\"\"},\"colorscale\":[[0.0,\"#0d0887\"],[0.1111111111111111,\"#46039f\"],[0.2222222222222222,\"#7201a8\"],[0.3333333333333333,\"#9c179e\"],[0.4444444444444444,\"#bd3786\"],[0.5555555555555556,\"#d8576b\"],[0.6666666666666666,\"#ed7953\"],[0.7777777777777778,\"#fb9f3a\"],[0.8888888888888888,\"#fdca26\"],[1.0,\"#f0f921\"]],\"type\":\"histogram2d\"}],\"histogram2dcontour\":[{\"colorbar\":{\"outlinewidth\":0,\"ticks\":\"\"},\"colorscale\":[[0.0,\"#0d0887\"],[0.1111111111111111,\"#46039f\"],[0.2222222222222222,\"#7201a8\"],[0.3333333333333333,\"#9c179e\"],[0.4444444444444444,\"#bd3786\"],[0.5555555555555556,\"#d8576b\"],[0.6666666666666666,\"#ed7953\"],[0.7777777777777778,\"#fb9f3a\"],[0.8888888888888888,\"#fdca26\"],[1.0,\"#f0f921\"]],\"type\":\"histogram2dcontour\"}],\"mesh3d\":[{\"colorbar\":{\"outlinewidth\":0,\"ticks\":\"\"},\"type\":\"mesh3d\"}],\"parcoords\":[{\"line\":{\"colorbar\":{\"outlinewidth\":0,\"ticks\":\"\"}},\"type\":\"parcoords\"}],\"pie\":[{\"automargin\":true,\"type\":\"pie\"}],\"scatter\":[{\"marker\":{\"colorbar\":{\"outlinewidth\":0,\"ticks\":\"\"}},\"type\":\"scatter\"}],\"scatter3d\":[{\"line\":{\"colorbar\":{\"outlinewidth\":0,\"ticks\":\"\"}},\"marker\":{\"colorbar\":{\"outlinewidth\":0,\"ticks\":\"\"}},\"type\":\"scatter3d\"}],\"scattercarpet\":[{\"marker\":{\"colorbar\":{\"outlinewidth\":0,\"ticks\":\"\"}},\"type\":\"scattercarpet\"}],\"scattergeo\":[{\"marker\":{\"colorbar\":{\"outlinewidth\":0,\"ticks\":\"\"}},\"type\":\"scattergeo\"}],\"scattergl\":[{\"marker\":{\"colorbar\":{\"outlinewidth\":0,\"ticks\":\"\"}},\"type\":\"scattergl\"}],\"scattermapbox\":[{\"marker\":{\"colorbar\":{\"outlinewidth\":0,\"ticks\":\"\"}},\"type\":\"scattermapbox\"}],\"scatterpolar\":[{\"marker\":{\"colorbar\":{\"outlinewidth\":0,\"ticks\":\"\"}},\"type\":\"scatterpolar\"}],\"scatterpolargl\":[{\"marker\":{\"colorbar\":{\"outlinewidth\":0,\"ticks\":\"\"}},\"type\":\"scatterpolargl\"}],\"scatterternary\":[{\"marker\":{\"colorbar\":{\"outlinewidth\":0,\"ticks\":\"\"}},\"type\":\"scatterternary\"}],\"surface\":[{\"colorbar\":{\"outlinewidth\":0,\"ticks\":\"\"},\"colorscale\":[[0.0,\"#0d0887\"],[0.1111111111111111,\"#46039f\"],[0.2222222222222222,\"#7201a8\"],[0.3333333333333333,\"#9c179e\"],[0.4444444444444444,\"#bd3786\"],[0.5555555555555556,\"#d8576b\"],[0.6666666666666666,\"#ed7953\"],[0.7777777777777778,\"#fb9f3a\"],[0.8888888888888888,\"#fdca26\"],[1.0,\"#f0f921\"]],\"type\":\"surface\"}],\"table\":[{\"cells\":{\"fill\":{\"color\":\"#EBF0F8\"},\"line\":{\"color\":\"white\"}},\"header\":{\"fill\":{\"color\":\"#C8D4E3\"},\"line\":{\"color\":\"white\"}},\"type\":\"table\"}]},\"layout\":{\"annotationdefaults\":{\"arrowcolor\":\"#2a3f5f\",\"arrowhead\":0,\"arrowwidth\":1},\"autotypenumbers\":\"strict\",\"coloraxis\":{\"colorbar\":{\"outlinewidth\":0,\"ticks\":\"\"}},\"colorscale\":{\"diverging\":[[0,\"#8e0152\"],[0.1,\"#c51b7d\"],[0.2,\"#de77ae\"],[0.3,\"#f1b6da\"],[0.4,\"#fde0ef\"],[0.5,\"#f7f7f7\"],[0.6,\"#e6f5d0\"],[0.7,\"#b8e186\"],[0.8,\"#7fbc41\"],[0.9,\"#4d9221\"],[1,\"#276419\"]],\"sequential\":[[0.0,\"#0d0887\"],[0.1111111111111111,\"#46039f\"],[0.2222222222222222,\"#7201a8\"],[0.3333333333333333,\"#9c179e\"],[0.4444444444444444,\"#bd3786\"],[0.5555555555555556,\"#d8576b\"],[0.6666666666666666,\"#ed7953\"],[0.7777777777777778,\"#fb9f3a\"],[0.8888888888888888,\"#fdca26\"],[1.0,\"#f0f921\"]],\"sequentialminus\":[[0.0,\"#0d0887\"],[0.1111111111111111,\"#46039f\"],[0.2222222222222222,\"#7201a8\"],[0.3333333333333333,\"#9c179e\"],[0.4444444444444444,\"#bd3786\"],[0.5555555555555556,\"#d8576b\"],[0.6666666666666666,\"#ed7953\"],[0.7777777777777778,\"#fb9f3a\"],[0.8888888888888888,\"#fdca26\"],[1.0,\"#f0f921\"]]},\"colorway\":[\"#636efa\",\"#EF553B\",\"#00cc96\",\"#ab63fa\",\"#FFA15A\",\"#19d3f3\",\"#FF6692\",\"#B6E880\",\"#FF97FF\",\"#FECB52\"],\"font\":{\"color\":\"#2a3f5f\"},\"geo\":{\"bgcolor\":\"white\",\"lakecolor\":\"white\",\"landcolor\":\"#E5ECF6\",\"showlakes\":true,\"showland\":true,\"subunitcolor\":\"white\"},\"hoverlabel\":{\"align\":\"left\"},\"hovermode\":\"closest\",\"mapbox\":{\"style\":\"light\"},\"paper_bgcolor\":\"white\",\"plot_bgcolor\":\"#E5ECF6\",\"polar\":{\"angularaxis\":{\"gridcolor\":\"white\",\"linecolor\":\"white\",\"ticks\":\"\"},\"bgcolor\":\"#E5ECF6\",\"radialaxis\":{\"gridcolor\":\"white\",\"linecolor\":\"white\",\"ticks\":\"\"}},\"scene\":{\"xaxis\":{\"backgroundcolor\":\"#E5ECF6\",\"gridcolor\":\"white\",\"gridwidth\":2,\"linecolor\":\"white\",\"showbackground\":true,\"ticks\":\"\",\"zerolinecolor\":\"white\"},\"yaxis\":{\"backgroundcolor\":\"#E5ECF6\",\"gridcolor\":\"white\",\"gridwidth\":2,\"linecolor\":\"white\",\"showbackground\":true,\"ticks\":\"\",\"zerolinecolor\":\"white\"},\"zaxis\":{\"backgroundcolor\":\"#E5ECF6\",\"gridcolor\":\"white\",\"gridwidth\":2,\"linecolor\":\"white\",\"showbackground\":true,\"ticks\":\"\",\"zerolinecolor\":\"white\"}},\"shapedefaults\":{\"line\":{\"color\":\"#2a3f5f\"}},\"ternary\":{\"aaxis\":{\"gridcolor\":\"white\",\"linecolor\":\"white\",\"ticks\":\"\"},\"baxis\":{\"gridcolor\":\"white\",\"linecolor\":\"white\",\"ticks\":\"\"},\"bgcolor\":\"#E5ECF6\",\"caxis\":{\"gridcolor\":\"white\",\"linecolor\":\"white\",\"ticks\":\"\"}},\"title\":{\"x\":0.05},\"xaxis\":{\"automargin\":true,\"gridcolor\":\"white\",\"linecolor\":\"white\",\"ticks\":\"\",\"title\":{\"standoff\":15},\"zerolinecolor\":\"white\",\"zerolinewidth\":2},\"yaxis\":{\"automargin\":true,\"gridcolor\":\"white\",\"linecolor\":\"white\",\"ticks\":\"\",\"title\":{\"standoff\":15},\"zerolinecolor\":\"white\",\"zerolinewidth\":2}}},\"title\":{\"font\":{\"color\":\"#D9D9D9\"}},\"xaxis\":{\"gridcolor\":\"#434343\",\"showgrid\":true,\"tickfont\":{\"color\":\"#C2C2C2\"},\"title\":{\"font\":{\"color\":\"#D9D9D9\"},\"text\":\"\"},\"zerolinecolor\":\"#666570\"},\"yaxis\":{\"gridcolor\":\"#434343\",\"showgrid\":true,\"tickfont\":{\"color\":\"#C2C2C2\"},\"title\":{\"font\":{\"color\":\"#D9D9D9\"},\"text\":\"\"},\"zerolinecolor\":\"#666570\"}},                        {\"showLink\": true, \"linkText\": \"Export to plotly.your-company.com\", \"plotlyServerURL\": \"https://plotly.your-company.com\", \"responsive\": true}                    ).then(function(){\n",
       "                            \n",
       "var gd = document.getElementById('c47fe334-5246-4448-a532-8ee68df45182');\n",
       "var x = new MutationObserver(function (mutations, observer) {{\n",
       "        var display = window.getComputedStyle(gd).display;\n",
       "        if (!display || display === 'none') {{\n",
       "            console.log([gd, 'removed!']);\n",
       "            Plotly.purge(gd);\n",
       "            observer.disconnect();\n",
       "        }}\n",
       "}});\n",
       "\n",
       "// Listen for the removal of the full notebook cells\n",
       "var notebookContainer = gd.closest('#notebook-container');\n",
       "if (notebookContainer) {{\n",
       "    x.observe(notebookContainer, {childList: true});\n",
       "}}\n",
       "\n",
       "// Listen for the clearing of the current output cell\n",
       "var outputEl = gd.closest('.output');\n",
       "if (outputEl) {{\n",
       "    x.observe(outputEl, {childList: true});\n",
       "}}\n",
       "\n",
       "                        })                };                });            </script>        </div>"
      ]
     },
     "metadata": {},
     "output_type": "display_data"
    }
   ],
   "source": [
    "df.iplot(kind='box')"
   ]
  },
  {
   "cell_type": "code",
   "execution_count": 13,
   "metadata": {},
   "outputs": [
    {
     "data": {
      "application/vnd.plotly.v1+json": {
       "config": {
        "linkText": "Export to plotly.your-company.com",
        "plotlyServerURL": "https://plotly.your-company.com",
        "showLink": true
       },
       "data": [
        {
         "fill": "tonexty",
         "fillcolor": "rgba(255, 153, 51, 0.3)",
         "line": {
          "color": "rgba(255, 153, 51, 1.0)",
          "dash": "solid",
          "shape": "linear",
          "width": 1.3
         },
         "mode": "lines",
         "name": "A",
         "text": "",
         "type": "scatter",
         "x": [
          0,
          1,
          2,
          3,
          4,
          5,
          6,
          7,
          8,
          9,
          10,
          11,
          12,
          13,
          14,
          15,
          16,
          17,
          18,
          19,
          20,
          21,
          22,
          23,
          24,
          25,
          26,
          27,
          28,
          29,
          30,
          31,
          32,
          33,
          34,
          35,
          36,
          37,
          38,
          39,
          40,
          41,
          42,
          43,
          44,
          45,
          46,
          47,
          48,
          49,
          50,
          51,
          52,
          53,
          54,
          55,
          56,
          57,
          58,
          59,
          60,
          61,
          62,
          63,
          64,
          65,
          66,
          67,
          68,
          69,
          70,
          71,
          72,
          73,
          74,
          75,
          76,
          77,
          78,
          79,
          80,
          81,
          82,
          83,
          84,
          85,
          86,
          87,
          88,
          89,
          90,
          91,
          92,
          93,
          94,
          95,
          96,
          97,
          98,
          99
         ],
         "y": [
          1.144703284679413,
          1.5722787271941105,
          1.2203543069389293,
          0.3262294356692099,
          0.33653340984199,
          -0.22898400761619297,
          0.2798817662302078,
          0.3380547124818544,
          0.9922620288427806,
          -0.20706946698884598,
          -0.8317910313693455,
          -0.41198930772017633,
          1.674475504975882,
          1.4417204774455334,
          3.1985994779266798,
          2.9983324813075374,
          3.9452046994678813,
          3.9810545585907513,
          2.8199151683008443,
          2.436384912274818,
          2.4025073096754688,
          2.225590282365636,
          1.2832151777068612,
          0.6928867744888247,
          -0.4911709867439442,
          -1.7307303531846838,
          -2.9208026884371154,
          -1.4647459145959838,
          -1.0922675000999034,
          -1.058554365577961,
          -1.0655953954558703,
          0.03184802772994422,
          -1.3228052168200815,
          -0.7704786315820228,
          0.434254176721374,
          -0.4810486515623198,
          -0.8308711795865421,
          -1.3487641294009656,
          0.042443675879225484,
          1.5041182727283777,
          0.5707847903455265,
          1.5443998976689137,
          2.7795195629738227,
          3.926852807945745,
          4.603051997493748,
          5.042440725573563,
          5.868007230613663,
          6.887240487655134,
          6.796779607141673,
          7.1787185521350425,
          7.812084924008351,
          7.3490492607713875,
          7.657358733279934,
          6.7396517004568,
          4.933501628420706,
          4.66402645743654,
          3.93054976413918,
          3.5316677540594514,
          4.021548944670262,
          2.9936748670072193,
          2.874725745430641,
          4.370053859376738,
          4.306219979674888,
          3.65087432601264,
          4.610403593757262,
          3.677707371322866,
          3.2038952347787557,
          2.762636415878079,
          2.7709285121240366,
          1.6030131260260652,
          2.283368749601624,
          1.51133386487078,
          0.8696012172069488,
          0.4072504458642411,
          2.531829113801064,
          1.6967058474830545,
          2.1648868377580466,
          3.0659332912954427,
          3.638368940851822,
          4.33579202001542,
          5.097439462097295,
          4.733093117713918,
          5.860827792774909,
          4.986389099524408,
          5.768987923204952,
          5.830920530659538,
          5.98392250384305,
          6.296710312039984,
          7.103559007675642,
          7.4456441831272775,
          7.065835248973794,
          6.70879791568223,
          4.411910833324907,
          5.529627285196841,
          6.823367129989277,
          6.3764127524195455,
          6.842380027958228,
          6.877589329123712,
          8.533615064187787,
          9.877267832010245
         ]
        },
        {
         "fill": "tonexty",
         "fillcolor": "rgba(55, 128, 191, 0.3)",
         "line": {
          "color": "rgba(55, 128, 191, 1.0)",
          "dash": "solid",
          "shape": "linear",
          "width": 1.3
         },
         "mode": "lines",
         "name": "B",
         "text": "",
         "type": "scatter",
         "x": [
          0,
          1,
          2,
          3,
          4,
          5,
          6,
          7,
          8,
          9,
          10,
          11,
          12,
          13,
          14,
          15,
          16,
          17,
          18,
          19,
          20,
          21,
          22,
          23,
          24,
          25,
          26,
          27,
          28,
          29,
          30,
          31,
          32,
          33,
          34,
          35,
          36,
          37,
          38,
          39,
          40,
          41,
          42,
          43,
          44,
          45,
          46,
          47,
          48,
          49,
          50,
          51,
          52,
          53,
          54,
          55,
          56,
          57,
          58,
          59,
          60,
          61,
          62,
          63,
          64,
          65,
          66,
          67,
          68,
          69,
          70,
          71,
          72,
          73,
          74,
          75,
          76,
          77,
          78,
          79,
          80,
          81,
          82,
          83,
          84,
          85,
          86,
          87,
          88,
          89,
          90,
          91,
          92,
          93,
          94,
          95,
          96,
          97,
          98,
          99
         ],
         "y": [
          2.045948898646933,
          1.5666095170646812,
          1.9335779443834158,
          1.0287401596864187,
          3.2634163851785196,
          3.697081037331672,
          3.8892638704737816,
          4.192766316932132,
          6.825297455729803,
          5.664962873181915,
          4.6869104029893425,
          4.338386362726058,
          5.867242758771482,
          4.044255387354271,
          4.392315125373197,
          3.8202015602120385,
          4.69233427831905,
          5.29004582425039,
          5.874473652984032,
          6.916565660785174,
          9.119529765186481,
          8.52808482938006,
          7.930589658539062,
          9.156469866252532,
          6.9444773021947235,
          7.702200807263703,
          7.2113814921481225,
          8.367707825304715,
          7.5028328697863325,
          7.017694272683184,
          7.375316263856881,
          9.12313254638914,
          6.223603127849827,
          6.82371436232647,
          8.99811957982772,
          8.742246045022439,
          8.420240190882486,
          8.47338748724739,
          10.614628467226403,
          10.898067078893384,
          11.11576828535522,
          10.837019975239038,
          12.487207117231158,
          12.357998757388739,
          14.025190669224312,
          16.0022426079431,
          17.36755506914742,
          20.540604607062953,
          20.2122684299015,
          20.450141860928063,
          21.140094370937867,
          21.073899638049262,
          21.534379711266872,
          19.68935707303298,
          19.089398843317888,
          19.49082321420746,
          19.482508334709358,
          19.02430863245818,
          19.526178739024548,
          19.36041080034801,
          18.834651999287747,
          20.950484265555033,
          20.647628913191202,
          20.412239484815576,
          20.357025335314518,
          18.805603249661967,
          17.57378953771151,
          17.59316344971807,
          19.614168209983106,
          16.614633585299156,
          15.720064926076699,
          14.166193345908136,
          12.830709591280833,
          13.070560543473247,
          15.59918260317535,
          13.754893297256453,
          14.584407161402204,
          15.655997771042967,
          17.548516166930384,
          17.355070965667025,
          17.581502372587565,
          16.350888544967418,
          16.52170544610069,
          14.971844303755944,
          14.68635520516123,
          14.69231879687089,
          13.321748731388013,
          13.387607125897816,
          12.523649944545284,
          12.669083821414032,
          13.226154447541267,
          14.768008229936989,
          11.805763562022506,
          15.31804020104515,
          15.924275661815509,
          15.961162460295808,
          16.905998830842535,
          17.748222871908848,
          19.548490495202767,
          20.967448661979304
         ]
        },
        {
         "fill": "tonexty",
         "fillcolor": "rgba(50, 171, 96, 0.3)",
         "line": {
          "color": "rgba(50, 171, 96, 1.0)",
          "dash": "solid",
          "shape": "linear",
          "width": 1.3
         },
         "mode": "lines",
         "name": "C",
         "text": "",
         "type": "scatter",
         "x": [
          0,
          1,
          2,
          3,
          4,
          5,
          6,
          7,
          8,
          9,
          10,
          11,
          12,
          13,
          14,
          15,
          16,
          17,
          18,
          19,
          20,
          21,
          22,
          23,
          24,
          25,
          26,
          27,
          28,
          29,
          30,
          31,
          32,
          33,
          34,
          35,
          36,
          37,
          38,
          39,
          40,
          41,
          42,
          43,
          44,
          45,
          46,
          47,
          48,
          49,
          50,
          51,
          52,
          53,
          54,
          55,
          56,
          57,
          58,
          59,
          60,
          61,
          62,
          63,
          64,
          65,
          66,
          67,
          68,
          69,
          70,
          71,
          72,
          73,
          74,
          75,
          76,
          77,
          78,
          79,
          80,
          81,
          82,
          83,
          84,
          85,
          86,
          87,
          88,
          89,
          90,
          91,
          92,
          93,
          94,
          95,
          96,
          97,
          98,
          99
         ],
         "y": [
          2.1641183278280653,
          2.4264646696024066,
          3.2013285997013234,
          1.031111323298802,
          2.178706062169157,
          1.264976676623467,
          -0.2515757436957706,
          0.9436447269259864,
          3.9237884026262617,
          1.058795939235499,
          -1.865863770285367,
          -3.589200939295486,
          -2.5088282945574463,
          -5.4976721684968926,
          -6.1278518917966,
          -8.025741475296897,
          -8.03065504706288,
          -7.225864574912849,
          -6.31312215531248,
          -5.2419786667493575,
          -1.3776411230827392,
          -1.3081620720474483,
          -2.691236300123154,
          -2.522031605888726,
          -5.6083484122339815,
          -5.193446459392789,
          -4.74346299987657,
          -4.25380256475759,
          -5.566725652934655,
          -5.56089202240267,
          -6.727587361959566,
          -5.114816513666314,
          -8.92538872764349,
          -7.892769581049272,
          -4.159735736218538,
          -3.488552541796331,
          -4.085695556771256,
          -4.3628533515077415,
          -1.5322541621292274,
          -3.0820629745100874,
          -2.752907902617272,
          -3.9790596846675417,
          -3.192665613803653,
          -3.318937960828789,
          -1.6719849213577174,
          1.3044515859386063,
          2.918974417134212,
          4.908331732534627,
          3.7289526718307293,
          3.983474521409473,
          4.453203334062188,
          2.4375013647175727,
          2.7972385089109473,
          0.8126805071178396,
          -0.3442966383820796,
          -1.7809014702155501,
          -1.6881968033864112,
          -0.5103088578912285,
          -0.07218077308496618,
          -0.7969699830951846,
          -1.4702479328931233,
          1.0060599245990787,
          0.22096654110844582,
          -0.3003327660202011,
          -1.4595388914954341,
          0.34927853094614747,
          -0.9740164522333359,
          -0.1558103056508422,
          -0.4026225481764101,
          -3.9291916867995624,
          -6.075062782256271,
          -6.258329324587487,
          -7.5545754450021825,
          -7.063767416896722,
          -5.576874366034097,
          -6.837426079392349,
          -6.698649823827335,
          -5.1568510639009535,
          -3.8743826805096084,
          -1.6225865416039653,
          -2.7076402134410706,
          -3.4777919755822673,
          -0.7371623811885364,
          -2.6295970503403225,
          -3.106959088750015,
          -2.1636107446300628,
          -5.070328844365477,
          -5.370854687139804,
          -3.9151169788503175,
          -5.185213633412873,
          -2.8489445118032872,
          -1.0576926210533237,
          -3.62044846508563,
          -0.6768445585800098,
          0.43303638174375614,
          -0.694306119181606,
          0.7897092005609707,
          1.9019188581063595,
          4.232041359500599,
          4.335025333045948
         ]
        }
       ],
       "layout": {
        "legend": {
         "bgcolor": "#151516",
         "font": {
          "color": "#D9D9D9"
         }
        },
        "paper_bgcolor": "#151516",
        "plot_bgcolor": "#151516",
        "template": {
         "data": {
          "bar": [
           {
            "error_x": {
             "color": "#2a3f5f"
            },
            "error_y": {
             "color": "#2a3f5f"
            },
            "marker": {
             "line": {
              "color": "#E5ECF6",
              "width": 0.5
             },
             "pattern": {
              "fillmode": "overlay",
              "size": 10,
              "solidity": 0.2
             }
            },
            "type": "bar"
           }
          ],
          "barpolar": [
           {
            "marker": {
             "line": {
              "color": "#E5ECF6",
              "width": 0.5
             },
             "pattern": {
              "fillmode": "overlay",
              "size": 10,
              "solidity": 0.2
             }
            },
            "type": "barpolar"
           }
          ],
          "carpet": [
           {
            "aaxis": {
             "endlinecolor": "#2a3f5f",
             "gridcolor": "white",
             "linecolor": "white",
             "minorgridcolor": "white",
             "startlinecolor": "#2a3f5f"
            },
            "baxis": {
             "endlinecolor": "#2a3f5f",
             "gridcolor": "white",
             "linecolor": "white",
             "minorgridcolor": "white",
             "startlinecolor": "#2a3f5f"
            },
            "type": "carpet"
           }
          ],
          "choropleth": [
           {
            "colorbar": {
             "outlinewidth": 0,
             "ticks": ""
            },
            "type": "choropleth"
           }
          ],
          "contour": [
           {
            "colorbar": {
             "outlinewidth": 0,
             "ticks": ""
            },
            "colorscale": [
             [
              0,
              "#0d0887"
             ],
             [
              0.1111111111111111,
              "#46039f"
             ],
             [
              0.2222222222222222,
              "#7201a8"
             ],
             [
              0.3333333333333333,
              "#9c179e"
             ],
             [
              0.4444444444444444,
              "#bd3786"
             ],
             [
              0.5555555555555556,
              "#d8576b"
             ],
             [
              0.6666666666666666,
              "#ed7953"
             ],
             [
              0.7777777777777778,
              "#fb9f3a"
             ],
             [
              0.8888888888888888,
              "#fdca26"
             ],
             [
              1,
              "#f0f921"
             ]
            ],
            "type": "contour"
           }
          ],
          "contourcarpet": [
           {
            "colorbar": {
             "outlinewidth": 0,
             "ticks": ""
            },
            "type": "contourcarpet"
           }
          ],
          "heatmap": [
           {
            "colorbar": {
             "outlinewidth": 0,
             "ticks": ""
            },
            "colorscale": [
             [
              0,
              "#0d0887"
             ],
             [
              0.1111111111111111,
              "#46039f"
             ],
             [
              0.2222222222222222,
              "#7201a8"
             ],
             [
              0.3333333333333333,
              "#9c179e"
             ],
             [
              0.4444444444444444,
              "#bd3786"
             ],
             [
              0.5555555555555556,
              "#d8576b"
             ],
             [
              0.6666666666666666,
              "#ed7953"
             ],
             [
              0.7777777777777778,
              "#fb9f3a"
             ],
             [
              0.8888888888888888,
              "#fdca26"
             ],
             [
              1,
              "#f0f921"
             ]
            ],
            "type": "heatmap"
           }
          ],
          "heatmapgl": [
           {
            "colorbar": {
             "outlinewidth": 0,
             "ticks": ""
            },
            "colorscale": [
             [
              0,
              "#0d0887"
             ],
             [
              0.1111111111111111,
              "#46039f"
             ],
             [
              0.2222222222222222,
              "#7201a8"
             ],
             [
              0.3333333333333333,
              "#9c179e"
             ],
             [
              0.4444444444444444,
              "#bd3786"
             ],
             [
              0.5555555555555556,
              "#d8576b"
             ],
             [
              0.6666666666666666,
              "#ed7953"
             ],
             [
              0.7777777777777778,
              "#fb9f3a"
             ],
             [
              0.8888888888888888,
              "#fdca26"
             ],
             [
              1,
              "#f0f921"
             ]
            ],
            "type": "heatmapgl"
           }
          ],
          "histogram": [
           {
            "marker": {
             "pattern": {
              "fillmode": "overlay",
              "size": 10,
              "solidity": 0.2
             }
            },
            "type": "histogram"
           }
          ],
          "histogram2d": [
           {
            "colorbar": {
             "outlinewidth": 0,
             "ticks": ""
            },
            "colorscale": [
             [
              0,
              "#0d0887"
             ],
             [
              0.1111111111111111,
              "#46039f"
             ],
             [
              0.2222222222222222,
              "#7201a8"
             ],
             [
              0.3333333333333333,
              "#9c179e"
             ],
             [
              0.4444444444444444,
              "#bd3786"
             ],
             [
              0.5555555555555556,
              "#d8576b"
             ],
             [
              0.6666666666666666,
              "#ed7953"
             ],
             [
              0.7777777777777778,
              "#fb9f3a"
             ],
             [
              0.8888888888888888,
              "#fdca26"
             ],
             [
              1,
              "#f0f921"
             ]
            ],
            "type": "histogram2d"
           }
          ],
          "histogram2dcontour": [
           {
            "colorbar": {
             "outlinewidth": 0,
             "ticks": ""
            },
            "colorscale": [
             [
              0,
              "#0d0887"
             ],
             [
              0.1111111111111111,
              "#46039f"
             ],
             [
              0.2222222222222222,
              "#7201a8"
             ],
             [
              0.3333333333333333,
              "#9c179e"
             ],
             [
              0.4444444444444444,
              "#bd3786"
             ],
             [
              0.5555555555555556,
              "#d8576b"
             ],
             [
              0.6666666666666666,
              "#ed7953"
             ],
             [
              0.7777777777777778,
              "#fb9f3a"
             ],
             [
              0.8888888888888888,
              "#fdca26"
             ],
             [
              1,
              "#f0f921"
             ]
            ],
            "type": "histogram2dcontour"
           }
          ],
          "mesh3d": [
           {
            "colorbar": {
             "outlinewidth": 0,
             "ticks": ""
            },
            "type": "mesh3d"
           }
          ],
          "parcoords": [
           {
            "line": {
             "colorbar": {
              "outlinewidth": 0,
              "ticks": ""
             }
            },
            "type": "parcoords"
           }
          ],
          "pie": [
           {
            "automargin": true,
            "type": "pie"
           }
          ],
          "scatter": [
           {
            "marker": {
             "colorbar": {
              "outlinewidth": 0,
              "ticks": ""
             }
            },
            "type": "scatter"
           }
          ],
          "scatter3d": [
           {
            "line": {
             "colorbar": {
              "outlinewidth": 0,
              "ticks": ""
             }
            },
            "marker": {
             "colorbar": {
              "outlinewidth": 0,
              "ticks": ""
             }
            },
            "type": "scatter3d"
           }
          ],
          "scattercarpet": [
           {
            "marker": {
             "colorbar": {
              "outlinewidth": 0,
              "ticks": ""
             }
            },
            "type": "scattercarpet"
           }
          ],
          "scattergeo": [
           {
            "marker": {
             "colorbar": {
              "outlinewidth": 0,
              "ticks": ""
             }
            },
            "type": "scattergeo"
           }
          ],
          "scattergl": [
           {
            "marker": {
             "colorbar": {
              "outlinewidth": 0,
              "ticks": ""
             }
            },
            "type": "scattergl"
           }
          ],
          "scattermapbox": [
           {
            "marker": {
             "colorbar": {
              "outlinewidth": 0,
              "ticks": ""
             }
            },
            "type": "scattermapbox"
           }
          ],
          "scatterpolar": [
           {
            "marker": {
             "colorbar": {
              "outlinewidth": 0,
              "ticks": ""
             }
            },
            "type": "scatterpolar"
           }
          ],
          "scatterpolargl": [
           {
            "marker": {
             "colorbar": {
              "outlinewidth": 0,
              "ticks": ""
             }
            },
            "type": "scatterpolargl"
           }
          ],
          "scatterternary": [
           {
            "marker": {
             "colorbar": {
              "outlinewidth": 0,
              "ticks": ""
             }
            },
            "type": "scatterternary"
           }
          ],
          "surface": [
           {
            "colorbar": {
             "outlinewidth": 0,
             "ticks": ""
            },
            "colorscale": [
             [
              0,
              "#0d0887"
             ],
             [
              0.1111111111111111,
              "#46039f"
             ],
             [
              0.2222222222222222,
              "#7201a8"
             ],
             [
              0.3333333333333333,
              "#9c179e"
             ],
             [
              0.4444444444444444,
              "#bd3786"
             ],
             [
              0.5555555555555556,
              "#d8576b"
             ],
             [
              0.6666666666666666,
              "#ed7953"
             ],
             [
              0.7777777777777778,
              "#fb9f3a"
             ],
             [
              0.8888888888888888,
              "#fdca26"
             ],
             [
              1,
              "#f0f921"
             ]
            ],
            "type": "surface"
           }
          ],
          "table": [
           {
            "cells": {
             "fill": {
              "color": "#EBF0F8"
             },
             "line": {
              "color": "white"
             }
            },
            "header": {
             "fill": {
              "color": "#C8D4E3"
             },
             "line": {
              "color": "white"
             }
            },
            "type": "table"
           }
          ]
         },
         "layout": {
          "annotationdefaults": {
           "arrowcolor": "#2a3f5f",
           "arrowhead": 0,
           "arrowwidth": 1
          },
          "autotypenumbers": "strict",
          "coloraxis": {
           "colorbar": {
            "outlinewidth": 0,
            "ticks": ""
           }
          },
          "colorscale": {
           "diverging": [
            [
             0,
             "#8e0152"
            ],
            [
             0.1,
             "#c51b7d"
            ],
            [
             0.2,
             "#de77ae"
            ],
            [
             0.3,
             "#f1b6da"
            ],
            [
             0.4,
             "#fde0ef"
            ],
            [
             0.5,
             "#f7f7f7"
            ],
            [
             0.6,
             "#e6f5d0"
            ],
            [
             0.7,
             "#b8e186"
            ],
            [
             0.8,
             "#7fbc41"
            ],
            [
             0.9,
             "#4d9221"
            ],
            [
             1,
             "#276419"
            ]
           ],
           "sequential": [
            [
             0,
             "#0d0887"
            ],
            [
             0.1111111111111111,
             "#46039f"
            ],
            [
             0.2222222222222222,
             "#7201a8"
            ],
            [
             0.3333333333333333,
             "#9c179e"
            ],
            [
             0.4444444444444444,
             "#bd3786"
            ],
            [
             0.5555555555555556,
             "#d8576b"
            ],
            [
             0.6666666666666666,
             "#ed7953"
            ],
            [
             0.7777777777777778,
             "#fb9f3a"
            ],
            [
             0.8888888888888888,
             "#fdca26"
            ],
            [
             1,
             "#f0f921"
            ]
           ],
           "sequentialminus": [
            [
             0,
             "#0d0887"
            ],
            [
             0.1111111111111111,
             "#46039f"
            ],
            [
             0.2222222222222222,
             "#7201a8"
            ],
            [
             0.3333333333333333,
             "#9c179e"
            ],
            [
             0.4444444444444444,
             "#bd3786"
            ],
            [
             0.5555555555555556,
             "#d8576b"
            ],
            [
             0.6666666666666666,
             "#ed7953"
            ],
            [
             0.7777777777777778,
             "#fb9f3a"
            ],
            [
             0.8888888888888888,
             "#fdca26"
            ],
            [
             1,
             "#f0f921"
            ]
           ]
          },
          "colorway": [
           "#636efa",
           "#EF553B",
           "#00cc96",
           "#ab63fa",
           "#FFA15A",
           "#19d3f3",
           "#FF6692",
           "#B6E880",
           "#FF97FF",
           "#FECB52"
          ],
          "font": {
           "color": "#2a3f5f"
          },
          "geo": {
           "bgcolor": "white",
           "lakecolor": "white",
           "landcolor": "#E5ECF6",
           "showlakes": true,
           "showland": true,
           "subunitcolor": "white"
          },
          "hoverlabel": {
           "align": "left"
          },
          "hovermode": "closest",
          "mapbox": {
           "style": "light"
          },
          "paper_bgcolor": "white",
          "plot_bgcolor": "#E5ECF6",
          "polar": {
           "angularaxis": {
            "gridcolor": "white",
            "linecolor": "white",
            "ticks": ""
           },
           "bgcolor": "#E5ECF6",
           "radialaxis": {
            "gridcolor": "white",
            "linecolor": "white",
            "ticks": ""
           }
          },
          "scene": {
           "xaxis": {
            "backgroundcolor": "#E5ECF6",
            "gridcolor": "white",
            "gridwidth": 2,
            "linecolor": "white",
            "showbackground": true,
            "ticks": "",
            "zerolinecolor": "white"
           },
           "yaxis": {
            "backgroundcolor": "#E5ECF6",
            "gridcolor": "white",
            "gridwidth": 2,
            "linecolor": "white",
            "showbackground": true,
            "ticks": "",
            "zerolinecolor": "white"
           },
           "zaxis": {
            "backgroundcolor": "#E5ECF6",
            "gridcolor": "white",
            "gridwidth": 2,
            "linecolor": "white",
            "showbackground": true,
            "ticks": "",
            "zerolinecolor": "white"
           }
          },
          "shapedefaults": {
           "line": {
            "color": "#2a3f5f"
           }
          },
          "ternary": {
           "aaxis": {
            "gridcolor": "white",
            "linecolor": "white",
            "ticks": ""
           },
           "baxis": {
            "gridcolor": "white",
            "linecolor": "white",
            "ticks": ""
           },
           "bgcolor": "#E5ECF6",
           "caxis": {
            "gridcolor": "white",
            "linecolor": "white",
            "ticks": ""
           }
          },
          "title": {
           "x": 0.05
          },
          "xaxis": {
           "automargin": true,
           "gridcolor": "white",
           "linecolor": "white",
           "ticks": "",
           "title": {
            "standoff": 15
           },
           "zerolinecolor": "white",
           "zerolinewidth": 2
          },
          "yaxis": {
           "automargin": true,
           "gridcolor": "white",
           "linecolor": "white",
           "ticks": "",
           "title": {
            "standoff": 15
           },
           "zerolinecolor": "white",
           "zerolinewidth": 2
          }
         }
        },
        "title": {
         "font": {
          "color": "#D9D9D9"
         }
        },
        "xaxis": {
         "gridcolor": "#434343",
         "showgrid": true,
         "tickfont": {
          "color": "#C2C2C2"
         },
         "title": {
          "font": {
           "color": "#D9D9D9"
          },
          "text": ""
         },
         "zerolinecolor": "#666570"
        },
        "yaxis": {
         "gridcolor": "#434343",
         "showgrid": true,
         "tickfont": {
          "color": "#C2C2C2"
         },
         "title": {
          "font": {
           "color": "#D9D9D9"
          },
          "text": ""
         },
         "zerolinecolor": "#666570"
        }
       }
      },
      "text/html": [
       "<div>                            <div id=\"ab0f0ed8-e5a6-4ac1-a0af-f5613a851f30\" class=\"plotly-graph-div\" style=\"height:525px; width:100%;\"></div>            <script type=\"text/javascript\">                require([\"plotly\"], function(Plotly) {                    window.PLOTLYENV=window.PLOTLYENV || {};\n",
       "                    window.PLOTLYENV.BASE_URL='https://plotly.your-company.com';                                    if (document.getElementById(\"ab0f0ed8-e5a6-4ac1-a0af-f5613a851f30\")) {                    Plotly.newPlot(                        \"ab0f0ed8-e5a6-4ac1-a0af-f5613a851f30\",                        [{\"fill\":\"tonexty\",\"fillcolor\":\"rgba(255, 153, 51, 0.3)\",\"line\":{\"color\":\"rgba(255, 153, 51, 1.0)\",\"dash\":\"solid\",\"shape\":\"linear\",\"width\":1.3},\"mode\":\"lines\",\"name\":\"A\",\"text\":\"\",\"type\":\"scatter\",\"x\":[0,1,2,3,4,5,6,7,8,9,10,11,12,13,14,15,16,17,18,19,20,21,22,23,24,25,26,27,28,29,30,31,32,33,34,35,36,37,38,39,40,41,42,43,44,45,46,47,48,49,50,51,52,53,54,55,56,57,58,59,60,61,62,63,64,65,66,67,68,69,70,71,72,73,74,75,76,77,78,79,80,81,82,83,84,85,86,87,88,89,90,91,92,93,94,95,96,97,98,99],\"y\":[1.144703284679413,1.5722787271941105,1.2203543069389293,0.3262294356692099,0.33653340984199,-0.22898400761619297,0.2798817662302078,0.3380547124818544,0.9922620288427806,-0.20706946698884598,-0.8317910313693455,-0.41198930772017633,1.674475504975882,1.4417204774455334,3.1985994779266798,2.9983324813075374,3.9452046994678813,3.9810545585907513,2.8199151683008443,2.436384912274818,2.4025073096754688,2.225590282365636,1.2832151777068612,0.6928867744888247,-0.4911709867439442,-1.7307303531846838,-2.9208026884371154,-1.4647459145959838,-1.0922675000999034,-1.058554365577961,-1.0655953954558703,0.03184802772994422,-1.3228052168200815,-0.7704786315820228,0.434254176721374,-0.4810486515623198,-0.8308711795865421,-1.3487641294009656,0.042443675879225484,1.5041182727283777,0.5707847903455265,1.5443998976689137,2.7795195629738227,3.926852807945745,4.603051997493748,5.042440725573563,5.868007230613663,6.887240487655134,6.796779607141673,7.1787185521350425,7.812084924008351,7.3490492607713875,7.657358733279934,6.7396517004568,4.933501628420706,4.66402645743654,3.93054976413918,3.5316677540594514,4.021548944670262,2.9936748670072193,2.874725745430641,4.370053859376738,4.306219979674888,3.65087432601264,4.610403593757262,3.677707371322866,3.2038952347787557,2.762636415878079,2.7709285121240366,1.6030131260260652,2.283368749601624,1.51133386487078,0.8696012172069488,0.4072504458642411,2.531829113801064,1.6967058474830545,2.1648868377580466,3.0659332912954427,3.638368940851822,4.33579202001542,5.097439462097295,4.733093117713918,5.860827792774909,4.986389099524408,5.768987923204952,5.830920530659538,5.98392250384305,6.296710312039984,7.103559007675642,7.4456441831272775,7.065835248973794,6.70879791568223,4.411910833324907,5.529627285196841,6.823367129989277,6.3764127524195455,6.842380027958228,6.877589329123712,8.533615064187787,9.877267832010245]},{\"fill\":\"tonexty\",\"fillcolor\":\"rgba(55, 128, 191, 0.3)\",\"line\":{\"color\":\"rgba(55, 128, 191, 1.0)\",\"dash\":\"solid\",\"shape\":\"linear\",\"width\":1.3},\"mode\":\"lines\",\"name\":\"B\",\"text\":\"\",\"type\":\"scatter\",\"x\":[0,1,2,3,4,5,6,7,8,9,10,11,12,13,14,15,16,17,18,19,20,21,22,23,24,25,26,27,28,29,30,31,32,33,34,35,36,37,38,39,40,41,42,43,44,45,46,47,48,49,50,51,52,53,54,55,56,57,58,59,60,61,62,63,64,65,66,67,68,69,70,71,72,73,74,75,76,77,78,79,80,81,82,83,84,85,86,87,88,89,90,91,92,93,94,95,96,97,98,99],\"y\":[2.045948898646933,1.5666095170646812,1.9335779443834158,1.0287401596864187,3.2634163851785196,3.697081037331672,3.8892638704737816,4.192766316932132,6.825297455729803,5.664962873181915,4.6869104029893425,4.338386362726058,5.867242758771482,4.044255387354271,4.392315125373197,3.8202015602120385,4.69233427831905,5.29004582425039,5.874473652984032,6.916565660785174,9.119529765186481,8.52808482938006,7.930589658539062,9.156469866252532,6.9444773021947235,7.702200807263703,7.2113814921481225,8.367707825304715,7.5028328697863325,7.017694272683184,7.375316263856881,9.12313254638914,6.223603127849827,6.82371436232647,8.99811957982772,8.742246045022439,8.420240190882486,8.47338748724739,10.614628467226403,10.898067078893384,11.11576828535522,10.837019975239038,12.487207117231158,12.357998757388739,14.025190669224312,16.0022426079431,17.36755506914742,20.540604607062953,20.2122684299015,20.450141860928063,21.140094370937867,21.073899638049262,21.534379711266872,19.68935707303298,19.089398843317888,19.49082321420746,19.482508334709358,19.02430863245818,19.526178739024548,19.36041080034801,18.834651999287747,20.950484265555033,20.647628913191202,20.412239484815576,20.357025335314518,18.805603249661967,17.57378953771151,17.59316344971807,19.614168209983106,16.614633585299156,15.720064926076699,14.166193345908136,12.830709591280833,13.070560543473247,15.59918260317535,13.754893297256453,14.584407161402204,15.655997771042967,17.548516166930384,17.355070965667025,17.581502372587565,16.350888544967418,16.52170544610069,14.971844303755944,14.68635520516123,14.69231879687089,13.321748731388013,13.387607125897816,12.523649944545284,12.669083821414032,13.226154447541267,14.768008229936989,11.805763562022506,15.31804020104515,15.924275661815509,15.961162460295808,16.905998830842535,17.748222871908848,19.548490495202767,20.967448661979304]},{\"fill\":\"tonexty\",\"fillcolor\":\"rgba(50, 171, 96, 0.3)\",\"line\":{\"color\":\"rgba(50, 171, 96, 1.0)\",\"dash\":\"solid\",\"shape\":\"linear\",\"width\":1.3},\"mode\":\"lines\",\"name\":\"C\",\"text\":\"\",\"type\":\"scatter\",\"x\":[0,1,2,3,4,5,6,7,8,9,10,11,12,13,14,15,16,17,18,19,20,21,22,23,24,25,26,27,28,29,30,31,32,33,34,35,36,37,38,39,40,41,42,43,44,45,46,47,48,49,50,51,52,53,54,55,56,57,58,59,60,61,62,63,64,65,66,67,68,69,70,71,72,73,74,75,76,77,78,79,80,81,82,83,84,85,86,87,88,89,90,91,92,93,94,95,96,97,98,99],\"y\":[2.1641183278280653,2.4264646696024066,3.2013285997013234,1.031111323298802,2.178706062169157,1.264976676623467,-0.2515757436957706,0.9436447269259864,3.9237884026262617,1.058795939235499,-1.865863770285367,-3.589200939295486,-2.5088282945574463,-5.4976721684968926,-6.1278518917966,-8.025741475296897,-8.03065504706288,-7.225864574912849,-6.31312215531248,-5.2419786667493575,-1.3776411230827392,-1.3081620720474483,-2.691236300123154,-2.522031605888726,-5.6083484122339815,-5.193446459392789,-4.74346299987657,-4.25380256475759,-5.566725652934655,-5.56089202240267,-6.727587361959566,-5.114816513666314,-8.92538872764349,-7.892769581049272,-4.159735736218538,-3.488552541796331,-4.085695556771256,-4.3628533515077415,-1.5322541621292274,-3.0820629745100874,-2.752907902617272,-3.9790596846675417,-3.192665613803653,-3.318937960828789,-1.6719849213577174,1.3044515859386063,2.918974417134212,4.908331732534627,3.7289526718307293,3.983474521409473,4.453203334062188,2.4375013647175727,2.7972385089109473,0.8126805071178396,-0.3442966383820796,-1.7809014702155501,-1.6881968033864112,-0.5103088578912285,-0.07218077308496618,-0.7969699830951846,-1.4702479328931233,1.0060599245990787,0.22096654110844582,-0.3003327660202011,-1.4595388914954341,0.34927853094614747,-0.9740164522333359,-0.1558103056508422,-0.4026225481764101,-3.9291916867995624,-6.075062782256271,-6.258329324587487,-7.5545754450021825,-7.063767416896722,-5.576874366034097,-6.837426079392349,-6.698649823827335,-5.1568510639009535,-3.8743826805096084,-1.6225865416039653,-2.7076402134410706,-3.4777919755822673,-0.7371623811885364,-2.6295970503403225,-3.106959088750015,-2.1636107446300628,-5.070328844365477,-5.370854687139804,-3.9151169788503175,-5.185213633412873,-2.8489445118032872,-1.0576926210533237,-3.62044846508563,-0.6768445585800098,0.43303638174375614,-0.694306119181606,0.7897092005609707,1.9019188581063595,4.232041359500599,4.335025333045948]}],                        {\"legend\":{\"bgcolor\":\"#151516\",\"font\":{\"color\":\"#D9D9D9\"}},\"paper_bgcolor\":\"#151516\",\"plot_bgcolor\":\"#151516\",\"template\":{\"data\":{\"bar\":[{\"error_x\":{\"color\":\"#2a3f5f\"},\"error_y\":{\"color\":\"#2a3f5f\"},\"marker\":{\"line\":{\"color\":\"#E5ECF6\",\"width\":0.5},\"pattern\":{\"fillmode\":\"overlay\",\"size\":10,\"solidity\":0.2}},\"type\":\"bar\"}],\"barpolar\":[{\"marker\":{\"line\":{\"color\":\"#E5ECF6\",\"width\":0.5},\"pattern\":{\"fillmode\":\"overlay\",\"size\":10,\"solidity\":0.2}},\"type\":\"barpolar\"}],\"carpet\":[{\"aaxis\":{\"endlinecolor\":\"#2a3f5f\",\"gridcolor\":\"white\",\"linecolor\":\"white\",\"minorgridcolor\":\"white\",\"startlinecolor\":\"#2a3f5f\"},\"baxis\":{\"endlinecolor\":\"#2a3f5f\",\"gridcolor\":\"white\",\"linecolor\":\"white\",\"minorgridcolor\":\"white\",\"startlinecolor\":\"#2a3f5f\"},\"type\":\"carpet\"}],\"choropleth\":[{\"colorbar\":{\"outlinewidth\":0,\"ticks\":\"\"},\"type\":\"choropleth\"}],\"contour\":[{\"colorbar\":{\"outlinewidth\":0,\"ticks\":\"\"},\"colorscale\":[[0.0,\"#0d0887\"],[0.1111111111111111,\"#46039f\"],[0.2222222222222222,\"#7201a8\"],[0.3333333333333333,\"#9c179e\"],[0.4444444444444444,\"#bd3786\"],[0.5555555555555556,\"#d8576b\"],[0.6666666666666666,\"#ed7953\"],[0.7777777777777778,\"#fb9f3a\"],[0.8888888888888888,\"#fdca26\"],[1.0,\"#f0f921\"]],\"type\":\"contour\"}],\"contourcarpet\":[{\"colorbar\":{\"outlinewidth\":0,\"ticks\":\"\"},\"type\":\"contourcarpet\"}],\"heatmap\":[{\"colorbar\":{\"outlinewidth\":0,\"ticks\":\"\"},\"colorscale\":[[0.0,\"#0d0887\"],[0.1111111111111111,\"#46039f\"],[0.2222222222222222,\"#7201a8\"],[0.3333333333333333,\"#9c179e\"],[0.4444444444444444,\"#bd3786\"],[0.5555555555555556,\"#d8576b\"],[0.6666666666666666,\"#ed7953\"],[0.7777777777777778,\"#fb9f3a\"],[0.8888888888888888,\"#fdca26\"],[1.0,\"#f0f921\"]],\"type\":\"heatmap\"}],\"heatmapgl\":[{\"colorbar\":{\"outlinewidth\":0,\"ticks\":\"\"},\"colorscale\":[[0.0,\"#0d0887\"],[0.1111111111111111,\"#46039f\"],[0.2222222222222222,\"#7201a8\"],[0.3333333333333333,\"#9c179e\"],[0.4444444444444444,\"#bd3786\"],[0.5555555555555556,\"#d8576b\"],[0.6666666666666666,\"#ed7953\"],[0.7777777777777778,\"#fb9f3a\"],[0.8888888888888888,\"#fdca26\"],[1.0,\"#f0f921\"]],\"type\":\"heatmapgl\"}],\"histogram\":[{\"marker\":{\"pattern\":{\"fillmode\":\"overlay\",\"size\":10,\"solidity\":0.2}},\"type\":\"histogram\"}],\"histogram2d\":[{\"colorbar\":{\"outlinewidth\":0,\"ticks\":\"\"},\"colorscale\":[[0.0,\"#0d0887\"],[0.1111111111111111,\"#46039f\"],[0.2222222222222222,\"#7201a8\"],[0.3333333333333333,\"#9c179e\"],[0.4444444444444444,\"#bd3786\"],[0.5555555555555556,\"#d8576b\"],[0.6666666666666666,\"#ed7953\"],[0.7777777777777778,\"#fb9f3a\"],[0.8888888888888888,\"#fdca26\"],[1.0,\"#f0f921\"]],\"type\":\"histogram2d\"}],\"histogram2dcontour\":[{\"colorbar\":{\"outlinewidth\":0,\"ticks\":\"\"},\"colorscale\":[[0.0,\"#0d0887\"],[0.1111111111111111,\"#46039f\"],[0.2222222222222222,\"#7201a8\"],[0.3333333333333333,\"#9c179e\"],[0.4444444444444444,\"#bd3786\"],[0.5555555555555556,\"#d8576b\"],[0.6666666666666666,\"#ed7953\"],[0.7777777777777778,\"#fb9f3a\"],[0.8888888888888888,\"#fdca26\"],[1.0,\"#f0f921\"]],\"type\":\"histogram2dcontour\"}],\"mesh3d\":[{\"colorbar\":{\"outlinewidth\":0,\"ticks\":\"\"},\"type\":\"mesh3d\"}],\"parcoords\":[{\"line\":{\"colorbar\":{\"outlinewidth\":0,\"ticks\":\"\"}},\"type\":\"parcoords\"}],\"pie\":[{\"automargin\":true,\"type\":\"pie\"}],\"scatter\":[{\"marker\":{\"colorbar\":{\"outlinewidth\":0,\"ticks\":\"\"}},\"type\":\"scatter\"}],\"scatter3d\":[{\"line\":{\"colorbar\":{\"outlinewidth\":0,\"ticks\":\"\"}},\"marker\":{\"colorbar\":{\"outlinewidth\":0,\"ticks\":\"\"}},\"type\":\"scatter3d\"}],\"scattercarpet\":[{\"marker\":{\"colorbar\":{\"outlinewidth\":0,\"ticks\":\"\"}},\"type\":\"scattercarpet\"}],\"scattergeo\":[{\"marker\":{\"colorbar\":{\"outlinewidth\":0,\"ticks\":\"\"}},\"type\":\"scattergeo\"}],\"scattergl\":[{\"marker\":{\"colorbar\":{\"outlinewidth\":0,\"ticks\":\"\"}},\"type\":\"scattergl\"}],\"scattermapbox\":[{\"marker\":{\"colorbar\":{\"outlinewidth\":0,\"ticks\":\"\"}},\"type\":\"scattermapbox\"}],\"scatterpolar\":[{\"marker\":{\"colorbar\":{\"outlinewidth\":0,\"ticks\":\"\"}},\"type\":\"scatterpolar\"}],\"scatterpolargl\":[{\"marker\":{\"colorbar\":{\"outlinewidth\":0,\"ticks\":\"\"}},\"type\":\"scatterpolargl\"}],\"scatterternary\":[{\"marker\":{\"colorbar\":{\"outlinewidth\":0,\"ticks\":\"\"}},\"type\":\"scatterternary\"}],\"surface\":[{\"colorbar\":{\"outlinewidth\":0,\"ticks\":\"\"},\"colorscale\":[[0.0,\"#0d0887\"],[0.1111111111111111,\"#46039f\"],[0.2222222222222222,\"#7201a8\"],[0.3333333333333333,\"#9c179e\"],[0.4444444444444444,\"#bd3786\"],[0.5555555555555556,\"#d8576b\"],[0.6666666666666666,\"#ed7953\"],[0.7777777777777778,\"#fb9f3a\"],[0.8888888888888888,\"#fdca26\"],[1.0,\"#f0f921\"]],\"type\":\"surface\"}],\"table\":[{\"cells\":{\"fill\":{\"color\":\"#EBF0F8\"},\"line\":{\"color\":\"white\"}},\"header\":{\"fill\":{\"color\":\"#C8D4E3\"},\"line\":{\"color\":\"white\"}},\"type\":\"table\"}]},\"layout\":{\"annotationdefaults\":{\"arrowcolor\":\"#2a3f5f\",\"arrowhead\":0,\"arrowwidth\":1},\"autotypenumbers\":\"strict\",\"coloraxis\":{\"colorbar\":{\"outlinewidth\":0,\"ticks\":\"\"}},\"colorscale\":{\"diverging\":[[0,\"#8e0152\"],[0.1,\"#c51b7d\"],[0.2,\"#de77ae\"],[0.3,\"#f1b6da\"],[0.4,\"#fde0ef\"],[0.5,\"#f7f7f7\"],[0.6,\"#e6f5d0\"],[0.7,\"#b8e186\"],[0.8,\"#7fbc41\"],[0.9,\"#4d9221\"],[1,\"#276419\"]],\"sequential\":[[0.0,\"#0d0887\"],[0.1111111111111111,\"#46039f\"],[0.2222222222222222,\"#7201a8\"],[0.3333333333333333,\"#9c179e\"],[0.4444444444444444,\"#bd3786\"],[0.5555555555555556,\"#d8576b\"],[0.6666666666666666,\"#ed7953\"],[0.7777777777777778,\"#fb9f3a\"],[0.8888888888888888,\"#fdca26\"],[1.0,\"#f0f921\"]],\"sequentialminus\":[[0.0,\"#0d0887\"],[0.1111111111111111,\"#46039f\"],[0.2222222222222222,\"#7201a8\"],[0.3333333333333333,\"#9c179e\"],[0.4444444444444444,\"#bd3786\"],[0.5555555555555556,\"#d8576b\"],[0.6666666666666666,\"#ed7953\"],[0.7777777777777778,\"#fb9f3a\"],[0.8888888888888888,\"#fdca26\"],[1.0,\"#f0f921\"]]},\"colorway\":[\"#636efa\",\"#EF553B\",\"#00cc96\",\"#ab63fa\",\"#FFA15A\",\"#19d3f3\",\"#FF6692\",\"#B6E880\",\"#FF97FF\",\"#FECB52\"],\"font\":{\"color\":\"#2a3f5f\"},\"geo\":{\"bgcolor\":\"white\",\"lakecolor\":\"white\",\"landcolor\":\"#E5ECF6\",\"showlakes\":true,\"showland\":true,\"subunitcolor\":\"white\"},\"hoverlabel\":{\"align\":\"left\"},\"hovermode\":\"closest\",\"mapbox\":{\"style\":\"light\"},\"paper_bgcolor\":\"white\",\"plot_bgcolor\":\"#E5ECF6\",\"polar\":{\"angularaxis\":{\"gridcolor\":\"white\",\"linecolor\":\"white\",\"ticks\":\"\"},\"bgcolor\":\"#E5ECF6\",\"radialaxis\":{\"gridcolor\":\"white\",\"linecolor\":\"white\",\"ticks\":\"\"}},\"scene\":{\"xaxis\":{\"backgroundcolor\":\"#E5ECF6\",\"gridcolor\":\"white\",\"gridwidth\":2,\"linecolor\":\"white\",\"showbackground\":true,\"ticks\":\"\",\"zerolinecolor\":\"white\"},\"yaxis\":{\"backgroundcolor\":\"#E5ECF6\",\"gridcolor\":\"white\",\"gridwidth\":2,\"linecolor\":\"white\",\"showbackground\":true,\"ticks\":\"\",\"zerolinecolor\":\"white\"},\"zaxis\":{\"backgroundcolor\":\"#E5ECF6\",\"gridcolor\":\"white\",\"gridwidth\":2,\"linecolor\":\"white\",\"showbackground\":true,\"ticks\":\"\",\"zerolinecolor\":\"white\"}},\"shapedefaults\":{\"line\":{\"color\":\"#2a3f5f\"}},\"ternary\":{\"aaxis\":{\"gridcolor\":\"white\",\"linecolor\":\"white\",\"ticks\":\"\"},\"baxis\":{\"gridcolor\":\"white\",\"linecolor\":\"white\",\"ticks\":\"\"},\"bgcolor\":\"#E5ECF6\",\"caxis\":{\"gridcolor\":\"white\",\"linecolor\":\"white\",\"ticks\":\"\"}},\"title\":{\"x\":0.05},\"xaxis\":{\"automargin\":true,\"gridcolor\":\"white\",\"linecolor\":\"white\",\"ticks\":\"\",\"title\":{\"standoff\":15},\"zerolinecolor\":\"white\",\"zerolinewidth\":2},\"yaxis\":{\"automargin\":true,\"gridcolor\":\"white\",\"linecolor\":\"white\",\"ticks\":\"\",\"title\":{\"standoff\":15},\"zerolinecolor\":\"white\",\"zerolinewidth\":2}}},\"title\":{\"font\":{\"color\":\"#D9D9D9\"}},\"xaxis\":{\"gridcolor\":\"#434343\",\"showgrid\":true,\"tickfont\":{\"color\":\"#C2C2C2\"},\"title\":{\"font\":{\"color\":\"#D9D9D9\"},\"text\":\"\"},\"zerolinecolor\":\"#666570\"},\"yaxis\":{\"gridcolor\":\"#434343\",\"showgrid\":true,\"tickfont\":{\"color\":\"#C2C2C2\"},\"title\":{\"font\":{\"color\":\"#D9D9D9\"},\"text\":\"\"},\"zerolinecolor\":\"#666570\"}},                        {\"showLink\": true, \"linkText\": \"Export to plotly.your-company.com\", \"plotlyServerURL\": \"https://plotly.your-company.com\", \"responsive\": true}                    ).then(function(){\n",
       "                            \n",
       "var gd = document.getElementById('ab0f0ed8-e5a6-4ac1-a0af-f5613a851f30');\n",
       "var x = new MutationObserver(function (mutations, observer) {{\n",
       "        var display = window.getComputedStyle(gd).display;\n",
       "        if (!display || display === 'none') {{\n",
       "            console.log([gd, 'removed!']);\n",
       "            Plotly.purge(gd);\n",
       "            observer.disconnect();\n",
       "        }}\n",
       "}});\n",
       "\n",
       "// Listen for the removal of the full notebook cells\n",
       "var notebookContainer = gd.closest('#notebook-container');\n",
       "if (notebookContainer) {{\n",
       "    x.observe(notebookContainer, {childList: true});\n",
       "}}\n",
       "\n",
       "// Listen for the clearing of the current output cell\n",
       "var outputEl = gd.closest('.output');\n",
       "if (outputEl) {{\n",
       "    x.observe(outputEl, {childList: true});\n",
       "}}\n",
       "\n",
       "                        })                };                });            </script>        </div>"
      ]
     },
     "metadata": {},
     "output_type": "display_data"
    }
   ],
   "source": [
    "df.cumsum().iplot(kind='area',fill=True)"
   ]
  },
  {
   "cell_type": "code",
   "execution_count": 14,
   "metadata": {},
   "outputs": [
    {
     "data": {
      "application/vnd.plotly.v1+json": {
       "config": {
        "linkText": "Export to plotly.your-company.com",
        "plotlyServerURL": "https://plotly.your-company.com",
        "showLink": true
       },
       "data": [
        {
         "colorscale": [
          [
           0,
           "rgb(255, 153, 51)"
          ],
          [
           0.1111111111111111,
           "rgb(55, 128, 191)"
          ],
          [
           0.2222222222222222,
           "rgb(50, 171, 96)"
          ],
          [
           0.3333333333333333,
           "rgb(128, 0, 128)"
          ],
          [
           0.4444444444444444,
           "rgb(219, 64, 82)"
          ],
          [
           0.5555555555555556,
           "rgb(0, 128, 128)"
          ],
          [
           0.6666666666666666,
           "rgb(255, 255, 51)"
          ],
          [
           0.7777777777777778,
           "rgb(128, 128, 0)"
          ],
          [
           0.8888888888888888,
           "rgb(251, 128, 114)"
          ],
          [
           1,
           "rgb(128, 177, 211)"
          ]
         ],
         "type": "surface",
         "x": [
          0,
          1,
          2,
          3,
          4,
          5,
          6,
          7,
          8,
          9,
          10,
          11,
          12,
          13,
          14,
          15,
          16,
          17,
          18,
          19,
          20,
          21,
          22,
          23,
          24,
          25,
          26,
          27,
          28,
          29,
          30,
          31,
          32,
          33,
          34,
          35,
          36,
          37,
          38,
          39,
          40,
          41,
          42,
          43,
          44,
          45,
          46,
          47,
          48,
          49,
          50,
          51,
          52,
          53,
          54,
          55,
          56,
          57,
          58,
          59,
          60,
          61,
          62,
          63,
          64,
          65,
          66,
          67,
          68,
          69,
          70,
          71,
          72,
          73,
          74,
          75,
          76,
          77,
          78,
          79,
          80,
          81,
          82,
          83,
          84,
          85,
          86,
          87,
          88,
          89,
          90,
          91,
          92,
          93,
          94,
          95,
          96,
          97,
          98,
          99
         ],
         "y": [
          "A",
          "B",
          "C"
         ],
         "z": [
          [
           1.144703284679413,
           0.42757544251469765,
           -0.35192442025518117,
           -0.8941248712697194,
           0.010303974172780074,
           -0.565517417458183,
           0.5088657738464007,
           0.05817294625164663,
           0.6542073163609262,
           -1.1993314958316266,
           -0.6247215643804995,
           0.4198017236491692,
           2.0864648126960583,
           -0.23275502753034852,
           1.7568790004811463,
           -0.2002669966191424,
           0.9468722181603442,
           0.03584985912287011,
           -1.1611393902899068,
           -0.3835302560260267,
           -0.03387760259934896,
           -0.17691702730983283,
           -0.9423751046587749,
           -0.5903284032180365,
           -1.184057761232769,
           -1.2395593664407396,
           -1.1900723352524316,
           1.4560567738411316,
           0.3724784144960803,
           0.03371313452194243,
           -0.007041029877909425,
           1.0974434231858146,
           -1.3546532445500257,
           0.5523265852380587,
           1.2047328083033968,
           -0.9153028282836938,
           -0.3498225280242223,
           -0.5178929498144236,
           1.391207805280191,
           1.4616745968491522,
           -0.9333334823828512,
           0.9736151073233872,
           1.2351196653049088,
           1.1473332449719225,
           0.6761991895480024,
           0.4393887280798155,
           0.8255665050400999,
           1.0192332570414717,
           -0.09046088051346117,
           0.38193894499336983,
           0.6333663718733085,
           -0.463035663236964,
           0.30830947250854623,
           -0.9177070328231333,
           -1.8061500720360941,
           -0.2694751709841663,
           -0.7334766932973601,
           -0.39888201007972846,
           0.48988119061081065,
           -1.0278740776630428,
           -0.11894912157657848,
           1.4953281139460974,
           -0.06383387970184953,
           -0.6553456536622485,
           0.9595292677446223,
           -0.9326962224343956,
           -0.4738121365441105,
           -0.44125881890067653,
           0.008292096245957448,
           -1.1679153860979714,
           0.6803556235755589,
           -0.7720348847308444,
           -0.6417326476638311,
           -0.46235077134270774,
           2.124578667936823,
           -0.8351232663180091,
           0.4681809902749921,
           0.9010464535373961,
           0.5724356495563795,
           0.6974230791635984,
           0.761647442081875,
           -0.3643463443833772,
           1.1277346750609916,
           -0.8744386932505009,
           0.7825988236805438,
           0.06193260745458717,
           0.15300197318351122,
           0.31278780819693397,
           0.8068486956356575,
           0.34208517545163536,
           -0.37980893415348355,
           -0.35703733329156384,
           -2.296887082357323,
           1.117716451871934,
           1.2937398447924362,
           -0.4469543775697318,
           0.4659672755386829,
           0.03520930116548328,
           1.6560257350640744,
           1.3436527678224581
          ],
          [
           0.9012456139675201,
           -0.9069148240969495,
           0.7188928475739158,
           -0.010712913427277598,
           2.2243722513193207,
           0.9991820696113353,
           -0.316682940704291,
           0.24532950020670366,
           1.978323822436745,
           0.03899691328373934,
           -0.3533309058120735,
           -0.768325763912453,
           -0.5576084166506344,
           -1.5902323438868622,
           -1.4088192624622207,
           -0.37184656854201614,
           -0.074739500053332,
           0.5618616868084693,
           1.7455672190235496,
           1.4256222638271683,
           2.236841707000655,
           -0.4145279084965887,
           0.3448799338177773,
           1.8162086109315068,
           -1.0279348028250406,
           1.9972828715097193,
           0.6992530201368505,
           -0.29973044068454013,
           -1.2373533700144632,
           -0.5188517316250908,
           0.36466302105160747,
           0.6503728593464441,
           -1.5448761739892864,
           0.047784649238583735,
           0.9696724091978512,
           0.6594292934784134,
           0.027816673884268412,
           0.571040246179327,
           0.7500331746988234,
           -1.1782359851821727,
           1.1510346888446892,
           -1.2523634174395701,
           0.41506747668721183,
           -1.276541604814342,
           0.9909927222875703,
           1.5376632106389738,
           0.5397459561642224,
           2.153816280874059,
           -0.23787529664798834,
           -0.14406551396680597,
           0.056586138136492124,
           0.3968409303483598,
           0.15217060070906469,
           -0.9273156054107566,
           1.2061918423210012,
           0.6708995418737386,
           0.7251618137992578,
           -0.05931769217145088,
           0.011988915955556631,
           0.8621061389865066,
           -0.40680967948368674,
           0.6205041523211877,
           -0.2390214726619803,
           0.41995622528662285,
           -1.0147434172456777,
           -0.6187258632181581,
           -0.7580015754063466,
           0.4606327309072387,
           2.012712664019078,
           -1.8316192385859789,
           -1.5749242827980148,
           -0.781836695437718,
           -0.693751106963471,
           0.7022017235351213,
           0.40404339176528,
           -1.0091660396008861,
           0.36133287387075724,
           0.1705441561033673,
           1.3200827463310363,
           -0.8908682804269574,
           -0.5352160351613332,
           -0.8662674832367702,
           -0.9569177739277203,
           -0.6754224490942432,
           -1.068087922275257,
           -0.05596901574492606,
           -1.5235720386663867,
           -0.2469294136871314,
           -1.6708058769881922,
           -0.1966512985828853,
           0.9368795602807177,
           1.8988911156872859,
           -0.66535758555716,
           2.3945601871507103,
           -0.6875043840220773,
           0.48384117605003163,
           0.4788690950080444,
           0.807014739900829,
           0.14424188822984477,
           0.0753053989540786
          ],
          [
           0.11816942918113256,
           0.741685723356593,
           0.4078955027801821,
           -1.2653794917055243,
           -1.0870814866217458,
           -1.3473940376988425,
           -1.7087352534613476,
           0.8917180241634067,
           0.34761253690260413,
           -1.7046578808428747,
           -1.9466072393282936,
           -1.374813128746834,
           -0.44848375130738516,
           -1.1658565025222343,
           -0.9782394613186325,
           -1.325776018339137,
           -0.8770462898729945,
           0.20707892621869003,
           0.32831459086672604,
           0.029051480761979543,
           1.661373439265312,
           0.6609239868417132,
           -0.7855790572347076,
           -1.056675513479043,
           -0.8743242422874468,
           -0.3428215522277884,
           0.9408027746318007,
           -0.6666658980376114,
           -0.44804813265868204,
           0.4909722276351332,
           -1.5243173307305933,
           -0.13504543423900814,
           -0.9110427954378634,
           0.4325079121175746,
           1.5586286273294845,
           0.9270567292274876,
           -0.27513716083497314,
           -0.33030509110138906,
           0.6893582093995015,
           -1.8332474240478402,
           0.11145386543098021,
           -0.9474034719340884,
           -0.8637930711282321,
           0.002936012817284153,
           -0.020238872364501972,
           0.9993845685775354,
           0.24921036999128424,
           -1.1836922225151159,
           -0.8510428835424434,
           0.016648418552180785,
           -0.22022369735709013,
           -1.9495072364560115,
           -0.1007429290242349,
           -0.13953536355921473,
           -0.5570189157848265,
           -1.838029202723041,
           0.10101954632723922,
           1.636087647746361,
           -0.06374202176010661,
           -0.5590212713336815,
           -0.1475191487376764,
           0.360475591224915,
           -0.48223803112680164,
           -0.28590987875302204,
           -1.1039919759741768,
           3.3602395080941303,
           -0.09148127122902347,
           0.798832234575934,
           -2.267817002790606,
           -0.527034513939202,
           -1.2513024362342513,
           1.370605037837346,
           0.03923763421260761,
           0.2509570759130447,
           -1.0417290088394782,
           0.5837375925606461,
           -0.6907376085807362,
           0.4702081502856197,
           -0.6100500124960715,
           2.4452413401690007,
           -1.3114850787576462,
           0.4604620654789494,
           2.569812693260461,
           -0.3425735268070394,
           -0.19187293981497872,
           0.9373847524102931,
           -1.5361480342525387,
           -0.3663842372841314,
           2.3196948896420193,
           -1.415530531431303,
           1.7791984954823528,
           0.24939810835424286,
           0.39948882388217594,
           -0.5686727325170238,
           0.5036454795534082,
           -1.1642292994056618,
           0.5391789491958506,
           0.26998561647907604,
           0.529854878100319,
           -1.3159741932311897
          ]
         ]
        }
       ],
       "layout": {
        "legend": {
         "bgcolor": "#151516",
         "font": {
          "color": "#D9D9D9"
         }
        },
        "paper_bgcolor": "#151516",
        "plot_bgcolor": "#151516",
        "template": {
         "data": {
          "bar": [
           {
            "error_x": {
             "color": "#2a3f5f"
            },
            "error_y": {
             "color": "#2a3f5f"
            },
            "marker": {
             "line": {
              "color": "#E5ECF6",
              "width": 0.5
             },
             "pattern": {
              "fillmode": "overlay",
              "size": 10,
              "solidity": 0.2
             }
            },
            "type": "bar"
           }
          ],
          "barpolar": [
           {
            "marker": {
             "line": {
              "color": "#E5ECF6",
              "width": 0.5
             },
             "pattern": {
              "fillmode": "overlay",
              "size": 10,
              "solidity": 0.2
             }
            },
            "type": "barpolar"
           }
          ],
          "carpet": [
           {
            "aaxis": {
             "endlinecolor": "#2a3f5f",
             "gridcolor": "white",
             "linecolor": "white",
             "minorgridcolor": "white",
             "startlinecolor": "#2a3f5f"
            },
            "baxis": {
             "endlinecolor": "#2a3f5f",
             "gridcolor": "white",
             "linecolor": "white",
             "minorgridcolor": "white",
             "startlinecolor": "#2a3f5f"
            },
            "type": "carpet"
           }
          ],
          "choropleth": [
           {
            "colorbar": {
             "outlinewidth": 0,
             "ticks": ""
            },
            "type": "choropleth"
           }
          ],
          "contour": [
           {
            "colorbar": {
             "outlinewidth": 0,
             "ticks": ""
            },
            "colorscale": [
             [
              0,
              "#0d0887"
             ],
             [
              0.1111111111111111,
              "#46039f"
             ],
             [
              0.2222222222222222,
              "#7201a8"
             ],
             [
              0.3333333333333333,
              "#9c179e"
             ],
             [
              0.4444444444444444,
              "#bd3786"
             ],
             [
              0.5555555555555556,
              "#d8576b"
             ],
             [
              0.6666666666666666,
              "#ed7953"
             ],
             [
              0.7777777777777778,
              "#fb9f3a"
             ],
             [
              0.8888888888888888,
              "#fdca26"
             ],
             [
              1,
              "#f0f921"
             ]
            ],
            "type": "contour"
           }
          ],
          "contourcarpet": [
           {
            "colorbar": {
             "outlinewidth": 0,
             "ticks": ""
            },
            "type": "contourcarpet"
           }
          ],
          "heatmap": [
           {
            "colorbar": {
             "outlinewidth": 0,
             "ticks": ""
            },
            "colorscale": [
             [
              0,
              "#0d0887"
             ],
             [
              0.1111111111111111,
              "#46039f"
             ],
             [
              0.2222222222222222,
              "#7201a8"
             ],
             [
              0.3333333333333333,
              "#9c179e"
             ],
             [
              0.4444444444444444,
              "#bd3786"
             ],
             [
              0.5555555555555556,
              "#d8576b"
             ],
             [
              0.6666666666666666,
              "#ed7953"
             ],
             [
              0.7777777777777778,
              "#fb9f3a"
             ],
             [
              0.8888888888888888,
              "#fdca26"
             ],
             [
              1,
              "#f0f921"
             ]
            ],
            "type": "heatmap"
           }
          ],
          "heatmapgl": [
           {
            "colorbar": {
             "outlinewidth": 0,
             "ticks": ""
            },
            "colorscale": [
             [
              0,
              "#0d0887"
             ],
             [
              0.1111111111111111,
              "#46039f"
             ],
             [
              0.2222222222222222,
              "#7201a8"
             ],
             [
              0.3333333333333333,
              "#9c179e"
             ],
             [
              0.4444444444444444,
              "#bd3786"
             ],
             [
              0.5555555555555556,
              "#d8576b"
             ],
             [
              0.6666666666666666,
              "#ed7953"
             ],
             [
              0.7777777777777778,
              "#fb9f3a"
             ],
             [
              0.8888888888888888,
              "#fdca26"
             ],
             [
              1,
              "#f0f921"
             ]
            ],
            "type": "heatmapgl"
           }
          ],
          "histogram": [
           {
            "marker": {
             "pattern": {
              "fillmode": "overlay",
              "size": 10,
              "solidity": 0.2
             }
            },
            "type": "histogram"
           }
          ],
          "histogram2d": [
           {
            "colorbar": {
             "outlinewidth": 0,
             "ticks": ""
            },
            "colorscale": [
             [
              0,
              "#0d0887"
             ],
             [
              0.1111111111111111,
              "#46039f"
             ],
             [
              0.2222222222222222,
              "#7201a8"
             ],
             [
              0.3333333333333333,
              "#9c179e"
             ],
             [
              0.4444444444444444,
              "#bd3786"
             ],
             [
              0.5555555555555556,
              "#d8576b"
             ],
             [
              0.6666666666666666,
              "#ed7953"
             ],
             [
              0.7777777777777778,
              "#fb9f3a"
             ],
             [
              0.8888888888888888,
              "#fdca26"
             ],
             [
              1,
              "#f0f921"
             ]
            ],
            "type": "histogram2d"
           }
          ],
          "histogram2dcontour": [
           {
            "colorbar": {
             "outlinewidth": 0,
             "ticks": ""
            },
            "colorscale": [
             [
              0,
              "#0d0887"
             ],
             [
              0.1111111111111111,
              "#46039f"
             ],
             [
              0.2222222222222222,
              "#7201a8"
             ],
             [
              0.3333333333333333,
              "#9c179e"
             ],
             [
              0.4444444444444444,
              "#bd3786"
             ],
             [
              0.5555555555555556,
              "#d8576b"
             ],
             [
              0.6666666666666666,
              "#ed7953"
             ],
             [
              0.7777777777777778,
              "#fb9f3a"
             ],
             [
              0.8888888888888888,
              "#fdca26"
             ],
             [
              1,
              "#f0f921"
             ]
            ],
            "type": "histogram2dcontour"
           }
          ],
          "mesh3d": [
           {
            "colorbar": {
             "outlinewidth": 0,
             "ticks": ""
            },
            "type": "mesh3d"
           }
          ],
          "parcoords": [
           {
            "line": {
             "colorbar": {
              "outlinewidth": 0,
              "ticks": ""
             }
            },
            "type": "parcoords"
           }
          ],
          "pie": [
           {
            "automargin": true,
            "type": "pie"
           }
          ],
          "scatter": [
           {
            "marker": {
             "colorbar": {
              "outlinewidth": 0,
              "ticks": ""
             }
            },
            "type": "scatter"
           }
          ],
          "scatter3d": [
           {
            "line": {
             "colorbar": {
              "outlinewidth": 0,
              "ticks": ""
             }
            },
            "marker": {
             "colorbar": {
              "outlinewidth": 0,
              "ticks": ""
             }
            },
            "type": "scatter3d"
           }
          ],
          "scattercarpet": [
           {
            "marker": {
             "colorbar": {
              "outlinewidth": 0,
              "ticks": ""
             }
            },
            "type": "scattercarpet"
           }
          ],
          "scattergeo": [
           {
            "marker": {
             "colorbar": {
              "outlinewidth": 0,
              "ticks": ""
             }
            },
            "type": "scattergeo"
           }
          ],
          "scattergl": [
           {
            "marker": {
             "colorbar": {
              "outlinewidth": 0,
              "ticks": ""
             }
            },
            "type": "scattergl"
           }
          ],
          "scattermapbox": [
           {
            "marker": {
             "colorbar": {
              "outlinewidth": 0,
              "ticks": ""
             }
            },
            "type": "scattermapbox"
           }
          ],
          "scatterpolar": [
           {
            "marker": {
             "colorbar": {
              "outlinewidth": 0,
              "ticks": ""
             }
            },
            "type": "scatterpolar"
           }
          ],
          "scatterpolargl": [
           {
            "marker": {
             "colorbar": {
              "outlinewidth": 0,
              "ticks": ""
             }
            },
            "type": "scatterpolargl"
           }
          ],
          "scatterternary": [
           {
            "marker": {
             "colorbar": {
              "outlinewidth": 0,
              "ticks": ""
             }
            },
            "type": "scatterternary"
           }
          ],
          "surface": [
           {
            "colorbar": {
             "outlinewidth": 0,
             "ticks": ""
            },
            "colorscale": [
             [
              0,
              "#0d0887"
             ],
             [
              0.1111111111111111,
              "#46039f"
             ],
             [
              0.2222222222222222,
              "#7201a8"
             ],
             [
              0.3333333333333333,
              "#9c179e"
             ],
             [
              0.4444444444444444,
              "#bd3786"
             ],
             [
              0.5555555555555556,
              "#d8576b"
             ],
             [
              0.6666666666666666,
              "#ed7953"
             ],
             [
              0.7777777777777778,
              "#fb9f3a"
             ],
             [
              0.8888888888888888,
              "#fdca26"
             ],
             [
              1,
              "#f0f921"
             ]
            ],
            "type": "surface"
           }
          ],
          "table": [
           {
            "cells": {
             "fill": {
              "color": "#EBF0F8"
             },
             "line": {
              "color": "white"
             }
            },
            "header": {
             "fill": {
              "color": "#C8D4E3"
             },
             "line": {
              "color": "white"
             }
            },
            "type": "table"
           }
          ]
         },
         "layout": {
          "annotationdefaults": {
           "arrowcolor": "#2a3f5f",
           "arrowhead": 0,
           "arrowwidth": 1
          },
          "autotypenumbers": "strict",
          "coloraxis": {
           "colorbar": {
            "outlinewidth": 0,
            "ticks": ""
           }
          },
          "colorscale": {
           "diverging": [
            [
             0,
             "#8e0152"
            ],
            [
             0.1,
             "#c51b7d"
            ],
            [
             0.2,
             "#de77ae"
            ],
            [
             0.3,
             "#f1b6da"
            ],
            [
             0.4,
             "#fde0ef"
            ],
            [
             0.5,
             "#f7f7f7"
            ],
            [
             0.6,
             "#e6f5d0"
            ],
            [
             0.7,
             "#b8e186"
            ],
            [
             0.8,
             "#7fbc41"
            ],
            [
             0.9,
             "#4d9221"
            ],
            [
             1,
             "#276419"
            ]
           ],
           "sequential": [
            [
             0,
             "#0d0887"
            ],
            [
             0.1111111111111111,
             "#46039f"
            ],
            [
             0.2222222222222222,
             "#7201a8"
            ],
            [
             0.3333333333333333,
             "#9c179e"
            ],
            [
             0.4444444444444444,
             "#bd3786"
            ],
            [
             0.5555555555555556,
             "#d8576b"
            ],
            [
             0.6666666666666666,
             "#ed7953"
            ],
            [
             0.7777777777777778,
             "#fb9f3a"
            ],
            [
             0.8888888888888888,
             "#fdca26"
            ],
            [
             1,
             "#f0f921"
            ]
           ],
           "sequentialminus": [
            [
             0,
             "#0d0887"
            ],
            [
             0.1111111111111111,
             "#46039f"
            ],
            [
             0.2222222222222222,
             "#7201a8"
            ],
            [
             0.3333333333333333,
             "#9c179e"
            ],
            [
             0.4444444444444444,
             "#bd3786"
            ],
            [
             0.5555555555555556,
             "#d8576b"
            ],
            [
             0.6666666666666666,
             "#ed7953"
            ],
            [
             0.7777777777777778,
             "#fb9f3a"
            ],
            [
             0.8888888888888888,
             "#fdca26"
            ],
            [
             1,
             "#f0f921"
            ]
           ]
          },
          "colorway": [
           "#636efa",
           "#EF553B",
           "#00cc96",
           "#ab63fa",
           "#FFA15A",
           "#19d3f3",
           "#FF6692",
           "#B6E880",
           "#FF97FF",
           "#FECB52"
          ],
          "font": {
           "color": "#2a3f5f"
          },
          "geo": {
           "bgcolor": "white",
           "lakecolor": "white",
           "landcolor": "#E5ECF6",
           "showlakes": true,
           "showland": true,
           "subunitcolor": "white"
          },
          "hoverlabel": {
           "align": "left"
          },
          "hovermode": "closest",
          "mapbox": {
           "style": "light"
          },
          "paper_bgcolor": "white",
          "plot_bgcolor": "#E5ECF6",
          "polar": {
           "angularaxis": {
            "gridcolor": "white",
            "linecolor": "white",
            "ticks": ""
           },
           "bgcolor": "#E5ECF6",
           "radialaxis": {
            "gridcolor": "white",
            "linecolor": "white",
            "ticks": ""
           }
          },
          "scene": {
           "xaxis": {
            "backgroundcolor": "#E5ECF6",
            "gridcolor": "white",
            "gridwidth": 2,
            "linecolor": "white",
            "showbackground": true,
            "ticks": "",
            "zerolinecolor": "white"
           },
           "yaxis": {
            "backgroundcolor": "#E5ECF6",
            "gridcolor": "white",
            "gridwidth": 2,
            "linecolor": "white",
            "showbackground": true,
            "ticks": "",
            "zerolinecolor": "white"
           },
           "zaxis": {
            "backgroundcolor": "#E5ECF6",
            "gridcolor": "white",
            "gridwidth": 2,
            "linecolor": "white",
            "showbackground": true,
            "ticks": "",
            "zerolinecolor": "white"
           }
          },
          "shapedefaults": {
           "line": {
            "color": "#2a3f5f"
           }
          },
          "ternary": {
           "aaxis": {
            "gridcolor": "white",
            "linecolor": "white",
            "ticks": ""
           },
           "baxis": {
            "gridcolor": "white",
            "linecolor": "white",
            "ticks": ""
           },
           "bgcolor": "#E5ECF6",
           "caxis": {
            "gridcolor": "white",
            "linecolor": "white",
            "ticks": ""
           }
          },
          "title": {
           "x": 0.05
          },
          "xaxis": {
           "automargin": true,
           "gridcolor": "white",
           "linecolor": "white",
           "ticks": "",
           "title": {
            "standoff": 15
           },
           "zerolinecolor": "white",
           "zerolinewidth": 2
          },
          "yaxis": {
           "automargin": true,
           "gridcolor": "white",
           "linecolor": "white",
           "ticks": "",
           "title": {
            "standoff": 15
           },
           "zerolinecolor": "white",
           "zerolinewidth": 2
          }
         }
        },
        "title": {
         "font": {
          "color": "#D9D9D9"
         }
        },
        "xaxis": {
         "gridcolor": "#434343",
         "showgrid": true,
         "tickfont": {
          "color": "#C2C2C2"
         },
         "title": {
          "font": {
           "color": "#D9D9D9"
          },
          "text": ""
         },
         "zerolinecolor": "#666570"
        },
        "yaxis": {
         "gridcolor": "#434343",
         "showgrid": true,
         "tickfont": {
          "color": "#C2C2C2"
         },
         "title": {
          "font": {
           "color": "#D9D9D9"
          },
          "text": ""
         },
         "zerolinecolor": "#666570"
        }
       }
      },
      "text/html": [
       "<div>                            <div id=\"25d5ed3d-c7e2-49d0-bb2c-fe4af3bc8d7c\" class=\"plotly-graph-div\" style=\"height:525px; width:100%;\"></div>            <script type=\"text/javascript\">                require([\"plotly\"], function(Plotly) {                    window.PLOTLYENV=window.PLOTLYENV || {};\n",
       "                    window.PLOTLYENV.BASE_URL='https://plotly.your-company.com';                                    if (document.getElementById(\"25d5ed3d-c7e2-49d0-bb2c-fe4af3bc8d7c\")) {                    Plotly.newPlot(                        \"25d5ed3d-c7e2-49d0-bb2c-fe4af3bc8d7c\",                        [{\"colorscale\":[[0.0,\"rgb(255, 153, 51)\"],[0.1111111111111111,\"rgb(55, 128, 191)\"],[0.2222222222222222,\"rgb(50, 171, 96)\"],[0.3333333333333333,\"rgb(128, 0, 128)\"],[0.4444444444444444,\"rgb(219, 64, 82)\"],[0.5555555555555556,\"rgb(0, 128, 128)\"],[0.6666666666666666,\"rgb(255, 255, 51)\"],[0.7777777777777778,\"rgb(128, 128, 0)\"],[0.8888888888888888,\"rgb(251, 128, 114)\"],[1.0,\"rgb(128, 177, 211)\"]],\"type\":\"surface\",\"x\":[0,1,2,3,4,5,6,7,8,9,10,11,12,13,14,15,16,17,18,19,20,21,22,23,24,25,26,27,28,29,30,31,32,33,34,35,36,37,38,39,40,41,42,43,44,45,46,47,48,49,50,51,52,53,54,55,56,57,58,59,60,61,62,63,64,65,66,67,68,69,70,71,72,73,74,75,76,77,78,79,80,81,82,83,84,85,86,87,88,89,90,91,92,93,94,95,96,97,98,99],\"y\":[\"A\",\"B\",\"C\"],\"z\":[[1.144703284679413,0.42757544251469765,-0.35192442025518117,-0.8941248712697194,0.010303974172780074,-0.565517417458183,0.5088657738464007,0.05817294625164663,0.6542073163609262,-1.1993314958316266,-0.6247215643804995,0.4198017236491692,2.0864648126960583,-0.23275502753034852,1.7568790004811463,-0.2002669966191424,0.9468722181603442,0.03584985912287011,-1.1611393902899068,-0.3835302560260267,-0.03387760259934896,-0.17691702730983283,-0.9423751046587749,-0.5903284032180365,-1.184057761232769,-1.2395593664407396,-1.1900723352524316,1.4560567738411316,0.3724784144960803,0.03371313452194243,-0.007041029877909425,1.0974434231858146,-1.3546532445500257,0.5523265852380587,1.2047328083033968,-0.9153028282836938,-0.3498225280242223,-0.5178929498144236,1.391207805280191,1.4616745968491522,-0.9333334823828512,0.9736151073233872,1.2351196653049088,1.1473332449719225,0.6761991895480024,0.4393887280798155,0.8255665050400999,1.0192332570414717,-0.09046088051346117,0.38193894499336983,0.6333663718733085,-0.463035663236964,0.30830947250854623,-0.9177070328231333,-1.8061500720360941,-0.2694751709841663,-0.7334766932973601,-0.39888201007972846,0.48988119061081065,-1.0278740776630428,-0.11894912157657848,1.4953281139460974,-0.06383387970184953,-0.6553456536622485,0.9595292677446223,-0.9326962224343956,-0.4738121365441105,-0.44125881890067653,0.008292096245957448,-1.1679153860979714,0.6803556235755589,-0.7720348847308444,-0.6417326476638311,-0.46235077134270774,2.124578667936823,-0.8351232663180091,0.4681809902749921,0.9010464535373961,0.5724356495563795,0.6974230791635984,0.761647442081875,-0.3643463443833772,1.1277346750609916,-0.8744386932505009,0.7825988236805438,0.06193260745458717,0.15300197318351122,0.31278780819693397,0.8068486956356575,0.34208517545163536,-0.37980893415348355,-0.35703733329156384,-2.296887082357323,1.117716451871934,1.2937398447924362,-0.4469543775697318,0.4659672755386829,0.03520930116548328,1.6560257350640744,1.3436527678224581],[0.9012456139675201,-0.9069148240969495,0.7188928475739158,-0.010712913427277598,2.2243722513193207,0.9991820696113353,-0.316682940704291,0.24532950020670366,1.978323822436745,0.03899691328373934,-0.3533309058120735,-0.768325763912453,-0.5576084166506344,-1.5902323438868622,-1.4088192624622207,-0.37184656854201614,-0.074739500053332,0.5618616868084693,1.7455672190235496,1.4256222638271683,2.236841707000655,-0.4145279084965887,0.3448799338177773,1.8162086109315068,-1.0279348028250406,1.9972828715097193,0.6992530201368505,-0.29973044068454013,-1.2373533700144632,-0.5188517316250908,0.36466302105160747,0.6503728593464441,-1.5448761739892864,0.047784649238583735,0.9696724091978512,0.6594292934784134,0.027816673884268412,0.571040246179327,0.7500331746988234,-1.1782359851821727,1.1510346888446892,-1.2523634174395701,0.41506747668721183,-1.276541604814342,0.9909927222875703,1.5376632106389738,0.5397459561642224,2.153816280874059,-0.23787529664798834,-0.14406551396680597,0.056586138136492124,0.3968409303483598,0.15217060070906469,-0.9273156054107566,1.2061918423210012,0.6708995418737386,0.7251618137992578,-0.05931769217145088,0.011988915955556631,0.8621061389865066,-0.40680967948368674,0.6205041523211877,-0.2390214726619803,0.41995622528662285,-1.0147434172456777,-0.6187258632181581,-0.7580015754063466,0.4606327309072387,2.012712664019078,-1.8316192385859789,-1.5749242827980148,-0.781836695437718,-0.693751106963471,0.7022017235351213,0.40404339176528,-1.0091660396008861,0.36133287387075724,0.1705441561033673,1.3200827463310363,-0.8908682804269574,-0.5352160351613332,-0.8662674832367702,-0.9569177739277203,-0.6754224490942432,-1.068087922275257,-0.05596901574492606,-1.5235720386663867,-0.2469294136871314,-1.6708058769881922,-0.1966512985828853,0.9368795602807177,1.8988911156872859,-0.66535758555716,2.3945601871507103,-0.6875043840220773,0.48384117605003163,0.4788690950080444,0.807014739900829,0.14424188822984477,0.0753053989540786],[0.11816942918113256,0.741685723356593,0.4078955027801821,-1.2653794917055243,-1.0870814866217458,-1.3473940376988425,-1.7087352534613476,0.8917180241634067,0.34761253690260413,-1.7046578808428747,-1.9466072393282936,-1.374813128746834,-0.44848375130738516,-1.1658565025222343,-0.9782394613186325,-1.325776018339137,-0.8770462898729945,0.20707892621869003,0.32831459086672604,0.029051480761979543,1.661373439265312,0.6609239868417132,-0.7855790572347076,-1.056675513479043,-0.8743242422874468,-0.3428215522277884,0.9408027746318007,-0.6666658980376114,-0.44804813265868204,0.4909722276351332,-1.5243173307305933,-0.13504543423900814,-0.9110427954378634,0.4325079121175746,1.5586286273294845,0.9270567292274876,-0.27513716083497314,-0.33030509110138906,0.6893582093995015,-1.8332474240478402,0.11145386543098021,-0.9474034719340884,-0.8637930711282321,0.002936012817284153,-0.020238872364501972,0.9993845685775354,0.24921036999128424,-1.1836922225151159,-0.8510428835424434,0.016648418552180785,-0.22022369735709013,-1.9495072364560115,-0.1007429290242349,-0.13953536355921473,-0.5570189157848265,-1.838029202723041,0.10101954632723922,1.636087647746361,-0.06374202176010661,-0.5590212713336815,-0.1475191487376764,0.360475591224915,-0.48223803112680164,-0.28590987875302204,-1.1039919759741768,3.3602395080941303,-0.09148127122902347,0.798832234575934,-2.267817002790606,-0.527034513939202,-1.2513024362342513,1.370605037837346,0.03923763421260761,0.2509570759130447,-1.0417290088394782,0.5837375925606461,-0.6907376085807362,0.4702081502856197,-0.6100500124960715,2.4452413401690007,-1.3114850787576462,0.4604620654789494,2.569812693260461,-0.3425735268070394,-0.19187293981497872,0.9373847524102931,-1.5361480342525387,-0.3663842372841314,2.3196948896420193,-1.415530531431303,1.7791984954823528,0.24939810835424286,0.39948882388217594,-0.5686727325170238,0.5036454795534082,-1.1642292994056618,0.5391789491958506,0.26998561647907604,0.529854878100319,-1.3159741932311897]]}],                        {\"legend\":{\"bgcolor\":\"#151516\",\"font\":{\"color\":\"#D9D9D9\"}},\"paper_bgcolor\":\"#151516\",\"plot_bgcolor\":\"#151516\",\"template\":{\"data\":{\"bar\":[{\"error_x\":{\"color\":\"#2a3f5f\"},\"error_y\":{\"color\":\"#2a3f5f\"},\"marker\":{\"line\":{\"color\":\"#E5ECF6\",\"width\":0.5},\"pattern\":{\"fillmode\":\"overlay\",\"size\":10,\"solidity\":0.2}},\"type\":\"bar\"}],\"barpolar\":[{\"marker\":{\"line\":{\"color\":\"#E5ECF6\",\"width\":0.5},\"pattern\":{\"fillmode\":\"overlay\",\"size\":10,\"solidity\":0.2}},\"type\":\"barpolar\"}],\"carpet\":[{\"aaxis\":{\"endlinecolor\":\"#2a3f5f\",\"gridcolor\":\"white\",\"linecolor\":\"white\",\"minorgridcolor\":\"white\",\"startlinecolor\":\"#2a3f5f\"},\"baxis\":{\"endlinecolor\":\"#2a3f5f\",\"gridcolor\":\"white\",\"linecolor\":\"white\",\"minorgridcolor\":\"white\",\"startlinecolor\":\"#2a3f5f\"},\"type\":\"carpet\"}],\"choropleth\":[{\"colorbar\":{\"outlinewidth\":0,\"ticks\":\"\"},\"type\":\"choropleth\"}],\"contour\":[{\"colorbar\":{\"outlinewidth\":0,\"ticks\":\"\"},\"colorscale\":[[0.0,\"#0d0887\"],[0.1111111111111111,\"#46039f\"],[0.2222222222222222,\"#7201a8\"],[0.3333333333333333,\"#9c179e\"],[0.4444444444444444,\"#bd3786\"],[0.5555555555555556,\"#d8576b\"],[0.6666666666666666,\"#ed7953\"],[0.7777777777777778,\"#fb9f3a\"],[0.8888888888888888,\"#fdca26\"],[1.0,\"#f0f921\"]],\"type\":\"contour\"}],\"contourcarpet\":[{\"colorbar\":{\"outlinewidth\":0,\"ticks\":\"\"},\"type\":\"contourcarpet\"}],\"heatmap\":[{\"colorbar\":{\"outlinewidth\":0,\"ticks\":\"\"},\"colorscale\":[[0.0,\"#0d0887\"],[0.1111111111111111,\"#46039f\"],[0.2222222222222222,\"#7201a8\"],[0.3333333333333333,\"#9c179e\"],[0.4444444444444444,\"#bd3786\"],[0.5555555555555556,\"#d8576b\"],[0.6666666666666666,\"#ed7953\"],[0.7777777777777778,\"#fb9f3a\"],[0.8888888888888888,\"#fdca26\"],[1.0,\"#f0f921\"]],\"type\":\"heatmap\"}],\"heatmapgl\":[{\"colorbar\":{\"outlinewidth\":0,\"ticks\":\"\"},\"colorscale\":[[0.0,\"#0d0887\"],[0.1111111111111111,\"#46039f\"],[0.2222222222222222,\"#7201a8\"],[0.3333333333333333,\"#9c179e\"],[0.4444444444444444,\"#bd3786\"],[0.5555555555555556,\"#d8576b\"],[0.6666666666666666,\"#ed7953\"],[0.7777777777777778,\"#fb9f3a\"],[0.8888888888888888,\"#fdca26\"],[1.0,\"#f0f921\"]],\"type\":\"heatmapgl\"}],\"histogram\":[{\"marker\":{\"pattern\":{\"fillmode\":\"overlay\",\"size\":10,\"solidity\":0.2}},\"type\":\"histogram\"}],\"histogram2d\":[{\"colorbar\":{\"outlinewidth\":0,\"ticks\":\"\"},\"colorscale\":[[0.0,\"#0d0887\"],[0.1111111111111111,\"#46039f\"],[0.2222222222222222,\"#7201a8\"],[0.3333333333333333,\"#9c179e\"],[0.4444444444444444,\"#bd3786\"],[0.5555555555555556,\"#d8576b\"],[0.6666666666666666,\"#ed7953\"],[0.7777777777777778,\"#fb9f3a\"],[0.8888888888888888,\"#fdca26\"],[1.0,\"#f0f921\"]],\"type\":\"histogram2d\"}],\"histogram2dcontour\":[{\"colorbar\":{\"outlinewidth\":0,\"ticks\":\"\"},\"colorscale\":[[0.0,\"#0d0887\"],[0.1111111111111111,\"#46039f\"],[0.2222222222222222,\"#7201a8\"],[0.3333333333333333,\"#9c179e\"],[0.4444444444444444,\"#bd3786\"],[0.5555555555555556,\"#d8576b\"],[0.6666666666666666,\"#ed7953\"],[0.7777777777777778,\"#fb9f3a\"],[0.8888888888888888,\"#fdca26\"],[1.0,\"#f0f921\"]],\"type\":\"histogram2dcontour\"}],\"mesh3d\":[{\"colorbar\":{\"outlinewidth\":0,\"ticks\":\"\"},\"type\":\"mesh3d\"}],\"parcoords\":[{\"line\":{\"colorbar\":{\"outlinewidth\":0,\"ticks\":\"\"}},\"type\":\"parcoords\"}],\"pie\":[{\"automargin\":true,\"type\":\"pie\"}],\"scatter\":[{\"marker\":{\"colorbar\":{\"outlinewidth\":0,\"ticks\":\"\"}},\"type\":\"scatter\"}],\"scatter3d\":[{\"line\":{\"colorbar\":{\"outlinewidth\":0,\"ticks\":\"\"}},\"marker\":{\"colorbar\":{\"outlinewidth\":0,\"ticks\":\"\"}},\"type\":\"scatter3d\"}],\"scattercarpet\":[{\"marker\":{\"colorbar\":{\"outlinewidth\":0,\"ticks\":\"\"}},\"type\":\"scattercarpet\"}],\"scattergeo\":[{\"marker\":{\"colorbar\":{\"outlinewidth\":0,\"ticks\":\"\"}},\"type\":\"scattergeo\"}],\"scattergl\":[{\"marker\":{\"colorbar\":{\"outlinewidth\":0,\"ticks\":\"\"}},\"type\":\"scattergl\"}],\"scattermapbox\":[{\"marker\":{\"colorbar\":{\"outlinewidth\":0,\"ticks\":\"\"}},\"type\":\"scattermapbox\"}],\"scatterpolar\":[{\"marker\":{\"colorbar\":{\"outlinewidth\":0,\"ticks\":\"\"}},\"type\":\"scatterpolar\"}],\"scatterpolargl\":[{\"marker\":{\"colorbar\":{\"outlinewidth\":0,\"ticks\":\"\"}},\"type\":\"scatterpolargl\"}],\"scatterternary\":[{\"marker\":{\"colorbar\":{\"outlinewidth\":0,\"ticks\":\"\"}},\"type\":\"scatterternary\"}],\"surface\":[{\"colorbar\":{\"outlinewidth\":0,\"ticks\":\"\"},\"colorscale\":[[0.0,\"#0d0887\"],[0.1111111111111111,\"#46039f\"],[0.2222222222222222,\"#7201a8\"],[0.3333333333333333,\"#9c179e\"],[0.4444444444444444,\"#bd3786\"],[0.5555555555555556,\"#d8576b\"],[0.6666666666666666,\"#ed7953\"],[0.7777777777777778,\"#fb9f3a\"],[0.8888888888888888,\"#fdca26\"],[1.0,\"#f0f921\"]],\"type\":\"surface\"}],\"table\":[{\"cells\":{\"fill\":{\"color\":\"#EBF0F8\"},\"line\":{\"color\":\"white\"}},\"header\":{\"fill\":{\"color\":\"#C8D4E3\"},\"line\":{\"color\":\"white\"}},\"type\":\"table\"}]},\"layout\":{\"annotationdefaults\":{\"arrowcolor\":\"#2a3f5f\",\"arrowhead\":0,\"arrowwidth\":1},\"autotypenumbers\":\"strict\",\"coloraxis\":{\"colorbar\":{\"outlinewidth\":0,\"ticks\":\"\"}},\"colorscale\":{\"diverging\":[[0,\"#8e0152\"],[0.1,\"#c51b7d\"],[0.2,\"#de77ae\"],[0.3,\"#f1b6da\"],[0.4,\"#fde0ef\"],[0.5,\"#f7f7f7\"],[0.6,\"#e6f5d0\"],[0.7,\"#b8e186\"],[0.8,\"#7fbc41\"],[0.9,\"#4d9221\"],[1,\"#276419\"]],\"sequential\":[[0.0,\"#0d0887\"],[0.1111111111111111,\"#46039f\"],[0.2222222222222222,\"#7201a8\"],[0.3333333333333333,\"#9c179e\"],[0.4444444444444444,\"#bd3786\"],[0.5555555555555556,\"#d8576b\"],[0.6666666666666666,\"#ed7953\"],[0.7777777777777778,\"#fb9f3a\"],[0.8888888888888888,\"#fdca26\"],[1.0,\"#f0f921\"]],\"sequentialminus\":[[0.0,\"#0d0887\"],[0.1111111111111111,\"#46039f\"],[0.2222222222222222,\"#7201a8\"],[0.3333333333333333,\"#9c179e\"],[0.4444444444444444,\"#bd3786\"],[0.5555555555555556,\"#d8576b\"],[0.6666666666666666,\"#ed7953\"],[0.7777777777777778,\"#fb9f3a\"],[0.8888888888888888,\"#fdca26\"],[1.0,\"#f0f921\"]]},\"colorway\":[\"#636efa\",\"#EF553B\",\"#00cc96\",\"#ab63fa\",\"#FFA15A\",\"#19d3f3\",\"#FF6692\",\"#B6E880\",\"#FF97FF\",\"#FECB52\"],\"font\":{\"color\":\"#2a3f5f\"},\"geo\":{\"bgcolor\":\"white\",\"lakecolor\":\"white\",\"landcolor\":\"#E5ECF6\",\"showlakes\":true,\"showland\":true,\"subunitcolor\":\"white\"},\"hoverlabel\":{\"align\":\"left\"},\"hovermode\":\"closest\",\"mapbox\":{\"style\":\"light\"},\"paper_bgcolor\":\"white\",\"plot_bgcolor\":\"#E5ECF6\",\"polar\":{\"angularaxis\":{\"gridcolor\":\"white\",\"linecolor\":\"white\",\"ticks\":\"\"},\"bgcolor\":\"#E5ECF6\",\"radialaxis\":{\"gridcolor\":\"white\",\"linecolor\":\"white\",\"ticks\":\"\"}},\"scene\":{\"xaxis\":{\"backgroundcolor\":\"#E5ECF6\",\"gridcolor\":\"white\",\"gridwidth\":2,\"linecolor\":\"white\",\"showbackground\":true,\"ticks\":\"\",\"zerolinecolor\":\"white\"},\"yaxis\":{\"backgroundcolor\":\"#E5ECF6\",\"gridcolor\":\"white\",\"gridwidth\":2,\"linecolor\":\"white\",\"showbackground\":true,\"ticks\":\"\",\"zerolinecolor\":\"white\"},\"zaxis\":{\"backgroundcolor\":\"#E5ECF6\",\"gridcolor\":\"white\",\"gridwidth\":2,\"linecolor\":\"white\",\"showbackground\":true,\"ticks\":\"\",\"zerolinecolor\":\"white\"}},\"shapedefaults\":{\"line\":{\"color\":\"#2a3f5f\"}},\"ternary\":{\"aaxis\":{\"gridcolor\":\"white\",\"linecolor\":\"white\",\"ticks\":\"\"},\"baxis\":{\"gridcolor\":\"white\",\"linecolor\":\"white\",\"ticks\":\"\"},\"bgcolor\":\"#E5ECF6\",\"caxis\":{\"gridcolor\":\"white\",\"linecolor\":\"white\",\"ticks\":\"\"}},\"title\":{\"x\":0.05},\"xaxis\":{\"automargin\":true,\"gridcolor\":\"white\",\"linecolor\":\"white\",\"ticks\":\"\",\"title\":{\"standoff\":15},\"zerolinecolor\":\"white\",\"zerolinewidth\":2},\"yaxis\":{\"automargin\":true,\"gridcolor\":\"white\",\"linecolor\":\"white\",\"ticks\":\"\",\"title\":{\"standoff\":15},\"zerolinecolor\":\"white\",\"zerolinewidth\":2}}},\"title\":{\"font\":{\"color\":\"#D9D9D9\"}},\"xaxis\":{\"gridcolor\":\"#434343\",\"showgrid\":true,\"tickfont\":{\"color\":\"#C2C2C2\"},\"title\":{\"font\":{\"color\":\"#D9D9D9\"},\"text\":\"\"},\"zerolinecolor\":\"#666570\"},\"yaxis\":{\"gridcolor\":\"#434343\",\"showgrid\":true,\"tickfont\":{\"color\":\"#C2C2C2\"},\"title\":{\"font\":{\"color\":\"#D9D9D9\"},\"text\":\"\"},\"zerolinecolor\":\"#666570\"}},                        {\"showLink\": true, \"linkText\": \"Export to plotly.your-company.com\", \"plotlyServerURL\": \"https://plotly.your-company.com\", \"responsive\": true}                    ).then(function(){\n",
       "                            \n",
       "var gd = document.getElementById('25d5ed3d-c7e2-49d0-bb2c-fe4af3bc8d7c');\n",
       "var x = new MutationObserver(function (mutations, observer) {{\n",
       "        var display = window.getComputedStyle(gd).display;\n",
       "        if (!display || display === 'none') {{\n",
       "            console.log([gd, 'removed!']);\n",
       "            Plotly.purge(gd);\n",
       "            observer.disconnect();\n",
       "        }}\n",
       "}});\n",
       "\n",
       "// Listen for the removal of the full notebook cells\n",
       "var notebookContainer = gd.closest('#notebook-container');\n",
       "if (notebookContainer) {{\n",
       "    x.observe(notebookContainer, {childList: true});\n",
       "}}\n",
       "\n",
       "// Listen for the clearing of the current output cell\n",
       "var outputEl = gd.closest('.output');\n",
       "if (outputEl) {{\n",
       "    x.observe(outputEl, {childList: true});\n",
       "}}\n",
       "\n",
       "                        })                };                });            </script>        </div>"
      ]
     },
     "metadata": {},
     "output_type": "display_data"
    }
   ],
   "source": [
    "df.iplot(kind='surface')"
   ]
  },
  {
   "cell_type": "code",
   "execution_count": 15,
   "metadata": {},
   "outputs": [
    {
     "name": "stderr",
     "output_type": "stream",
     "text": [
      "F:\\anaconda\\lib\\site-packages\\cufflinks\\datagen.py:380: RuntimeWarning:\n",
      "\n",
      "invalid value encountered in true_divide\n",
      "\n"
     ]
    },
    {
     "data": {
      "application/vnd.plotly.v1+json": {
       "config": {
        "linkText": "Export to plotly.your-company.com",
        "plotlyServerURL": "https://plotly.your-company.com",
        "showLink": true
       },
       "data": [
        {
         "colorscale": [
          [
           0,
           "rgb(255, 153, 51)"
          ],
          [
           0.1111111111111111,
           "rgb(55, 128, 191)"
          ],
          [
           0.2222222222222222,
           "rgb(50, 171, 96)"
          ],
          [
           0.3333333333333333,
           "rgb(128, 0, 128)"
          ],
          [
           0.4444444444444444,
           "rgb(219, 64, 82)"
          ],
          [
           0.5555555555555556,
           "rgb(0, 128, 128)"
          ],
          [
           0.6666666666666666,
           "rgb(255, 255, 51)"
          ],
          [
           0.7777777777777778,
           "rgb(128, 128, 0)"
          ],
          [
           0.8888888888888888,
           "rgb(251, 128, 114)"
          ],
          [
           1,
           "rgb(128, 177, 211)"
          ]
         ],
         "type": "surface",
         "x": [
          -10,
          -9.75,
          -9.5,
          -9.25,
          -9,
          -8.75,
          -8.5,
          -8.25,
          -8,
          -7.75,
          -7.5,
          -7.25,
          -7,
          -6.75,
          -6.5,
          -6.25,
          -6,
          -5.75,
          -5.5,
          -5.25,
          -5,
          -4.75,
          -4.5,
          -4.25,
          -4,
          -3.75,
          -3.5,
          -3.25,
          -3,
          -2.75,
          -2.5,
          -2.25,
          -2,
          -1.75,
          -1.5,
          -1.25,
          -1,
          -0.75,
          -0.5,
          -0.25,
          0,
          0.25,
          0.5,
          0.75,
          1,
          1.25,
          1.5,
          1.75,
          2,
          2.25,
          2.5,
          2.75,
          3,
          3.25,
          3.5,
          3.75,
          4,
          4.25,
          4.5,
          4.75,
          5,
          5.25,
          5.5,
          5.75,
          6,
          6.25,
          6.5,
          6.75,
          7,
          7.25,
          7.5,
          7.75,
          8,
          8.25,
          8.5,
          8.75,
          9,
          9.25,
          9.5,
          9.75
         ],
         "y": [
          -10,
          -9.75,
          -9.5,
          -9.25,
          -9,
          -8.75,
          -8.5,
          -8.25,
          -8,
          -7.75,
          -7.5,
          -7.25,
          -7,
          -6.75,
          -6.5,
          -6.25,
          -6,
          -5.75,
          -5.5,
          -5.25,
          -5,
          -4.75,
          -4.5,
          -4.25,
          -4,
          -3.75,
          -3.5,
          -3.25,
          -3,
          -2.75,
          -2.5,
          -2.25,
          -2,
          -1.75,
          -1.5,
          -1.25,
          -1,
          -0.75,
          -0.5,
          -0.25,
          0,
          0.25,
          0.5,
          0.75,
          1,
          1.25,
          1.5,
          1.75,
          2,
          2.25,
          2.5,
          2.75,
          3,
          3.25,
          3.5,
          3.75,
          4,
          4.25,
          4.5,
          4.75,
          5,
          5.25,
          5.5,
          5.75,
          6,
          6.25,
          6.5,
          6.75,
          7,
          7.25,
          7.5,
          7.75,
          8,
          8.25,
          8.5,
          8.75,
          9,
          9.25,
          9.5,
          9.75
         ],
         "z": [
          [
           0.14141961054935853,
           0.14111903500315878,
           0.13650222610828716,
           0.12777380562398274,
           0.11526115097856117,
           0.0993958462307399,
           0.08069235790121831,
           0.059725017515438364,
           0.037104384846577534,
           0.013454008098850966,
           -0.01061150357619211,
           -0.0345063152690242,
           -0.05769048962428924,
           -0.07968395387291566,
           -0.10007704610444179,
           -0.11853755153953285,
           -0.13481430178982187,
           -0.1487375524385824,
           -0.16021647158282734,
           -0.16923416092386775,
           -0.17584069010379264,
           -0.1801446545297837,
           -0.18230376872794093,
           -0.18251498442862385,
           -0.18100457917857166,
           -0.17801860199902664,
           -0.1738139924448547,
           -0.16865061331126227,
           -0.16278435980926842,
           -0.15646143337355978,
           -0.1499137997580331,
           -0.14335579129849668,
           -0.13698176393514344,
           -0.13096468174943518,
           -0.1254554756233313,
           -0.12058300781296416,
           -0.1164544699167505,
           -0.1131560467581887,
           -0.1107536917561867,
           -0.10929387900894774,
           -0.10880422217787396,
           -0.10929387900894774,
           -0.1107536917561867,
           -0.1131560467581887,
           -0.1164544699167505,
           -0.12058300781296416,
           -0.1254554756233313,
           -0.13096468174943518,
           -0.13698176393514344,
           -0.14335579129849668,
           -0.1499137997580331,
           -0.15646143337355978,
           -0.16278435980926842,
           -0.16865061331126227,
           -0.1738139924448547,
           -0.17801860199902664,
           -0.18100457917857166,
           -0.18251498442862385,
           -0.18230376872794093,
           -0.1801446545297837,
           -0.17584069010379264,
           -0.16923416092386775,
           -0.16021647158282734,
           -0.1487375524385824,
           -0.13481430178982187,
           -0.11853755153953285,
           -0.10007704610444179,
           -0.07968395387291566,
           -0.05769048962428924,
           -0.0345063152690242,
           -0.01061150357619211,
           0.013454008098850966,
           0.037104384846577534,
           0.059725017515438364,
           0.08069235790121831,
           0.0993958462307399,
           0.11526115097856117,
           0.12777380562398274,
           0.13650222610828716,
           0.14111903500315878
          ],
          [
           0.14111903500315878,
           0.13632396086944565,
           0.12719030582037316,
           0.11405907878471819,
           0.09738828403656238,
           0.07773008237271903,
           0.05570574218106777,
           0.03197958453286062,
           0.007233082355737275,
           -0.017859822184363938,
           -0.042655257000177006,
           -0.06655906279410359,
           -0.08904297911487404,
           -0.10965701691843574,
           -0.12803786284735597,
           -0.14391335124448024,
           -0.15710321083861073,
           -0.16751643729146143,
           -0.1751457556394694,
           -0.1800597155006458,
           -0.18239300622958532,
           -0.18233559039097344,
           -0.18012123502583363,
           -0.1760159755489718,
           -0.17030698199702413,
           -0.16329221750830802,
           -0.15527119023634722,
           -0.14653700801271363,
           -0.13736985507049018,
           -0.12803192632998142,
           -0.11876378051842666,
           -0.10978201113265723,
           -0.10127808535368477,
           -0.09341816596346665,
           -0.08634370978474622,
           -0.08017262722723162,
           -0.0750007897964791,
           -0.07090368426500879,
           -0.06793803188546253,
           -0.06614321685638791,
           -0.06554239869174844,
           -0.06614321685638791,
           -0.06793803188546253,
           -0.07090368426500879,
           -0.0750007897964791,
           -0.08017262722723162,
           -0.08634370978474622,
           -0.09341816596346665,
           -0.10127808535368477,
           -0.10978201113265723,
           -0.11876378051842666,
           -0.12803192632998142,
           -0.13736985507049018,
           -0.14653700801271363,
           -0.15527119023634722,
           -0.16329221750830802,
           -0.17030698199702413,
           -0.1760159755489718,
           -0.18012123502583363,
           -0.18233559039097344,
           -0.18239300622958532,
           -0.1800597155006458,
           -0.1751457556394694,
           -0.16751643729146143,
           -0.15710321083861073,
           -0.14391335124448024,
           -0.12803786284735597,
           -0.10965701691843574,
           -0.08904297911487404,
           -0.06655906279410359,
           -0.042655257000177006,
           -0.017859822184363938,
           0.007233082355737275,
           0.03197958453286062,
           0.05570574218106777,
           0.07773008237271903,
           0.09738828403656238,
           0.11405907878471819,
           0.12719030582037316,
           0.13632396086944565
          ],
          [
           0.13650222610828716,
           0.12719030582037316,
           0.1136526088802527,
           0.09636827159298987,
           0.0759235678781371,
           0.05298490441364873,
           0.028270310898122826,
           0.0025207381574719806,
           -0.023527608249201665,
           -0.04916880920228074,
           -0.07374973820785838,
           -0.09668883252747353,
           -0.11749065565570795,
           -0.13575600794040762,
           -0.1511875643863488,
           -0.163591222139663,
           -0.17287351607260817,
           -0.17903560277058095,
           -0.1821644169794075,
           -0.18242166855756492,
           -0.1800313728705813,
           -0.1752665961050691,
           -0.16843605361995675,
           -0.15987112992755653,
           -0.1499137997580331,
           -0.13890582780165694,
           -0.1271795169340972,
           -0.11505016730310495,
           -0.10281030706494562,
           -0.0907256642328181,
           -0.07903277128303789,
           -0.06793803188546253,
           -0.05761803324395176,
           -0.04822085787410071,
           -0.039868134180728126,
           -0.032657564269347995,
           -0.026665677985416577,
           -0.021950582012676394,
           -0.01855449981019833,
           -0.016505930263581485,
           -0.015821288518275644,
           -0.016505930263581485,
           -0.01855449981019833,
           -0.021950582012676394,
           -0.026665677985416577,
           -0.032657564269347995,
           -0.039868134180728126,
           -0.04822085787410071,
           -0.05761803324395176,
           -0.06793803188546253,
           -0.07903277128303789,
           -0.0907256642328181,
           -0.10281030706494562,
           -0.11505016730310495,
           -0.1271795169340972,
           -0.13890582780165694,
           -0.1499137997580331,
           -0.15987112992755653,
           -0.16843605361995675,
           -0.1752665961050691,
           -0.1800313728705813,
           -0.18242166855756492,
           -0.1821644169794075,
           -0.17903560277058095,
           -0.17287351607260817,
           -0.163591222139663,
           -0.1511875643863488,
           -0.13575600794040762,
           -0.11749065565570795,
           -0.09668883252747353,
           -0.07374973820785838,
           -0.04916880920228074,
           -0.023527608249201665,
           0.0025207381574719806,
           0.028270310898122826,
           0.05298490441364873,
           0.0759235678781371,
           0.09636827159298987,
           0.1136526088802527,
           0.12719030582037316
          ],
          [
           0.12777380562398274,
           0.11405907878471819,
           0.09636827159298987,
           0.07531659368730659,
           0.05161237775613617,
           0.026026147564044762,
           -0.0006409754282528475,
           -0.027588123185645037,
           -0.054043516875550875,
           -0.07929019757294747,
           -0.10268778525178764,
           -0.12368964794720452,
           -0.14185512230149663,
           -0.15685668268767797,
           -0.16848219583369567,
           -0.17663261032673944,
           -0.18131560690315682,
           -0.1826358700412797,
           -0.18078273088932142,
           -0.1760159755489718,
           -0.16865061331126227,
           -0.15904136091487175,
           -0.14756752732225356,
           -0.13461888616197776,
           -0.12058300781296416,
           -0.10583439818051152,
           -0.0907256642328181,
           -0.07558080422426758,
           -0.060690608986011814,
           -0.046310064114579955,
           -0.032657564269347995,
           -0.019915691575644292,
           -0.00823327044894154,
           0.0022716100207446164,
           0.011507919583092052,
           0.019407660252202565,
           0.025921773001301992,
           0.031016232090896562,
           0.03466854669458865,
           0.03686485131708162,
           0.03759772656874239,
           0.03686485131708162,
           0.03466854669458865,
           0.031016232090896562,
           0.025921773001301992,
           0.019407660252202565,
           0.011507919583092052,
           0.0022716100207446164,
           -0.00823327044894154,
           -0.019915691575644292,
           -0.032657564269347995,
           -0.046310064114579955,
           -0.060690608986011814,
           -0.07558080422426758,
           -0.0907256642328181,
           -0.10583439818051152,
           -0.12058300781296416,
           -0.13461888616197776,
           -0.14756752732225356,
           -0.15904136091487175,
           -0.16865061331126227,
           -0.1760159755489718,
           -0.18078273088932142,
           -0.1826358700412797,
           -0.18131560690315682,
           -0.17663261032673944,
           -0.16848219583369567,
           -0.15685668268767797,
           -0.14185512230149663,
           -0.12368964794720452,
           -0.10268778525178764,
           -0.07929019757294747,
           -0.054043516875550875,
           -0.027588123185645037,
           -0.0006409754282528475,
           0.026026147564044762,
           0.05161237775613617,
           0.07531659368730659,
           0.09636827159298987,
           0.11405907878471819
          ],
          [
           0.11526115097856117,
           0.09738828403656238,
           0.0759235678781371,
           0.05161237775613617,
           0.025275083284098894,
           -0.0022274559793407315,
           -0.03002807965783915,
           -0.0572857273340844,
           -0.08321475815193494,
           -0.10711012813756442,
           -0.1283676319466868,
           -0.1464987033293174,
           -0.16113955966514656,
           -0.17205475511311313,
           -0.17913546063850083,
           -0.18239300622958532,
           -0.18194839266053625,
           -0.17801860199902664,
           -0.17090060569317098,
           -0.1609539875623888,
           -0.14858307017251748,
           -0.13421936300715656,
           -0.11830504740258321,
           -0.10127808535368477,
           -0.08355939645450051,
           -0.06554239869174844,
           -0.04758506314163741,
           -0.030004497243790427,
           -0.013073952151520388,
           0.0029779491154211806,
           0.017966041941118966,
           0.031745840459068614,
           0.044209509361482956,
           0.05528095770522729,
           0.0649104168254659,
           0.07306884206017318,
           0.07974244535617742,
           0.08492762656935865,
           0.08862652853638416,
           0.09084339726921295,
           0.09158188560927924,
           0.09084339726921295,
           0.08862652853638416,
           0.08492762656935865,
           0.07974244535617742,
           0.07306884206017318,
           0.0649104168254659,
           0.05528095770522729,
           0.044209509361482956,
           0.031745840459068614,
           0.017966041941118966,
           0.0029779491154211806,
           -0.013073952151520388,
           -0.030004497243790427,
           -0.04758506314163741,
           -0.06554239869174844,
           -0.08355939645450051,
           -0.10127808535368477,
           -0.11830504740258321,
           -0.13421936300715656,
           -0.14858307017251748,
           -0.1609539875623888,
           -0.17090060569317098,
           -0.17801860199902664,
           -0.18194839266053625,
           -0.18239300622958532,
           -0.17913546063850083,
           -0.17205475511311313,
           -0.16113955966514656,
           -0.1464987033293174,
           -0.1283676319466868,
           -0.10711012813756442,
           -0.08321475815193494,
           -0.0572857273340844,
           -0.03002807965783915,
           -0.0022274559793407315,
           0.025275083284098894,
           0.05161237775613617,
           0.0759235678781371,
           0.09738828403656238
          ],
          [
           0.0993958462307399,
           0.07773008237271903,
           0.05298490441364873,
           0.026026147564044762,
           -0.0022274559793407315,
           -0.030841885736018544,
           -0.05890402451081101,
           -0.08555491563889543,
           -0.11001880232017779,
           -0.1316269478872783,
           -0.14983554931501694,
           -0.1642373823959323,
           -0.17456713788189782,
           -0.1807007071005138,
           -0.18264893898060253,
           -0.18054660691367944,
           -0.17463748569481502,
           -0.16525654180237792,
           -0.1528102839666787,
           -0.13775630818181953,
           -0.12058300781296416,
           -0.10179031338845618,
           -0.08187218787401292,
           -0.061301442485772274,
           -0.040517266401149735,
           -0.019915691575644292,
           0.0001569493213448689,
           0.019407660252202565,
           0.03759772656874239,
           0.054541276561040686,
           0.07010183827093616,
           0.08418731130237875,
           0.09674378883254962,
           0.10774865812501504,
           0.11720338291232232,
           0.12512633286074154,
           0.13154597877649798,
           0.13649472168344115,
           0.14000357308347133,
           0.14209785531573388,
           0.14279404657238684,
           0.14209785531573388,
           0.14000357308347133,
           0.13649472168344115,
           0.13154597877649798,
           0.12512633286074154,
           0.11720338291232232,
           0.10774865812501504,
           0.09674378883254962,
           0.08418731130237875,
           0.07010183827093616,
           0.054541276561040686,
           0.03759772656874239,
           0.019407660252202565,
           0.0001569493213448689,
           -0.019915691575644292,
           -0.040517266401149735,
           -0.061301442485772274,
           -0.08187218787401292,
           -0.10179031338845618,
           -0.12058300781296416,
           -0.13775630818181953,
           -0.1528102839666787,
           -0.16525654180237792,
           -0.17463748569481502,
           -0.18054660691367944,
           -0.18264893898060253,
           -0.1807007071005138,
           -0.17456713788189782,
           -0.1642373823959323,
           -0.14983554931501694,
           -0.1316269478872783,
           -0.11001880232017779,
           -0.08555491563889543,
           -0.05890402451081101,
           -0.030841885736018544,
           -0.0022274559793407315,
           0.026026147564044762,
           0.05298490441364873,
           0.07773008237271903
          ],
          [
           0.08069235790121831,
           0.05570574218106777,
           0.028270310898122826,
           -0.0006409754282528475,
           -0.03002807965783915,
           -0.05890402451081101,
           -0.08633239590937543,
           -0.1114606806231028,
           -0.13354819579908725,
           -0.15198770280837584,
           -0.16632015713858264,
           -0.17624240938958516,
           -0.18160802037610754,
           -0.18242166855756492,
           -0.1788278960809016,
           -0.17109514979541934,
           -0.15959621882048483,
           -0.14478624788034108,
           -0.1271795169340972,
           -0.10732612754693129,
           -0.0857896329957062,
           -0.0631265026963309,
           -0.039868134180728126,
           -0.016505930263581485,
           0.0065202421682302655,
           0.02883009042098063,
           0.05010748884225075,
           0.07010183827093616,
           0.08862652853638416,
           0.10555493165712146,
           0.12081441070397907,
           0.13437885433763305,
           0.14626024334832619,
           0.15649972810645998,
           0.16515865057394133,
           0.17230988766358785,
           0.17802983029511174,
           0.18239124981424537,
           0.18545724476618586,
           0.18727640924644018,
           0.18787932061729182,
           0.18727640924644018,
           0.18545724476618586,
           0.18239124981424537,
           0.17802983029511174,
           0.17230988766358785,
           0.16515865057394133,
           0.15649972810645998,
           0.14626024334832619,
           0.13437885433763305,
           0.12081441070397907,
           0.10555493165712146,
           0.08862652853638416,
           0.07010183827093616,
           0.05010748884225075,
           0.02883009042098063,
           0.0065202421682302655,
           -0.016505930263581485,
           -0.039868134180728126,
           -0.0631265026963309,
           -0.0857896329957062,
           -0.10732612754693129,
           -0.1271795169340972,
           -0.14478624788034108,
           -0.15959621882048483,
           -0.17109514979541934,
           -0.1788278960809016,
           -0.18242166855756492,
           -0.18160802037610754,
           -0.17624240938958516,
           -0.16632015713858264,
           -0.15198770280837584,
           -0.13354819579908725,
           -0.1114606806231028,
           -0.08633239590937543,
           -0.05890402451081101,
           -0.03002807965783915,
           -0.0006409754282528475,
           0.028270310898122826,
           0.05570574218106777
          ],
          [
           0.059725017515438364,
           0.03197958453286062,
           0.0025207381574719806,
           -0.027588123185645037,
           -0.0572857273340844,
           -0.08555491563889543,
           -0.1114606806231028,
           -0.13418273806183595,
           -0.15304146672549196,
           -0.16751643729146143,
           -0.17725715646546372,
           -0.18208605074549258,
           -0.18199408570471504,
           -0.17712974307464055,
           -0.16778234479339135,
           -0.1543609103022869,
           -0.13736985507049018,
           -0.11738288358628372,
           -0.0950164022704569,
           -0.07090368426500879,
           -0.045670869380806056,
           -0.019915691575644292,
           0.0058103924762656495,
           0.031016232090896562,
           0.05528095770522729,
           0.07825990831739421,
           0.09968670899986165,
           0.11937185506223688,
           0.13719827990417027,
           0.15311446345017118,
           0.16712567793535366,
           0.1792839709402817,
           0.18967745729212915,
           0.19841943861188654,
           0.20563779959612533,
           0.21146505144444128,
           0.21602931256266372,
           0.21944644111666822,
           0.22181346801290225,
           0.2232034254780841,
           0.22366162672468853,
           0.2232034254780841,
           0.22181346801290225,
           0.21944644111666822,
           0.21602931256266372,
           0.21146505144444128,
           0.20563779959612533,
           0.19841943861188654,
           0.18967745729212915,
           0.1792839709402817,
           0.16712567793535366,
           0.15311446345017118,
           0.13719827990417027,
           0.11937185506223688,
           0.09968670899986165,
           0.07825990831739421,
           0.05528095770522729,
           0.031016232090896562,
           0.0058103924762656495,
           -0.019915691575644292,
           -0.045670869380806056,
           -0.07090368426500879,
           -0.0950164022704569,
           -0.11738288358628372,
           -0.13736985507049018,
           -0.1543609103022869,
           -0.16778234479339135,
           -0.17712974307464055,
           -0.18199408570471504,
           -0.18208605074549258,
           -0.17725715646546372,
           -0.16751643729146143,
           -0.15304146672549196,
           -0.13418273806183595,
           -0.1114606806231028,
           -0.08555491563889543,
           -0.0572857273340844,
           -0.027588123185645037,
           0.0025207381574719806,
           0.03197958453286062
          ],
          [
           0.037104384846577534,
           0.007233082355737275,
           -0.023527608249201665,
           -0.054043516875550875,
           -0.08321475815193494,
           -0.11001880232017779,
           -0.13354819579908725,
           -0.15304146672549196,
           -0.167906160972842,
           -0.17773339606034183,
           -0.18230376872794093,
           -0.18158488243001691,
           -0.17572115154133375,
           -0.16501687105976595,
           -0.1499137997580331,
           -0.13096468174943518,
           -0.10880422217787396,
           -0.08411903827788304,
           -0.05761803324395176,
           -0.030004497243790427,
           -0.001951040868825416,
           0.025921773001301992,
           0.05306249567952219,
           0.07900122348247962,
           0.10335731863015635,
           0.1258425822940911,
           0.14626024334832619,
           0.16450028494360933,
           0.18053174205108255,
           0.1943926655354523,
           0.2061784643801796,
           0.21602931256266372,
           0.22411724822563847,
           0.23063350923189954,
           0.23577655069724138,
           0.23974108638511749,
           0.242708395806646,
           0.24483804991090946,
           0.24626113579560338,
           0.24707500803079696,
           0.24733956165584545,
           0.24707500803079696,
           0.24626113579560338,
           0.24483804991090946,
           0.242708395806646,
           0.23974108638511749,
           0.23577655069724138,
           0.23063350923189954,
           0.22411724822563847,
           0.21602931256266372,
           0.2061784643801796,
           0.1943926655354523,
           0.18053174205108255,
           0.16450028494360933,
           0.14626024334832619,
           0.1258425822940911,
           0.10335731863015635,
           0.07900122348247962,
           0.05306249567952219,
           0.025921773001301992,
           -0.001951040868825416,
           -0.030004497243790427,
           -0.05761803324395176,
           -0.08411903827788304,
           -0.10880422217787396,
           -0.13096468174943518,
           -0.1499137997580331,
           -0.16501687105976595,
           -0.17572115154133375,
           -0.18158488243001691,
           -0.18230376872794093,
           -0.17773339606034183,
           -0.167906160972842,
           -0.15304146672549196,
           -0.13354819579908725,
           -0.11001880232017779,
           -0.08321475815193494,
           -0.054043516875550875,
           -0.023527608249201665,
           0.007233082355737275
          ],
          [
           0.013454008098850966,
           -0.017859822184363938,
           -0.04916880920228074,
           -0.07929019757294747,
           -0.10711012813756442,
           -0.1316269478872783,
           -0.15198770280837584,
           -0.16751643729146143,
           -0.17773339606034183,
           -0.18236471957976835,
           -0.18134271385500067,
           -0.1747972342928682,
           -0.16303912773542587,
           -0.14653700801271363,
           -0.1258888846262905,
           -0.10179031338845618,
           -0.0750007897964791,
           -0.046310064114579955,
           -0.016505930263581485,
           0.013655158230898757,
           0.043473546354522816,
           0.07232710218505171,
           0.09968670899986165,
           0.12512633286074154,
           0.14832776112580212,
           0.16908036038891633,
           0.18727640924644018,
           0.20290271423033404,
           0.21602931256266372,
           0.22679610352037188,
           0.23539823538075702,
           0.2420710146043941,
           0.24707500803079696,
           0.2506818889186662,
           0.2531614457800734,
           0.25477004091850136,
           0.2557406839380664,
           0.2562747828163765,
           0.25653555744366946,
           0.2566430509401283,
           0.2566706526738519,
           0.2566430509401283,
           0.25653555744366946,
           0.2562747828163765,
           0.2557406839380664,
           0.25477004091850136,
           0.2531614457800734,
           0.2506818889186662,
           0.24707500803079696,
           0.2420710146043941,
           0.23539823538075702,
           0.22679610352037188,
           0.21602931256266372,
           0.20290271423033404,
           0.18727640924644018,
           0.16908036038891633,
           0.14832776112580212,
           0.12512633286074154,
           0.09968670899986165,
           0.07232710218505171,
           0.043473546354522816,
           0.013655158230898757,
           -0.016505930263581485,
           -0.046310064114579955,
           -0.0750007897964791,
           -0.10179031338845618,
           -0.1258888846262905,
           -0.14653700801271363,
           -0.16303912773542587,
           -0.1747972342928682,
           -0.18134271385500067,
           -0.18236471957976835,
           -0.17773339606034183,
           -0.16751643729146143,
           -0.15198770280837584,
           -0.1316269478872783,
           -0.10711012813756442,
           -0.07929019757294747,
           -0.04916880920228074,
           -0.017859822184363938
          ],
          [
           -0.01061150357619211,
           -0.042655257000177006,
           -0.07374973820785838,
           -0.10268778525178764,
           -0.1283676319466868,
           -0.14983554931501694,
           -0.16632015713858264,
           -0.17725715646546372,
           -0.18230376872794093,
           -0.18134271385500067,
           -0.17447608825271163,
           -0.16200998595397612,
           -0.14443111863131364,
           -0.12237701362727325,
           -0.096601590755175,
           -0.06793803188546253,
           -0.03726086233570953,
           -0.005449066140771361,
           0.026648129724923395,
           0.058241427706856384,
           0.08862652853638416,
           0.11720338291232232,
           0.14348926836260514,
           0.16712567793535366,
           0.18787932061729182,
           0.20563779959612533,
           0.22040074178662336,
           0.23226729318028777,
           0.24142096714711753,
           0.24811283911536614,
           0.25264402764959015,
           0.255348298963932,
           0.256575492104657,
           0.2566762997375786,
           0.2559887694405144,
           0.2548267267047997,
           0.25347017586536014,
           0.252157618714697,
           0.25108014921898075,
           0.25037713957121355,
           0.25013332713993036,
           0.25037713957121355,
           0.25108014921898075,
           0.252157618714697,
           0.25347017586536014,
           0.2548267267047997,
           0.2559887694405144,
           0.2566762997375786,
           0.256575492104657,
           0.255348298963932,
           0.25264402764959015,
           0.24811283911536614,
           0.24142096714711753,
           0.23226729318028777,
           0.22040074178662336,
           0.20563779959612533,
           0.18787932061729182,
           0.16712567793535366,
           0.14348926836260514,
           0.11720338291232232,
           0.08862652853638416,
           0.058241427706856384,
           0.026648129724923395,
           -0.005449066140771361,
           -0.03726086233570953,
           -0.06793803188546253,
           -0.096601590755175,
           -0.12237701362727325,
           -0.14443111863131364,
           -0.16200998595397612,
           -0.17447608825271163,
           -0.18134271385500067,
           -0.18230376872794093,
           -0.17725715646546372,
           -0.16632015713858264,
           -0.14983554931501694,
           -0.1283676319466868,
           -0.10268778525178764,
           -0.07374973820785838,
           -0.042655257000177006
          ],
          [
           -0.0345063152690242,
           -0.06655906279410359,
           -0.09668883252747353,
           -0.12368964794720452,
           -0.1464987033293174,
           -0.1642373823959323,
           -0.17624240938958516,
           -0.18208605074549258,
           -0.18158488243001691,
           -0.1747972342928682,
           -0.16200998595397612,
           -0.1437158894806465,
           -0.12058300781296416,
           -0.09341816596346665,
           -0.0631265026963309,
           -0.03066927919323432,
           0.0029779491154211806,
           0.03686485131708162,
           0.07010183827093616,
           0.1018902143955224,
           0.13154597877649798,
           0.15851669454452746,
           0.18239124981424537,
           0.20290271423033404,
           0.21992483146863692,
           0.23346296309158113,
           0.24364050109720906,
           0.2506818889186662,
           0.254893432701845,
           0.2566430509401283,
           0.2563400102730029,
           0.25441554164532254,
           0.25130504004127213,
           0.24743234013685533,
           0.2431963471432226,
           0.23896010343988033,
           0.23504220166614895,
           0.2317103248693539,
           0.22917661128094333,
           0.22759450814784551,
           0.2270567942100705,
           0.22759450814784551,
           0.22917661128094333,
           0.2317103248693539,
           0.23504220166614895,
           0.23896010343988033,
           0.2431963471432226,
           0.24743234013685533,
           0.25130504004127213,
           0.25441554164532254,
           0.2563400102730029,
           0.2566430509401283,
           0.254893432701845,
           0.2506818889186662,
           0.24364050109720906,
           0.23346296309158113,
           0.21992483146863692,
           0.20290271423033404,
           0.18239124981424537,
           0.15851669454452746,
           0.13154597877649798,
           0.1018902143955224,
           0.07010183827093616,
           0.03686485131708162,
           0.0029779491154211806,
           -0.03066927919323432,
           -0.0631265026963309,
           -0.09341816596346665,
           -0.12058300781296416,
           -0.1437158894806465,
           -0.16200998595397612,
           -0.1747972342928682,
           -0.18158488243001691,
           -0.18208605074549258,
           -0.17624240938958516,
           -0.1642373823959323,
           -0.1464987033293174,
           -0.12368964794720452,
           -0.09668883252747353,
           -0.06655906279410359
          ],
          [
           -0.05769048962428924,
           -0.08904297911487404,
           -0.11749065565570795,
           -0.14185512230149663,
           -0.16113955966514656,
           -0.17456713788189782,
           -0.18160802037610754,
           -0.18199408570471504,
           -0.17572115154133375,
           -0.16303912773542587,
           -0.14443111863131364,
           -0.12058300781296416,
           -0.09234546620178369,
           -0.060690608986011814,
           -0.026665677985416577,
           0.008653858363151095,
           0.044209509361482956,
           0.07900122348247962,
           0.11212338767979044,
           0.14279404657238684,
           0.17037647050011584,
           0.1943926655354523,
           0.2145288714461612,
           0.23063350923189954,
           0.242708395806646,
           0.2508943222213973,
           0.2554522819126627,
           0.2567417315441088,
           0.25519727019112654,
           0.25130504004127213,
           0.2455799958764798,
           0.23854497801642713,
           0.23071227369415245,
           0.2225680860000738,
           0.21456006847846779,
           0.2070878465419809,
           0.20049625055173417,
           0.19507084218595108,
           0.19103523332295086,
           0.18854967763954522,
           0.18771045677679687,
           0.18854967763954522,
           0.19103523332295086,
           0.19507084218595108,
           0.20049625055173417,
           0.2070878465419809,
           0.21456006847846779,
           0.2225680860000738,
           0.23071227369415245,
           0.23854497801642713,
           0.2455799958764798,
           0.25130504004127213,
           0.25519727019112654,
           0.2567417315441088,
           0.2554522819126627,
           0.2508943222213973,
           0.242708395806646,
           0.23063350923189954,
           0.2145288714461612,
           0.1943926655354523,
           0.17037647050011584,
           0.14279404657238684,
           0.11212338767979044,
           0.07900122348247962,
           0.044209509361482956,
           0.008653858363151095,
           -0.026665677985416577,
           -0.060690608986011814,
           -0.09234546620178369,
           -0.12058300781296416,
           -0.14443111863131364,
           -0.16303912773542587,
           -0.17572115154133375,
           -0.18199408570471504,
           -0.18160802037610754,
           -0.17456713788189782,
           -0.16113955966514656,
           -0.14185512230149663,
           -0.11749065565570795,
           -0.08904297911487404
          ],
          [
           -0.07968395387291566,
           -0.10965701691843574,
           -0.13575600794040762,
           -0.15685668268767797,
           -0.17205475511311313,
           -0.1807007071005138,
           -0.18242166855756492,
           -0.17712974307464055,
           -0.16501687105976595,
           -0.14653700801271363,
           -0.12237701362727325,
           -0.09341816596346665,
           -0.060690608986011814,
           -0.02532329427921568,
           0.011507919583092052,
           0.04863139306208121,
           0.08492762656935865,
           0.11937185506223688,
           0.15106960365711752,
           0.1792839709402817,
           0.20345392533496165,
           0.2232034254780841,
           0.2383416766936446,
           0.24885528388828942,
           0.254893432701845,
           0.25674750760048576,
           0.2548267267047997,
           0.24963143467045815,
           0.24172565029557566,
           0.2317103248693539,
           0.22019854657881394,
           0.20779364608280457,
           0.19507084218595108,
           0.18256273925541686,
           0.17074867404778504,
           0.16004763127913005,
           0.15081422331281308,
           0.1433370736825879,
           0.13783886506830845,
           0.134477311926808,
           0.1333463922312941,
           0.134477311926808,
           0.13783886506830845,
           0.1433370736825879,
           0.15081422331281308,
           0.16004763127913005,
           0.17074867404778504,
           0.18256273925541686,
           0.19507084218595108,
           0.20779364608280457,
           0.22019854657881394,
           0.2317103248693539,
           0.24172565029557566,
           0.24963143467045815,
           0.2548267267047997,
           0.25674750760048576,
           0.254893432701845,
           0.24885528388828942,
           0.2383416766936446,
           0.2232034254780841,
           0.20345392533496165,
           0.1792839709402817,
           0.15106960365711752,
           0.11937185506223688,
           0.08492762656935865,
           0.04863139306208121,
           0.011507919583092052,
           -0.02532329427921568,
           -0.060690608986011814,
           -0.09341816596346665,
           -0.12237701362727325,
           -0.14653700801271363,
           -0.16501687105976595,
           -0.17712974307464055,
           -0.18242166855756492,
           -0.1807007071005138,
           -0.17205475511311313,
           -0.15685668268767797,
           -0.13575600794040762,
           -0.10965701691843574
          ],
          [
           -0.10007704610444179,
           -0.12803786284735597,
           -0.1511875643863488,
           -0.16848219583369567,
           -0.17913546063850083,
           -0.18264893898060253,
           -0.1788278960809016,
           -0.16778234479339135,
           -0.1499137997580331,
           -0.1258888846262905,
           -0.096601590755175,
           -0.0631265026963309,
           -0.026665677985416577,
           0.011507919583092052,
           0.05010748884225075,
           0.0878871354792479,
           0.12369173187889267,
           0.15649972810645998,
           0.18545724476618586,
           0.20990234059772522,
           0.22937894091767205,
           0.24364050109720906,
           0.25264402764959015,
           0.25653555744366946,
           0.25562857790064414,
           0.25037713957121355,
           0.2413455569066888,
           0.22917661128094333,
           0.21456006847846779,
           0.19820311451195688,
           0.18080401871815463,
           0.1630299764243758,
           0.14549969299473817,
           0.12877087581897034,
           0.11333242903336226,
           0.09960082298540655,
           0.08791985781076668,
           0.07856287339249271,
           0.07173638515428266,
           0.06758414818694233,
           0.0661907655654817,
           0.06758414818694233,
           0.07173638515428266,
           0.07856287339249271,
           0.08791985781076668,
           0.09960082298540655,
           0.11333242903336226,
           0.12877087581897034,
           0.14549969299473817,
           0.1630299764243758,
           0.18080401871815463,
           0.19820311451195688,
           0.21456006847846779,
           0.22917661128094333,
           0.2413455569066888,
           0.25037713957121355,
           0.25562857790064414,
           0.25653555744366946,
           0.25264402764959015,
           0.24364050109720906,
           0.22937894091767205,
           0.20990234059772522,
           0.18545724476618586,
           0.15649972810645998,
           0.12369173187889267,
           0.0878871354792479,
           0.05010748884225075,
           0.011507919583092052,
           -0.026665677985416577,
           -0.0631265026963309,
           -0.096601590755175,
           -0.1258888846262905,
           -0.1499137997580331,
           -0.16778234479339135,
           -0.1788278960809016,
           -0.18264893898060253,
           -0.17913546063850083,
           -0.16848219583369567,
           -0.1511875643863488,
           -0.12803786284735597
          ],
          [
           -0.11853755153953285,
           -0.14391335124448024,
           -0.163591222139663,
           -0.17663261032673944,
           -0.18239300622958532,
           -0.18054660691367944,
           -0.17109514979541934,
           -0.1543609103022869,
           -0.13096468174943518,
           -0.10179031338845618,
           -0.06793803188546253,
           -0.03066927919323432,
           0.008653858363151095,
           0.04863139306208121,
           0.0878871354792479,
           0.12512633286074154,
           0.15918658398472915,
           0.1890798565922851,
           0.21402402107025095,
           0.23346296309158113,
           0.24707500803079696,
           0.25477004091850136,
           0.2566762997375786,
           0.25311832399967577,
           0.24458792842044305,
           0.2317103248693539,
           0.2152076253393881,
           0.19586192453391038,
           0.17447999195279823,
           0.15186131748507978,
           0.12877087581897034,
           0.10591753298818528,
           0.08393854575868848,
           0.06339013493636744,
           0.044743679368913644,
           0.02838670735216783,
           0.014627580006334946,
           0.0037025838949493145,
           -0.004215913110515241,
           -0.009011537058698997,
           -0.010617349295218181,
           -0.009011537058698997,
           -0.004215913110515241,
           0.0037025838949493145,
           0.014627580006334946,
           0.02838670735216783,
           0.044743679368913644,
           0.06339013493636744,
           0.08393854575868848,
           0.10591753298818528,
           0.12877087581897034,
           0.15186131748507978,
           0.17447999195279823,
           0.19586192453391038,
           0.2152076253393881,
           0.2317103248693539,
           0.24458792842044305,
           0.25311832399967577,
           0.2566762997375786,
           0.25477004091850136,
           0.24707500803079696,
           0.23346296309158113,
           0.21402402107025095,
           0.1890798565922851,
           0.15918658398472915,
           0.12512633286074154,
           0.0878871354792479,
           0.04863139306208121,
           0.008653858363151095,
           -0.03066927919323432,
           -0.06793803188546253,
           -0.10179031338845618,
           -0.13096468174943518,
           -0.1543609103022869,
           -0.17109514979541934,
           -0.18054660691367944,
           -0.18239300622958532,
           -0.17663261032673944,
           -0.163591222139663,
           -0.14391335124448024
          ],
          [
           -0.13481430178982187,
           -0.15710321083861073,
           -0.17287351607260817,
           -0.18131560690315682,
           -0.18194839266053625,
           -0.17463748569481502,
           -0.15959621882048483,
           -0.13736985507049018,
           -0.10880422217787396,
           -0.0750007897964791,
           -0.03726086233570953,
           0.0029779491154211806,
           0.044209509361482956,
           0.08492762656935865,
           0.12369173187889267,
           0.15918658398472915,
           0.1902732638436695,
           0.21602931256266372,
           0.23577655069724138,
           0.24909585663212155,
           0.25582893038458626,
           0.2560677827399544,
           0.25013332713993036,
           0.23854497801642713,
           0.22198354690007724,
           0.20124995852555586,
           0.1772223753881244,
           0.15081422331281308,
           0.12293536517635703,
           0.09445829662141196,
           0.0661907655654817,
           0.03885568116655977,
           0.013078615468659323,
           -0.010617349295218181,
           -0.03181017613329085,
           -0.050171999808914604,
           -0.06545830501430487,
           -0.07749482277960204,
           -0.08616386191642225,
           -0.09139170665445415,
           -0.09313849939964196,
           -0.09139170665445415,
           -0.08616386191642225,
           -0.07749482277960204,
           -0.06545830501430487,
           -0.050171999808914604,
           -0.03181017613329085,
           -0.010617349295218181,
           0.013078615468659323,
           0.03885568116655977,
           0.0661907655654817,
           0.09445829662141196,
           0.12293536517635703,
           0.15081422331281308,
           0.1772223753881244,
           0.20124995852555586,
           0.22198354690007724,
           0.23854497801642713,
           0.25013332713993036,
           0.2560677827399544,
           0.25582893038458626,
           0.24909585663212155,
           0.23577655069724138,
           0.21602931256266372,
           0.1902732638436695,
           0.15918658398472915,
           0.12369173187889267,
           0.08492762656935865,
           0.044209509361482956,
           0.0029779491154211806,
           -0.03726086233570953,
           -0.0750007897964791,
           -0.10880422217787396,
           -0.13736985507049018,
           -0.15959621882048483,
           -0.17463748569481502,
           -0.18194839266053625,
           -0.18131560690315682,
           -0.17287351607260817,
           -0.15710321083861073
          ],
          [
           -0.1487375524385824,
           -0.16751643729146143,
           -0.17903560277058095,
           -0.1826358700412797,
           -0.17801860199902664,
           -0.16525654180237792,
           -0.14478624788034108,
           -0.11738288358628372,
           -0.08411903827788304,
           -0.046310064114579955,
           -0.005449066140771361,
           0.03686485131708162,
           0.07900122348247962,
           0.11937185506223688,
           0.15649972810645998,
           0.1890798565922851,
           0.21602931256266372,
           0.2365243422174828,
           0.25002327766855664,
           0.2562747828163765,
           0.2553118000893658,
           0.24743234013685533,
           0.23316893482082693,
           0.21324911772700825,
           0.18854967763954522,
           0.16004763127913005,
           0.12877087581897034,
           0.0957513146109,
           0.06198291759831892,
           0.02838670735216783,
           -0.004215913110515241,
           -0.03512071345143313,
           -0.06374895250625122,
           -0.08964697741323371,
           -0.11247819731414006,
           -0.132008995765264,
           -0.14809048863531396,
           -0.16063822727306362,
           -0.1696119802323752,
           -0.17499760171649797,
           -0.17679272260843765,
           -0.17499760171649797,
           -0.1696119802323752,
           -0.16063822727306362,
           -0.14809048863531396,
           -0.132008995765264,
           -0.11247819731414006,
           -0.08964697741323371,
           -0.06374895250625122,
           -0.03512071345143313,
           -0.004215913110515241,
           0.02838670735216783,
           0.06198291759831892,
           0.0957513146109,
           0.12877087581897034,
           0.16004763127913005,
           0.18854967763954522,
           0.21324911772700825,
           0.23316893482082693,
           0.24743234013685533,
           0.2553118000893658,
           0.2562747828163765,
           0.25002327766855664,
           0.2365243422174828,
           0.21602931256266372,
           0.1890798565922851,
           0.15649972810645998,
           0.11937185506223688,
           0.07900122348247962,
           0.03686485131708162,
           -0.005449066140771361,
           -0.046310064114579955,
           -0.08411903827788304,
           -0.11738288358628372,
           -0.14478624788034108,
           -0.16525654180237792,
           -0.17801860199902664,
           -0.1826358700412797,
           -0.17903560277058095,
           -0.16751643729146143
          ],
          [
           -0.16021647158282734,
           -0.1751457556394694,
           -0.1821644169794075,
           -0.18078273088932142,
           -0.17090060569317098,
           -0.1528102839666787,
           -0.1271795169340972,
           -0.0950164022704569,
           -0.05761803324395176,
           -0.016505930263581485,
           0.026648129724923395,
           0.07010183827093616,
           0.11212338767979044,
           0.15106960365711752,
           0.18545724476618586,
           0.21402402107025095,
           0.23577655069724138,
           0.25002327766855664,
           0.25639126767027576,
           0.2548267267047997,
           0.2455799958764798,
           0.22917661128094333,
           0.2063767337439853,
           0.17812580971586786,
           0.14549969299473817,
           0.1096476200446325,
           0.07173638515428266,
           0.032898814044057145,
           -0.005810793613848673,
           -0.043452159632214875,
           -0.0792240541655952,
           -0.11247819731414006,
           -0.1427221428215067,
           -0.1696119802323752,
           -0.1929363397545002,
           -0.2125937105436689,
           -0.22856545626592412,
           -0.24088710992360066,
           -0.24962054293732017,
           -0.254829433326894,
           -0.2565601183892334,
           -0.254829433326894,
           -0.24962054293732017,
           -0.24088710992360066,
           -0.22856545626592412,
           -0.2125937105436689,
           -0.1929363397545002,
           -0.1696119802323752,
           -0.1427221428215067,
           -0.11247819731414006,
           -0.0792240541655952,
           -0.043452159632214875,
           -0.005810793613848673,
           0.032898814044057145,
           0.07173638515428266,
           0.1096476200446325,
           0.14549969299473817,
           0.17812580971586786,
           0.2063767337439853,
           0.22917661128094333,
           0.2455799958764798,
           0.2548267267047997,
           0.25639126767027576,
           0.25002327766855664,
           0.23577655069724138,
           0.21402402107025095,
           0.18545724476618586,
           0.15106960365711752,
           0.11212338767979044,
           0.07010183827093616,
           0.026648129724923395,
           -0.016505930263581485,
           -0.05761803324395176,
           -0.0950164022704569,
           -0.1271795169340972,
           -0.1528102839666787,
           -0.17090060569317098,
           -0.18078273088932142,
           -0.1821644169794075,
           -0.1751457556394694
          ],
          [
           -0.16923416092386775,
           -0.1800597155006458,
           -0.18242166855756492,
           -0.1760159755489718,
           -0.1609539875623888,
           -0.13775630818181953,
           -0.10732612754693129,
           -0.07090368426500879,
           -0.030004497243790427,
           0.013655158230898757,
           0.058241427706856384,
           0.1018902143955224,
           0.14279404657238684,
           0.1792839709402817,
           0.20990234059772522,
           0.23346296309158113,
           0.24909585663212155,
           0.2562747828163765,
           0.2548267267047997,
           0.24492352037505036,
           0.2270567942100705,
           0.20199833430642128,
           0.17074867404778504,
           0.134477311926808,
           0.09445829662141196,
           0.05200503792795912,
           0.00840808631479302,
           -0.03512071345143313,
           -0.07749482277960204,
           -0.1177881852505473,
           -0.15525760655490364,
           -0.18935183535374994,
           -0.21970771693043264,
           -0.24613461781837798,
           -0.268589046149572,
           -0.28714197491104243,
           -0.30194177876754097,
           -0.31317589634427284,
           -0.3210343185560354,
           -0.32567778292945404,
           -0.32721314035298743,
           -0.32567778292945404,
           -0.3210343185560354,
           -0.31317589634427284,
           -0.30194177876754097,
           -0.28714197491104243,
           -0.268589046149572,
           -0.24613461781837798,
           -0.21970771693043264,
           -0.18935183535374994,
           -0.15525760655490364,
           -0.1177881852505473,
           -0.07749482277960204,
           -0.03512071345143313,
           0.00840808631479302,
           0.05200503792795912,
           0.09445829662141196,
           0.134477311926808,
           0.17074867404778504,
           0.20199833430642128,
           0.2270567942100705,
           0.24492352037505036,
           0.2548267267047997,
           0.2562747828163765,
           0.24909585663212155,
           0.23346296309158113,
           0.20990234059772522,
           0.1792839709402817,
           0.14279404657238684,
           0.1018902143955224,
           0.058241427706856384,
           0.013655158230898757,
           -0.030004497243790427,
           -0.07090368426500879,
           -0.10732612754693129,
           -0.13775630818181953,
           -0.1609539875623888,
           -0.1760159755489718,
           -0.18242166855756492,
           -0.1800597155006458
          ],
          [
           -0.17584069010379264,
           -0.18239300622958532,
           -0.1800313728705813,
           -0.16865061331126227,
           -0.14858307017251748,
           -0.12058300781296416,
           -0.0857896329957062,
           -0.045670869380806056,
           -0.001951040868825416,
           0.043473546354522816,
           0.08862652853638416,
           0.13154597877649798,
           0.17037647050011584,
           0.20345392533496165,
           0.22937894091767205,
           0.24707500803079696,
           0.25582893038458626,
           0.2553118000893658,
           0.2455799958764798,
           0.2270567942100705,
           0.20049625055173417,
           0.16693195814109418,
           0.12761407121954643,
           0.08393854575868848,
           0.037372873633869375,
           -0.010617349295218181,
           -0.05863687417657578,
           -0.10542055787501849,
           -0.14988136590815446,
           -0.19114437378651342,
           -0.22856545626592412,
           -0.2617343483375656,
           -0.29046275344788247,
           -0.31475910259630246,
           -0.33479237619194996,
           -0.35084804028714445,
           -0.3632795822101567,
           -0.37245933283868765,
           -0.3787322233669178,
           -0.382375848005458,
           -0.3835697098652554,
           -0.382375848005458,
           -0.3787322233669178,
           -0.37245933283868765,
           -0.3632795822101567,
           -0.35084804028714445,
           -0.33479237619194996,
           -0.31475910259630246,
           -0.29046275344788247,
           -0.2617343483375656,
           -0.22856545626592412,
           -0.19114437378651342,
           -0.14988136590815446,
           -0.10542055787501849,
           -0.05863687417657578,
           -0.010617349295218181,
           0.037372873633869375,
           0.08393854575868848,
           0.12761407121954643,
           0.16693195814109418,
           0.20049625055173417,
           0.2270567942100705,
           0.2455799958764798,
           0.2553118000893658,
           0.25582893038458626,
           0.24707500803079696,
           0.22937894091767205,
           0.20345392533496165,
           0.17037647050011584,
           0.13154597877649798,
           0.08862652853638416,
           0.043473546354522816,
           -0.001951040868825416,
           -0.045670869380806056,
           -0.0857896329957062,
           -0.12058300781296416,
           -0.14858307017251748,
           -0.16865061331126227,
           -0.1800313728705813,
           -0.18239300622958532
          ],
          [
           -0.1801446545297837,
           -0.18233559039097344,
           -0.1752665961050691,
           -0.15904136091487175,
           -0.13421936300715656,
           -0.10179031338845618,
           -0.0631265026963309,
           -0.019915691575644292,
           0.025921773001301992,
           0.07232710218505171,
           0.11720338291232232,
           0.15851669454452746,
           0.1943926655354523,
           0.2232034254780841,
           0.24364050109720906,
           0.25477004091850136,
           0.2560677827399544,
           0.24743234013685533,
           0.22917661128094333,
           0.20199833430642128,
           0.16693195814109418,
           0.12528500092613942,
           0.07856287339249271,
           0.02838670735216783,
           -0.02359098016854476,
           -0.0757679524450742,
           -0.12666669235949252,
           -0.17499760171649797,
           -0.21970771693043264,
           -0.26001264723920775,
           -0.29541051237375787,
           -0.32567778292945404,
           -0.35084804028714445,
           -0.37117570680030565,
           -0.38708768931988075,
           -0.3991265770886398,
           -0.407889497747319,
           -0.41396693622794944,
           -0.417885750201407,
           -0.4200602785751461,
           -0.4207548585159486,
           -0.4200602785751461,
           -0.417885750201407,
           -0.41396693622794944,
           -0.407889497747319,
           -0.3991265770886398,
           -0.38708768931988075,
           -0.37117570680030565,
           -0.35084804028714445,
           -0.32567778292945404,
           -0.29541051237375787,
           -0.26001264723920775,
           -0.21970771693043264,
           -0.17499760171649797,
           -0.12666669235949252,
           -0.0757679524450742,
           -0.02359098016854476,
           0.02838670735216783,
           0.07856287339249271,
           0.12528500092613942,
           0.16693195814109418,
           0.20199833430642128,
           0.22917661128094333,
           0.24743234013685533,
           0.2560677827399544,
           0.25477004091850136,
           0.24364050109720906,
           0.2232034254780841,
           0.1943926655354523,
           0.15851669454452746,
           0.11720338291232232,
           0.07232710218505171,
           0.025921773001301992,
           -0.019915691575644292,
           -0.0631265026963309,
           -0.10179031338845618,
           -0.13421936300715656,
           -0.15904136091487175,
           -0.1752665961050691,
           -0.18233559039097344
          ],
          [
           -0.18230376872794093,
           -0.18012123502583363,
           -0.16843605361995675,
           -0.14756752732225356,
           -0.11830504740258321,
           -0.08187218787401292,
           -0.039868134180728126,
           0.0058103924762656495,
           0.05306249567952219,
           0.09968670899986165,
           0.14348926836260514,
           0.18239124981424537,
           0.2145288714461612,
           0.2383416766936446,
           0.25264402764959015,
           0.2566762997375786,
           0.25013332713993036,
           0.23316893482082693,
           0.2063767337439853,
           0.17074867404778504,
           0.12761407121954643,
           0.07856287339249271,
           0.02535776443828009,
           -0.030159748399708135,
           -0.08616386191642225,
           -0.1409342819269669,
           -0.1929363397545002,
           -0.24088710992360066,
           -0.2838041182964338,
           -0.3210343185560354,
           -0.35226222727992795,
           -0.37749737145928347,
           -0.3970424421347404,
           -0.41144469052055266,
           -0.42143408131469146,
           -0.42785247459104203,
           -0.43157859884674826,
           -0.4334537754581445,
           -0.434213248547002,
           -0.43442757176285574,
           -0.43445783007337646,
           -0.43442757176285574,
           -0.434213248547002,
           -0.4334537754581445,
           -0.43157859884674826,
           -0.42785247459104203,
           -0.42143408131469146,
           -0.41144469052055266,
           -0.3970424421347404,
           -0.37749737145928347,
           -0.35226222727992795,
           -0.3210343185560354,
           -0.2838041182964338,
           -0.24088710992360066,
           -0.1929363397545002,
           -0.1409342819269669,
           -0.08616386191642225,
           -0.030159748399708135,
           0.02535776443828009,
           0.07856287339249271,
           0.12761407121954643,
           0.17074867404778504,
           0.2063767337439853,
           0.23316893482082693,
           0.25013332713993036,
           0.2566762997375786,
           0.25264402764959015,
           0.2383416766936446,
           0.2145288714461612,
           0.18239124981424537,
           0.14348926836260514,
           0.09968670899986165,
           0.05306249567952219,
           0.0058103924762656495,
           -0.039868134180728126,
           -0.08187218787401292,
           -0.11830504740258321,
           -0.14756752732225356,
           -0.16843605361995675,
           -0.18012123502583363
          ],
          [
           -0.18251498442862385,
           -0.1760159755489718,
           -0.15987112992755653,
           -0.13461888616197776,
           -0.10127808535368477,
           -0.061301442485772274,
           -0.016505930263581485,
           0.031016232090896562,
           0.07900122348247962,
           0.12512633286074154,
           0.16712567793535366,
           0.20290271423033404,
           0.23063350923189954,
           0.24885528388828942,
           0.25653555744366946,
           0.25311832399967577,
           0.23854497801642713,
           0.21324911772700825,
           0.17812580971586786,
           0.134477311926808,
           0.08393854575868848,
           0.02838670735216783,
           -0.030159748399708135,
           -0.08964697741323371,
           -0.14809048863531396,
           -0.2036729142303004,
           -0.254829433326894,
           -0.3003162506586467,
           -0.3392585664190622,
           -0.37117570680030565,
           -0.39598244357893553,
           -0.41396693622794944,
           -0.42574709936268906,
           -0.43220845214435083,
           -0.43442757176285574,
           -0.4335860886421158,
           -0.4308806796227811,
           -0.4274347075936389,
           -0.42421701152445723,
           -0.42197287899622543,
           -0.421171462695804,
           -0.42197287899622543,
           -0.42421701152445723,
           -0.4274347075936389,
           -0.4308806796227811,
           -0.4335860886421158,
           -0.43442757176285574,
           -0.43220845214435083,
           -0.42574709936268906,
           -0.41396693622794944,
           -0.39598244357893553,
           -0.37117570680030565,
           -0.3392585664190622,
           -0.3003162506586467,
           -0.254829433326894,
           -0.2036729142303004,
           -0.14809048863531396,
           -0.08964697741323371,
           -0.030159748399708135,
           0.02838670735216783,
           0.08393854575868848,
           0.134477311926808,
           0.17812580971586786,
           0.21324911772700825,
           0.23854497801642713,
           0.25311832399967577,
           0.25653555744366946,
           0.24885528388828942,
           0.23063350923189954,
           0.20290271423033404,
           0.16712567793535366,
           0.12512633286074154,
           0.07900122348247962,
           0.031016232090896562,
           -0.016505930263581485,
           -0.061301442485772274,
           -0.10127808535368477,
           -0.13461888616197776,
           -0.15987112992755653,
           -0.1760159755489718
          ],
          [
           -0.18100457917857166,
           -0.17030698199702413,
           -0.1499137997580331,
           -0.12058300781296416,
           -0.08355939645450051,
           -0.040517266401149735,
           0.0065202421682302655,
           0.05528095770522729,
           0.10335731863015635,
           0.14832776112580212,
           0.18787932061729182,
           0.21992483146863692,
           0.242708395806646,
           0.254893432701845,
           0.25562857790064414,
           0.24458792842044305,
           0.22198354690007724,
           0.18854967763954522,
           0.14549969299473817,
           0.09445829662141196,
           0.037372873633869375,
           -0.02359098016854476,
           -0.08616386191642225,
           -0.14809048863531396,
           -0.20724458052139974,
           -0.2617343483375656,
           -0.309992807249447,
           -0.35084804028714445,
           -0.3835697098652554,
           -0.407889497747319,
           -0.42399466300627076,
           -0.43249545715781157,
           -0.43436863670247905,
           -0.4308806796227811,
           -0.42349546556438716,
           -0.4137720534188708,
           -0.40325873487122593,
           -0.39338972722403176,
           -0.3853906832849483,
           -0.3801986514917913,
           -0.3784012476539641,
           -0.3801986514917913,
           -0.3853906832849483,
           -0.39338972722403176,
           -0.40325873487122593,
           -0.4137720534188708,
           -0.42349546556438716,
           -0.4308806796227811,
           -0.43436863670247905,
           -0.43249545715781157,
           -0.42399466300627076,
           -0.407889497747319,
           -0.3835697098652554,
           -0.35084804028714445,
           -0.309992807249447,
           -0.2617343483375656,
           -0.20724458052139974,
           -0.14809048863531396,
           -0.08616386191642225,
           -0.02359098016854476,
           0.037372873633869375,
           0.09445829662141196,
           0.14549969299473817,
           0.18854967763954522,
           0.22198354690007724,
           0.24458792842044305,
           0.25562857790064414,
           0.254893432701845,
           0.242708395806646,
           0.21992483146863692,
           0.18787932061729182,
           0.14832776112580212,
           0.10335731863015635,
           0.05528095770522729,
           0.0065202421682302655,
           -0.040517266401149735,
           -0.08355939645450051,
           -0.12058300781296416,
           -0.1499137997580331,
           -0.17030698199702413
          ],
          [
           -0.17801860199902664,
           -0.16329221750830802,
           -0.13890582780165694,
           -0.10583439818051152,
           -0.06554239869174844,
           -0.019915691575644292,
           0.02883009042098063,
           0.07825990831739421,
           0.1258425822940911,
           0.16908036038891633,
           0.20563779959612533,
           0.23346296309158113,
           0.2508943222213973,
           0.25674750760048576,
           0.25037713957121355,
           0.2317103248693539,
           0.20124995852555586,
           0.16004763127913005,
           0.1096476200446325,
           0.05200503792795912,
           -0.010617349295218181,
           -0.0757679524450742,
           -0.1409342819269669,
           -0.2036729142303004,
           -0.2617343483375656,
           -0.31317589634427284,
           -0.3564564355250057,
           -0.3905078789395116,
           -0.4147795406040892,
           -0.42925310491460716,
           -0.43442757176285574,
           -0.4312752446188071,
           -0.421171462695804,
           -0.40580225753498556,
           -0.38705535500366767,
           -0.36690087535799776,
           -0.3472686537517362,
           -0.32992927901128904,
           -0.3163857196862348,
           -0.3077817863653888,
           -0.30483270332925,
           -0.3077817863653888,
           -0.3163857196862348,
           -0.32992927901128904,
           -0.3472686537517362,
           -0.36690087535799776,
           -0.38705535500366767,
           -0.40580225753498556,
           -0.421171462695804,
           -0.4312752446188071,
           -0.43442757176285574,
           -0.42925310491460716,
           -0.4147795406040892,
           -0.3905078789395116,
           -0.3564564355250057,
           -0.31317589634427284,
           -0.2617343483375656,
           -0.2036729142303004,
           -0.1409342819269669,
           -0.0757679524450742,
           -0.010617349295218181,
           0.05200503792795912,
           0.1096476200446325,
           0.16004763127913005,
           0.20124995852555586,
           0.2317103248693539,
           0.25037713957121355,
           0.25674750760048576,
           0.2508943222213973,
           0.23346296309158113,
           0.20563779959612533,
           0.16908036038891633,
           0.1258425822940911,
           0.07825990831739421,
           0.02883009042098063,
           -0.019915691575644292,
           -0.06554239869174844,
           -0.10583439818051152,
           -0.13890582780165694,
           -0.16329221750830802
          ],
          [
           -0.1738139924448547,
           -0.15527119023634722,
           -0.1271795169340972,
           -0.0907256642328181,
           -0.04758506314163741,
           0.0001569493213448689,
           0.05010748884225075,
           0.09968670899986165,
           0.14626024334832619,
           0.18727640924644018,
           0.22040074178662336,
           0.24364050109720906,
           0.2554522819126627,
           0.2548267267047997,
           0.2413455569066888,
           0.2152076253393881,
           0.1772223753881244,
           0.12877087581897034,
           0.07173638515428266,
           0.00840808631479302,
           -0.05863687417657578,
           -0.12666669235949252,
           -0.1929363397545002,
           -0.254829433326894,
           -0.309992807249447,
           -0.3564564355250057,
           -0.39273214882544505,
           -0.417885750201407,
           -0.43157859884674826,
           -0.434076417833265,
           -0.42622489689420734,
           -0.4093935036702951,
           -0.3853906832849483,
           -0.35635521764627226,
           -0.324629843053556,
           -0.29262421276448536,
           -0.2626748843273063,
           -0.23691017597600564,
           -0.21712746254366178,
           -0.20468978410715197,
           -0.20044755867978276,
           -0.20468978410715197,
           -0.21712746254366178,
           -0.23691017597600564,
           -0.2626748843273063,
           -0.29262421276448536,
           -0.324629843053556,
           -0.35635521764627226,
           -0.3853906832849483,
           -0.4093935036702951,
           -0.42622489689420734,
           -0.434076417833265,
           -0.43157859884674826,
           -0.417885750201407,
           -0.39273214882544505,
           -0.3564564355250057,
           -0.309992807249447,
           -0.254829433326894,
           -0.1929363397545002,
           -0.12666669235949252,
           -0.05863687417657578,
           0.00840808631479302,
           0.07173638515428266,
           0.12877087581897034,
           0.1772223753881244,
           0.2152076253393881,
           0.2413455569066888,
           0.2548267267047997,
           0.2554522819126627,
           0.24364050109720906,
           0.22040074178662336,
           0.18727640924644018,
           0.14626024334832619,
           0.09968670899986165,
           0.05010748884225075,
           0.0001569493213448689,
           -0.04758506314163741,
           -0.0907256642328181,
           -0.1271795169340972,
           -0.15527119023634722
          ],
          [
           -0.16865061331126227,
           -0.14653700801271363,
           -0.11505016730310495,
           -0.07558080422426758,
           -0.030004497243790427,
           0.019407660252202565,
           0.07010183827093616,
           0.11937185506223688,
           0.16450028494360933,
           0.20290271423033404,
           0.23226729318028777,
           0.2506818889186662,
           0.2567417315441088,
           0.24963143467045815,
           0.22917661128094333,
           0.19586192453391038,
           0.15081422331281308,
           0.0957513146109,
           0.032898814044057145,
           -0.03512071345143313,
           -0.10542055787501849,
           -0.17499760171649797,
           -0.24088710992360066,
           -0.3003162506586467,
           -0.35084804028714445,
           -0.3905078789395116,
           -0.417885750201407,
           -0.43220845214435083,
           -0.4333778373354074,
           -0.42197287899622543,
           -0.39921534828629784,
           -0.36690087535799776,
           -0.3272990644317678,
           -0.28302803533990717,
           -0.23691017597600564,
           -0.19181693290541052,
           -0.15051108239111077,
           -0.11549507625799743,
           -0.08887373699192957,
           -0.0722388011028484,
           -0.06658162124929747,
           -0.0722388011028484,
           -0.08887373699192957,
           -0.11549507625799743,
           -0.15051108239111077,
           -0.19181693290541052,
           -0.23691017597600564,
           -0.28302803533990717,
           -0.3272990644317678,
           -0.36690087535799776,
           -0.39921534828629784,
           -0.42197287899622543,
           -0.4333778373354074,
           -0.43220845214435083,
           -0.417885750201407,
           -0.3905078789395116,
           -0.35084804028714445,
           -0.3003162506586467,
           -0.24088710992360066,
           -0.17499760171649797,
           -0.10542055787501849,
           -0.03512071345143313,
           0.032898814044057145,
           0.0957513146109,
           0.15081422331281308,
           0.19586192453391038,
           0.22917661128094333,
           0.24963143467045815,
           0.2567417315441088,
           0.2506818889186662,
           0.23226729318028777,
           0.20290271423033404,
           0.16450028494360933,
           0.11937185506223688,
           0.07010183827093616,
           0.019407660252202565,
           -0.030004497243790427,
           -0.07558080422426758,
           -0.11505016730310495,
           -0.14653700801271363
          ],
          [
           -0.16278435980926842,
           -0.13736985507049018,
           -0.10281030706494562,
           -0.060690608986011814,
           -0.013073952151520388,
           0.03759772656874239,
           0.08862652853638416,
           0.13719827990417027,
           0.18053174205108255,
           0.21602931256266372,
           0.24142096714711753,
           0.254893432701845,
           0.25519727019112654,
           0.24172565029557566,
           0.21456006847846779,
           0.17447999195279823,
           0.12293536517635703,
           0.06198291759831892,
           -0.005810793613848673,
           -0.07749482277960204,
           -0.14988136590815446,
           -0.21970771693043264,
           -0.2838041182964338,
           -0.3392585664190622,
           -0.3835697098652554,
           -0.4147795406040892,
           -0.43157859884674826,
           -0.4333778373354074,
           -0.4203430458705095,
           -0.39338972722403176,
           -0.3541384336243295,
           -0.30483270332925,
           -0.24822376277499153,
           -0.187427969950852,
           -0.1257644689695074,
           -0.06658162124929747,
           -0.0130814139378774,
           0.03184881503912622,
           0.0657883626364726,
           0.08691073780520595,
           0.0940800053732448,
           0.08691073780520595,
           0.0657883626364726,
           0.03184881503912622,
           -0.0130814139378774,
           -0.06658162124929747,
           -0.1257644689695074,
           -0.187427969950852,
           -0.24822376277499153,
           -0.30483270332925,
           -0.3541384336243295,
           -0.39338972722403176,
           -0.4203430458705095,
           -0.4333778373354074,
           -0.43157859884674826,
           -0.4147795406040892,
           -0.3835697098652554,
           -0.3392585664190622,
           -0.2838041182964338,
           -0.21970771693043264,
           -0.14988136590815446,
           -0.07749482277960204,
           -0.005810793613848673,
           0.06198291759831892,
           0.12293536517635703,
           0.17447999195279823,
           0.21456006847846779,
           0.24172565029557566,
           0.25519727019112654,
           0.254893432701845,
           0.24142096714711753,
           0.21602931256266372,
           0.18053174205108255,
           0.13719827990417027,
           0.08862652853638416,
           0.03759772656874239,
           -0.013073952151520388,
           -0.060690608986011814,
           -0.10281030706494562,
           -0.13736985507049018
          ],
          [
           -0.15646143337355978,
           -0.12803192632998142,
           -0.0907256642328181,
           -0.046310064114579955,
           0.0029779491154211806,
           0.054541276561040686,
           0.10555493165712146,
           0.15311446345017118,
           0.1943926655354523,
           0.22679610352037188,
           0.24811283911536614,
           0.2566430509401283,
           0.25130504004127213,
           0.2317103248693539,
           0.19820311451195688,
           0.15186131748507978,
           0.09445829662141196,
           0.02838670735216783,
           -0.043452159632214875,
           -0.1177881852505473,
           -0.19114437378651342,
           -0.26001264723920775,
           -0.3210343185560354,
           -0.37117570680030565,
           -0.407889497747319,
           -0.42925310491460716,
           -0.434076417833265,
           -0.42197287899622543,
           -0.39338972722403176,
           -0.3495953826561967,
           -0.29262421276448536,
           -0.22518118755916025,
           -0.15051108239111077,
           -0.0722388011028484,
           0.005811034304373925,
           0.07980593576993696,
           0.14609889758077332,
           0.20141317105264114,
           0.24300880867803662,
           0.2688222513075441,
           0.277571630583514,
           0.2688222513075441,
           0.24300880867803662,
           0.20141317105264114,
           0.14609889758077332,
           0.07980593576993696,
           0.005811034304373925,
           -0.0722388011028484,
           -0.15051108239111077,
           -0.22518118755916025,
           -0.29262421276448536,
           -0.3495953826561967,
           -0.39338972722403176,
           -0.42197287899622543,
           -0.434076417833265,
           -0.42925310491460716,
           -0.407889497747319,
           -0.37117570680030565,
           -0.3210343185560354,
           -0.26001264723920775,
           -0.19114437378651342,
           -0.1177881852505473,
           -0.043452159632214875,
           0.02838670735216783,
           0.09445829662141196,
           0.15186131748507978,
           0.19820311451195688,
           0.2317103248693539,
           0.25130504004127213,
           0.2566430509401283,
           0.24811283911536614,
           0.22679610352037188,
           0.1943926655354523,
           0.15311446345017118,
           0.10555493165712146,
           0.054541276561040686,
           0.0029779491154211806,
           -0.046310064114579955,
           -0.0907256642328181,
           -0.12803192632998142
          ],
          [
           -0.1499137997580331,
           -0.11876378051842666,
           -0.07903277128303789,
           -0.032657564269347995,
           0.017966041941118966,
           0.07010183827093616,
           0.12081441070397907,
           0.16712567793535366,
           0.2061784643801796,
           0.23539823538075702,
           0.25264402764959015,
           0.2563400102730029,
           0.2455799958764798,
           0.22019854657881394,
           0.18080401871815463,
           0.12877087581897034,
           0.0661907655654817,
           -0.004215913110515241,
           -0.0792240541655952,
           -0.15525760655490364,
           -0.22856545626592412,
           -0.29541051237375787,
           -0.35226222727992795,
           -0.39598244357893553,
           -0.42399466300627076,
           -0.43442757176285574,
           -0.42622489689420734,
           -0.39921534828629784,
           -0.3541384336243295,
           -0.29262421276448536,
           -0.21712746254366178,
           -0.13081912452072303,
           -0.03744017720227128,
           0.05887491198907235,
           0.1537963512162099,
           0.24300880867803662,
           0.32242214992953067,
           0.38837235101706136,
           0.4378022692207818,
           0.4684129583840573,
           0.47877771528316526,
           0.4684129583840573,
           0.4378022692207818,
           0.38837235101706136,
           0.32242214992953067,
           0.24300880867803662,
           0.1537963512162099,
           0.05887491198907235,
           -0.03744017720227128,
           -0.13081912452072303,
           -0.21712746254366178,
           -0.29262421276448536,
           -0.3541384336243295,
           -0.39921534828629784,
           -0.42622489689420734,
           -0.43442757176285574,
           -0.42399466300627076,
           -0.39598244357893553,
           -0.35226222727992795,
           -0.29541051237375787,
           -0.22856545626592412,
           -0.15525760655490364,
           -0.0792240541655952,
           -0.004215913110515241,
           0.0661907655654817,
           0.12877087581897034,
           0.18080401871815463,
           0.22019854657881394,
           0.2455799958764798,
           0.2563400102730029,
           0.25264402764959015,
           0.23539823538075702,
           0.2061784643801796,
           0.16712567793535366,
           0.12081441070397907,
           0.07010183827093616,
           0.017966041941118966,
           -0.032657564269347995,
           -0.07903277128303789,
           -0.11876378051842666
          ],
          [
           -0.14335579129849668,
           -0.10978201113265723,
           -0.06793803188546253,
           -0.019915691575644292,
           0.031745840459068614,
           0.08418731130237875,
           0.13437885433763305,
           0.1792839709402817,
           0.21602931256266372,
           0.2420710146043941,
           0.255348298963932,
           0.25441554164532254,
           0.23854497801642713,
           0.20779364608280457,
           0.1630299764243758,
           0.10591753298818528,
           0.03885568116655977,
           -0.03512071345143313,
           -0.11247819731414006,
           -0.18935183535374994,
           -0.2617343483375656,
           -0.32567778292945404,
           -0.37749737145928347,
           -0.41396693622794944,
           -0.43249545715781157,
           -0.4312752446188071,
           -0.4093935036702951,
           -0.36690087535799776,
           -0.30483270332925,
           -0.22518118755916025,
           -0.13081912452072303,
           -0.025378460035175753,
           0.08691073780520595,
           0.20141317105264114,
           0.3133036361206578,
           0.4177941096414197,
           0.5103612401471838,
           0.5869627944413911,
           0.6442321103834694,
           0.6796406846183429,
           0.69162061945593,
           0.6796406846183429,
           0.6442321103834694,
           0.5869627944413911,
           0.5103612401471838,
           0.4177941096414197,
           0.3133036361206578,
           0.20141317105264114,
           0.08691073780520595,
           -0.025378460035175753,
           -0.13081912452072303,
           -0.22518118755916025,
           -0.30483270332925,
           -0.36690087535799776,
           -0.4093935036702951,
           -0.4312752446188071,
           -0.43249545715781157,
           -0.41396693622794944,
           -0.37749737145928347,
           -0.32567778292945404,
           -0.2617343483375656,
           -0.18935183535374994,
           -0.11247819731414006,
           -0.03512071345143313,
           0.03885568116655977,
           0.10591753298818528,
           0.1630299764243758,
           0.20779364608280457,
           0.23854497801642713,
           0.25441554164532254,
           0.255348298963932,
           0.2420710146043941,
           0.21602931256266372,
           0.1792839709402817,
           0.13437885433763305,
           0.08418731130237875,
           0.031745840459068614,
           -0.019915691575644292,
           -0.06793803188546253,
           -0.10978201113265723
          ],
          [
           -0.13698176393514344,
           -0.10127808535368477,
           -0.05761803324395176,
           -0.00823327044894154,
           0.044209509361482956,
           0.09674378883254962,
           0.14626024334832619,
           0.18967745729212915,
           0.22411724822563847,
           0.24707500803079696,
           0.256575492104657,
           0.25130504004127213,
           0.23071227369415245,
           0.19507084218595108,
           0.14549969299473817,
           0.08393854575868848,
           0.013078615468659323,
           -0.06374895250625122,
           -0.1427221428215067,
           -0.21970771693043264,
           -0.29046275344788247,
           -0.35084804028714445,
           -0.3970424421347404,
           -0.42574709936268906,
           -0.43436863670247905,
           -0.421171462695804,
           -0.3853906832849483,
           -0.3272990644317678,
           -0.24822376277499153,
           -0.15051108239111077,
           -0.03744017720227128,
           0.08691073780520595,
           0.21783961811686398,
           0.35022902170777614,
           0.47877771528316526,
           0.5982441516081277,
           0.7036898157513979,
           0.7907103570985019,
           0.8556429685382863,
           0.8957396184216221,
           0.9092974268256817,
           0.8957396184216221,
           0.8556429685382863,
           0.7907103570985019,
           0.7036898157513979,
           0.5982441516081277,
           0.47877771528316526,
           0.35022902170777614,
           0.21783961811686398,
           0.08691073780520595,
           -0.03744017720227128,
           -0.15051108239111077,
           -0.24822376277499153,
           -0.3272990644317678,
           -0.3853906832849483,
           -0.421171462695804,
           -0.43436863670247905,
           -0.42574709936268906,
           -0.3970424421347404,
           -0.35084804028714445,
           -0.29046275344788247,
           -0.21970771693043264,
           -0.1427221428215067,
           -0.06374895250625122,
           0.013078615468659323,
           0.08393854575868848,
           0.14549969299473817,
           0.19507084218595108,
           0.23071227369415245,
           0.25130504004127213,
           0.256575492104657,
           0.24707500803079696,
           0.22411724822563847,
           0.18967745729212915,
           0.14626024334832619,
           0.09674378883254962,
           0.044209509361482956,
           -0.00823327044894154,
           -0.05761803324395176,
           -0.10127808535368477
          ],
          [
           -0.13096468174943518,
           -0.09341816596346665,
           -0.04822085787410071,
           0.0022716100207446164,
           0.05528095770522729,
           0.10774865812501504,
           0.15649972810645998,
           0.19841943861188654,
           0.23063350923189954,
           0.2506818889186662,
           0.2566762997375786,
           0.24743234013685533,
           0.2225680860000738,
           0.18256273925541686,
           0.12877087581897034,
           0.06339013493636744,
           -0.010617349295218181,
           -0.08964697741323371,
           -0.1696119802323752,
           -0.24613461781837798,
           -0.31475910259630246,
           -0.37117570680030565,
           -0.41144469052055266,
           -0.43220845214435083,
           -0.4308806796227811,
           -0.40580225753498556,
           -0.35635521764627226,
           -0.28302803533990717,
           -0.187427969950852,
           -0.0722388011028484,
           0.05887491198907235,
           0.20141317105264114,
           0.35022902170777614,
           0.49975144871271493,
           0.6442321103834694,
           0.7780040258931075,
           0.8957396184216221,
           0.992695449836068,
           1.0649315658049785,
           1.1094945766040856,
           1.124555367855928,
           1.1094945766040856,
           1.0649315658049785,
           0.992695449836068,
           0.8957396184216221,
           0.7780040258931075,
           0.6442321103834694,
           0.49975144871271493,
           0.35022902170777614,
           0.20141317105264114,
           0.05887491198907235,
           -0.0722388011028484,
           -0.187427969950852,
           -0.28302803533990717,
           -0.35635521764627226,
           -0.40580225753498556,
           -0.4308806796227811,
           -0.43220845214435083,
           -0.41144469052055266,
           -0.37117570680030565,
           -0.31475910259630246,
           -0.24613461781837798,
           -0.1696119802323752,
           -0.08964697741323371,
           -0.010617349295218181,
           0.06339013493636744,
           0.12877087581897034,
           0.18256273925541686,
           0.2225680860000738,
           0.24743234013685533,
           0.2566762997375786,
           0.2506818889186662,
           0.23063350923189954,
           0.19841943861188654,
           0.15649972810645998,
           0.10774865812501504,
           0.05528095770522729,
           0.0022716100207446164,
           -0.04822085787410071,
           -0.09341816596346665
          ],
          [
           -0.1254554756233313,
           -0.08634370978474622,
           -0.039868134180728126,
           0.011507919583092052,
           0.0649104168254659,
           0.11720338291232232,
           0.16515865057394133,
           0.20563779959612533,
           0.23577655069724138,
           0.2531614457800734,
           0.2559887694405144,
           0.2431963471432226,
           0.21456006847846779,
           0.17074867404778504,
           0.11333242903336226,
           0.044743679368913644,
           -0.03181017613329085,
           -0.11247819731414006,
           -0.1929363397545002,
           -0.268589046149572,
           -0.33479237619194996,
           -0.38708768931988075,
           -0.42143408131469146,
           -0.43442757176285574,
           -0.42349546556438716,
           -0.38705535500366767,
           -0.324629843053556,
           -0.23691017597600564,
           -0.1257644689695074,
           0.005811034304373925,
           0.1537963512162099,
           0.3133036361206578,
           0.47877771528316526,
           0.6442321103834694,
           0.803509484779075,
           0.9505541014891831,
           1.0796831610910465,
           1.1858438330909473,
           1.2648434125627805,
           1.3135412961886945,
           1.3299933154720727,
           1.3135412961886945,
           1.2648434125627805,
           1.1858438330909473,
           1.0796831610910465,
           0.9505541014891831,
           0.803509484779075,
           0.6442321103834694,
           0.47877771528316526,
           0.3133036361206578,
           0.1537963512162099,
           0.005811034304373925,
           -0.1257644689695074,
           -0.23691017597600564,
           -0.324629843053556,
           -0.38705535500366767,
           -0.42349546556438716,
           -0.43442757176285574,
           -0.42143408131469146,
           -0.38708768931988075,
           -0.33479237619194996,
           -0.268589046149572,
           -0.1929363397545002,
           -0.11247819731414006,
           -0.03181017613329085,
           0.044743679368913644,
           0.11333242903336226,
           0.17074867404778504,
           0.21456006847846779,
           0.2431963471432226,
           0.2559887694405144,
           0.2531614457800734,
           0.23577655069724138,
           0.20563779959612533,
           0.16515865057394133,
           0.11720338291232232,
           0.0649104168254659,
           0.011507919583092052,
           -0.039868134180728126,
           -0.08634370978474622
          ],
          [
           -0.12058300781296416,
           -0.08017262722723162,
           -0.032657564269347995,
           0.019407660252202565,
           0.07306884206017318,
           0.12512633286074154,
           0.17230988766358785,
           0.21146505144444128,
           0.23974108638511749,
           0.25477004091850136,
           0.2548267267047997,
           0.23896010343988033,
           0.2070878465419809,
           0.16004763127913005,
           0.09960082298540655,
           0.02838670735216783,
           -0.050171999808914604,
           -0.132008995765264,
           -0.2125937105436689,
           -0.28714197491104243,
           -0.35084804028714445,
           -0.3991265770886398,
           -0.42785247459104203,
           -0.4335860886421158,
           -0.4137720534188708,
           -0.36690087535799776,
           -0.29262421276448536,
           -0.19181693290541052,
           -0.06658162124929747,
           0.07980593576993696,
           0.24300880867803662,
           0.4177941096414197,
           0.5982441516081277,
           0.7780040258931075,
           0.9505541014891831,
           1.1094945766040856,
           1.2488284837498442,
           1.3632295064019535,
           1.4482816142111579,
           1.500678835049543,
           1.518375390968938,
           1.500678835049543,
           1.4482816142111579,
           1.3632295064019535,
           1.2488284837498442,
           1.1094945766040856,
           0.9505541014891831,
           0.7780040258931075,
           0.5982441516081277,
           0.4177941096414197,
           0.24300880867803662,
           0.07980593576993696,
           -0.06658162124929747,
           -0.19181693290541052,
           -0.29262421276448536,
           -0.36690087535799776,
           -0.4137720534188708,
           -0.4335860886421158,
           -0.42785247459104203,
           -0.3991265770886398,
           -0.35084804028714445,
           -0.28714197491104243,
           -0.2125937105436689,
           -0.132008995765264,
           -0.050171999808914604,
           0.02838670735216783,
           0.09960082298540655,
           0.16004763127913005,
           0.2070878465419809,
           0.23896010343988033,
           0.2548267267047997,
           0.25477004091850136,
           0.23974108638511749,
           0.21146505144444128,
           0.17230988766358785,
           0.12512633286074154,
           0.07306884206017318,
           0.019407660252202565,
           -0.032657564269347995,
           -0.08017262722723162
          ],
          [
           -0.1164544699167505,
           -0.0750007897964791,
           -0.026665677985416577,
           0.025921773001301992,
           0.07974244535617742,
           0.13154597877649798,
           0.17802983029511174,
           0.21602931256266372,
           0.242708395806646,
           0.2557406839380664,
           0.25347017586536014,
           0.23504220166614895,
           0.20049625055173417,
           0.15081422331281308,
           0.08791985781076668,
           0.014627580006334946,
           -0.06545830501430487,
           -0.14809048863531396,
           -0.22856545626592412,
           -0.30194177876754097,
           -0.3632795822101567,
           -0.407889497747319,
           -0.43157859884674826,
           -0.4308806796227811,
           -0.40325873487122593,
           -0.3472686537517362,
           -0.2626748843273063,
           -0.15051108239111077,
           -0.0130814139378774,
           0.14609889758077332,
           0.32242214992953067,
           0.5103612401471838,
           0.7036898157513979,
           0.8957396184216221,
           1.0796831610910465,
           1.2488284837498442,
           1.3969119972732167,
           1.518375390968938,
           1.608613254431116,
           1.6641794167481594,
           1.682941969615793,
           1.6641794167481594,
           1.608613254431116,
           1.518375390968938,
           1.3969119972732167,
           1.2488284837498442,
           1.0796831610910465,
           0.8957396184216221,
           0.7036898157513979,
           0.5103612401471838,
           0.32242214992953067,
           0.14609889758077332,
           -0.0130814139378774,
           -0.15051108239111077,
           -0.2626748843273063,
           -0.3472686537517362,
           -0.40325873487122593,
           -0.4308806796227811,
           -0.43157859884674826,
           -0.407889497747319,
           -0.3632795822101567,
           -0.30194177876754097,
           -0.22856545626592412,
           -0.14809048863531396,
           -0.06545830501430487,
           0.014627580006334946,
           0.08791985781076668,
           0.15081422331281308,
           0.20049625055173417,
           0.23504220166614895,
           0.25347017586536014,
           0.2557406839380664,
           0.242708395806646,
           0.21602931256266372,
           0.17802983029511174,
           0.13154597877649798,
           0.07974244535617742,
           0.025921773001301992,
           -0.026665677985416577,
           -0.0750007897964791
          ],
          [
           -0.1131560467581887,
           -0.07090368426500879,
           -0.021950582012676394,
           0.031016232090896562,
           0.08492762656935865,
           0.13649472168344115,
           0.18239124981424537,
           0.21944644111666822,
           0.24483804991090946,
           0.2562747828163765,
           0.252157618714697,
           0.2317103248693539,
           0.19507084218595108,
           0.1433370736825879,
           0.07856287339249271,
           0.0037025838949493145,
           -0.07749482277960204,
           -0.16063822727306362,
           -0.24088710992360066,
           -0.31317589634427284,
           -0.37245933283868765,
           -0.41396693622794944,
           -0.4334537754581445,
           -0.4274347075936389,
           -0.39338972722403176,
           -0.32992927901128904,
           -0.23691017597600564,
           -0.11549507625799743,
           0.03184881503912622,
           0.20141317105264114,
           0.38837235101706136,
           0.5869627944413911,
           0.7907103570985019,
           0.992695449836068,
           1.1858438330909473,
           1.3632295064019535,
           1.518375390968938,
           1.6455374774968983,
           1.7399588071171015,
           1.7980810383563555,
           1.8177033600622243,
           1.7980810383563555,
           1.7399588071171015,
           1.6455374774968983,
           1.518375390968938,
           1.3632295064019535,
           1.1858438330909473,
           0.992695449836068,
           0.7907103570985019,
           0.5869627944413911,
           0.38837235101706136,
           0.20141317105264114,
           0.03184881503912622,
           -0.11549507625799743,
           -0.23691017597600564,
           -0.32992927901128904,
           -0.39338972722403176,
           -0.4274347075936389,
           -0.4334537754581445,
           -0.41396693622794944,
           -0.37245933283868765,
           -0.31317589634427284,
           -0.24088710992360066,
           -0.16063822727306362,
           -0.07749482277960204,
           0.0037025838949493145,
           0.07856287339249271,
           0.1433370736825879,
           0.19507084218595108,
           0.2317103248693539,
           0.252157618714697,
           0.2562747828163765,
           0.24483804991090946,
           0.21944644111666822,
           0.18239124981424537,
           0.13649472168344115,
           0.08492762656935865,
           0.031016232090896562,
           -0.021950582012676394,
           -0.07090368426500879
          ],
          [
           -0.1107536917561867,
           -0.06793803188546253,
           -0.01855449981019833,
           0.03466854669458865,
           0.08862652853638416,
           0.14000357308347133,
           0.18545724476618586,
           0.22181346801290225,
           0.24626113579560338,
           0.25653555744366946,
           0.25108014921898075,
           0.22917661128094333,
           0.19103523332295086,
           0.13783886506830845,
           0.07173638515428266,
           -0.004215913110515241,
           -0.08616386191642225,
           -0.1696119802323752,
           -0.24962054293732017,
           -0.3210343185560354,
           -0.3787322233669178,
           -0.417885750201407,
           -0.434213248547002,
           -0.42421701152445723,
           -0.3853906832849483,
           -0.3163857196862348,
           -0.21712746254366178,
           -0.08887373699192957,
           0.0657883626364726,
           0.24300880867803662,
           0.4378022692207818,
           0.6442321103834694,
           0.8556429685382863,
           1.0649315658049785,
           1.2648434125627805,
           1.4482816142111579,
           1.608613254431116,
           1.7399588071171015,
           1.8374507397311368,
           1.8974488797623419,
           1.917702154416812,
           1.8974488797623419,
           1.8374507397311368,
           1.7399588071171015,
           1.608613254431116,
           1.4482816142111579,
           1.2648434125627805,
           1.0649315658049785,
           0.8556429685382863,
           0.6442321103834694,
           0.4378022692207818,
           0.24300880867803662,
           0.0657883626364726,
           -0.08887373699192957,
           -0.21712746254366178,
           -0.3163857196862348,
           -0.3853906832849483,
           -0.42421701152445723,
           -0.434213248547002,
           -0.417885750201407,
           -0.3787322233669178,
           -0.3210343185560354,
           -0.24962054293732017,
           -0.1696119802323752,
           -0.08616386191642225,
           -0.004215913110515241,
           0.07173638515428266,
           0.13783886506830845,
           0.19103523332295086,
           0.22917661128094333,
           0.25108014921898075,
           0.25653555744366946,
           0.24626113579560338,
           0.22181346801290225,
           0.18545724476618586,
           0.14000357308347133,
           0.08862652853638416,
           0.03466854669458865,
           -0.01855449981019833,
           -0.06793803188546253
          ],
          [
           -0.10929387900894774,
           -0.06614321685638791,
           -0.016505930263581485,
           0.03686485131708162,
           0.09084339726921295,
           0.14209785531573388,
           0.18727640924644018,
           0.2232034254780841,
           0.24707500803079696,
           0.2566430509401283,
           0.25037713957121355,
           0.22759450814784551,
           0.18854967763954522,
           0.134477311926808,
           0.06758414818694233,
           -0.009011537058698997,
           -0.09139170665445415,
           -0.17499760171649797,
           -0.254829433326894,
           -0.32567778292945404,
           -0.382375848005458,
           -0.4200602785751461,
           -0.43442757176285574,
           -0.42197287899622543,
           -0.3801986514917913,
           -0.3077817863653888,
           -0.20468978410715197,
           -0.0722388011028484,
           0.08691073780520595,
           0.2688222513075441,
           0.4684129583840573,
           0.6796406846183429,
           0.8957396184216221,
           1.1094945766040856,
           1.3135412961886945,
           1.500678835049543,
           1.6641794167481594,
           1.7980810383563555,
           1.8974488797623419,
           1.9585929762944412,
           1.9792316740361835,
           1.9585929762944412,
           1.8974488797623419,
           1.7980810383563555,
           1.6641794167481594,
           1.500678835049543,
           1.3135412961886945,
           1.1094945766040856,
           0.8957396184216221,
           0.6796406846183429,
           0.4684129583840573,
           0.2688222513075441,
           0.08691073780520595,
           -0.0722388011028484,
           -0.20468978410715197,
           -0.3077817863653888,
           -0.3801986514917913,
           -0.42197287899622543,
           -0.43442757176285574,
           -0.4200602785751461,
           -0.382375848005458,
           -0.32567778292945404,
           -0.254829433326894,
           -0.17499760171649797,
           -0.09139170665445415,
           -0.009011537058698997,
           0.06758414818694233,
           0.134477311926808,
           0.18854967763954522,
           0.22759450814784551,
           0.25037713957121355,
           0.2566430509401283,
           0.24707500803079696,
           0.2232034254780841,
           0.18727640924644018,
           0.14209785531573388,
           0.09084339726921295,
           0.03686485131708162,
           -0.016505930263581485,
           -0.06614321685638791
          ],
          [
           -0.10880422217787396,
           -0.06554239869174844,
           -0.015821288518275644,
           0.03759772656874239,
           0.09158188560927924,
           0.14279404657238684,
           0.18787932061729182,
           0.22366162672468853,
           0.24733956165584545,
           0.2566706526738519,
           0.25013332713993036,
           0.2270567942100705,
           0.18771045677679687,
           0.1333463922312941,
           0.0661907655654817,
           -0.010617349295218181,
           -0.09313849939964196,
           -0.17679272260843765,
           -0.2565601183892334,
           -0.32721314035298743,
           -0.3835697098652554,
           -0.4207548585159486,
           -0.43445783007337646,
           -0.421171462695804,
           -0.3784012476539641,
           -0.30483270332925,
           -0.20044755867978276,
           -0.06658162124929747,
           0.0940800053732448,
           0.277571630583514,
           0.47877771528316526,
           0.69162061945593,
           0.9092974268256817,
           1.124555367855928,
           1.3299933154720727,
           1.518375390968938,
           1.682941969615793,
           1.8177033600622243,
           1.917702154416812,
           1.9792316740361835,
           null,
           1.9792316740361835,
           1.917702154416812,
           1.8177033600622243,
           1.682941969615793,
           1.518375390968938,
           1.3299933154720727,
           1.124555367855928,
           0.9092974268256817,
           0.69162061945593,
           0.47877771528316526,
           0.277571630583514,
           0.0940800053732448,
           -0.06658162124929747,
           -0.20044755867978276,
           -0.30483270332925,
           -0.3784012476539641,
           -0.421171462695804,
           -0.43445783007337646,
           -0.4207548585159486,
           -0.3835697098652554,
           -0.32721314035298743,
           -0.2565601183892334,
           -0.17679272260843765,
           -0.09313849939964196,
           -0.010617349295218181,
           0.0661907655654817,
           0.1333463922312941,
           0.18771045677679687,
           0.2270567942100705,
           0.25013332713993036,
           0.2566706526738519,
           0.24733956165584545,
           0.22366162672468853,
           0.18787932061729182,
           0.14279404657238684,
           0.09158188560927924,
           0.03759772656874239,
           -0.015821288518275644,
           -0.06554239869174844
          ],
          [
           -0.10929387900894774,
           -0.06614321685638791,
           -0.016505930263581485,
           0.03686485131708162,
           0.09084339726921295,
           0.14209785531573388,
           0.18727640924644018,
           0.2232034254780841,
           0.24707500803079696,
           0.2566430509401283,
           0.25037713957121355,
           0.22759450814784551,
           0.18854967763954522,
           0.134477311926808,
           0.06758414818694233,
           -0.009011537058698997,
           -0.09139170665445415,
           -0.17499760171649797,
           -0.254829433326894,
           -0.32567778292945404,
           -0.382375848005458,
           -0.4200602785751461,
           -0.43442757176285574,
           -0.42197287899622543,
           -0.3801986514917913,
           -0.3077817863653888,
           -0.20468978410715197,
           -0.0722388011028484,
           0.08691073780520595,
           0.2688222513075441,
           0.4684129583840573,
           0.6796406846183429,
           0.8957396184216221,
           1.1094945766040856,
           1.3135412961886945,
           1.500678835049543,
           1.6641794167481594,
           1.7980810383563555,
           1.8974488797623419,
           1.9585929762944412,
           1.9792316740361835,
           1.9585929762944412,
           1.8974488797623419,
           1.7980810383563555,
           1.6641794167481594,
           1.500678835049543,
           1.3135412961886945,
           1.1094945766040856,
           0.8957396184216221,
           0.6796406846183429,
           0.4684129583840573,
           0.2688222513075441,
           0.08691073780520595,
           -0.0722388011028484,
           -0.20468978410715197,
           -0.3077817863653888,
           -0.3801986514917913,
           -0.42197287899622543,
           -0.43442757176285574,
           -0.4200602785751461,
           -0.382375848005458,
           -0.32567778292945404,
           -0.254829433326894,
           -0.17499760171649797,
           -0.09139170665445415,
           -0.009011537058698997,
           0.06758414818694233,
           0.134477311926808,
           0.18854967763954522,
           0.22759450814784551,
           0.25037713957121355,
           0.2566430509401283,
           0.24707500803079696,
           0.2232034254780841,
           0.18727640924644018,
           0.14209785531573388,
           0.09084339726921295,
           0.03686485131708162,
           -0.016505930263581485,
           -0.06614321685638791
          ],
          [
           -0.1107536917561867,
           -0.06793803188546253,
           -0.01855449981019833,
           0.03466854669458865,
           0.08862652853638416,
           0.14000357308347133,
           0.18545724476618586,
           0.22181346801290225,
           0.24626113579560338,
           0.25653555744366946,
           0.25108014921898075,
           0.22917661128094333,
           0.19103523332295086,
           0.13783886506830845,
           0.07173638515428266,
           -0.004215913110515241,
           -0.08616386191642225,
           -0.1696119802323752,
           -0.24962054293732017,
           -0.3210343185560354,
           -0.3787322233669178,
           -0.417885750201407,
           -0.434213248547002,
           -0.42421701152445723,
           -0.3853906832849483,
           -0.3163857196862348,
           -0.21712746254366178,
           -0.08887373699192957,
           0.0657883626364726,
           0.24300880867803662,
           0.4378022692207818,
           0.6442321103834694,
           0.8556429685382863,
           1.0649315658049785,
           1.2648434125627805,
           1.4482816142111579,
           1.608613254431116,
           1.7399588071171015,
           1.8374507397311368,
           1.8974488797623419,
           1.917702154416812,
           1.8974488797623419,
           1.8374507397311368,
           1.7399588071171015,
           1.608613254431116,
           1.4482816142111579,
           1.2648434125627805,
           1.0649315658049785,
           0.8556429685382863,
           0.6442321103834694,
           0.4378022692207818,
           0.24300880867803662,
           0.0657883626364726,
           -0.08887373699192957,
           -0.21712746254366178,
           -0.3163857196862348,
           -0.3853906832849483,
           -0.42421701152445723,
           -0.434213248547002,
           -0.417885750201407,
           -0.3787322233669178,
           -0.3210343185560354,
           -0.24962054293732017,
           -0.1696119802323752,
           -0.08616386191642225,
           -0.004215913110515241,
           0.07173638515428266,
           0.13783886506830845,
           0.19103523332295086,
           0.22917661128094333,
           0.25108014921898075,
           0.25653555744366946,
           0.24626113579560338,
           0.22181346801290225,
           0.18545724476618586,
           0.14000357308347133,
           0.08862652853638416,
           0.03466854669458865,
           -0.01855449981019833,
           -0.06793803188546253
          ],
          [
           -0.1131560467581887,
           -0.07090368426500879,
           -0.021950582012676394,
           0.031016232090896562,
           0.08492762656935865,
           0.13649472168344115,
           0.18239124981424537,
           0.21944644111666822,
           0.24483804991090946,
           0.2562747828163765,
           0.252157618714697,
           0.2317103248693539,
           0.19507084218595108,
           0.1433370736825879,
           0.07856287339249271,
           0.0037025838949493145,
           -0.07749482277960204,
           -0.16063822727306362,
           -0.24088710992360066,
           -0.31317589634427284,
           -0.37245933283868765,
           -0.41396693622794944,
           -0.4334537754581445,
           -0.4274347075936389,
           -0.39338972722403176,
           -0.32992927901128904,
           -0.23691017597600564,
           -0.11549507625799743,
           0.03184881503912622,
           0.20141317105264114,
           0.38837235101706136,
           0.5869627944413911,
           0.7907103570985019,
           0.992695449836068,
           1.1858438330909473,
           1.3632295064019535,
           1.518375390968938,
           1.6455374774968983,
           1.7399588071171015,
           1.7980810383563555,
           1.8177033600622243,
           1.7980810383563555,
           1.7399588071171015,
           1.6455374774968983,
           1.518375390968938,
           1.3632295064019535,
           1.1858438330909473,
           0.992695449836068,
           0.7907103570985019,
           0.5869627944413911,
           0.38837235101706136,
           0.20141317105264114,
           0.03184881503912622,
           -0.11549507625799743,
           -0.23691017597600564,
           -0.32992927901128904,
           -0.39338972722403176,
           -0.4274347075936389,
           -0.4334537754581445,
           -0.41396693622794944,
           -0.37245933283868765,
           -0.31317589634427284,
           -0.24088710992360066,
           -0.16063822727306362,
           -0.07749482277960204,
           0.0037025838949493145,
           0.07856287339249271,
           0.1433370736825879,
           0.19507084218595108,
           0.2317103248693539,
           0.252157618714697,
           0.2562747828163765,
           0.24483804991090946,
           0.21944644111666822,
           0.18239124981424537,
           0.13649472168344115,
           0.08492762656935865,
           0.031016232090896562,
           -0.021950582012676394,
           -0.07090368426500879
          ],
          [
           -0.1164544699167505,
           -0.0750007897964791,
           -0.026665677985416577,
           0.025921773001301992,
           0.07974244535617742,
           0.13154597877649798,
           0.17802983029511174,
           0.21602931256266372,
           0.242708395806646,
           0.2557406839380664,
           0.25347017586536014,
           0.23504220166614895,
           0.20049625055173417,
           0.15081422331281308,
           0.08791985781076668,
           0.014627580006334946,
           -0.06545830501430487,
           -0.14809048863531396,
           -0.22856545626592412,
           -0.30194177876754097,
           -0.3632795822101567,
           -0.407889497747319,
           -0.43157859884674826,
           -0.4308806796227811,
           -0.40325873487122593,
           -0.3472686537517362,
           -0.2626748843273063,
           -0.15051108239111077,
           -0.0130814139378774,
           0.14609889758077332,
           0.32242214992953067,
           0.5103612401471838,
           0.7036898157513979,
           0.8957396184216221,
           1.0796831610910465,
           1.2488284837498442,
           1.3969119972732167,
           1.518375390968938,
           1.608613254431116,
           1.6641794167481594,
           1.682941969615793,
           1.6641794167481594,
           1.608613254431116,
           1.518375390968938,
           1.3969119972732167,
           1.2488284837498442,
           1.0796831610910465,
           0.8957396184216221,
           0.7036898157513979,
           0.5103612401471838,
           0.32242214992953067,
           0.14609889758077332,
           -0.0130814139378774,
           -0.15051108239111077,
           -0.2626748843273063,
           -0.3472686537517362,
           -0.40325873487122593,
           -0.4308806796227811,
           -0.43157859884674826,
           -0.407889497747319,
           -0.3632795822101567,
           -0.30194177876754097,
           -0.22856545626592412,
           -0.14809048863531396,
           -0.06545830501430487,
           0.014627580006334946,
           0.08791985781076668,
           0.15081422331281308,
           0.20049625055173417,
           0.23504220166614895,
           0.25347017586536014,
           0.2557406839380664,
           0.242708395806646,
           0.21602931256266372,
           0.17802983029511174,
           0.13154597877649798,
           0.07974244535617742,
           0.025921773001301992,
           -0.026665677985416577,
           -0.0750007897964791
          ],
          [
           -0.12058300781296416,
           -0.08017262722723162,
           -0.032657564269347995,
           0.019407660252202565,
           0.07306884206017318,
           0.12512633286074154,
           0.17230988766358785,
           0.21146505144444128,
           0.23974108638511749,
           0.25477004091850136,
           0.2548267267047997,
           0.23896010343988033,
           0.2070878465419809,
           0.16004763127913005,
           0.09960082298540655,
           0.02838670735216783,
           -0.050171999808914604,
           -0.132008995765264,
           -0.2125937105436689,
           -0.28714197491104243,
           -0.35084804028714445,
           -0.3991265770886398,
           -0.42785247459104203,
           -0.4335860886421158,
           -0.4137720534188708,
           -0.36690087535799776,
           -0.29262421276448536,
           -0.19181693290541052,
           -0.06658162124929747,
           0.07980593576993696,
           0.24300880867803662,
           0.4177941096414197,
           0.5982441516081277,
           0.7780040258931075,
           0.9505541014891831,
           1.1094945766040856,
           1.2488284837498442,
           1.3632295064019535,
           1.4482816142111579,
           1.500678835049543,
           1.518375390968938,
           1.500678835049543,
           1.4482816142111579,
           1.3632295064019535,
           1.2488284837498442,
           1.1094945766040856,
           0.9505541014891831,
           0.7780040258931075,
           0.5982441516081277,
           0.4177941096414197,
           0.24300880867803662,
           0.07980593576993696,
           -0.06658162124929747,
           -0.19181693290541052,
           -0.29262421276448536,
           -0.36690087535799776,
           -0.4137720534188708,
           -0.4335860886421158,
           -0.42785247459104203,
           -0.3991265770886398,
           -0.35084804028714445,
           -0.28714197491104243,
           -0.2125937105436689,
           -0.132008995765264,
           -0.050171999808914604,
           0.02838670735216783,
           0.09960082298540655,
           0.16004763127913005,
           0.2070878465419809,
           0.23896010343988033,
           0.2548267267047997,
           0.25477004091850136,
           0.23974108638511749,
           0.21146505144444128,
           0.17230988766358785,
           0.12512633286074154,
           0.07306884206017318,
           0.019407660252202565,
           -0.032657564269347995,
           -0.08017262722723162
          ],
          [
           -0.1254554756233313,
           -0.08634370978474622,
           -0.039868134180728126,
           0.011507919583092052,
           0.0649104168254659,
           0.11720338291232232,
           0.16515865057394133,
           0.20563779959612533,
           0.23577655069724138,
           0.2531614457800734,
           0.2559887694405144,
           0.2431963471432226,
           0.21456006847846779,
           0.17074867404778504,
           0.11333242903336226,
           0.044743679368913644,
           -0.03181017613329085,
           -0.11247819731414006,
           -0.1929363397545002,
           -0.268589046149572,
           -0.33479237619194996,
           -0.38708768931988075,
           -0.42143408131469146,
           -0.43442757176285574,
           -0.42349546556438716,
           -0.38705535500366767,
           -0.324629843053556,
           -0.23691017597600564,
           -0.1257644689695074,
           0.005811034304373925,
           0.1537963512162099,
           0.3133036361206578,
           0.47877771528316526,
           0.6442321103834694,
           0.803509484779075,
           0.9505541014891831,
           1.0796831610910465,
           1.1858438330909473,
           1.2648434125627805,
           1.3135412961886945,
           1.3299933154720727,
           1.3135412961886945,
           1.2648434125627805,
           1.1858438330909473,
           1.0796831610910465,
           0.9505541014891831,
           0.803509484779075,
           0.6442321103834694,
           0.47877771528316526,
           0.3133036361206578,
           0.1537963512162099,
           0.005811034304373925,
           -0.1257644689695074,
           -0.23691017597600564,
           -0.324629843053556,
           -0.38705535500366767,
           -0.42349546556438716,
           -0.43442757176285574,
           -0.42143408131469146,
           -0.38708768931988075,
           -0.33479237619194996,
           -0.268589046149572,
           -0.1929363397545002,
           -0.11247819731414006,
           -0.03181017613329085,
           0.044743679368913644,
           0.11333242903336226,
           0.17074867404778504,
           0.21456006847846779,
           0.2431963471432226,
           0.2559887694405144,
           0.2531614457800734,
           0.23577655069724138,
           0.20563779959612533,
           0.16515865057394133,
           0.11720338291232232,
           0.0649104168254659,
           0.011507919583092052,
           -0.039868134180728126,
           -0.08634370978474622
          ],
          [
           -0.13096468174943518,
           -0.09341816596346665,
           -0.04822085787410071,
           0.0022716100207446164,
           0.05528095770522729,
           0.10774865812501504,
           0.15649972810645998,
           0.19841943861188654,
           0.23063350923189954,
           0.2506818889186662,
           0.2566762997375786,
           0.24743234013685533,
           0.2225680860000738,
           0.18256273925541686,
           0.12877087581897034,
           0.06339013493636744,
           -0.010617349295218181,
           -0.08964697741323371,
           -0.1696119802323752,
           -0.24613461781837798,
           -0.31475910259630246,
           -0.37117570680030565,
           -0.41144469052055266,
           -0.43220845214435083,
           -0.4308806796227811,
           -0.40580225753498556,
           -0.35635521764627226,
           -0.28302803533990717,
           -0.187427969950852,
           -0.0722388011028484,
           0.05887491198907235,
           0.20141317105264114,
           0.35022902170777614,
           0.49975144871271493,
           0.6442321103834694,
           0.7780040258931075,
           0.8957396184216221,
           0.992695449836068,
           1.0649315658049785,
           1.1094945766040856,
           1.124555367855928,
           1.1094945766040856,
           1.0649315658049785,
           0.992695449836068,
           0.8957396184216221,
           0.7780040258931075,
           0.6442321103834694,
           0.49975144871271493,
           0.35022902170777614,
           0.20141317105264114,
           0.05887491198907235,
           -0.0722388011028484,
           -0.187427969950852,
           -0.28302803533990717,
           -0.35635521764627226,
           -0.40580225753498556,
           -0.4308806796227811,
           -0.43220845214435083,
           -0.41144469052055266,
           -0.37117570680030565,
           -0.31475910259630246,
           -0.24613461781837798,
           -0.1696119802323752,
           -0.08964697741323371,
           -0.010617349295218181,
           0.06339013493636744,
           0.12877087581897034,
           0.18256273925541686,
           0.2225680860000738,
           0.24743234013685533,
           0.2566762997375786,
           0.2506818889186662,
           0.23063350923189954,
           0.19841943861188654,
           0.15649972810645998,
           0.10774865812501504,
           0.05528095770522729,
           0.0022716100207446164,
           -0.04822085787410071,
           -0.09341816596346665
          ],
          [
           -0.13698176393514344,
           -0.10127808535368477,
           -0.05761803324395176,
           -0.00823327044894154,
           0.044209509361482956,
           0.09674378883254962,
           0.14626024334832619,
           0.18967745729212915,
           0.22411724822563847,
           0.24707500803079696,
           0.256575492104657,
           0.25130504004127213,
           0.23071227369415245,
           0.19507084218595108,
           0.14549969299473817,
           0.08393854575868848,
           0.013078615468659323,
           -0.06374895250625122,
           -0.1427221428215067,
           -0.21970771693043264,
           -0.29046275344788247,
           -0.35084804028714445,
           -0.3970424421347404,
           -0.42574709936268906,
           -0.43436863670247905,
           -0.421171462695804,
           -0.3853906832849483,
           -0.3272990644317678,
           -0.24822376277499153,
           -0.15051108239111077,
           -0.03744017720227128,
           0.08691073780520595,
           0.21783961811686398,
           0.35022902170777614,
           0.47877771528316526,
           0.5982441516081277,
           0.7036898157513979,
           0.7907103570985019,
           0.8556429685382863,
           0.8957396184216221,
           0.9092974268256817,
           0.8957396184216221,
           0.8556429685382863,
           0.7907103570985019,
           0.7036898157513979,
           0.5982441516081277,
           0.47877771528316526,
           0.35022902170777614,
           0.21783961811686398,
           0.08691073780520595,
           -0.03744017720227128,
           -0.15051108239111077,
           -0.24822376277499153,
           -0.3272990644317678,
           -0.3853906832849483,
           -0.421171462695804,
           -0.43436863670247905,
           -0.42574709936268906,
           -0.3970424421347404,
           -0.35084804028714445,
           -0.29046275344788247,
           -0.21970771693043264,
           -0.1427221428215067,
           -0.06374895250625122,
           0.013078615468659323,
           0.08393854575868848,
           0.14549969299473817,
           0.19507084218595108,
           0.23071227369415245,
           0.25130504004127213,
           0.256575492104657,
           0.24707500803079696,
           0.22411724822563847,
           0.18967745729212915,
           0.14626024334832619,
           0.09674378883254962,
           0.044209509361482956,
           -0.00823327044894154,
           -0.05761803324395176,
           -0.10127808535368477
          ],
          [
           -0.14335579129849668,
           -0.10978201113265723,
           -0.06793803188546253,
           -0.019915691575644292,
           0.031745840459068614,
           0.08418731130237875,
           0.13437885433763305,
           0.1792839709402817,
           0.21602931256266372,
           0.2420710146043941,
           0.255348298963932,
           0.25441554164532254,
           0.23854497801642713,
           0.20779364608280457,
           0.1630299764243758,
           0.10591753298818528,
           0.03885568116655977,
           -0.03512071345143313,
           -0.11247819731414006,
           -0.18935183535374994,
           -0.2617343483375656,
           -0.32567778292945404,
           -0.37749737145928347,
           -0.41396693622794944,
           -0.43249545715781157,
           -0.4312752446188071,
           -0.4093935036702951,
           -0.36690087535799776,
           -0.30483270332925,
           -0.22518118755916025,
           -0.13081912452072303,
           -0.025378460035175753,
           0.08691073780520595,
           0.20141317105264114,
           0.3133036361206578,
           0.4177941096414197,
           0.5103612401471838,
           0.5869627944413911,
           0.6442321103834694,
           0.6796406846183429,
           0.69162061945593,
           0.6796406846183429,
           0.6442321103834694,
           0.5869627944413911,
           0.5103612401471838,
           0.4177941096414197,
           0.3133036361206578,
           0.20141317105264114,
           0.08691073780520595,
           -0.025378460035175753,
           -0.13081912452072303,
           -0.22518118755916025,
           -0.30483270332925,
           -0.36690087535799776,
           -0.4093935036702951,
           -0.4312752446188071,
           -0.43249545715781157,
           -0.41396693622794944,
           -0.37749737145928347,
           -0.32567778292945404,
           -0.2617343483375656,
           -0.18935183535374994,
           -0.11247819731414006,
           -0.03512071345143313,
           0.03885568116655977,
           0.10591753298818528,
           0.1630299764243758,
           0.20779364608280457,
           0.23854497801642713,
           0.25441554164532254,
           0.255348298963932,
           0.2420710146043941,
           0.21602931256266372,
           0.1792839709402817,
           0.13437885433763305,
           0.08418731130237875,
           0.031745840459068614,
           -0.019915691575644292,
           -0.06793803188546253,
           -0.10978201113265723
          ],
          [
           -0.1499137997580331,
           -0.11876378051842666,
           -0.07903277128303789,
           -0.032657564269347995,
           0.017966041941118966,
           0.07010183827093616,
           0.12081441070397907,
           0.16712567793535366,
           0.2061784643801796,
           0.23539823538075702,
           0.25264402764959015,
           0.2563400102730029,
           0.2455799958764798,
           0.22019854657881394,
           0.18080401871815463,
           0.12877087581897034,
           0.0661907655654817,
           -0.004215913110515241,
           -0.0792240541655952,
           -0.15525760655490364,
           -0.22856545626592412,
           -0.29541051237375787,
           -0.35226222727992795,
           -0.39598244357893553,
           -0.42399466300627076,
           -0.43442757176285574,
           -0.42622489689420734,
           -0.39921534828629784,
           -0.3541384336243295,
           -0.29262421276448536,
           -0.21712746254366178,
           -0.13081912452072303,
           -0.03744017720227128,
           0.05887491198907235,
           0.1537963512162099,
           0.24300880867803662,
           0.32242214992953067,
           0.38837235101706136,
           0.4378022692207818,
           0.4684129583840573,
           0.47877771528316526,
           0.4684129583840573,
           0.4378022692207818,
           0.38837235101706136,
           0.32242214992953067,
           0.24300880867803662,
           0.1537963512162099,
           0.05887491198907235,
           -0.03744017720227128,
           -0.13081912452072303,
           -0.21712746254366178,
           -0.29262421276448536,
           -0.3541384336243295,
           -0.39921534828629784,
           -0.42622489689420734,
           -0.43442757176285574,
           -0.42399466300627076,
           -0.39598244357893553,
           -0.35226222727992795,
           -0.29541051237375787,
           -0.22856545626592412,
           -0.15525760655490364,
           -0.0792240541655952,
           -0.004215913110515241,
           0.0661907655654817,
           0.12877087581897034,
           0.18080401871815463,
           0.22019854657881394,
           0.2455799958764798,
           0.2563400102730029,
           0.25264402764959015,
           0.23539823538075702,
           0.2061784643801796,
           0.16712567793535366,
           0.12081441070397907,
           0.07010183827093616,
           0.017966041941118966,
           -0.032657564269347995,
           -0.07903277128303789,
           -0.11876378051842666
          ],
          [
           -0.15646143337355978,
           -0.12803192632998142,
           -0.0907256642328181,
           -0.046310064114579955,
           0.0029779491154211806,
           0.054541276561040686,
           0.10555493165712146,
           0.15311446345017118,
           0.1943926655354523,
           0.22679610352037188,
           0.24811283911536614,
           0.2566430509401283,
           0.25130504004127213,
           0.2317103248693539,
           0.19820311451195688,
           0.15186131748507978,
           0.09445829662141196,
           0.02838670735216783,
           -0.043452159632214875,
           -0.1177881852505473,
           -0.19114437378651342,
           -0.26001264723920775,
           -0.3210343185560354,
           -0.37117570680030565,
           -0.407889497747319,
           -0.42925310491460716,
           -0.434076417833265,
           -0.42197287899622543,
           -0.39338972722403176,
           -0.3495953826561967,
           -0.29262421276448536,
           -0.22518118755916025,
           -0.15051108239111077,
           -0.0722388011028484,
           0.005811034304373925,
           0.07980593576993696,
           0.14609889758077332,
           0.20141317105264114,
           0.24300880867803662,
           0.2688222513075441,
           0.277571630583514,
           0.2688222513075441,
           0.24300880867803662,
           0.20141317105264114,
           0.14609889758077332,
           0.07980593576993696,
           0.005811034304373925,
           -0.0722388011028484,
           -0.15051108239111077,
           -0.22518118755916025,
           -0.29262421276448536,
           -0.3495953826561967,
           -0.39338972722403176,
           -0.42197287899622543,
           -0.434076417833265,
           -0.42925310491460716,
           -0.407889497747319,
           -0.37117570680030565,
           -0.3210343185560354,
           -0.26001264723920775,
           -0.19114437378651342,
           -0.1177881852505473,
           -0.043452159632214875,
           0.02838670735216783,
           0.09445829662141196,
           0.15186131748507978,
           0.19820311451195688,
           0.2317103248693539,
           0.25130504004127213,
           0.2566430509401283,
           0.24811283911536614,
           0.22679610352037188,
           0.1943926655354523,
           0.15311446345017118,
           0.10555493165712146,
           0.054541276561040686,
           0.0029779491154211806,
           -0.046310064114579955,
           -0.0907256642328181,
           -0.12803192632998142
          ],
          [
           -0.16278435980926842,
           -0.13736985507049018,
           -0.10281030706494562,
           -0.060690608986011814,
           -0.013073952151520388,
           0.03759772656874239,
           0.08862652853638416,
           0.13719827990417027,
           0.18053174205108255,
           0.21602931256266372,
           0.24142096714711753,
           0.254893432701845,
           0.25519727019112654,
           0.24172565029557566,
           0.21456006847846779,
           0.17447999195279823,
           0.12293536517635703,
           0.06198291759831892,
           -0.005810793613848673,
           -0.07749482277960204,
           -0.14988136590815446,
           -0.21970771693043264,
           -0.2838041182964338,
           -0.3392585664190622,
           -0.3835697098652554,
           -0.4147795406040892,
           -0.43157859884674826,
           -0.4333778373354074,
           -0.4203430458705095,
           -0.39338972722403176,
           -0.3541384336243295,
           -0.30483270332925,
           -0.24822376277499153,
           -0.187427969950852,
           -0.1257644689695074,
           -0.06658162124929747,
           -0.0130814139378774,
           0.03184881503912622,
           0.0657883626364726,
           0.08691073780520595,
           0.0940800053732448,
           0.08691073780520595,
           0.0657883626364726,
           0.03184881503912622,
           -0.0130814139378774,
           -0.06658162124929747,
           -0.1257644689695074,
           -0.187427969950852,
           -0.24822376277499153,
           -0.30483270332925,
           -0.3541384336243295,
           -0.39338972722403176,
           -0.4203430458705095,
           -0.4333778373354074,
           -0.43157859884674826,
           -0.4147795406040892,
           -0.3835697098652554,
           -0.3392585664190622,
           -0.2838041182964338,
           -0.21970771693043264,
           -0.14988136590815446,
           -0.07749482277960204,
           -0.005810793613848673,
           0.06198291759831892,
           0.12293536517635703,
           0.17447999195279823,
           0.21456006847846779,
           0.24172565029557566,
           0.25519727019112654,
           0.254893432701845,
           0.24142096714711753,
           0.21602931256266372,
           0.18053174205108255,
           0.13719827990417027,
           0.08862652853638416,
           0.03759772656874239,
           -0.013073952151520388,
           -0.060690608986011814,
           -0.10281030706494562,
           -0.13736985507049018
          ],
          [
           -0.16865061331126227,
           -0.14653700801271363,
           -0.11505016730310495,
           -0.07558080422426758,
           -0.030004497243790427,
           0.019407660252202565,
           0.07010183827093616,
           0.11937185506223688,
           0.16450028494360933,
           0.20290271423033404,
           0.23226729318028777,
           0.2506818889186662,
           0.2567417315441088,
           0.24963143467045815,
           0.22917661128094333,
           0.19586192453391038,
           0.15081422331281308,
           0.0957513146109,
           0.032898814044057145,
           -0.03512071345143313,
           -0.10542055787501849,
           -0.17499760171649797,
           -0.24088710992360066,
           -0.3003162506586467,
           -0.35084804028714445,
           -0.3905078789395116,
           -0.417885750201407,
           -0.43220845214435083,
           -0.4333778373354074,
           -0.42197287899622543,
           -0.39921534828629784,
           -0.36690087535799776,
           -0.3272990644317678,
           -0.28302803533990717,
           -0.23691017597600564,
           -0.19181693290541052,
           -0.15051108239111077,
           -0.11549507625799743,
           -0.08887373699192957,
           -0.0722388011028484,
           -0.06658162124929747,
           -0.0722388011028484,
           -0.08887373699192957,
           -0.11549507625799743,
           -0.15051108239111077,
           -0.19181693290541052,
           -0.23691017597600564,
           -0.28302803533990717,
           -0.3272990644317678,
           -0.36690087535799776,
           -0.39921534828629784,
           -0.42197287899622543,
           -0.4333778373354074,
           -0.43220845214435083,
           -0.417885750201407,
           -0.3905078789395116,
           -0.35084804028714445,
           -0.3003162506586467,
           -0.24088710992360066,
           -0.17499760171649797,
           -0.10542055787501849,
           -0.03512071345143313,
           0.032898814044057145,
           0.0957513146109,
           0.15081422331281308,
           0.19586192453391038,
           0.22917661128094333,
           0.24963143467045815,
           0.2567417315441088,
           0.2506818889186662,
           0.23226729318028777,
           0.20290271423033404,
           0.16450028494360933,
           0.11937185506223688,
           0.07010183827093616,
           0.019407660252202565,
           -0.030004497243790427,
           -0.07558080422426758,
           -0.11505016730310495,
           -0.14653700801271363
          ],
          [
           -0.1738139924448547,
           -0.15527119023634722,
           -0.1271795169340972,
           -0.0907256642328181,
           -0.04758506314163741,
           0.0001569493213448689,
           0.05010748884225075,
           0.09968670899986165,
           0.14626024334832619,
           0.18727640924644018,
           0.22040074178662336,
           0.24364050109720906,
           0.2554522819126627,
           0.2548267267047997,
           0.2413455569066888,
           0.2152076253393881,
           0.1772223753881244,
           0.12877087581897034,
           0.07173638515428266,
           0.00840808631479302,
           -0.05863687417657578,
           -0.12666669235949252,
           -0.1929363397545002,
           -0.254829433326894,
           -0.309992807249447,
           -0.3564564355250057,
           -0.39273214882544505,
           -0.417885750201407,
           -0.43157859884674826,
           -0.434076417833265,
           -0.42622489689420734,
           -0.4093935036702951,
           -0.3853906832849483,
           -0.35635521764627226,
           -0.324629843053556,
           -0.29262421276448536,
           -0.2626748843273063,
           -0.23691017597600564,
           -0.21712746254366178,
           -0.20468978410715197,
           -0.20044755867978276,
           -0.20468978410715197,
           -0.21712746254366178,
           -0.23691017597600564,
           -0.2626748843273063,
           -0.29262421276448536,
           -0.324629843053556,
           -0.35635521764627226,
           -0.3853906832849483,
           -0.4093935036702951,
           -0.42622489689420734,
           -0.434076417833265,
           -0.43157859884674826,
           -0.417885750201407,
           -0.39273214882544505,
           -0.3564564355250057,
           -0.309992807249447,
           -0.254829433326894,
           -0.1929363397545002,
           -0.12666669235949252,
           -0.05863687417657578,
           0.00840808631479302,
           0.07173638515428266,
           0.12877087581897034,
           0.1772223753881244,
           0.2152076253393881,
           0.2413455569066888,
           0.2548267267047997,
           0.2554522819126627,
           0.24364050109720906,
           0.22040074178662336,
           0.18727640924644018,
           0.14626024334832619,
           0.09968670899986165,
           0.05010748884225075,
           0.0001569493213448689,
           -0.04758506314163741,
           -0.0907256642328181,
           -0.1271795169340972,
           -0.15527119023634722
          ],
          [
           -0.17801860199902664,
           -0.16329221750830802,
           -0.13890582780165694,
           -0.10583439818051152,
           -0.06554239869174844,
           -0.019915691575644292,
           0.02883009042098063,
           0.07825990831739421,
           0.1258425822940911,
           0.16908036038891633,
           0.20563779959612533,
           0.23346296309158113,
           0.2508943222213973,
           0.25674750760048576,
           0.25037713957121355,
           0.2317103248693539,
           0.20124995852555586,
           0.16004763127913005,
           0.1096476200446325,
           0.05200503792795912,
           -0.010617349295218181,
           -0.0757679524450742,
           -0.1409342819269669,
           -0.2036729142303004,
           -0.2617343483375656,
           -0.31317589634427284,
           -0.3564564355250057,
           -0.3905078789395116,
           -0.4147795406040892,
           -0.42925310491460716,
           -0.43442757176285574,
           -0.4312752446188071,
           -0.421171462695804,
           -0.40580225753498556,
           -0.38705535500366767,
           -0.36690087535799776,
           -0.3472686537517362,
           -0.32992927901128904,
           -0.3163857196862348,
           -0.3077817863653888,
           -0.30483270332925,
           -0.3077817863653888,
           -0.3163857196862348,
           -0.32992927901128904,
           -0.3472686537517362,
           -0.36690087535799776,
           -0.38705535500366767,
           -0.40580225753498556,
           -0.421171462695804,
           -0.4312752446188071,
           -0.43442757176285574,
           -0.42925310491460716,
           -0.4147795406040892,
           -0.3905078789395116,
           -0.3564564355250057,
           -0.31317589634427284,
           -0.2617343483375656,
           -0.2036729142303004,
           -0.1409342819269669,
           -0.0757679524450742,
           -0.010617349295218181,
           0.05200503792795912,
           0.1096476200446325,
           0.16004763127913005,
           0.20124995852555586,
           0.2317103248693539,
           0.25037713957121355,
           0.25674750760048576,
           0.2508943222213973,
           0.23346296309158113,
           0.20563779959612533,
           0.16908036038891633,
           0.1258425822940911,
           0.07825990831739421,
           0.02883009042098063,
           -0.019915691575644292,
           -0.06554239869174844,
           -0.10583439818051152,
           -0.13890582780165694,
           -0.16329221750830802
          ],
          [
           -0.18100457917857166,
           -0.17030698199702413,
           -0.1499137997580331,
           -0.12058300781296416,
           -0.08355939645450051,
           -0.040517266401149735,
           0.0065202421682302655,
           0.05528095770522729,
           0.10335731863015635,
           0.14832776112580212,
           0.18787932061729182,
           0.21992483146863692,
           0.242708395806646,
           0.254893432701845,
           0.25562857790064414,
           0.24458792842044305,
           0.22198354690007724,
           0.18854967763954522,
           0.14549969299473817,
           0.09445829662141196,
           0.037372873633869375,
           -0.02359098016854476,
           -0.08616386191642225,
           -0.14809048863531396,
           -0.20724458052139974,
           -0.2617343483375656,
           -0.309992807249447,
           -0.35084804028714445,
           -0.3835697098652554,
           -0.407889497747319,
           -0.42399466300627076,
           -0.43249545715781157,
           -0.43436863670247905,
           -0.4308806796227811,
           -0.42349546556438716,
           -0.4137720534188708,
           -0.40325873487122593,
           -0.39338972722403176,
           -0.3853906832849483,
           -0.3801986514917913,
           -0.3784012476539641,
           -0.3801986514917913,
           -0.3853906832849483,
           -0.39338972722403176,
           -0.40325873487122593,
           -0.4137720534188708,
           -0.42349546556438716,
           -0.4308806796227811,
           -0.43436863670247905,
           -0.43249545715781157,
           -0.42399466300627076,
           -0.407889497747319,
           -0.3835697098652554,
           -0.35084804028714445,
           -0.309992807249447,
           -0.2617343483375656,
           -0.20724458052139974,
           -0.14809048863531396,
           -0.08616386191642225,
           -0.02359098016854476,
           0.037372873633869375,
           0.09445829662141196,
           0.14549969299473817,
           0.18854967763954522,
           0.22198354690007724,
           0.24458792842044305,
           0.25562857790064414,
           0.254893432701845,
           0.242708395806646,
           0.21992483146863692,
           0.18787932061729182,
           0.14832776112580212,
           0.10335731863015635,
           0.05528095770522729,
           0.0065202421682302655,
           -0.040517266401149735,
           -0.08355939645450051,
           -0.12058300781296416,
           -0.1499137997580331,
           -0.17030698199702413
          ],
          [
           -0.18251498442862385,
           -0.1760159755489718,
           -0.15987112992755653,
           -0.13461888616197776,
           -0.10127808535368477,
           -0.061301442485772274,
           -0.016505930263581485,
           0.031016232090896562,
           0.07900122348247962,
           0.12512633286074154,
           0.16712567793535366,
           0.20290271423033404,
           0.23063350923189954,
           0.24885528388828942,
           0.25653555744366946,
           0.25311832399967577,
           0.23854497801642713,
           0.21324911772700825,
           0.17812580971586786,
           0.134477311926808,
           0.08393854575868848,
           0.02838670735216783,
           -0.030159748399708135,
           -0.08964697741323371,
           -0.14809048863531396,
           -0.2036729142303004,
           -0.254829433326894,
           -0.3003162506586467,
           -0.3392585664190622,
           -0.37117570680030565,
           -0.39598244357893553,
           -0.41396693622794944,
           -0.42574709936268906,
           -0.43220845214435083,
           -0.43442757176285574,
           -0.4335860886421158,
           -0.4308806796227811,
           -0.4274347075936389,
           -0.42421701152445723,
           -0.42197287899622543,
           -0.421171462695804,
           -0.42197287899622543,
           -0.42421701152445723,
           -0.4274347075936389,
           -0.4308806796227811,
           -0.4335860886421158,
           -0.43442757176285574,
           -0.43220845214435083,
           -0.42574709936268906,
           -0.41396693622794944,
           -0.39598244357893553,
           -0.37117570680030565,
           -0.3392585664190622,
           -0.3003162506586467,
           -0.254829433326894,
           -0.2036729142303004,
           -0.14809048863531396,
           -0.08964697741323371,
           -0.030159748399708135,
           0.02838670735216783,
           0.08393854575868848,
           0.134477311926808,
           0.17812580971586786,
           0.21324911772700825,
           0.23854497801642713,
           0.25311832399967577,
           0.25653555744366946,
           0.24885528388828942,
           0.23063350923189954,
           0.20290271423033404,
           0.16712567793535366,
           0.12512633286074154,
           0.07900122348247962,
           0.031016232090896562,
           -0.016505930263581485,
           -0.061301442485772274,
           -0.10127808535368477,
           -0.13461888616197776,
           -0.15987112992755653,
           -0.1760159755489718
          ],
          [
           -0.18230376872794093,
           -0.18012123502583363,
           -0.16843605361995675,
           -0.14756752732225356,
           -0.11830504740258321,
           -0.08187218787401292,
           -0.039868134180728126,
           0.0058103924762656495,
           0.05306249567952219,
           0.09968670899986165,
           0.14348926836260514,
           0.18239124981424537,
           0.2145288714461612,
           0.2383416766936446,
           0.25264402764959015,
           0.2566762997375786,
           0.25013332713993036,
           0.23316893482082693,
           0.2063767337439853,
           0.17074867404778504,
           0.12761407121954643,
           0.07856287339249271,
           0.02535776443828009,
           -0.030159748399708135,
           -0.08616386191642225,
           -0.1409342819269669,
           -0.1929363397545002,
           -0.24088710992360066,
           -0.2838041182964338,
           -0.3210343185560354,
           -0.35226222727992795,
           -0.37749737145928347,
           -0.3970424421347404,
           -0.41144469052055266,
           -0.42143408131469146,
           -0.42785247459104203,
           -0.43157859884674826,
           -0.4334537754581445,
           -0.434213248547002,
           -0.43442757176285574,
           -0.43445783007337646,
           -0.43442757176285574,
           -0.434213248547002,
           -0.4334537754581445,
           -0.43157859884674826,
           -0.42785247459104203,
           -0.42143408131469146,
           -0.41144469052055266,
           -0.3970424421347404,
           -0.37749737145928347,
           -0.35226222727992795,
           -0.3210343185560354,
           -0.2838041182964338,
           -0.24088710992360066,
           -0.1929363397545002,
           -0.1409342819269669,
           -0.08616386191642225,
           -0.030159748399708135,
           0.02535776443828009,
           0.07856287339249271,
           0.12761407121954643,
           0.17074867404778504,
           0.2063767337439853,
           0.23316893482082693,
           0.25013332713993036,
           0.2566762997375786,
           0.25264402764959015,
           0.2383416766936446,
           0.2145288714461612,
           0.18239124981424537,
           0.14348926836260514,
           0.09968670899986165,
           0.05306249567952219,
           0.0058103924762656495,
           -0.039868134180728126,
           -0.08187218787401292,
           -0.11830504740258321,
           -0.14756752732225356,
           -0.16843605361995675,
           -0.18012123502583363
          ],
          [
           -0.1801446545297837,
           -0.18233559039097344,
           -0.1752665961050691,
           -0.15904136091487175,
           -0.13421936300715656,
           -0.10179031338845618,
           -0.0631265026963309,
           -0.019915691575644292,
           0.025921773001301992,
           0.07232710218505171,
           0.11720338291232232,
           0.15851669454452746,
           0.1943926655354523,
           0.2232034254780841,
           0.24364050109720906,
           0.25477004091850136,
           0.2560677827399544,
           0.24743234013685533,
           0.22917661128094333,
           0.20199833430642128,
           0.16693195814109418,
           0.12528500092613942,
           0.07856287339249271,
           0.02838670735216783,
           -0.02359098016854476,
           -0.0757679524450742,
           -0.12666669235949252,
           -0.17499760171649797,
           -0.21970771693043264,
           -0.26001264723920775,
           -0.29541051237375787,
           -0.32567778292945404,
           -0.35084804028714445,
           -0.37117570680030565,
           -0.38708768931988075,
           -0.3991265770886398,
           -0.407889497747319,
           -0.41396693622794944,
           -0.417885750201407,
           -0.4200602785751461,
           -0.4207548585159486,
           -0.4200602785751461,
           -0.417885750201407,
           -0.41396693622794944,
           -0.407889497747319,
           -0.3991265770886398,
           -0.38708768931988075,
           -0.37117570680030565,
           -0.35084804028714445,
           -0.32567778292945404,
           -0.29541051237375787,
           -0.26001264723920775,
           -0.21970771693043264,
           -0.17499760171649797,
           -0.12666669235949252,
           -0.0757679524450742,
           -0.02359098016854476,
           0.02838670735216783,
           0.07856287339249271,
           0.12528500092613942,
           0.16693195814109418,
           0.20199833430642128,
           0.22917661128094333,
           0.24743234013685533,
           0.2560677827399544,
           0.25477004091850136,
           0.24364050109720906,
           0.2232034254780841,
           0.1943926655354523,
           0.15851669454452746,
           0.11720338291232232,
           0.07232710218505171,
           0.025921773001301992,
           -0.019915691575644292,
           -0.0631265026963309,
           -0.10179031338845618,
           -0.13421936300715656,
           -0.15904136091487175,
           -0.1752665961050691,
           -0.18233559039097344
          ],
          [
           -0.17584069010379264,
           -0.18239300622958532,
           -0.1800313728705813,
           -0.16865061331126227,
           -0.14858307017251748,
           -0.12058300781296416,
           -0.0857896329957062,
           -0.045670869380806056,
           -0.001951040868825416,
           0.043473546354522816,
           0.08862652853638416,
           0.13154597877649798,
           0.17037647050011584,
           0.20345392533496165,
           0.22937894091767205,
           0.24707500803079696,
           0.25582893038458626,
           0.2553118000893658,
           0.2455799958764798,
           0.2270567942100705,
           0.20049625055173417,
           0.16693195814109418,
           0.12761407121954643,
           0.08393854575868848,
           0.037372873633869375,
           -0.010617349295218181,
           -0.05863687417657578,
           -0.10542055787501849,
           -0.14988136590815446,
           -0.19114437378651342,
           -0.22856545626592412,
           -0.2617343483375656,
           -0.29046275344788247,
           -0.31475910259630246,
           -0.33479237619194996,
           -0.35084804028714445,
           -0.3632795822101567,
           -0.37245933283868765,
           -0.3787322233669178,
           -0.382375848005458,
           -0.3835697098652554,
           -0.382375848005458,
           -0.3787322233669178,
           -0.37245933283868765,
           -0.3632795822101567,
           -0.35084804028714445,
           -0.33479237619194996,
           -0.31475910259630246,
           -0.29046275344788247,
           -0.2617343483375656,
           -0.22856545626592412,
           -0.19114437378651342,
           -0.14988136590815446,
           -0.10542055787501849,
           -0.05863687417657578,
           -0.010617349295218181,
           0.037372873633869375,
           0.08393854575868848,
           0.12761407121954643,
           0.16693195814109418,
           0.20049625055173417,
           0.2270567942100705,
           0.2455799958764798,
           0.2553118000893658,
           0.25582893038458626,
           0.24707500803079696,
           0.22937894091767205,
           0.20345392533496165,
           0.17037647050011584,
           0.13154597877649798,
           0.08862652853638416,
           0.043473546354522816,
           -0.001951040868825416,
           -0.045670869380806056,
           -0.0857896329957062,
           -0.12058300781296416,
           -0.14858307017251748,
           -0.16865061331126227,
           -0.1800313728705813,
           -0.18239300622958532
          ],
          [
           -0.16923416092386775,
           -0.1800597155006458,
           -0.18242166855756492,
           -0.1760159755489718,
           -0.1609539875623888,
           -0.13775630818181953,
           -0.10732612754693129,
           -0.07090368426500879,
           -0.030004497243790427,
           0.013655158230898757,
           0.058241427706856384,
           0.1018902143955224,
           0.14279404657238684,
           0.1792839709402817,
           0.20990234059772522,
           0.23346296309158113,
           0.24909585663212155,
           0.2562747828163765,
           0.2548267267047997,
           0.24492352037505036,
           0.2270567942100705,
           0.20199833430642128,
           0.17074867404778504,
           0.134477311926808,
           0.09445829662141196,
           0.05200503792795912,
           0.00840808631479302,
           -0.03512071345143313,
           -0.07749482277960204,
           -0.1177881852505473,
           -0.15525760655490364,
           -0.18935183535374994,
           -0.21970771693043264,
           -0.24613461781837798,
           -0.268589046149572,
           -0.28714197491104243,
           -0.30194177876754097,
           -0.31317589634427284,
           -0.3210343185560354,
           -0.32567778292945404,
           -0.32721314035298743,
           -0.32567778292945404,
           -0.3210343185560354,
           -0.31317589634427284,
           -0.30194177876754097,
           -0.28714197491104243,
           -0.268589046149572,
           -0.24613461781837798,
           -0.21970771693043264,
           -0.18935183535374994,
           -0.15525760655490364,
           -0.1177881852505473,
           -0.07749482277960204,
           -0.03512071345143313,
           0.00840808631479302,
           0.05200503792795912,
           0.09445829662141196,
           0.134477311926808,
           0.17074867404778504,
           0.20199833430642128,
           0.2270567942100705,
           0.24492352037505036,
           0.2548267267047997,
           0.2562747828163765,
           0.24909585663212155,
           0.23346296309158113,
           0.20990234059772522,
           0.1792839709402817,
           0.14279404657238684,
           0.1018902143955224,
           0.058241427706856384,
           0.013655158230898757,
           -0.030004497243790427,
           -0.07090368426500879,
           -0.10732612754693129,
           -0.13775630818181953,
           -0.1609539875623888,
           -0.1760159755489718,
           -0.18242166855756492,
           -0.1800597155006458
          ],
          [
           -0.16021647158282734,
           -0.1751457556394694,
           -0.1821644169794075,
           -0.18078273088932142,
           -0.17090060569317098,
           -0.1528102839666787,
           -0.1271795169340972,
           -0.0950164022704569,
           -0.05761803324395176,
           -0.016505930263581485,
           0.026648129724923395,
           0.07010183827093616,
           0.11212338767979044,
           0.15106960365711752,
           0.18545724476618586,
           0.21402402107025095,
           0.23577655069724138,
           0.25002327766855664,
           0.25639126767027576,
           0.2548267267047997,
           0.2455799958764798,
           0.22917661128094333,
           0.2063767337439853,
           0.17812580971586786,
           0.14549969299473817,
           0.1096476200446325,
           0.07173638515428266,
           0.032898814044057145,
           -0.005810793613848673,
           -0.043452159632214875,
           -0.0792240541655952,
           -0.11247819731414006,
           -0.1427221428215067,
           -0.1696119802323752,
           -0.1929363397545002,
           -0.2125937105436689,
           -0.22856545626592412,
           -0.24088710992360066,
           -0.24962054293732017,
           -0.254829433326894,
           -0.2565601183892334,
           -0.254829433326894,
           -0.24962054293732017,
           -0.24088710992360066,
           -0.22856545626592412,
           -0.2125937105436689,
           -0.1929363397545002,
           -0.1696119802323752,
           -0.1427221428215067,
           -0.11247819731414006,
           -0.0792240541655952,
           -0.043452159632214875,
           -0.005810793613848673,
           0.032898814044057145,
           0.07173638515428266,
           0.1096476200446325,
           0.14549969299473817,
           0.17812580971586786,
           0.2063767337439853,
           0.22917661128094333,
           0.2455799958764798,
           0.2548267267047997,
           0.25639126767027576,
           0.25002327766855664,
           0.23577655069724138,
           0.21402402107025095,
           0.18545724476618586,
           0.15106960365711752,
           0.11212338767979044,
           0.07010183827093616,
           0.026648129724923395,
           -0.016505930263581485,
           -0.05761803324395176,
           -0.0950164022704569,
           -0.1271795169340972,
           -0.1528102839666787,
           -0.17090060569317098,
           -0.18078273088932142,
           -0.1821644169794075,
           -0.1751457556394694
          ],
          [
           -0.1487375524385824,
           -0.16751643729146143,
           -0.17903560277058095,
           -0.1826358700412797,
           -0.17801860199902664,
           -0.16525654180237792,
           -0.14478624788034108,
           -0.11738288358628372,
           -0.08411903827788304,
           -0.046310064114579955,
           -0.005449066140771361,
           0.03686485131708162,
           0.07900122348247962,
           0.11937185506223688,
           0.15649972810645998,
           0.1890798565922851,
           0.21602931256266372,
           0.2365243422174828,
           0.25002327766855664,
           0.2562747828163765,
           0.2553118000893658,
           0.24743234013685533,
           0.23316893482082693,
           0.21324911772700825,
           0.18854967763954522,
           0.16004763127913005,
           0.12877087581897034,
           0.0957513146109,
           0.06198291759831892,
           0.02838670735216783,
           -0.004215913110515241,
           -0.03512071345143313,
           -0.06374895250625122,
           -0.08964697741323371,
           -0.11247819731414006,
           -0.132008995765264,
           -0.14809048863531396,
           -0.16063822727306362,
           -0.1696119802323752,
           -0.17499760171649797,
           -0.17679272260843765,
           -0.17499760171649797,
           -0.1696119802323752,
           -0.16063822727306362,
           -0.14809048863531396,
           -0.132008995765264,
           -0.11247819731414006,
           -0.08964697741323371,
           -0.06374895250625122,
           -0.03512071345143313,
           -0.004215913110515241,
           0.02838670735216783,
           0.06198291759831892,
           0.0957513146109,
           0.12877087581897034,
           0.16004763127913005,
           0.18854967763954522,
           0.21324911772700825,
           0.23316893482082693,
           0.24743234013685533,
           0.2553118000893658,
           0.2562747828163765,
           0.25002327766855664,
           0.2365243422174828,
           0.21602931256266372,
           0.1890798565922851,
           0.15649972810645998,
           0.11937185506223688,
           0.07900122348247962,
           0.03686485131708162,
           -0.005449066140771361,
           -0.046310064114579955,
           -0.08411903827788304,
           -0.11738288358628372,
           -0.14478624788034108,
           -0.16525654180237792,
           -0.17801860199902664,
           -0.1826358700412797,
           -0.17903560277058095,
           -0.16751643729146143
          ],
          [
           -0.13481430178982187,
           -0.15710321083861073,
           -0.17287351607260817,
           -0.18131560690315682,
           -0.18194839266053625,
           -0.17463748569481502,
           -0.15959621882048483,
           -0.13736985507049018,
           -0.10880422217787396,
           -0.0750007897964791,
           -0.03726086233570953,
           0.0029779491154211806,
           0.044209509361482956,
           0.08492762656935865,
           0.12369173187889267,
           0.15918658398472915,
           0.1902732638436695,
           0.21602931256266372,
           0.23577655069724138,
           0.24909585663212155,
           0.25582893038458626,
           0.2560677827399544,
           0.25013332713993036,
           0.23854497801642713,
           0.22198354690007724,
           0.20124995852555586,
           0.1772223753881244,
           0.15081422331281308,
           0.12293536517635703,
           0.09445829662141196,
           0.0661907655654817,
           0.03885568116655977,
           0.013078615468659323,
           -0.010617349295218181,
           -0.03181017613329085,
           -0.050171999808914604,
           -0.06545830501430487,
           -0.07749482277960204,
           -0.08616386191642225,
           -0.09139170665445415,
           -0.09313849939964196,
           -0.09139170665445415,
           -0.08616386191642225,
           -0.07749482277960204,
           -0.06545830501430487,
           -0.050171999808914604,
           -0.03181017613329085,
           -0.010617349295218181,
           0.013078615468659323,
           0.03885568116655977,
           0.0661907655654817,
           0.09445829662141196,
           0.12293536517635703,
           0.15081422331281308,
           0.1772223753881244,
           0.20124995852555586,
           0.22198354690007724,
           0.23854497801642713,
           0.25013332713993036,
           0.2560677827399544,
           0.25582893038458626,
           0.24909585663212155,
           0.23577655069724138,
           0.21602931256266372,
           0.1902732638436695,
           0.15918658398472915,
           0.12369173187889267,
           0.08492762656935865,
           0.044209509361482956,
           0.0029779491154211806,
           -0.03726086233570953,
           -0.0750007897964791,
           -0.10880422217787396,
           -0.13736985507049018,
           -0.15959621882048483,
           -0.17463748569481502,
           -0.18194839266053625,
           -0.18131560690315682,
           -0.17287351607260817,
           -0.15710321083861073
          ],
          [
           -0.11853755153953285,
           -0.14391335124448024,
           -0.163591222139663,
           -0.17663261032673944,
           -0.18239300622958532,
           -0.18054660691367944,
           -0.17109514979541934,
           -0.1543609103022869,
           -0.13096468174943518,
           -0.10179031338845618,
           -0.06793803188546253,
           -0.03066927919323432,
           0.008653858363151095,
           0.04863139306208121,
           0.0878871354792479,
           0.12512633286074154,
           0.15918658398472915,
           0.1890798565922851,
           0.21402402107025095,
           0.23346296309158113,
           0.24707500803079696,
           0.25477004091850136,
           0.2566762997375786,
           0.25311832399967577,
           0.24458792842044305,
           0.2317103248693539,
           0.2152076253393881,
           0.19586192453391038,
           0.17447999195279823,
           0.15186131748507978,
           0.12877087581897034,
           0.10591753298818528,
           0.08393854575868848,
           0.06339013493636744,
           0.044743679368913644,
           0.02838670735216783,
           0.014627580006334946,
           0.0037025838949493145,
           -0.004215913110515241,
           -0.009011537058698997,
           -0.010617349295218181,
           -0.009011537058698997,
           -0.004215913110515241,
           0.0037025838949493145,
           0.014627580006334946,
           0.02838670735216783,
           0.044743679368913644,
           0.06339013493636744,
           0.08393854575868848,
           0.10591753298818528,
           0.12877087581897034,
           0.15186131748507978,
           0.17447999195279823,
           0.19586192453391038,
           0.2152076253393881,
           0.2317103248693539,
           0.24458792842044305,
           0.25311832399967577,
           0.2566762997375786,
           0.25477004091850136,
           0.24707500803079696,
           0.23346296309158113,
           0.21402402107025095,
           0.1890798565922851,
           0.15918658398472915,
           0.12512633286074154,
           0.0878871354792479,
           0.04863139306208121,
           0.008653858363151095,
           -0.03066927919323432,
           -0.06793803188546253,
           -0.10179031338845618,
           -0.13096468174943518,
           -0.1543609103022869,
           -0.17109514979541934,
           -0.18054660691367944,
           -0.18239300622958532,
           -0.17663261032673944,
           -0.163591222139663,
           -0.14391335124448024
          ],
          [
           -0.10007704610444179,
           -0.12803786284735597,
           -0.1511875643863488,
           -0.16848219583369567,
           -0.17913546063850083,
           -0.18264893898060253,
           -0.1788278960809016,
           -0.16778234479339135,
           -0.1499137997580331,
           -0.1258888846262905,
           -0.096601590755175,
           -0.0631265026963309,
           -0.026665677985416577,
           0.011507919583092052,
           0.05010748884225075,
           0.0878871354792479,
           0.12369173187889267,
           0.15649972810645998,
           0.18545724476618586,
           0.20990234059772522,
           0.22937894091767205,
           0.24364050109720906,
           0.25264402764959015,
           0.25653555744366946,
           0.25562857790064414,
           0.25037713957121355,
           0.2413455569066888,
           0.22917661128094333,
           0.21456006847846779,
           0.19820311451195688,
           0.18080401871815463,
           0.1630299764243758,
           0.14549969299473817,
           0.12877087581897034,
           0.11333242903336226,
           0.09960082298540655,
           0.08791985781076668,
           0.07856287339249271,
           0.07173638515428266,
           0.06758414818694233,
           0.0661907655654817,
           0.06758414818694233,
           0.07173638515428266,
           0.07856287339249271,
           0.08791985781076668,
           0.09960082298540655,
           0.11333242903336226,
           0.12877087581897034,
           0.14549969299473817,
           0.1630299764243758,
           0.18080401871815463,
           0.19820311451195688,
           0.21456006847846779,
           0.22917661128094333,
           0.2413455569066888,
           0.25037713957121355,
           0.25562857790064414,
           0.25653555744366946,
           0.25264402764959015,
           0.24364050109720906,
           0.22937894091767205,
           0.20990234059772522,
           0.18545724476618586,
           0.15649972810645998,
           0.12369173187889267,
           0.0878871354792479,
           0.05010748884225075,
           0.011507919583092052,
           -0.026665677985416577,
           -0.0631265026963309,
           -0.096601590755175,
           -0.1258888846262905,
           -0.1499137997580331,
           -0.16778234479339135,
           -0.1788278960809016,
           -0.18264893898060253,
           -0.17913546063850083,
           -0.16848219583369567,
           -0.1511875643863488,
           -0.12803786284735597
          ],
          [
           -0.07968395387291566,
           -0.10965701691843574,
           -0.13575600794040762,
           -0.15685668268767797,
           -0.17205475511311313,
           -0.1807007071005138,
           -0.18242166855756492,
           -0.17712974307464055,
           -0.16501687105976595,
           -0.14653700801271363,
           -0.12237701362727325,
           -0.09341816596346665,
           -0.060690608986011814,
           -0.02532329427921568,
           0.011507919583092052,
           0.04863139306208121,
           0.08492762656935865,
           0.11937185506223688,
           0.15106960365711752,
           0.1792839709402817,
           0.20345392533496165,
           0.2232034254780841,
           0.2383416766936446,
           0.24885528388828942,
           0.254893432701845,
           0.25674750760048576,
           0.2548267267047997,
           0.24963143467045815,
           0.24172565029557566,
           0.2317103248693539,
           0.22019854657881394,
           0.20779364608280457,
           0.19507084218595108,
           0.18256273925541686,
           0.17074867404778504,
           0.16004763127913005,
           0.15081422331281308,
           0.1433370736825879,
           0.13783886506830845,
           0.134477311926808,
           0.1333463922312941,
           0.134477311926808,
           0.13783886506830845,
           0.1433370736825879,
           0.15081422331281308,
           0.16004763127913005,
           0.17074867404778504,
           0.18256273925541686,
           0.19507084218595108,
           0.20779364608280457,
           0.22019854657881394,
           0.2317103248693539,
           0.24172565029557566,
           0.24963143467045815,
           0.2548267267047997,
           0.25674750760048576,
           0.254893432701845,
           0.24885528388828942,
           0.2383416766936446,
           0.2232034254780841,
           0.20345392533496165,
           0.1792839709402817,
           0.15106960365711752,
           0.11937185506223688,
           0.08492762656935865,
           0.04863139306208121,
           0.011507919583092052,
           -0.02532329427921568,
           -0.060690608986011814,
           -0.09341816596346665,
           -0.12237701362727325,
           -0.14653700801271363,
           -0.16501687105976595,
           -0.17712974307464055,
           -0.18242166855756492,
           -0.1807007071005138,
           -0.17205475511311313,
           -0.15685668268767797,
           -0.13575600794040762,
           -0.10965701691843574
          ],
          [
           -0.05769048962428924,
           -0.08904297911487404,
           -0.11749065565570795,
           -0.14185512230149663,
           -0.16113955966514656,
           -0.17456713788189782,
           -0.18160802037610754,
           -0.18199408570471504,
           -0.17572115154133375,
           -0.16303912773542587,
           -0.14443111863131364,
           -0.12058300781296416,
           -0.09234546620178369,
           -0.060690608986011814,
           -0.026665677985416577,
           0.008653858363151095,
           0.044209509361482956,
           0.07900122348247962,
           0.11212338767979044,
           0.14279404657238684,
           0.17037647050011584,
           0.1943926655354523,
           0.2145288714461612,
           0.23063350923189954,
           0.242708395806646,
           0.2508943222213973,
           0.2554522819126627,
           0.2567417315441088,
           0.25519727019112654,
           0.25130504004127213,
           0.2455799958764798,
           0.23854497801642713,
           0.23071227369415245,
           0.2225680860000738,
           0.21456006847846779,
           0.2070878465419809,
           0.20049625055173417,
           0.19507084218595108,
           0.19103523332295086,
           0.18854967763954522,
           0.18771045677679687,
           0.18854967763954522,
           0.19103523332295086,
           0.19507084218595108,
           0.20049625055173417,
           0.2070878465419809,
           0.21456006847846779,
           0.2225680860000738,
           0.23071227369415245,
           0.23854497801642713,
           0.2455799958764798,
           0.25130504004127213,
           0.25519727019112654,
           0.2567417315441088,
           0.2554522819126627,
           0.2508943222213973,
           0.242708395806646,
           0.23063350923189954,
           0.2145288714461612,
           0.1943926655354523,
           0.17037647050011584,
           0.14279404657238684,
           0.11212338767979044,
           0.07900122348247962,
           0.044209509361482956,
           0.008653858363151095,
           -0.026665677985416577,
           -0.060690608986011814,
           -0.09234546620178369,
           -0.12058300781296416,
           -0.14443111863131364,
           -0.16303912773542587,
           -0.17572115154133375,
           -0.18199408570471504,
           -0.18160802037610754,
           -0.17456713788189782,
           -0.16113955966514656,
           -0.14185512230149663,
           -0.11749065565570795,
           -0.08904297911487404
          ],
          [
           -0.0345063152690242,
           -0.06655906279410359,
           -0.09668883252747353,
           -0.12368964794720452,
           -0.1464987033293174,
           -0.1642373823959323,
           -0.17624240938958516,
           -0.18208605074549258,
           -0.18158488243001691,
           -0.1747972342928682,
           -0.16200998595397612,
           -0.1437158894806465,
           -0.12058300781296416,
           -0.09341816596346665,
           -0.0631265026963309,
           -0.03066927919323432,
           0.0029779491154211806,
           0.03686485131708162,
           0.07010183827093616,
           0.1018902143955224,
           0.13154597877649798,
           0.15851669454452746,
           0.18239124981424537,
           0.20290271423033404,
           0.21992483146863692,
           0.23346296309158113,
           0.24364050109720906,
           0.2506818889186662,
           0.254893432701845,
           0.2566430509401283,
           0.2563400102730029,
           0.25441554164532254,
           0.25130504004127213,
           0.24743234013685533,
           0.2431963471432226,
           0.23896010343988033,
           0.23504220166614895,
           0.2317103248693539,
           0.22917661128094333,
           0.22759450814784551,
           0.2270567942100705,
           0.22759450814784551,
           0.22917661128094333,
           0.2317103248693539,
           0.23504220166614895,
           0.23896010343988033,
           0.2431963471432226,
           0.24743234013685533,
           0.25130504004127213,
           0.25441554164532254,
           0.2563400102730029,
           0.2566430509401283,
           0.254893432701845,
           0.2506818889186662,
           0.24364050109720906,
           0.23346296309158113,
           0.21992483146863692,
           0.20290271423033404,
           0.18239124981424537,
           0.15851669454452746,
           0.13154597877649798,
           0.1018902143955224,
           0.07010183827093616,
           0.03686485131708162,
           0.0029779491154211806,
           -0.03066927919323432,
           -0.0631265026963309,
           -0.09341816596346665,
           -0.12058300781296416,
           -0.1437158894806465,
           -0.16200998595397612,
           -0.1747972342928682,
           -0.18158488243001691,
           -0.18208605074549258,
           -0.17624240938958516,
           -0.1642373823959323,
           -0.1464987033293174,
           -0.12368964794720452,
           -0.09668883252747353,
           -0.06655906279410359
          ],
          [
           -0.01061150357619211,
           -0.042655257000177006,
           -0.07374973820785838,
           -0.10268778525178764,
           -0.1283676319466868,
           -0.14983554931501694,
           -0.16632015713858264,
           -0.17725715646546372,
           -0.18230376872794093,
           -0.18134271385500067,
           -0.17447608825271163,
           -0.16200998595397612,
           -0.14443111863131364,
           -0.12237701362727325,
           -0.096601590755175,
           -0.06793803188546253,
           -0.03726086233570953,
           -0.005449066140771361,
           0.026648129724923395,
           0.058241427706856384,
           0.08862652853638416,
           0.11720338291232232,
           0.14348926836260514,
           0.16712567793535366,
           0.18787932061729182,
           0.20563779959612533,
           0.22040074178662336,
           0.23226729318028777,
           0.24142096714711753,
           0.24811283911536614,
           0.25264402764959015,
           0.255348298963932,
           0.256575492104657,
           0.2566762997375786,
           0.2559887694405144,
           0.2548267267047997,
           0.25347017586536014,
           0.252157618714697,
           0.25108014921898075,
           0.25037713957121355,
           0.25013332713993036,
           0.25037713957121355,
           0.25108014921898075,
           0.252157618714697,
           0.25347017586536014,
           0.2548267267047997,
           0.2559887694405144,
           0.2566762997375786,
           0.256575492104657,
           0.255348298963932,
           0.25264402764959015,
           0.24811283911536614,
           0.24142096714711753,
           0.23226729318028777,
           0.22040074178662336,
           0.20563779959612533,
           0.18787932061729182,
           0.16712567793535366,
           0.14348926836260514,
           0.11720338291232232,
           0.08862652853638416,
           0.058241427706856384,
           0.026648129724923395,
           -0.005449066140771361,
           -0.03726086233570953,
           -0.06793803188546253,
           -0.096601590755175,
           -0.12237701362727325,
           -0.14443111863131364,
           -0.16200998595397612,
           -0.17447608825271163,
           -0.18134271385500067,
           -0.18230376872794093,
           -0.17725715646546372,
           -0.16632015713858264,
           -0.14983554931501694,
           -0.1283676319466868,
           -0.10268778525178764,
           -0.07374973820785838,
           -0.042655257000177006
          ],
          [
           0.013454008098850966,
           -0.017859822184363938,
           -0.04916880920228074,
           -0.07929019757294747,
           -0.10711012813756442,
           -0.1316269478872783,
           -0.15198770280837584,
           -0.16751643729146143,
           -0.17773339606034183,
           -0.18236471957976835,
           -0.18134271385500067,
           -0.1747972342928682,
           -0.16303912773542587,
           -0.14653700801271363,
           -0.1258888846262905,
           -0.10179031338845618,
           -0.0750007897964791,
           -0.046310064114579955,
           -0.016505930263581485,
           0.013655158230898757,
           0.043473546354522816,
           0.07232710218505171,
           0.09968670899986165,
           0.12512633286074154,
           0.14832776112580212,
           0.16908036038891633,
           0.18727640924644018,
           0.20290271423033404,
           0.21602931256266372,
           0.22679610352037188,
           0.23539823538075702,
           0.2420710146043941,
           0.24707500803079696,
           0.2506818889186662,
           0.2531614457800734,
           0.25477004091850136,
           0.2557406839380664,
           0.2562747828163765,
           0.25653555744366946,
           0.2566430509401283,
           0.2566706526738519,
           0.2566430509401283,
           0.25653555744366946,
           0.2562747828163765,
           0.2557406839380664,
           0.25477004091850136,
           0.2531614457800734,
           0.2506818889186662,
           0.24707500803079696,
           0.2420710146043941,
           0.23539823538075702,
           0.22679610352037188,
           0.21602931256266372,
           0.20290271423033404,
           0.18727640924644018,
           0.16908036038891633,
           0.14832776112580212,
           0.12512633286074154,
           0.09968670899986165,
           0.07232710218505171,
           0.043473546354522816,
           0.013655158230898757,
           -0.016505930263581485,
           -0.046310064114579955,
           -0.0750007897964791,
           -0.10179031338845618,
           -0.1258888846262905,
           -0.14653700801271363,
           -0.16303912773542587,
           -0.1747972342928682,
           -0.18134271385500067,
           -0.18236471957976835,
           -0.17773339606034183,
           -0.16751643729146143,
           -0.15198770280837584,
           -0.1316269478872783,
           -0.10711012813756442,
           -0.07929019757294747,
           -0.04916880920228074,
           -0.017859822184363938
          ],
          [
           0.037104384846577534,
           0.007233082355737275,
           -0.023527608249201665,
           -0.054043516875550875,
           -0.08321475815193494,
           -0.11001880232017779,
           -0.13354819579908725,
           -0.15304146672549196,
           -0.167906160972842,
           -0.17773339606034183,
           -0.18230376872794093,
           -0.18158488243001691,
           -0.17572115154133375,
           -0.16501687105976595,
           -0.1499137997580331,
           -0.13096468174943518,
           -0.10880422217787396,
           -0.08411903827788304,
           -0.05761803324395176,
           -0.030004497243790427,
           -0.001951040868825416,
           0.025921773001301992,
           0.05306249567952219,
           0.07900122348247962,
           0.10335731863015635,
           0.1258425822940911,
           0.14626024334832619,
           0.16450028494360933,
           0.18053174205108255,
           0.1943926655354523,
           0.2061784643801796,
           0.21602931256266372,
           0.22411724822563847,
           0.23063350923189954,
           0.23577655069724138,
           0.23974108638511749,
           0.242708395806646,
           0.24483804991090946,
           0.24626113579560338,
           0.24707500803079696,
           0.24733956165584545,
           0.24707500803079696,
           0.24626113579560338,
           0.24483804991090946,
           0.242708395806646,
           0.23974108638511749,
           0.23577655069724138,
           0.23063350923189954,
           0.22411724822563847,
           0.21602931256266372,
           0.2061784643801796,
           0.1943926655354523,
           0.18053174205108255,
           0.16450028494360933,
           0.14626024334832619,
           0.1258425822940911,
           0.10335731863015635,
           0.07900122348247962,
           0.05306249567952219,
           0.025921773001301992,
           -0.001951040868825416,
           -0.030004497243790427,
           -0.05761803324395176,
           -0.08411903827788304,
           -0.10880422217787396,
           -0.13096468174943518,
           -0.1499137997580331,
           -0.16501687105976595,
           -0.17572115154133375,
           -0.18158488243001691,
           -0.18230376872794093,
           -0.17773339606034183,
           -0.167906160972842,
           -0.15304146672549196,
           -0.13354819579908725,
           -0.11001880232017779,
           -0.08321475815193494,
           -0.054043516875550875,
           -0.023527608249201665,
           0.007233082355737275
          ],
          [
           0.059725017515438364,
           0.03197958453286062,
           0.0025207381574719806,
           -0.027588123185645037,
           -0.0572857273340844,
           -0.08555491563889543,
           -0.1114606806231028,
           -0.13418273806183595,
           -0.15304146672549196,
           -0.16751643729146143,
           -0.17725715646546372,
           -0.18208605074549258,
           -0.18199408570471504,
           -0.17712974307464055,
           -0.16778234479339135,
           -0.1543609103022869,
           -0.13736985507049018,
           -0.11738288358628372,
           -0.0950164022704569,
           -0.07090368426500879,
           -0.045670869380806056,
           -0.019915691575644292,
           0.0058103924762656495,
           0.031016232090896562,
           0.05528095770522729,
           0.07825990831739421,
           0.09968670899986165,
           0.11937185506223688,
           0.13719827990417027,
           0.15311446345017118,
           0.16712567793535366,
           0.1792839709402817,
           0.18967745729212915,
           0.19841943861188654,
           0.20563779959612533,
           0.21146505144444128,
           0.21602931256266372,
           0.21944644111666822,
           0.22181346801290225,
           0.2232034254780841,
           0.22366162672468853,
           0.2232034254780841,
           0.22181346801290225,
           0.21944644111666822,
           0.21602931256266372,
           0.21146505144444128,
           0.20563779959612533,
           0.19841943861188654,
           0.18967745729212915,
           0.1792839709402817,
           0.16712567793535366,
           0.15311446345017118,
           0.13719827990417027,
           0.11937185506223688,
           0.09968670899986165,
           0.07825990831739421,
           0.05528095770522729,
           0.031016232090896562,
           0.0058103924762656495,
           -0.019915691575644292,
           -0.045670869380806056,
           -0.07090368426500879,
           -0.0950164022704569,
           -0.11738288358628372,
           -0.13736985507049018,
           -0.1543609103022869,
           -0.16778234479339135,
           -0.17712974307464055,
           -0.18199408570471504,
           -0.18208605074549258,
           -0.17725715646546372,
           -0.16751643729146143,
           -0.15304146672549196,
           -0.13418273806183595,
           -0.1114606806231028,
           -0.08555491563889543,
           -0.0572857273340844,
           -0.027588123185645037,
           0.0025207381574719806,
           0.03197958453286062
          ],
          [
           0.08069235790121831,
           0.05570574218106777,
           0.028270310898122826,
           -0.0006409754282528475,
           -0.03002807965783915,
           -0.05890402451081101,
           -0.08633239590937543,
           -0.1114606806231028,
           -0.13354819579908725,
           -0.15198770280837584,
           -0.16632015713858264,
           -0.17624240938958516,
           -0.18160802037610754,
           -0.18242166855756492,
           -0.1788278960809016,
           -0.17109514979541934,
           -0.15959621882048483,
           -0.14478624788034108,
           -0.1271795169340972,
           -0.10732612754693129,
           -0.0857896329957062,
           -0.0631265026963309,
           -0.039868134180728126,
           -0.016505930263581485,
           0.0065202421682302655,
           0.02883009042098063,
           0.05010748884225075,
           0.07010183827093616,
           0.08862652853638416,
           0.10555493165712146,
           0.12081441070397907,
           0.13437885433763305,
           0.14626024334832619,
           0.15649972810645998,
           0.16515865057394133,
           0.17230988766358785,
           0.17802983029511174,
           0.18239124981424537,
           0.18545724476618586,
           0.18727640924644018,
           0.18787932061729182,
           0.18727640924644018,
           0.18545724476618586,
           0.18239124981424537,
           0.17802983029511174,
           0.17230988766358785,
           0.16515865057394133,
           0.15649972810645998,
           0.14626024334832619,
           0.13437885433763305,
           0.12081441070397907,
           0.10555493165712146,
           0.08862652853638416,
           0.07010183827093616,
           0.05010748884225075,
           0.02883009042098063,
           0.0065202421682302655,
           -0.016505930263581485,
           -0.039868134180728126,
           -0.0631265026963309,
           -0.0857896329957062,
           -0.10732612754693129,
           -0.1271795169340972,
           -0.14478624788034108,
           -0.15959621882048483,
           -0.17109514979541934,
           -0.1788278960809016,
           -0.18242166855756492,
           -0.18160802037610754,
           -0.17624240938958516,
           -0.16632015713858264,
           -0.15198770280837584,
           -0.13354819579908725,
           -0.1114606806231028,
           -0.08633239590937543,
           -0.05890402451081101,
           -0.03002807965783915,
           -0.0006409754282528475,
           0.028270310898122826,
           0.05570574218106777
          ],
          [
           0.0993958462307399,
           0.07773008237271903,
           0.05298490441364873,
           0.026026147564044762,
           -0.0022274559793407315,
           -0.030841885736018544,
           -0.05890402451081101,
           -0.08555491563889543,
           -0.11001880232017779,
           -0.1316269478872783,
           -0.14983554931501694,
           -0.1642373823959323,
           -0.17456713788189782,
           -0.1807007071005138,
           -0.18264893898060253,
           -0.18054660691367944,
           -0.17463748569481502,
           -0.16525654180237792,
           -0.1528102839666787,
           -0.13775630818181953,
           -0.12058300781296416,
           -0.10179031338845618,
           -0.08187218787401292,
           -0.061301442485772274,
           -0.040517266401149735,
           -0.019915691575644292,
           0.0001569493213448689,
           0.019407660252202565,
           0.03759772656874239,
           0.054541276561040686,
           0.07010183827093616,
           0.08418731130237875,
           0.09674378883254962,
           0.10774865812501504,
           0.11720338291232232,
           0.12512633286074154,
           0.13154597877649798,
           0.13649472168344115,
           0.14000357308347133,
           0.14209785531573388,
           0.14279404657238684,
           0.14209785531573388,
           0.14000357308347133,
           0.13649472168344115,
           0.13154597877649798,
           0.12512633286074154,
           0.11720338291232232,
           0.10774865812501504,
           0.09674378883254962,
           0.08418731130237875,
           0.07010183827093616,
           0.054541276561040686,
           0.03759772656874239,
           0.019407660252202565,
           0.0001569493213448689,
           -0.019915691575644292,
           -0.040517266401149735,
           -0.061301442485772274,
           -0.08187218787401292,
           -0.10179031338845618,
           -0.12058300781296416,
           -0.13775630818181953,
           -0.1528102839666787,
           -0.16525654180237792,
           -0.17463748569481502,
           -0.18054660691367944,
           -0.18264893898060253,
           -0.1807007071005138,
           -0.17456713788189782,
           -0.1642373823959323,
           -0.14983554931501694,
           -0.1316269478872783,
           -0.11001880232017779,
           -0.08555491563889543,
           -0.05890402451081101,
           -0.030841885736018544,
           -0.0022274559793407315,
           0.026026147564044762,
           0.05298490441364873,
           0.07773008237271903
          ],
          [
           0.11526115097856117,
           0.09738828403656238,
           0.0759235678781371,
           0.05161237775613617,
           0.025275083284098894,
           -0.0022274559793407315,
           -0.03002807965783915,
           -0.0572857273340844,
           -0.08321475815193494,
           -0.10711012813756442,
           -0.1283676319466868,
           -0.1464987033293174,
           -0.16113955966514656,
           -0.17205475511311313,
           -0.17913546063850083,
           -0.18239300622958532,
           -0.18194839266053625,
           -0.17801860199902664,
           -0.17090060569317098,
           -0.1609539875623888,
           -0.14858307017251748,
           -0.13421936300715656,
           -0.11830504740258321,
           -0.10127808535368477,
           -0.08355939645450051,
           -0.06554239869174844,
           -0.04758506314163741,
           -0.030004497243790427,
           -0.013073952151520388,
           0.0029779491154211806,
           0.017966041941118966,
           0.031745840459068614,
           0.044209509361482956,
           0.05528095770522729,
           0.0649104168254659,
           0.07306884206017318,
           0.07974244535617742,
           0.08492762656935865,
           0.08862652853638416,
           0.09084339726921295,
           0.09158188560927924,
           0.09084339726921295,
           0.08862652853638416,
           0.08492762656935865,
           0.07974244535617742,
           0.07306884206017318,
           0.0649104168254659,
           0.05528095770522729,
           0.044209509361482956,
           0.031745840459068614,
           0.017966041941118966,
           0.0029779491154211806,
           -0.013073952151520388,
           -0.030004497243790427,
           -0.04758506314163741,
           -0.06554239869174844,
           -0.08355939645450051,
           -0.10127808535368477,
           -0.11830504740258321,
           -0.13421936300715656,
           -0.14858307017251748,
           -0.1609539875623888,
           -0.17090060569317098,
           -0.17801860199902664,
           -0.18194839266053625,
           -0.18239300622958532,
           -0.17913546063850083,
           -0.17205475511311313,
           -0.16113955966514656,
           -0.1464987033293174,
           -0.1283676319466868,
           -0.10711012813756442,
           -0.08321475815193494,
           -0.0572857273340844,
           -0.03002807965783915,
           -0.0022274559793407315,
           0.025275083284098894,
           0.05161237775613617,
           0.0759235678781371,
           0.09738828403656238
          ],
          [
           0.12777380562398274,
           0.11405907878471819,
           0.09636827159298987,
           0.07531659368730659,
           0.05161237775613617,
           0.026026147564044762,
           -0.0006409754282528475,
           -0.027588123185645037,
           -0.054043516875550875,
           -0.07929019757294747,
           -0.10268778525178764,
           -0.12368964794720452,
           -0.14185512230149663,
           -0.15685668268767797,
           -0.16848219583369567,
           -0.17663261032673944,
           -0.18131560690315682,
           -0.1826358700412797,
           -0.18078273088932142,
           -0.1760159755489718,
           -0.16865061331126227,
           -0.15904136091487175,
           -0.14756752732225356,
           -0.13461888616197776,
           -0.12058300781296416,
           -0.10583439818051152,
           -0.0907256642328181,
           -0.07558080422426758,
           -0.060690608986011814,
           -0.046310064114579955,
           -0.032657564269347995,
           -0.019915691575644292,
           -0.00823327044894154,
           0.0022716100207446164,
           0.011507919583092052,
           0.019407660252202565,
           0.025921773001301992,
           0.031016232090896562,
           0.03466854669458865,
           0.03686485131708162,
           0.03759772656874239,
           0.03686485131708162,
           0.03466854669458865,
           0.031016232090896562,
           0.025921773001301992,
           0.019407660252202565,
           0.011507919583092052,
           0.0022716100207446164,
           -0.00823327044894154,
           -0.019915691575644292,
           -0.032657564269347995,
           -0.046310064114579955,
           -0.060690608986011814,
           -0.07558080422426758,
           -0.0907256642328181,
           -0.10583439818051152,
           -0.12058300781296416,
           -0.13461888616197776,
           -0.14756752732225356,
           -0.15904136091487175,
           -0.16865061331126227,
           -0.1760159755489718,
           -0.18078273088932142,
           -0.1826358700412797,
           -0.18131560690315682,
           -0.17663261032673944,
           -0.16848219583369567,
           -0.15685668268767797,
           -0.14185512230149663,
           -0.12368964794720452,
           -0.10268778525178764,
           -0.07929019757294747,
           -0.054043516875550875,
           -0.027588123185645037,
           -0.0006409754282528475,
           0.026026147564044762,
           0.05161237775613617,
           0.07531659368730659,
           0.09636827159298987,
           0.11405907878471819
          ],
          [
           0.13650222610828716,
           0.12719030582037316,
           0.1136526088802527,
           0.09636827159298987,
           0.0759235678781371,
           0.05298490441364873,
           0.028270310898122826,
           0.0025207381574719806,
           -0.023527608249201665,
           -0.04916880920228074,
           -0.07374973820785838,
           -0.09668883252747353,
           -0.11749065565570795,
           -0.13575600794040762,
           -0.1511875643863488,
           -0.163591222139663,
           -0.17287351607260817,
           -0.17903560277058095,
           -0.1821644169794075,
           -0.18242166855756492,
           -0.1800313728705813,
           -0.1752665961050691,
           -0.16843605361995675,
           -0.15987112992755653,
           -0.1499137997580331,
           -0.13890582780165694,
           -0.1271795169340972,
           -0.11505016730310495,
           -0.10281030706494562,
           -0.0907256642328181,
           -0.07903277128303789,
           -0.06793803188546253,
           -0.05761803324395176,
           -0.04822085787410071,
           -0.039868134180728126,
           -0.032657564269347995,
           -0.026665677985416577,
           -0.021950582012676394,
           -0.01855449981019833,
           -0.016505930263581485,
           -0.015821288518275644,
           -0.016505930263581485,
           -0.01855449981019833,
           -0.021950582012676394,
           -0.026665677985416577,
           -0.032657564269347995,
           -0.039868134180728126,
           -0.04822085787410071,
           -0.05761803324395176,
           -0.06793803188546253,
           -0.07903277128303789,
           -0.0907256642328181,
           -0.10281030706494562,
           -0.11505016730310495,
           -0.1271795169340972,
           -0.13890582780165694,
           -0.1499137997580331,
           -0.15987112992755653,
           -0.16843605361995675,
           -0.1752665961050691,
           -0.1800313728705813,
           -0.18242166855756492,
           -0.1821644169794075,
           -0.17903560277058095,
           -0.17287351607260817,
           -0.163591222139663,
           -0.1511875643863488,
           -0.13575600794040762,
           -0.11749065565570795,
           -0.09668883252747353,
           -0.07374973820785838,
           -0.04916880920228074,
           -0.023527608249201665,
           0.0025207381574719806,
           0.028270310898122826,
           0.05298490441364873,
           0.0759235678781371,
           0.09636827159298987,
           0.1136526088802527,
           0.12719030582037316
          ],
          [
           0.14111903500315878,
           0.13632396086944565,
           0.12719030582037316,
           0.11405907878471819,
           0.09738828403656238,
           0.07773008237271903,
           0.05570574218106777,
           0.03197958453286062,
           0.007233082355737275,
           -0.017859822184363938,
           -0.042655257000177006,
           -0.06655906279410359,
           -0.08904297911487404,
           -0.10965701691843574,
           -0.12803786284735597,
           -0.14391335124448024,
           -0.15710321083861073,
           -0.16751643729146143,
           -0.1751457556394694,
           -0.1800597155006458,
           -0.18239300622958532,
           -0.18233559039097344,
           -0.18012123502583363,
           -0.1760159755489718,
           -0.17030698199702413,
           -0.16329221750830802,
           -0.15527119023634722,
           -0.14653700801271363,
           -0.13736985507049018,
           -0.12803192632998142,
           -0.11876378051842666,
           -0.10978201113265723,
           -0.10127808535368477,
           -0.09341816596346665,
           -0.08634370978474622,
           -0.08017262722723162,
           -0.0750007897964791,
           -0.07090368426500879,
           -0.06793803188546253,
           -0.06614321685638791,
           -0.06554239869174844,
           -0.06614321685638791,
           -0.06793803188546253,
           -0.07090368426500879,
           -0.0750007897964791,
           -0.08017262722723162,
           -0.08634370978474622,
           -0.09341816596346665,
           -0.10127808535368477,
           -0.10978201113265723,
           -0.11876378051842666,
           -0.12803192632998142,
           -0.13736985507049018,
           -0.14653700801271363,
           -0.15527119023634722,
           -0.16329221750830802,
           -0.17030698199702413,
           -0.1760159755489718,
           -0.18012123502583363,
           -0.18233559039097344,
           -0.18239300622958532,
           -0.1800597155006458,
           -0.1751457556394694,
           -0.16751643729146143,
           -0.15710321083861073,
           -0.14391335124448024,
           -0.12803786284735597,
           -0.10965701691843574,
           -0.08904297911487404,
           -0.06655906279410359,
           -0.042655257000177006,
           -0.017859822184363938,
           0.007233082355737275,
           0.03197958453286062,
           0.05570574218106777,
           0.07773008237271903,
           0.09738828403656238,
           0.11405907878471819,
           0.12719030582037316,
           0.13632396086944565
          ]
         ]
        }
       ],
       "layout": {
        "legend": {
         "bgcolor": "#151516",
         "font": {
          "color": "#D9D9D9"
         }
        },
        "paper_bgcolor": "#151516",
        "plot_bgcolor": "#151516",
        "template": {
         "data": {
          "bar": [
           {
            "error_x": {
             "color": "#2a3f5f"
            },
            "error_y": {
             "color": "#2a3f5f"
            },
            "marker": {
             "line": {
              "color": "#E5ECF6",
              "width": 0.5
             },
             "pattern": {
              "fillmode": "overlay",
              "size": 10,
              "solidity": 0.2
             }
            },
            "type": "bar"
           }
          ],
          "barpolar": [
           {
            "marker": {
             "line": {
              "color": "#E5ECF6",
              "width": 0.5
             },
             "pattern": {
              "fillmode": "overlay",
              "size": 10,
              "solidity": 0.2
             }
            },
            "type": "barpolar"
           }
          ],
          "carpet": [
           {
            "aaxis": {
             "endlinecolor": "#2a3f5f",
             "gridcolor": "white",
             "linecolor": "white",
             "minorgridcolor": "white",
             "startlinecolor": "#2a3f5f"
            },
            "baxis": {
             "endlinecolor": "#2a3f5f",
             "gridcolor": "white",
             "linecolor": "white",
             "minorgridcolor": "white",
             "startlinecolor": "#2a3f5f"
            },
            "type": "carpet"
           }
          ],
          "choropleth": [
           {
            "colorbar": {
             "outlinewidth": 0,
             "ticks": ""
            },
            "type": "choropleth"
           }
          ],
          "contour": [
           {
            "colorbar": {
             "outlinewidth": 0,
             "ticks": ""
            },
            "colorscale": [
             [
              0,
              "#0d0887"
             ],
             [
              0.1111111111111111,
              "#46039f"
             ],
             [
              0.2222222222222222,
              "#7201a8"
             ],
             [
              0.3333333333333333,
              "#9c179e"
             ],
             [
              0.4444444444444444,
              "#bd3786"
             ],
             [
              0.5555555555555556,
              "#d8576b"
             ],
             [
              0.6666666666666666,
              "#ed7953"
             ],
             [
              0.7777777777777778,
              "#fb9f3a"
             ],
             [
              0.8888888888888888,
              "#fdca26"
             ],
             [
              1,
              "#f0f921"
             ]
            ],
            "type": "contour"
           }
          ],
          "contourcarpet": [
           {
            "colorbar": {
             "outlinewidth": 0,
             "ticks": ""
            },
            "type": "contourcarpet"
           }
          ],
          "heatmap": [
           {
            "colorbar": {
             "outlinewidth": 0,
             "ticks": ""
            },
            "colorscale": [
             [
              0,
              "#0d0887"
             ],
             [
              0.1111111111111111,
              "#46039f"
             ],
             [
              0.2222222222222222,
              "#7201a8"
             ],
             [
              0.3333333333333333,
              "#9c179e"
             ],
             [
              0.4444444444444444,
              "#bd3786"
             ],
             [
              0.5555555555555556,
              "#d8576b"
             ],
             [
              0.6666666666666666,
              "#ed7953"
             ],
             [
              0.7777777777777778,
              "#fb9f3a"
             ],
             [
              0.8888888888888888,
              "#fdca26"
             ],
             [
              1,
              "#f0f921"
             ]
            ],
            "type": "heatmap"
           }
          ],
          "heatmapgl": [
           {
            "colorbar": {
             "outlinewidth": 0,
             "ticks": ""
            },
            "colorscale": [
             [
              0,
              "#0d0887"
             ],
             [
              0.1111111111111111,
              "#46039f"
             ],
             [
              0.2222222222222222,
              "#7201a8"
             ],
             [
              0.3333333333333333,
              "#9c179e"
             ],
             [
              0.4444444444444444,
              "#bd3786"
             ],
             [
              0.5555555555555556,
              "#d8576b"
             ],
             [
              0.6666666666666666,
              "#ed7953"
             ],
             [
              0.7777777777777778,
              "#fb9f3a"
             ],
             [
              0.8888888888888888,
              "#fdca26"
             ],
             [
              1,
              "#f0f921"
             ]
            ],
            "type": "heatmapgl"
           }
          ],
          "histogram": [
           {
            "marker": {
             "pattern": {
              "fillmode": "overlay",
              "size": 10,
              "solidity": 0.2
             }
            },
            "type": "histogram"
           }
          ],
          "histogram2d": [
           {
            "colorbar": {
             "outlinewidth": 0,
             "ticks": ""
            },
            "colorscale": [
             [
              0,
              "#0d0887"
             ],
             [
              0.1111111111111111,
              "#46039f"
             ],
             [
              0.2222222222222222,
              "#7201a8"
             ],
             [
              0.3333333333333333,
              "#9c179e"
             ],
             [
              0.4444444444444444,
              "#bd3786"
             ],
             [
              0.5555555555555556,
              "#d8576b"
             ],
             [
              0.6666666666666666,
              "#ed7953"
             ],
             [
              0.7777777777777778,
              "#fb9f3a"
             ],
             [
              0.8888888888888888,
              "#fdca26"
             ],
             [
              1,
              "#f0f921"
             ]
            ],
            "type": "histogram2d"
           }
          ],
          "histogram2dcontour": [
           {
            "colorbar": {
             "outlinewidth": 0,
             "ticks": ""
            },
            "colorscale": [
             [
              0,
              "#0d0887"
             ],
             [
              0.1111111111111111,
              "#46039f"
             ],
             [
              0.2222222222222222,
              "#7201a8"
             ],
             [
              0.3333333333333333,
              "#9c179e"
             ],
             [
              0.4444444444444444,
              "#bd3786"
             ],
             [
              0.5555555555555556,
              "#d8576b"
             ],
             [
              0.6666666666666666,
              "#ed7953"
             ],
             [
              0.7777777777777778,
              "#fb9f3a"
             ],
             [
              0.8888888888888888,
              "#fdca26"
             ],
             [
              1,
              "#f0f921"
             ]
            ],
            "type": "histogram2dcontour"
           }
          ],
          "mesh3d": [
           {
            "colorbar": {
             "outlinewidth": 0,
             "ticks": ""
            },
            "type": "mesh3d"
           }
          ],
          "parcoords": [
           {
            "line": {
             "colorbar": {
              "outlinewidth": 0,
              "ticks": ""
             }
            },
            "type": "parcoords"
           }
          ],
          "pie": [
           {
            "automargin": true,
            "type": "pie"
           }
          ],
          "scatter": [
           {
            "marker": {
             "colorbar": {
              "outlinewidth": 0,
              "ticks": ""
             }
            },
            "type": "scatter"
           }
          ],
          "scatter3d": [
           {
            "line": {
             "colorbar": {
              "outlinewidth": 0,
              "ticks": ""
             }
            },
            "marker": {
             "colorbar": {
              "outlinewidth": 0,
              "ticks": ""
             }
            },
            "type": "scatter3d"
           }
          ],
          "scattercarpet": [
           {
            "marker": {
             "colorbar": {
              "outlinewidth": 0,
              "ticks": ""
             }
            },
            "type": "scattercarpet"
           }
          ],
          "scattergeo": [
           {
            "marker": {
             "colorbar": {
              "outlinewidth": 0,
              "ticks": ""
             }
            },
            "type": "scattergeo"
           }
          ],
          "scattergl": [
           {
            "marker": {
             "colorbar": {
              "outlinewidth": 0,
              "ticks": ""
             }
            },
            "type": "scattergl"
           }
          ],
          "scattermapbox": [
           {
            "marker": {
             "colorbar": {
              "outlinewidth": 0,
              "ticks": ""
             }
            },
            "type": "scattermapbox"
           }
          ],
          "scatterpolar": [
           {
            "marker": {
             "colorbar": {
              "outlinewidth": 0,
              "ticks": ""
             }
            },
            "type": "scatterpolar"
           }
          ],
          "scatterpolargl": [
           {
            "marker": {
             "colorbar": {
              "outlinewidth": 0,
              "ticks": ""
             }
            },
            "type": "scatterpolargl"
           }
          ],
          "scatterternary": [
           {
            "marker": {
             "colorbar": {
              "outlinewidth": 0,
              "ticks": ""
             }
            },
            "type": "scatterternary"
           }
          ],
          "surface": [
           {
            "colorbar": {
             "outlinewidth": 0,
             "ticks": ""
            },
            "colorscale": [
             [
              0,
              "#0d0887"
             ],
             [
              0.1111111111111111,
              "#46039f"
             ],
             [
              0.2222222222222222,
              "#7201a8"
             ],
             [
              0.3333333333333333,
              "#9c179e"
             ],
             [
              0.4444444444444444,
              "#bd3786"
             ],
             [
              0.5555555555555556,
              "#d8576b"
             ],
             [
              0.6666666666666666,
              "#ed7953"
             ],
             [
              0.7777777777777778,
              "#fb9f3a"
             ],
             [
              0.8888888888888888,
              "#fdca26"
             ],
             [
              1,
              "#f0f921"
             ]
            ],
            "type": "surface"
           }
          ],
          "table": [
           {
            "cells": {
             "fill": {
              "color": "#EBF0F8"
             },
             "line": {
              "color": "white"
             }
            },
            "header": {
             "fill": {
              "color": "#C8D4E3"
             },
             "line": {
              "color": "white"
             }
            },
            "type": "table"
           }
          ]
         },
         "layout": {
          "annotationdefaults": {
           "arrowcolor": "#2a3f5f",
           "arrowhead": 0,
           "arrowwidth": 1
          },
          "autotypenumbers": "strict",
          "coloraxis": {
           "colorbar": {
            "outlinewidth": 0,
            "ticks": ""
           }
          },
          "colorscale": {
           "diverging": [
            [
             0,
             "#8e0152"
            ],
            [
             0.1,
             "#c51b7d"
            ],
            [
             0.2,
             "#de77ae"
            ],
            [
             0.3,
             "#f1b6da"
            ],
            [
             0.4,
             "#fde0ef"
            ],
            [
             0.5,
             "#f7f7f7"
            ],
            [
             0.6,
             "#e6f5d0"
            ],
            [
             0.7,
             "#b8e186"
            ],
            [
             0.8,
             "#7fbc41"
            ],
            [
             0.9,
             "#4d9221"
            ],
            [
             1,
             "#276419"
            ]
           ],
           "sequential": [
            [
             0,
             "#0d0887"
            ],
            [
             0.1111111111111111,
             "#46039f"
            ],
            [
             0.2222222222222222,
             "#7201a8"
            ],
            [
             0.3333333333333333,
             "#9c179e"
            ],
            [
             0.4444444444444444,
             "#bd3786"
            ],
            [
             0.5555555555555556,
             "#d8576b"
            ],
            [
             0.6666666666666666,
             "#ed7953"
            ],
            [
             0.7777777777777778,
             "#fb9f3a"
            ],
            [
             0.8888888888888888,
             "#fdca26"
            ],
            [
             1,
             "#f0f921"
            ]
           ],
           "sequentialminus": [
            [
             0,
             "#0d0887"
            ],
            [
             0.1111111111111111,
             "#46039f"
            ],
            [
             0.2222222222222222,
             "#7201a8"
            ],
            [
             0.3333333333333333,
             "#9c179e"
            ],
            [
             0.4444444444444444,
             "#bd3786"
            ],
            [
             0.5555555555555556,
             "#d8576b"
            ],
            [
             0.6666666666666666,
             "#ed7953"
            ],
            [
             0.7777777777777778,
             "#fb9f3a"
            ],
            [
             0.8888888888888888,
             "#fdca26"
            ],
            [
             1,
             "#f0f921"
            ]
           ]
          },
          "colorway": [
           "#636efa",
           "#EF553B",
           "#00cc96",
           "#ab63fa",
           "#FFA15A",
           "#19d3f3",
           "#FF6692",
           "#B6E880",
           "#FF97FF",
           "#FECB52"
          ],
          "font": {
           "color": "#2a3f5f"
          },
          "geo": {
           "bgcolor": "white",
           "lakecolor": "white",
           "landcolor": "#E5ECF6",
           "showlakes": true,
           "showland": true,
           "subunitcolor": "white"
          },
          "hoverlabel": {
           "align": "left"
          },
          "hovermode": "closest",
          "mapbox": {
           "style": "light"
          },
          "paper_bgcolor": "white",
          "plot_bgcolor": "#E5ECF6",
          "polar": {
           "angularaxis": {
            "gridcolor": "white",
            "linecolor": "white",
            "ticks": ""
           },
           "bgcolor": "#E5ECF6",
           "radialaxis": {
            "gridcolor": "white",
            "linecolor": "white",
            "ticks": ""
           }
          },
          "scene": {
           "xaxis": {
            "backgroundcolor": "#E5ECF6",
            "gridcolor": "white",
            "gridwidth": 2,
            "linecolor": "white",
            "showbackground": true,
            "ticks": "",
            "zerolinecolor": "white"
           },
           "yaxis": {
            "backgroundcolor": "#E5ECF6",
            "gridcolor": "white",
            "gridwidth": 2,
            "linecolor": "white",
            "showbackground": true,
            "ticks": "",
            "zerolinecolor": "white"
           },
           "zaxis": {
            "backgroundcolor": "#E5ECF6",
            "gridcolor": "white",
            "gridwidth": 2,
            "linecolor": "white",
            "showbackground": true,
            "ticks": "",
            "zerolinecolor": "white"
           }
          },
          "shapedefaults": {
           "line": {
            "color": "#2a3f5f"
           }
          },
          "ternary": {
           "aaxis": {
            "gridcolor": "white",
            "linecolor": "white",
            "ticks": ""
           },
           "baxis": {
            "gridcolor": "white",
            "linecolor": "white",
            "ticks": ""
           },
           "bgcolor": "#E5ECF6",
           "caxis": {
            "gridcolor": "white",
            "linecolor": "white",
            "ticks": ""
           }
          },
          "title": {
           "x": 0.05
          },
          "xaxis": {
           "automargin": true,
           "gridcolor": "white",
           "linecolor": "white",
           "ticks": "",
           "title": {
            "standoff": 15
           },
           "zerolinecolor": "white",
           "zerolinewidth": 2
          },
          "yaxis": {
           "automargin": true,
           "gridcolor": "white",
           "linecolor": "white",
           "ticks": "",
           "title": {
            "standoff": 15
           },
           "zerolinecolor": "white",
           "zerolinewidth": 2
          }
         }
        },
        "title": {
         "font": {
          "color": "#D9D9D9"
         }
        },
        "xaxis": {
         "gridcolor": "#434343",
         "showgrid": true,
         "tickfont": {
          "color": "#C2C2C2"
         },
         "title": {
          "font": {
           "color": "#D9D9D9"
          },
          "text": ""
         },
         "zerolinecolor": "#666570"
        },
        "yaxis": {
         "gridcolor": "#434343",
         "showgrid": true,
         "tickfont": {
          "color": "#C2C2C2"
         },
         "title": {
          "font": {
           "color": "#D9D9D9"
          },
          "text": ""
         },
         "zerolinecolor": "#666570"
        }
       }
      },
      "text/html": [
       "<div>                            <div id=\"21919d25-ac53-402a-b36d-687e5f8440d7\" class=\"plotly-graph-div\" style=\"height:525px; width:100%;\"></div>            <script type=\"text/javascript\">                require([\"plotly\"], function(Plotly) {                    window.PLOTLYENV=window.PLOTLYENV || {};\n",
       "                    window.PLOTLYENV.BASE_URL='https://plotly.your-company.com';                                    if (document.getElementById(\"21919d25-ac53-402a-b36d-687e5f8440d7\")) {                    Plotly.newPlot(                        \"21919d25-ac53-402a-b36d-687e5f8440d7\",                        [{\"colorscale\":[[0.0,\"rgb(255, 153, 51)\"],[0.1111111111111111,\"rgb(55, 128, 191)\"],[0.2222222222222222,\"rgb(50, 171, 96)\"],[0.3333333333333333,\"rgb(128, 0, 128)\"],[0.4444444444444444,\"rgb(219, 64, 82)\"],[0.5555555555555556,\"rgb(0, 128, 128)\"],[0.6666666666666666,\"rgb(255, 255, 51)\"],[0.7777777777777778,\"rgb(128, 128, 0)\"],[0.8888888888888888,\"rgb(251, 128, 114)\"],[1.0,\"rgb(128, 177, 211)\"]],\"type\":\"surface\",\"x\":[-10.0,-9.75,-9.5,-9.25,-9.0,-8.75,-8.5,-8.25,-8.0,-7.75,-7.5,-7.25,-7.0,-6.75,-6.5,-6.25,-6.0,-5.75,-5.5,-5.25,-5.0,-4.75,-4.5,-4.25,-4.0,-3.75,-3.5,-3.25,-3.0,-2.75,-2.5,-2.25,-2.0,-1.75,-1.5,-1.25,-1.0,-0.75,-0.5,-0.25,0.0,0.25,0.5,0.75,1.0,1.25,1.5,1.75,2.0,2.25,2.5,2.75,3.0,3.25,3.5,3.75,4.0,4.25,4.5,4.75,5.0,5.25,5.5,5.75,6.0,6.25,6.5,6.75,7.0,7.25,7.5,7.75,8.0,8.25,8.5,8.75,9.0,9.25,9.5,9.75],\"y\":[-10.0,-9.75,-9.5,-9.25,-9.0,-8.75,-8.5,-8.25,-8.0,-7.75,-7.5,-7.25,-7.0,-6.75,-6.5,-6.25,-6.0,-5.75,-5.5,-5.25,-5.0,-4.75,-4.5,-4.25,-4.0,-3.75,-3.5,-3.25,-3.0,-2.75,-2.5,-2.25,-2.0,-1.75,-1.5,-1.25,-1.0,-0.75,-0.5,-0.25,0.0,0.25,0.5,0.75,1.0,1.25,1.5,1.75,2.0,2.25,2.5,2.75,3.0,3.25,3.5,3.75,4.0,4.25,4.5,4.75,5.0,5.25,5.5,5.75,6.0,6.25,6.5,6.75,7.0,7.25,7.5,7.75,8.0,8.25,8.5,8.75,9.0,9.25,9.5,9.75],\"z\":[[0.14141961054935853,0.14111903500315878,0.13650222610828716,0.12777380562398274,0.11526115097856117,0.0993958462307399,0.08069235790121831,0.059725017515438364,0.037104384846577534,0.013454008098850966,-0.01061150357619211,-0.0345063152690242,-0.05769048962428924,-0.07968395387291566,-0.10007704610444179,-0.11853755153953285,-0.13481430178982187,-0.1487375524385824,-0.16021647158282734,-0.16923416092386775,-0.17584069010379264,-0.1801446545297837,-0.18230376872794093,-0.18251498442862385,-0.18100457917857166,-0.17801860199902664,-0.1738139924448547,-0.16865061331126227,-0.16278435980926842,-0.15646143337355978,-0.1499137997580331,-0.14335579129849668,-0.13698176393514344,-0.13096468174943518,-0.1254554756233313,-0.12058300781296416,-0.1164544699167505,-0.1131560467581887,-0.1107536917561867,-0.10929387900894774,-0.10880422217787396,-0.10929387900894774,-0.1107536917561867,-0.1131560467581887,-0.1164544699167505,-0.12058300781296416,-0.1254554756233313,-0.13096468174943518,-0.13698176393514344,-0.14335579129849668,-0.1499137997580331,-0.15646143337355978,-0.16278435980926842,-0.16865061331126227,-0.1738139924448547,-0.17801860199902664,-0.18100457917857166,-0.18251498442862385,-0.18230376872794093,-0.1801446545297837,-0.17584069010379264,-0.16923416092386775,-0.16021647158282734,-0.1487375524385824,-0.13481430178982187,-0.11853755153953285,-0.10007704610444179,-0.07968395387291566,-0.05769048962428924,-0.0345063152690242,-0.01061150357619211,0.013454008098850966,0.037104384846577534,0.059725017515438364,0.08069235790121831,0.0993958462307399,0.11526115097856117,0.12777380562398274,0.13650222610828716,0.14111903500315878],[0.14111903500315878,0.13632396086944565,0.12719030582037316,0.11405907878471819,0.09738828403656238,0.07773008237271903,0.05570574218106777,0.03197958453286062,0.007233082355737275,-0.017859822184363938,-0.042655257000177006,-0.06655906279410359,-0.08904297911487404,-0.10965701691843574,-0.12803786284735597,-0.14391335124448024,-0.15710321083861073,-0.16751643729146143,-0.1751457556394694,-0.1800597155006458,-0.18239300622958532,-0.18233559039097344,-0.18012123502583363,-0.1760159755489718,-0.17030698199702413,-0.16329221750830802,-0.15527119023634722,-0.14653700801271363,-0.13736985507049018,-0.12803192632998142,-0.11876378051842666,-0.10978201113265723,-0.10127808535368477,-0.09341816596346665,-0.08634370978474622,-0.08017262722723162,-0.0750007897964791,-0.07090368426500879,-0.06793803188546253,-0.06614321685638791,-0.06554239869174844,-0.06614321685638791,-0.06793803188546253,-0.07090368426500879,-0.0750007897964791,-0.08017262722723162,-0.08634370978474622,-0.09341816596346665,-0.10127808535368477,-0.10978201113265723,-0.11876378051842666,-0.12803192632998142,-0.13736985507049018,-0.14653700801271363,-0.15527119023634722,-0.16329221750830802,-0.17030698199702413,-0.1760159755489718,-0.18012123502583363,-0.18233559039097344,-0.18239300622958532,-0.1800597155006458,-0.1751457556394694,-0.16751643729146143,-0.15710321083861073,-0.14391335124448024,-0.12803786284735597,-0.10965701691843574,-0.08904297911487404,-0.06655906279410359,-0.042655257000177006,-0.017859822184363938,0.007233082355737275,0.03197958453286062,0.05570574218106777,0.07773008237271903,0.09738828403656238,0.11405907878471819,0.12719030582037316,0.13632396086944565],[0.13650222610828716,0.12719030582037316,0.1136526088802527,0.09636827159298987,0.0759235678781371,0.05298490441364873,0.028270310898122826,0.0025207381574719806,-0.023527608249201665,-0.04916880920228074,-0.07374973820785838,-0.09668883252747353,-0.11749065565570795,-0.13575600794040762,-0.1511875643863488,-0.163591222139663,-0.17287351607260817,-0.17903560277058095,-0.1821644169794075,-0.18242166855756492,-0.1800313728705813,-0.1752665961050691,-0.16843605361995675,-0.15987112992755653,-0.1499137997580331,-0.13890582780165694,-0.1271795169340972,-0.11505016730310495,-0.10281030706494562,-0.0907256642328181,-0.07903277128303789,-0.06793803188546253,-0.05761803324395176,-0.04822085787410071,-0.039868134180728126,-0.032657564269347995,-0.026665677985416577,-0.021950582012676394,-0.01855449981019833,-0.016505930263581485,-0.015821288518275644,-0.016505930263581485,-0.01855449981019833,-0.021950582012676394,-0.026665677985416577,-0.032657564269347995,-0.039868134180728126,-0.04822085787410071,-0.05761803324395176,-0.06793803188546253,-0.07903277128303789,-0.0907256642328181,-0.10281030706494562,-0.11505016730310495,-0.1271795169340972,-0.13890582780165694,-0.1499137997580331,-0.15987112992755653,-0.16843605361995675,-0.1752665961050691,-0.1800313728705813,-0.18242166855756492,-0.1821644169794075,-0.17903560277058095,-0.17287351607260817,-0.163591222139663,-0.1511875643863488,-0.13575600794040762,-0.11749065565570795,-0.09668883252747353,-0.07374973820785838,-0.04916880920228074,-0.023527608249201665,0.0025207381574719806,0.028270310898122826,0.05298490441364873,0.0759235678781371,0.09636827159298987,0.1136526088802527,0.12719030582037316],[0.12777380562398274,0.11405907878471819,0.09636827159298987,0.07531659368730659,0.05161237775613617,0.026026147564044762,-0.0006409754282528475,-0.027588123185645037,-0.054043516875550875,-0.07929019757294747,-0.10268778525178764,-0.12368964794720452,-0.14185512230149663,-0.15685668268767797,-0.16848219583369567,-0.17663261032673944,-0.18131560690315682,-0.1826358700412797,-0.18078273088932142,-0.1760159755489718,-0.16865061331126227,-0.15904136091487175,-0.14756752732225356,-0.13461888616197776,-0.12058300781296416,-0.10583439818051152,-0.0907256642328181,-0.07558080422426758,-0.060690608986011814,-0.046310064114579955,-0.032657564269347995,-0.019915691575644292,-0.00823327044894154,0.0022716100207446164,0.011507919583092052,0.019407660252202565,0.025921773001301992,0.031016232090896562,0.03466854669458865,0.03686485131708162,0.03759772656874239,0.03686485131708162,0.03466854669458865,0.031016232090896562,0.025921773001301992,0.019407660252202565,0.011507919583092052,0.0022716100207446164,-0.00823327044894154,-0.019915691575644292,-0.032657564269347995,-0.046310064114579955,-0.060690608986011814,-0.07558080422426758,-0.0907256642328181,-0.10583439818051152,-0.12058300781296416,-0.13461888616197776,-0.14756752732225356,-0.15904136091487175,-0.16865061331126227,-0.1760159755489718,-0.18078273088932142,-0.1826358700412797,-0.18131560690315682,-0.17663261032673944,-0.16848219583369567,-0.15685668268767797,-0.14185512230149663,-0.12368964794720452,-0.10268778525178764,-0.07929019757294747,-0.054043516875550875,-0.027588123185645037,-0.0006409754282528475,0.026026147564044762,0.05161237775613617,0.07531659368730659,0.09636827159298987,0.11405907878471819],[0.11526115097856117,0.09738828403656238,0.0759235678781371,0.05161237775613617,0.025275083284098894,-0.0022274559793407315,-0.03002807965783915,-0.0572857273340844,-0.08321475815193494,-0.10711012813756442,-0.1283676319466868,-0.1464987033293174,-0.16113955966514656,-0.17205475511311313,-0.17913546063850083,-0.18239300622958532,-0.18194839266053625,-0.17801860199902664,-0.17090060569317098,-0.1609539875623888,-0.14858307017251748,-0.13421936300715656,-0.11830504740258321,-0.10127808535368477,-0.08355939645450051,-0.06554239869174844,-0.04758506314163741,-0.030004497243790427,-0.013073952151520388,0.0029779491154211806,0.017966041941118966,0.031745840459068614,0.044209509361482956,0.05528095770522729,0.0649104168254659,0.07306884206017318,0.07974244535617742,0.08492762656935865,0.08862652853638416,0.09084339726921295,0.09158188560927924,0.09084339726921295,0.08862652853638416,0.08492762656935865,0.07974244535617742,0.07306884206017318,0.0649104168254659,0.05528095770522729,0.044209509361482956,0.031745840459068614,0.017966041941118966,0.0029779491154211806,-0.013073952151520388,-0.030004497243790427,-0.04758506314163741,-0.06554239869174844,-0.08355939645450051,-0.10127808535368477,-0.11830504740258321,-0.13421936300715656,-0.14858307017251748,-0.1609539875623888,-0.17090060569317098,-0.17801860199902664,-0.18194839266053625,-0.18239300622958532,-0.17913546063850083,-0.17205475511311313,-0.16113955966514656,-0.1464987033293174,-0.1283676319466868,-0.10711012813756442,-0.08321475815193494,-0.0572857273340844,-0.03002807965783915,-0.0022274559793407315,0.025275083284098894,0.05161237775613617,0.0759235678781371,0.09738828403656238],[0.0993958462307399,0.07773008237271903,0.05298490441364873,0.026026147564044762,-0.0022274559793407315,-0.030841885736018544,-0.05890402451081101,-0.08555491563889543,-0.11001880232017779,-0.1316269478872783,-0.14983554931501694,-0.1642373823959323,-0.17456713788189782,-0.1807007071005138,-0.18264893898060253,-0.18054660691367944,-0.17463748569481502,-0.16525654180237792,-0.1528102839666787,-0.13775630818181953,-0.12058300781296416,-0.10179031338845618,-0.08187218787401292,-0.061301442485772274,-0.040517266401149735,-0.019915691575644292,0.0001569493213448689,0.019407660252202565,0.03759772656874239,0.054541276561040686,0.07010183827093616,0.08418731130237875,0.09674378883254962,0.10774865812501504,0.11720338291232232,0.12512633286074154,0.13154597877649798,0.13649472168344115,0.14000357308347133,0.14209785531573388,0.14279404657238684,0.14209785531573388,0.14000357308347133,0.13649472168344115,0.13154597877649798,0.12512633286074154,0.11720338291232232,0.10774865812501504,0.09674378883254962,0.08418731130237875,0.07010183827093616,0.054541276561040686,0.03759772656874239,0.019407660252202565,0.0001569493213448689,-0.019915691575644292,-0.040517266401149735,-0.061301442485772274,-0.08187218787401292,-0.10179031338845618,-0.12058300781296416,-0.13775630818181953,-0.1528102839666787,-0.16525654180237792,-0.17463748569481502,-0.18054660691367944,-0.18264893898060253,-0.1807007071005138,-0.17456713788189782,-0.1642373823959323,-0.14983554931501694,-0.1316269478872783,-0.11001880232017779,-0.08555491563889543,-0.05890402451081101,-0.030841885736018544,-0.0022274559793407315,0.026026147564044762,0.05298490441364873,0.07773008237271903],[0.08069235790121831,0.05570574218106777,0.028270310898122826,-0.0006409754282528475,-0.03002807965783915,-0.05890402451081101,-0.08633239590937543,-0.1114606806231028,-0.13354819579908725,-0.15198770280837584,-0.16632015713858264,-0.17624240938958516,-0.18160802037610754,-0.18242166855756492,-0.1788278960809016,-0.17109514979541934,-0.15959621882048483,-0.14478624788034108,-0.1271795169340972,-0.10732612754693129,-0.0857896329957062,-0.0631265026963309,-0.039868134180728126,-0.016505930263581485,0.0065202421682302655,0.02883009042098063,0.05010748884225075,0.07010183827093616,0.08862652853638416,0.10555493165712146,0.12081441070397907,0.13437885433763305,0.14626024334832619,0.15649972810645998,0.16515865057394133,0.17230988766358785,0.17802983029511174,0.18239124981424537,0.18545724476618586,0.18727640924644018,0.18787932061729182,0.18727640924644018,0.18545724476618586,0.18239124981424537,0.17802983029511174,0.17230988766358785,0.16515865057394133,0.15649972810645998,0.14626024334832619,0.13437885433763305,0.12081441070397907,0.10555493165712146,0.08862652853638416,0.07010183827093616,0.05010748884225075,0.02883009042098063,0.0065202421682302655,-0.016505930263581485,-0.039868134180728126,-0.0631265026963309,-0.0857896329957062,-0.10732612754693129,-0.1271795169340972,-0.14478624788034108,-0.15959621882048483,-0.17109514979541934,-0.1788278960809016,-0.18242166855756492,-0.18160802037610754,-0.17624240938958516,-0.16632015713858264,-0.15198770280837584,-0.13354819579908725,-0.1114606806231028,-0.08633239590937543,-0.05890402451081101,-0.03002807965783915,-0.0006409754282528475,0.028270310898122826,0.05570574218106777],[0.059725017515438364,0.03197958453286062,0.0025207381574719806,-0.027588123185645037,-0.0572857273340844,-0.08555491563889543,-0.1114606806231028,-0.13418273806183595,-0.15304146672549196,-0.16751643729146143,-0.17725715646546372,-0.18208605074549258,-0.18199408570471504,-0.17712974307464055,-0.16778234479339135,-0.1543609103022869,-0.13736985507049018,-0.11738288358628372,-0.0950164022704569,-0.07090368426500879,-0.045670869380806056,-0.019915691575644292,0.0058103924762656495,0.031016232090896562,0.05528095770522729,0.07825990831739421,0.09968670899986165,0.11937185506223688,0.13719827990417027,0.15311446345017118,0.16712567793535366,0.1792839709402817,0.18967745729212915,0.19841943861188654,0.20563779959612533,0.21146505144444128,0.21602931256266372,0.21944644111666822,0.22181346801290225,0.2232034254780841,0.22366162672468853,0.2232034254780841,0.22181346801290225,0.21944644111666822,0.21602931256266372,0.21146505144444128,0.20563779959612533,0.19841943861188654,0.18967745729212915,0.1792839709402817,0.16712567793535366,0.15311446345017118,0.13719827990417027,0.11937185506223688,0.09968670899986165,0.07825990831739421,0.05528095770522729,0.031016232090896562,0.0058103924762656495,-0.019915691575644292,-0.045670869380806056,-0.07090368426500879,-0.0950164022704569,-0.11738288358628372,-0.13736985507049018,-0.1543609103022869,-0.16778234479339135,-0.17712974307464055,-0.18199408570471504,-0.18208605074549258,-0.17725715646546372,-0.16751643729146143,-0.15304146672549196,-0.13418273806183595,-0.1114606806231028,-0.08555491563889543,-0.0572857273340844,-0.027588123185645037,0.0025207381574719806,0.03197958453286062],[0.037104384846577534,0.007233082355737275,-0.023527608249201665,-0.054043516875550875,-0.08321475815193494,-0.11001880232017779,-0.13354819579908725,-0.15304146672549196,-0.167906160972842,-0.17773339606034183,-0.18230376872794093,-0.18158488243001691,-0.17572115154133375,-0.16501687105976595,-0.1499137997580331,-0.13096468174943518,-0.10880422217787396,-0.08411903827788304,-0.05761803324395176,-0.030004497243790427,-0.001951040868825416,0.025921773001301992,0.05306249567952219,0.07900122348247962,0.10335731863015635,0.1258425822940911,0.14626024334832619,0.16450028494360933,0.18053174205108255,0.1943926655354523,0.2061784643801796,0.21602931256266372,0.22411724822563847,0.23063350923189954,0.23577655069724138,0.23974108638511749,0.242708395806646,0.24483804991090946,0.24626113579560338,0.24707500803079696,0.24733956165584545,0.24707500803079696,0.24626113579560338,0.24483804991090946,0.242708395806646,0.23974108638511749,0.23577655069724138,0.23063350923189954,0.22411724822563847,0.21602931256266372,0.2061784643801796,0.1943926655354523,0.18053174205108255,0.16450028494360933,0.14626024334832619,0.1258425822940911,0.10335731863015635,0.07900122348247962,0.05306249567952219,0.025921773001301992,-0.001951040868825416,-0.030004497243790427,-0.05761803324395176,-0.08411903827788304,-0.10880422217787396,-0.13096468174943518,-0.1499137997580331,-0.16501687105976595,-0.17572115154133375,-0.18158488243001691,-0.18230376872794093,-0.17773339606034183,-0.167906160972842,-0.15304146672549196,-0.13354819579908725,-0.11001880232017779,-0.08321475815193494,-0.054043516875550875,-0.023527608249201665,0.007233082355737275],[0.013454008098850966,-0.017859822184363938,-0.04916880920228074,-0.07929019757294747,-0.10711012813756442,-0.1316269478872783,-0.15198770280837584,-0.16751643729146143,-0.17773339606034183,-0.18236471957976835,-0.18134271385500067,-0.1747972342928682,-0.16303912773542587,-0.14653700801271363,-0.1258888846262905,-0.10179031338845618,-0.0750007897964791,-0.046310064114579955,-0.016505930263581485,0.013655158230898757,0.043473546354522816,0.07232710218505171,0.09968670899986165,0.12512633286074154,0.14832776112580212,0.16908036038891633,0.18727640924644018,0.20290271423033404,0.21602931256266372,0.22679610352037188,0.23539823538075702,0.2420710146043941,0.24707500803079696,0.2506818889186662,0.2531614457800734,0.25477004091850136,0.2557406839380664,0.2562747828163765,0.25653555744366946,0.2566430509401283,0.2566706526738519,0.2566430509401283,0.25653555744366946,0.2562747828163765,0.2557406839380664,0.25477004091850136,0.2531614457800734,0.2506818889186662,0.24707500803079696,0.2420710146043941,0.23539823538075702,0.22679610352037188,0.21602931256266372,0.20290271423033404,0.18727640924644018,0.16908036038891633,0.14832776112580212,0.12512633286074154,0.09968670899986165,0.07232710218505171,0.043473546354522816,0.013655158230898757,-0.016505930263581485,-0.046310064114579955,-0.0750007897964791,-0.10179031338845618,-0.1258888846262905,-0.14653700801271363,-0.16303912773542587,-0.1747972342928682,-0.18134271385500067,-0.18236471957976835,-0.17773339606034183,-0.16751643729146143,-0.15198770280837584,-0.1316269478872783,-0.10711012813756442,-0.07929019757294747,-0.04916880920228074,-0.017859822184363938],[-0.01061150357619211,-0.042655257000177006,-0.07374973820785838,-0.10268778525178764,-0.1283676319466868,-0.14983554931501694,-0.16632015713858264,-0.17725715646546372,-0.18230376872794093,-0.18134271385500067,-0.17447608825271163,-0.16200998595397612,-0.14443111863131364,-0.12237701362727325,-0.096601590755175,-0.06793803188546253,-0.03726086233570953,-0.005449066140771361,0.026648129724923395,0.058241427706856384,0.08862652853638416,0.11720338291232232,0.14348926836260514,0.16712567793535366,0.18787932061729182,0.20563779959612533,0.22040074178662336,0.23226729318028777,0.24142096714711753,0.24811283911536614,0.25264402764959015,0.255348298963932,0.256575492104657,0.2566762997375786,0.2559887694405144,0.2548267267047997,0.25347017586536014,0.252157618714697,0.25108014921898075,0.25037713957121355,0.25013332713993036,0.25037713957121355,0.25108014921898075,0.252157618714697,0.25347017586536014,0.2548267267047997,0.2559887694405144,0.2566762997375786,0.256575492104657,0.255348298963932,0.25264402764959015,0.24811283911536614,0.24142096714711753,0.23226729318028777,0.22040074178662336,0.20563779959612533,0.18787932061729182,0.16712567793535366,0.14348926836260514,0.11720338291232232,0.08862652853638416,0.058241427706856384,0.026648129724923395,-0.005449066140771361,-0.03726086233570953,-0.06793803188546253,-0.096601590755175,-0.12237701362727325,-0.14443111863131364,-0.16200998595397612,-0.17447608825271163,-0.18134271385500067,-0.18230376872794093,-0.17725715646546372,-0.16632015713858264,-0.14983554931501694,-0.1283676319466868,-0.10268778525178764,-0.07374973820785838,-0.042655257000177006],[-0.0345063152690242,-0.06655906279410359,-0.09668883252747353,-0.12368964794720452,-0.1464987033293174,-0.1642373823959323,-0.17624240938958516,-0.18208605074549258,-0.18158488243001691,-0.1747972342928682,-0.16200998595397612,-0.1437158894806465,-0.12058300781296416,-0.09341816596346665,-0.0631265026963309,-0.03066927919323432,0.0029779491154211806,0.03686485131708162,0.07010183827093616,0.1018902143955224,0.13154597877649798,0.15851669454452746,0.18239124981424537,0.20290271423033404,0.21992483146863692,0.23346296309158113,0.24364050109720906,0.2506818889186662,0.254893432701845,0.2566430509401283,0.2563400102730029,0.25441554164532254,0.25130504004127213,0.24743234013685533,0.2431963471432226,0.23896010343988033,0.23504220166614895,0.2317103248693539,0.22917661128094333,0.22759450814784551,0.2270567942100705,0.22759450814784551,0.22917661128094333,0.2317103248693539,0.23504220166614895,0.23896010343988033,0.2431963471432226,0.24743234013685533,0.25130504004127213,0.25441554164532254,0.2563400102730029,0.2566430509401283,0.254893432701845,0.2506818889186662,0.24364050109720906,0.23346296309158113,0.21992483146863692,0.20290271423033404,0.18239124981424537,0.15851669454452746,0.13154597877649798,0.1018902143955224,0.07010183827093616,0.03686485131708162,0.0029779491154211806,-0.03066927919323432,-0.0631265026963309,-0.09341816596346665,-0.12058300781296416,-0.1437158894806465,-0.16200998595397612,-0.1747972342928682,-0.18158488243001691,-0.18208605074549258,-0.17624240938958516,-0.1642373823959323,-0.1464987033293174,-0.12368964794720452,-0.09668883252747353,-0.06655906279410359],[-0.05769048962428924,-0.08904297911487404,-0.11749065565570795,-0.14185512230149663,-0.16113955966514656,-0.17456713788189782,-0.18160802037610754,-0.18199408570471504,-0.17572115154133375,-0.16303912773542587,-0.14443111863131364,-0.12058300781296416,-0.09234546620178369,-0.060690608986011814,-0.026665677985416577,0.008653858363151095,0.044209509361482956,0.07900122348247962,0.11212338767979044,0.14279404657238684,0.17037647050011584,0.1943926655354523,0.2145288714461612,0.23063350923189954,0.242708395806646,0.2508943222213973,0.2554522819126627,0.2567417315441088,0.25519727019112654,0.25130504004127213,0.2455799958764798,0.23854497801642713,0.23071227369415245,0.2225680860000738,0.21456006847846779,0.2070878465419809,0.20049625055173417,0.19507084218595108,0.19103523332295086,0.18854967763954522,0.18771045677679687,0.18854967763954522,0.19103523332295086,0.19507084218595108,0.20049625055173417,0.2070878465419809,0.21456006847846779,0.2225680860000738,0.23071227369415245,0.23854497801642713,0.2455799958764798,0.25130504004127213,0.25519727019112654,0.2567417315441088,0.2554522819126627,0.2508943222213973,0.242708395806646,0.23063350923189954,0.2145288714461612,0.1943926655354523,0.17037647050011584,0.14279404657238684,0.11212338767979044,0.07900122348247962,0.044209509361482956,0.008653858363151095,-0.026665677985416577,-0.060690608986011814,-0.09234546620178369,-0.12058300781296416,-0.14443111863131364,-0.16303912773542587,-0.17572115154133375,-0.18199408570471504,-0.18160802037610754,-0.17456713788189782,-0.16113955966514656,-0.14185512230149663,-0.11749065565570795,-0.08904297911487404],[-0.07968395387291566,-0.10965701691843574,-0.13575600794040762,-0.15685668268767797,-0.17205475511311313,-0.1807007071005138,-0.18242166855756492,-0.17712974307464055,-0.16501687105976595,-0.14653700801271363,-0.12237701362727325,-0.09341816596346665,-0.060690608986011814,-0.02532329427921568,0.011507919583092052,0.04863139306208121,0.08492762656935865,0.11937185506223688,0.15106960365711752,0.1792839709402817,0.20345392533496165,0.2232034254780841,0.2383416766936446,0.24885528388828942,0.254893432701845,0.25674750760048576,0.2548267267047997,0.24963143467045815,0.24172565029557566,0.2317103248693539,0.22019854657881394,0.20779364608280457,0.19507084218595108,0.18256273925541686,0.17074867404778504,0.16004763127913005,0.15081422331281308,0.1433370736825879,0.13783886506830845,0.134477311926808,0.1333463922312941,0.134477311926808,0.13783886506830845,0.1433370736825879,0.15081422331281308,0.16004763127913005,0.17074867404778504,0.18256273925541686,0.19507084218595108,0.20779364608280457,0.22019854657881394,0.2317103248693539,0.24172565029557566,0.24963143467045815,0.2548267267047997,0.25674750760048576,0.254893432701845,0.24885528388828942,0.2383416766936446,0.2232034254780841,0.20345392533496165,0.1792839709402817,0.15106960365711752,0.11937185506223688,0.08492762656935865,0.04863139306208121,0.011507919583092052,-0.02532329427921568,-0.060690608986011814,-0.09341816596346665,-0.12237701362727325,-0.14653700801271363,-0.16501687105976595,-0.17712974307464055,-0.18242166855756492,-0.1807007071005138,-0.17205475511311313,-0.15685668268767797,-0.13575600794040762,-0.10965701691843574],[-0.10007704610444179,-0.12803786284735597,-0.1511875643863488,-0.16848219583369567,-0.17913546063850083,-0.18264893898060253,-0.1788278960809016,-0.16778234479339135,-0.1499137997580331,-0.1258888846262905,-0.096601590755175,-0.0631265026963309,-0.026665677985416577,0.011507919583092052,0.05010748884225075,0.0878871354792479,0.12369173187889267,0.15649972810645998,0.18545724476618586,0.20990234059772522,0.22937894091767205,0.24364050109720906,0.25264402764959015,0.25653555744366946,0.25562857790064414,0.25037713957121355,0.2413455569066888,0.22917661128094333,0.21456006847846779,0.19820311451195688,0.18080401871815463,0.1630299764243758,0.14549969299473817,0.12877087581897034,0.11333242903336226,0.09960082298540655,0.08791985781076668,0.07856287339249271,0.07173638515428266,0.06758414818694233,0.0661907655654817,0.06758414818694233,0.07173638515428266,0.07856287339249271,0.08791985781076668,0.09960082298540655,0.11333242903336226,0.12877087581897034,0.14549969299473817,0.1630299764243758,0.18080401871815463,0.19820311451195688,0.21456006847846779,0.22917661128094333,0.2413455569066888,0.25037713957121355,0.25562857790064414,0.25653555744366946,0.25264402764959015,0.24364050109720906,0.22937894091767205,0.20990234059772522,0.18545724476618586,0.15649972810645998,0.12369173187889267,0.0878871354792479,0.05010748884225075,0.011507919583092052,-0.026665677985416577,-0.0631265026963309,-0.096601590755175,-0.1258888846262905,-0.1499137997580331,-0.16778234479339135,-0.1788278960809016,-0.18264893898060253,-0.17913546063850083,-0.16848219583369567,-0.1511875643863488,-0.12803786284735597],[-0.11853755153953285,-0.14391335124448024,-0.163591222139663,-0.17663261032673944,-0.18239300622958532,-0.18054660691367944,-0.17109514979541934,-0.1543609103022869,-0.13096468174943518,-0.10179031338845618,-0.06793803188546253,-0.03066927919323432,0.008653858363151095,0.04863139306208121,0.0878871354792479,0.12512633286074154,0.15918658398472915,0.1890798565922851,0.21402402107025095,0.23346296309158113,0.24707500803079696,0.25477004091850136,0.2566762997375786,0.25311832399967577,0.24458792842044305,0.2317103248693539,0.2152076253393881,0.19586192453391038,0.17447999195279823,0.15186131748507978,0.12877087581897034,0.10591753298818528,0.08393854575868848,0.06339013493636744,0.044743679368913644,0.02838670735216783,0.014627580006334946,0.0037025838949493145,-0.004215913110515241,-0.009011537058698997,-0.010617349295218181,-0.009011537058698997,-0.004215913110515241,0.0037025838949493145,0.014627580006334946,0.02838670735216783,0.044743679368913644,0.06339013493636744,0.08393854575868848,0.10591753298818528,0.12877087581897034,0.15186131748507978,0.17447999195279823,0.19586192453391038,0.2152076253393881,0.2317103248693539,0.24458792842044305,0.25311832399967577,0.2566762997375786,0.25477004091850136,0.24707500803079696,0.23346296309158113,0.21402402107025095,0.1890798565922851,0.15918658398472915,0.12512633286074154,0.0878871354792479,0.04863139306208121,0.008653858363151095,-0.03066927919323432,-0.06793803188546253,-0.10179031338845618,-0.13096468174943518,-0.1543609103022869,-0.17109514979541934,-0.18054660691367944,-0.18239300622958532,-0.17663261032673944,-0.163591222139663,-0.14391335124448024],[-0.13481430178982187,-0.15710321083861073,-0.17287351607260817,-0.18131560690315682,-0.18194839266053625,-0.17463748569481502,-0.15959621882048483,-0.13736985507049018,-0.10880422217787396,-0.0750007897964791,-0.03726086233570953,0.0029779491154211806,0.044209509361482956,0.08492762656935865,0.12369173187889267,0.15918658398472915,0.1902732638436695,0.21602931256266372,0.23577655069724138,0.24909585663212155,0.25582893038458626,0.2560677827399544,0.25013332713993036,0.23854497801642713,0.22198354690007724,0.20124995852555586,0.1772223753881244,0.15081422331281308,0.12293536517635703,0.09445829662141196,0.0661907655654817,0.03885568116655977,0.013078615468659323,-0.010617349295218181,-0.03181017613329085,-0.050171999808914604,-0.06545830501430487,-0.07749482277960204,-0.08616386191642225,-0.09139170665445415,-0.09313849939964196,-0.09139170665445415,-0.08616386191642225,-0.07749482277960204,-0.06545830501430487,-0.050171999808914604,-0.03181017613329085,-0.010617349295218181,0.013078615468659323,0.03885568116655977,0.0661907655654817,0.09445829662141196,0.12293536517635703,0.15081422331281308,0.1772223753881244,0.20124995852555586,0.22198354690007724,0.23854497801642713,0.25013332713993036,0.2560677827399544,0.25582893038458626,0.24909585663212155,0.23577655069724138,0.21602931256266372,0.1902732638436695,0.15918658398472915,0.12369173187889267,0.08492762656935865,0.044209509361482956,0.0029779491154211806,-0.03726086233570953,-0.0750007897964791,-0.10880422217787396,-0.13736985507049018,-0.15959621882048483,-0.17463748569481502,-0.18194839266053625,-0.18131560690315682,-0.17287351607260817,-0.15710321083861073],[-0.1487375524385824,-0.16751643729146143,-0.17903560277058095,-0.1826358700412797,-0.17801860199902664,-0.16525654180237792,-0.14478624788034108,-0.11738288358628372,-0.08411903827788304,-0.046310064114579955,-0.005449066140771361,0.03686485131708162,0.07900122348247962,0.11937185506223688,0.15649972810645998,0.1890798565922851,0.21602931256266372,0.2365243422174828,0.25002327766855664,0.2562747828163765,0.2553118000893658,0.24743234013685533,0.23316893482082693,0.21324911772700825,0.18854967763954522,0.16004763127913005,0.12877087581897034,0.0957513146109,0.06198291759831892,0.02838670735216783,-0.004215913110515241,-0.03512071345143313,-0.06374895250625122,-0.08964697741323371,-0.11247819731414006,-0.132008995765264,-0.14809048863531396,-0.16063822727306362,-0.1696119802323752,-0.17499760171649797,-0.17679272260843765,-0.17499760171649797,-0.1696119802323752,-0.16063822727306362,-0.14809048863531396,-0.132008995765264,-0.11247819731414006,-0.08964697741323371,-0.06374895250625122,-0.03512071345143313,-0.004215913110515241,0.02838670735216783,0.06198291759831892,0.0957513146109,0.12877087581897034,0.16004763127913005,0.18854967763954522,0.21324911772700825,0.23316893482082693,0.24743234013685533,0.2553118000893658,0.2562747828163765,0.25002327766855664,0.2365243422174828,0.21602931256266372,0.1890798565922851,0.15649972810645998,0.11937185506223688,0.07900122348247962,0.03686485131708162,-0.005449066140771361,-0.046310064114579955,-0.08411903827788304,-0.11738288358628372,-0.14478624788034108,-0.16525654180237792,-0.17801860199902664,-0.1826358700412797,-0.17903560277058095,-0.16751643729146143],[-0.16021647158282734,-0.1751457556394694,-0.1821644169794075,-0.18078273088932142,-0.17090060569317098,-0.1528102839666787,-0.1271795169340972,-0.0950164022704569,-0.05761803324395176,-0.016505930263581485,0.026648129724923395,0.07010183827093616,0.11212338767979044,0.15106960365711752,0.18545724476618586,0.21402402107025095,0.23577655069724138,0.25002327766855664,0.25639126767027576,0.2548267267047997,0.2455799958764798,0.22917661128094333,0.2063767337439853,0.17812580971586786,0.14549969299473817,0.1096476200446325,0.07173638515428266,0.032898814044057145,-0.005810793613848673,-0.043452159632214875,-0.0792240541655952,-0.11247819731414006,-0.1427221428215067,-0.1696119802323752,-0.1929363397545002,-0.2125937105436689,-0.22856545626592412,-0.24088710992360066,-0.24962054293732017,-0.254829433326894,-0.2565601183892334,-0.254829433326894,-0.24962054293732017,-0.24088710992360066,-0.22856545626592412,-0.2125937105436689,-0.1929363397545002,-0.1696119802323752,-0.1427221428215067,-0.11247819731414006,-0.0792240541655952,-0.043452159632214875,-0.005810793613848673,0.032898814044057145,0.07173638515428266,0.1096476200446325,0.14549969299473817,0.17812580971586786,0.2063767337439853,0.22917661128094333,0.2455799958764798,0.2548267267047997,0.25639126767027576,0.25002327766855664,0.23577655069724138,0.21402402107025095,0.18545724476618586,0.15106960365711752,0.11212338767979044,0.07010183827093616,0.026648129724923395,-0.016505930263581485,-0.05761803324395176,-0.0950164022704569,-0.1271795169340972,-0.1528102839666787,-0.17090060569317098,-0.18078273088932142,-0.1821644169794075,-0.1751457556394694],[-0.16923416092386775,-0.1800597155006458,-0.18242166855756492,-0.1760159755489718,-0.1609539875623888,-0.13775630818181953,-0.10732612754693129,-0.07090368426500879,-0.030004497243790427,0.013655158230898757,0.058241427706856384,0.1018902143955224,0.14279404657238684,0.1792839709402817,0.20990234059772522,0.23346296309158113,0.24909585663212155,0.2562747828163765,0.2548267267047997,0.24492352037505036,0.2270567942100705,0.20199833430642128,0.17074867404778504,0.134477311926808,0.09445829662141196,0.05200503792795912,0.00840808631479302,-0.03512071345143313,-0.07749482277960204,-0.1177881852505473,-0.15525760655490364,-0.18935183535374994,-0.21970771693043264,-0.24613461781837798,-0.268589046149572,-0.28714197491104243,-0.30194177876754097,-0.31317589634427284,-0.3210343185560354,-0.32567778292945404,-0.32721314035298743,-0.32567778292945404,-0.3210343185560354,-0.31317589634427284,-0.30194177876754097,-0.28714197491104243,-0.268589046149572,-0.24613461781837798,-0.21970771693043264,-0.18935183535374994,-0.15525760655490364,-0.1177881852505473,-0.07749482277960204,-0.03512071345143313,0.00840808631479302,0.05200503792795912,0.09445829662141196,0.134477311926808,0.17074867404778504,0.20199833430642128,0.2270567942100705,0.24492352037505036,0.2548267267047997,0.2562747828163765,0.24909585663212155,0.23346296309158113,0.20990234059772522,0.1792839709402817,0.14279404657238684,0.1018902143955224,0.058241427706856384,0.013655158230898757,-0.030004497243790427,-0.07090368426500879,-0.10732612754693129,-0.13775630818181953,-0.1609539875623888,-0.1760159755489718,-0.18242166855756492,-0.1800597155006458],[-0.17584069010379264,-0.18239300622958532,-0.1800313728705813,-0.16865061331126227,-0.14858307017251748,-0.12058300781296416,-0.0857896329957062,-0.045670869380806056,-0.001951040868825416,0.043473546354522816,0.08862652853638416,0.13154597877649798,0.17037647050011584,0.20345392533496165,0.22937894091767205,0.24707500803079696,0.25582893038458626,0.2553118000893658,0.2455799958764798,0.2270567942100705,0.20049625055173417,0.16693195814109418,0.12761407121954643,0.08393854575868848,0.037372873633869375,-0.010617349295218181,-0.05863687417657578,-0.10542055787501849,-0.14988136590815446,-0.19114437378651342,-0.22856545626592412,-0.2617343483375656,-0.29046275344788247,-0.31475910259630246,-0.33479237619194996,-0.35084804028714445,-0.3632795822101567,-0.37245933283868765,-0.3787322233669178,-0.382375848005458,-0.3835697098652554,-0.382375848005458,-0.3787322233669178,-0.37245933283868765,-0.3632795822101567,-0.35084804028714445,-0.33479237619194996,-0.31475910259630246,-0.29046275344788247,-0.2617343483375656,-0.22856545626592412,-0.19114437378651342,-0.14988136590815446,-0.10542055787501849,-0.05863687417657578,-0.010617349295218181,0.037372873633869375,0.08393854575868848,0.12761407121954643,0.16693195814109418,0.20049625055173417,0.2270567942100705,0.2455799958764798,0.2553118000893658,0.25582893038458626,0.24707500803079696,0.22937894091767205,0.20345392533496165,0.17037647050011584,0.13154597877649798,0.08862652853638416,0.043473546354522816,-0.001951040868825416,-0.045670869380806056,-0.0857896329957062,-0.12058300781296416,-0.14858307017251748,-0.16865061331126227,-0.1800313728705813,-0.18239300622958532],[-0.1801446545297837,-0.18233559039097344,-0.1752665961050691,-0.15904136091487175,-0.13421936300715656,-0.10179031338845618,-0.0631265026963309,-0.019915691575644292,0.025921773001301992,0.07232710218505171,0.11720338291232232,0.15851669454452746,0.1943926655354523,0.2232034254780841,0.24364050109720906,0.25477004091850136,0.2560677827399544,0.24743234013685533,0.22917661128094333,0.20199833430642128,0.16693195814109418,0.12528500092613942,0.07856287339249271,0.02838670735216783,-0.02359098016854476,-0.0757679524450742,-0.12666669235949252,-0.17499760171649797,-0.21970771693043264,-0.26001264723920775,-0.29541051237375787,-0.32567778292945404,-0.35084804028714445,-0.37117570680030565,-0.38708768931988075,-0.3991265770886398,-0.407889497747319,-0.41396693622794944,-0.417885750201407,-0.4200602785751461,-0.4207548585159486,-0.4200602785751461,-0.417885750201407,-0.41396693622794944,-0.407889497747319,-0.3991265770886398,-0.38708768931988075,-0.37117570680030565,-0.35084804028714445,-0.32567778292945404,-0.29541051237375787,-0.26001264723920775,-0.21970771693043264,-0.17499760171649797,-0.12666669235949252,-0.0757679524450742,-0.02359098016854476,0.02838670735216783,0.07856287339249271,0.12528500092613942,0.16693195814109418,0.20199833430642128,0.22917661128094333,0.24743234013685533,0.2560677827399544,0.25477004091850136,0.24364050109720906,0.2232034254780841,0.1943926655354523,0.15851669454452746,0.11720338291232232,0.07232710218505171,0.025921773001301992,-0.019915691575644292,-0.0631265026963309,-0.10179031338845618,-0.13421936300715656,-0.15904136091487175,-0.1752665961050691,-0.18233559039097344],[-0.18230376872794093,-0.18012123502583363,-0.16843605361995675,-0.14756752732225356,-0.11830504740258321,-0.08187218787401292,-0.039868134180728126,0.0058103924762656495,0.05306249567952219,0.09968670899986165,0.14348926836260514,0.18239124981424537,0.2145288714461612,0.2383416766936446,0.25264402764959015,0.2566762997375786,0.25013332713993036,0.23316893482082693,0.2063767337439853,0.17074867404778504,0.12761407121954643,0.07856287339249271,0.02535776443828009,-0.030159748399708135,-0.08616386191642225,-0.1409342819269669,-0.1929363397545002,-0.24088710992360066,-0.2838041182964338,-0.3210343185560354,-0.35226222727992795,-0.37749737145928347,-0.3970424421347404,-0.41144469052055266,-0.42143408131469146,-0.42785247459104203,-0.43157859884674826,-0.4334537754581445,-0.434213248547002,-0.43442757176285574,-0.43445783007337646,-0.43442757176285574,-0.434213248547002,-0.4334537754581445,-0.43157859884674826,-0.42785247459104203,-0.42143408131469146,-0.41144469052055266,-0.3970424421347404,-0.37749737145928347,-0.35226222727992795,-0.3210343185560354,-0.2838041182964338,-0.24088710992360066,-0.1929363397545002,-0.1409342819269669,-0.08616386191642225,-0.030159748399708135,0.02535776443828009,0.07856287339249271,0.12761407121954643,0.17074867404778504,0.2063767337439853,0.23316893482082693,0.25013332713993036,0.2566762997375786,0.25264402764959015,0.2383416766936446,0.2145288714461612,0.18239124981424537,0.14348926836260514,0.09968670899986165,0.05306249567952219,0.0058103924762656495,-0.039868134180728126,-0.08187218787401292,-0.11830504740258321,-0.14756752732225356,-0.16843605361995675,-0.18012123502583363],[-0.18251498442862385,-0.1760159755489718,-0.15987112992755653,-0.13461888616197776,-0.10127808535368477,-0.061301442485772274,-0.016505930263581485,0.031016232090896562,0.07900122348247962,0.12512633286074154,0.16712567793535366,0.20290271423033404,0.23063350923189954,0.24885528388828942,0.25653555744366946,0.25311832399967577,0.23854497801642713,0.21324911772700825,0.17812580971586786,0.134477311926808,0.08393854575868848,0.02838670735216783,-0.030159748399708135,-0.08964697741323371,-0.14809048863531396,-0.2036729142303004,-0.254829433326894,-0.3003162506586467,-0.3392585664190622,-0.37117570680030565,-0.39598244357893553,-0.41396693622794944,-0.42574709936268906,-0.43220845214435083,-0.43442757176285574,-0.4335860886421158,-0.4308806796227811,-0.4274347075936389,-0.42421701152445723,-0.42197287899622543,-0.421171462695804,-0.42197287899622543,-0.42421701152445723,-0.4274347075936389,-0.4308806796227811,-0.4335860886421158,-0.43442757176285574,-0.43220845214435083,-0.42574709936268906,-0.41396693622794944,-0.39598244357893553,-0.37117570680030565,-0.3392585664190622,-0.3003162506586467,-0.254829433326894,-0.2036729142303004,-0.14809048863531396,-0.08964697741323371,-0.030159748399708135,0.02838670735216783,0.08393854575868848,0.134477311926808,0.17812580971586786,0.21324911772700825,0.23854497801642713,0.25311832399967577,0.25653555744366946,0.24885528388828942,0.23063350923189954,0.20290271423033404,0.16712567793535366,0.12512633286074154,0.07900122348247962,0.031016232090896562,-0.016505930263581485,-0.061301442485772274,-0.10127808535368477,-0.13461888616197776,-0.15987112992755653,-0.1760159755489718],[-0.18100457917857166,-0.17030698199702413,-0.1499137997580331,-0.12058300781296416,-0.08355939645450051,-0.040517266401149735,0.0065202421682302655,0.05528095770522729,0.10335731863015635,0.14832776112580212,0.18787932061729182,0.21992483146863692,0.242708395806646,0.254893432701845,0.25562857790064414,0.24458792842044305,0.22198354690007724,0.18854967763954522,0.14549969299473817,0.09445829662141196,0.037372873633869375,-0.02359098016854476,-0.08616386191642225,-0.14809048863531396,-0.20724458052139974,-0.2617343483375656,-0.309992807249447,-0.35084804028714445,-0.3835697098652554,-0.407889497747319,-0.42399466300627076,-0.43249545715781157,-0.43436863670247905,-0.4308806796227811,-0.42349546556438716,-0.4137720534188708,-0.40325873487122593,-0.39338972722403176,-0.3853906832849483,-0.3801986514917913,-0.3784012476539641,-0.3801986514917913,-0.3853906832849483,-0.39338972722403176,-0.40325873487122593,-0.4137720534188708,-0.42349546556438716,-0.4308806796227811,-0.43436863670247905,-0.43249545715781157,-0.42399466300627076,-0.407889497747319,-0.3835697098652554,-0.35084804028714445,-0.309992807249447,-0.2617343483375656,-0.20724458052139974,-0.14809048863531396,-0.08616386191642225,-0.02359098016854476,0.037372873633869375,0.09445829662141196,0.14549969299473817,0.18854967763954522,0.22198354690007724,0.24458792842044305,0.25562857790064414,0.254893432701845,0.242708395806646,0.21992483146863692,0.18787932061729182,0.14832776112580212,0.10335731863015635,0.05528095770522729,0.0065202421682302655,-0.040517266401149735,-0.08355939645450051,-0.12058300781296416,-0.1499137997580331,-0.17030698199702413],[-0.17801860199902664,-0.16329221750830802,-0.13890582780165694,-0.10583439818051152,-0.06554239869174844,-0.019915691575644292,0.02883009042098063,0.07825990831739421,0.1258425822940911,0.16908036038891633,0.20563779959612533,0.23346296309158113,0.2508943222213973,0.25674750760048576,0.25037713957121355,0.2317103248693539,0.20124995852555586,0.16004763127913005,0.1096476200446325,0.05200503792795912,-0.010617349295218181,-0.0757679524450742,-0.1409342819269669,-0.2036729142303004,-0.2617343483375656,-0.31317589634427284,-0.3564564355250057,-0.3905078789395116,-0.4147795406040892,-0.42925310491460716,-0.43442757176285574,-0.4312752446188071,-0.421171462695804,-0.40580225753498556,-0.38705535500366767,-0.36690087535799776,-0.3472686537517362,-0.32992927901128904,-0.3163857196862348,-0.3077817863653888,-0.30483270332925,-0.3077817863653888,-0.3163857196862348,-0.32992927901128904,-0.3472686537517362,-0.36690087535799776,-0.38705535500366767,-0.40580225753498556,-0.421171462695804,-0.4312752446188071,-0.43442757176285574,-0.42925310491460716,-0.4147795406040892,-0.3905078789395116,-0.3564564355250057,-0.31317589634427284,-0.2617343483375656,-0.2036729142303004,-0.1409342819269669,-0.0757679524450742,-0.010617349295218181,0.05200503792795912,0.1096476200446325,0.16004763127913005,0.20124995852555586,0.2317103248693539,0.25037713957121355,0.25674750760048576,0.2508943222213973,0.23346296309158113,0.20563779959612533,0.16908036038891633,0.1258425822940911,0.07825990831739421,0.02883009042098063,-0.019915691575644292,-0.06554239869174844,-0.10583439818051152,-0.13890582780165694,-0.16329221750830802],[-0.1738139924448547,-0.15527119023634722,-0.1271795169340972,-0.0907256642328181,-0.04758506314163741,0.0001569493213448689,0.05010748884225075,0.09968670899986165,0.14626024334832619,0.18727640924644018,0.22040074178662336,0.24364050109720906,0.2554522819126627,0.2548267267047997,0.2413455569066888,0.2152076253393881,0.1772223753881244,0.12877087581897034,0.07173638515428266,0.00840808631479302,-0.05863687417657578,-0.12666669235949252,-0.1929363397545002,-0.254829433326894,-0.309992807249447,-0.3564564355250057,-0.39273214882544505,-0.417885750201407,-0.43157859884674826,-0.434076417833265,-0.42622489689420734,-0.4093935036702951,-0.3853906832849483,-0.35635521764627226,-0.324629843053556,-0.29262421276448536,-0.2626748843273063,-0.23691017597600564,-0.21712746254366178,-0.20468978410715197,-0.20044755867978276,-0.20468978410715197,-0.21712746254366178,-0.23691017597600564,-0.2626748843273063,-0.29262421276448536,-0.324629843053556,-0.35635521764627226,-0.3853906832849483,-0.4093935036702951,-0.42622489689420734,-0.434076417833265,-0.43157859884674826,-0.417885750201407,-0.39273214882544505,-0.3564564355250057,-0.309992807249447,-0.254829433326894,-0.1929363397545002,-0.12666669235949252,-0.05863687417657578,0.00840808631479302,0.07173638515428266,0.12877087581897034,0.1772223753881244,0.2152076253393881,0.2413455569066888,0.2548267267047997,0.2554522819126627,0.24364050109720906,0.22040074178662336,0.18727640924644018,0.14626024334832619,0.09968670899986165,0.05010748884225075,0.0001569493213448689,-0.04758506314163741,-0.0907256642328181,-0.1271795169340972,-0.15527119023634722],[-0.16865061331126227,-0.14653700801271363,-0.11505016730310495,-0.07558080422426758,-0.030004497243790427,0.019407660252202565,0.07010183827093616,0.11937185506223688,0.16450028494360933,0.20290271423033404,0.23226729318028777,0.2506818889186662,0.2567417315441088,0.24963143467045815,0.22917661128094333,0.19586192453391038,0.15081422331281308,0.0957513146109,0.032898814044057145,-0.03512071345143313,-0.10542055787501849,-0.17499760171649797,-0.24088710992360066,-0.3003162506586467,-0.35084804028714445,-0.3905078789395116,-0.417885750201407,-0.43220845214435083,-0.4333778373354074,-0.42197287899622543,-0.39921534828629784,-0.36690087535799776,-0.3272990644317678,-0.28302803533990717,-0.23691017597600564,-0.19181693290541052,-0.15051108239111077,-0.11549507625799743,-0.08887373699192957,-0.0722388011028484,-0.06658162124929747,-0.0722388011028484,-0.08887373699192957,-0.11549507625799743,-0.15051108239111077,-0.19181693290541052,-0.23691017597600564,-0.28302803533990717,-0.3272990644317678,-0.36690087535799776,-0.39921534828629784,-0.42197287899622543,-0.4333778373354074,-0.43220845214435083,-0.417885750201407,-0.3905078789395116,-0.35084804028714445,-0.3003162506586467,-0.24088710992360066,-0.17499760171649797,-0.10542055787501849,-0.03512071345143313,0.032898814044057145,0.0957513146109,0.15081422331281308,0.19586192453391038,0.22917661128094333,0.24963143467045815,0.2567417315441088,0.2506818889186662,0.23226729318028777,0.20290271423033404,0.16450028494360933,0.11937185506223688,0.07010183827093616,0.019407660252202565,-0.030004497243790427,-0.07558080422426758,-0.11505016730310495,-0.14653700801271363],[-0.16278435980926842,-0.13736985507049018,-0.10281030706494562,-0.060690608986011814,-0.013073952151520388,0.03759772656874239,0.08862652853638416,0.13719827990417027,0.18053174205108255,0.21602931256266372,0.24142096714711753,0.254893432701845,0.25519727019112654,0.24172565029557566,0.21456006847846779,0.17447999195279823,0.12293536517635703,0.06198291759831892,-0.005810793613848673,-0.07749482277960204,-0.14988136590815446,-0.21970771693043264,-0.2838041182964338,-0.3392585664190622,-0.3835697098652554,-0.4147795406040892,-0.43157859884674826,-0.4333778373354074,-0.4203430458705095,-0.39338972722403176,-0.3541384336243295,-0.30483270332925,-0.24822376277499153,-0.187427969950852,-0.1257644689695074,-0.06658162124929747,-0.0130814139378774,0.03184881503912622,0.0657883626364726,0.08691073780520595,0.0940800053732448,0.08691073780520595,0.0657883626364726,0.03184881503912622,-0.0130814139378774,-0.06658162124929747,-0.1257644689695074,-0.187427969950852,-0.24822376277499153,-0.30483270332925,-0.3541384336243295,-0.39338972722403176,-0.4203430458705095,-0.4333778373354074,-0.43157859884674826,-0.4147795406040892,-0.3835697098652554,-0.3392585664190622,-0.2838041182964338,-0.21970771693043264,-0.14988136590815446,-0.07749482277960204,-0.005810793613848673,0.06198291759831892,0.12293536517635703,0.17447999195279823,0.21456006847846779,0.24172565029557566,0.25519727019112654,0.254893432701845,0.24142096714711753,0.21602931256266372,0.18053174205108255,0.13719827990417027,0.08862652853638416,0.03759772656874239,-0.013073952151520388,-0.060690608986011814,-0.10281030706494562,-0.13736985507049018],[-0.15646143337355978,-0.12803192632998142,-0.0907256642328181,-0.046310064114579955,0.0029779491154211806,0.054541276561040686,0.10555493165712146,0.15311446345017118,0.1943926655354523,0.22679610352037188,0.24811283911536614,0.2566430509401283,0.25130504004127213,0.2317103248693539,0.19820311451195688,0.15186131748507978,0.09445829662141196,0.02838670735216783,-0.043452159632214875,-0.1177881852505473,-0.19114437378651342,-0.26001264723920775,-0.3210343185560354,-0.37117570680030565,-0.407889497747319,-0.42925310491460716,-0.434076417833265,-0.42197287899622543,-0.39338972722403176,-0.3495953826561967,-0.29262421276448536,-0.22518118755916025,-0.15051108239111077,-0.0722388011028484,0.005811034304373925,0.07980593576993696,0.14609889758077332,0.20141317105264114,0.24300880867803662,0.2688222513075441,0.277571630583514,0.2688222513075441,0.24300880867803662,0.20141317105264114,0.14609889758077332,0.07980593576993696,0.005811034304373925,-0.0722388011028484,-0.15051108239111077,-0.22518118755916025,-0.29262421276448536,-0.3495953826561967,-0.39338972722403176,-0.42197287899622543,-0.434076417833265,-0.42925310491460716,-0.407889497747319,-0.37117570680030565,-0.3210343185560354,-0.26001264723920775,-0.19114437378651342,-0.1177881852505473,-0.043452159632214875,0.02838670735216783,0.09445829662141196,0.15186131748507978,0.19820311451195688,0.2317103248693539,0.25130504004127213,0.2566430509401283,0.24811283911536614,0.22679610352037188,0.1943926655354523,0.15311446345017118,0.10555493165712146,0.054541276561040686,0.0029779491154211806,-0.046310064114579955,-0.0907256642328181,-0.12803192632998142],[-0.1499137997580331,-0.11876378051842666,-0.07903277128303789,-0.032657564269347995,0.017966041941118966,0.07010183827093616,0.12081441070397907,0.16712567793535366,0.2061784643801796,0.23539823538075702,0.25264402764959015,0.2563400102730029,0.2455799958764798,0.22019854657881394,0.18080401871815463,0.12877087581897034,0.0661907655654817,-0.004215913110515241,-0.0792240541655952,-0.15525760655490364,-0.22856545626592412,-0.29541051237375787,-0.35226222727992795,-0.39598244357893553,-0.42399466300627076,-0.43442757176285574,-0.42622489689420734,-0.39921534828629784,-0.3541384336243295,-0.29262421276448536,-0.21712746254366178,-0.13081912452072303,-0.03744017720227128,0.05887491198907235,0.1537963512162099,0.24300880867803662,0.32242214992953067,0.38837235101706136,0.4378022692207818,0.4684129583840573,0.47877771528316526,0.4684129583840573,0.4378022692207818,0.38837235101706136,0.32242214992953067,0.24300880867803662,0.1537963512162099,0.05887491198907235,-0.03744017720227128,-0.13081912452072303,-0.21712746254366178,-0.29262421276448536,-0.3541384336243295,-0.39921534828629784,-0.42622489689420734,-0.43442757176285574,-0.42399466300627076,-0.39598244357893553,-0.35226222727992795,-0.29541051237375787,-0.22856545626592412,-0.15525760655490364,-0.0792240541655952,-0.004215913110515241,0.0661907655654817,0.12877087581897034,0.18080401871815463,0.22019854657881394,0.2455799958764798,0.2563400102730029,0.25264402764959015,0.23539823538075702,0.2061784643801796,0.16712567793535366,0.12081441070397907,0.07010183827093616,0.017966041941118966,-0.032657564269347995,-0.07903277128303789,-0.11876378051842666],[-0.14335579129849668,-0.10978201113265723,-0.06793803188546253,-0.019915691575644292,0.031745840459068614,0.08418731130237875,0.13437885433763305,0.1792839709402817,0.21602931256266372,0.2420710146043941,0.255348298963932,0.25441554164532254,0.23854497801642713,0.20779364608280457,0.1630299764243758,0.10591753298818528,0.03885568116655977,-0.03512071345143313,-0.11247819731414006,-0.18935183535374994,-0.2617343483375656,-0.32567778292945404,-0.37749737145928347,-0.41396693622794944,-0.43249545715781157,-0.4312752446188071,-0.4093935036702951,-0.36690087535799776,-0.30483270332925,-0.22518118755916025,-0.13081912452072303,-0.025378460035175753,0.08691073780520595,0.20141317105264114,0.3133036361206578,0.4177941096414197,0.5103612401471838,0.5869627944413911,0.6442321103834694,0.6796406846183429,0.69162061945593,0.6796406846183429,0.6442321103834694,0.5869627944413911,0.5103612401471838,0.4177941096414197,0.3133036361206578,0.20141317105264114,0.08691073780520595,-0.025378460035175753,-0.13081912452072303,-0.22518118755916025,-0.30483270332925,-0.36690087535799776,-0.4093935036702951,-0.4312752446188071,-0.43249545715781157,-0.41396693622794944,-0.37749737145928347,-0.32567778292945404,-0.2617343483375656,-0.18935183535374994,-0.11247819731414006,-0.03512071345143313,0.03885568116655977,0.10591753298818528,0.1630299764243758,0.20779364608280457,0.23854497801642713,0.25441554164532254,0.255348298963932,0.2420710146043941,0.21602931256266372,0.1792839709402817,0.13437885433763305,0.08418731130237875,0.031745840459068614,-0.019915691575644292,-0.06793803188546253,-0.10978201113265723],[-0.13698176393514344,-0.10127808535368477,-0.05761803324395176,-0.00823327044894154,0.044209509361482956,0.09674378883254962,0.14626024334832619,0.18967745729212915,0.22411724822563847,0.24707500803079696,0.256575492104657,0.25130504004127213,0.23071227369415245,0.19507084218595108,0.14549969299473817,0.08393854575868848,0.013078615468659323,-0.06374895250625122,-0.1427221428215067,-0.21970771693043264,-0.29046275344788247,-0.35084804028714445,-0.3970424421347404,-0.42574709936268906,-0.43436863670247905,-0.421171462695804,-0.3853906832849483,-0.3272990644317678,-0.24822376277499153,-0.15051108239111077,-0.03744017720227128,0.08691073780520595,0.21783961811686398,0.35022902170777614,0.47877771528316526,0.5982441516081277,0.7036898157513979,0.7907103570985019,0.8556429685382863,0.8957396184216221,0.9092974268256817,0.8957396184216221,0.8556429685382863,0.7907103570985019,0.7036898157513979,0.5982441516081277,0.47877771528316526,0.35022902170777614,0.21783961811686398,0.08691073780520595,-0.03744017720227128,-0.15051108239111077,-0.24822376277499153,-0.3272990644317678,-0.3853906832849483,-0.421171462695804,-0.43436863670247905,-0.42574709936268906,-0.3970424421347404,-0.35084804028714445,-0.29046275344788247,-0.21970771693043264,-0.1427221428215067,-0.06374895250625122,0.013078615468659323,0.08393854575868848,0.14549969299473817,0.19507084218595108,0.23071227369415245,0.25130504004127213,0.256575492104657,0.24707500803079696,0.22411724822563847,0.18967745729212915,0.14626024334832619,0.09674378883254962,0.044209509361482956,-0.00823327044894154,-0.05761803324395176,-0.10127808535368477],[-0.13096468174943518,-0.09341816596346665,-0.04822085787410071,0.0022716100207446164,0.05528095770522729,0.10774865812501504,0.15649972810645998,0.19841943861188654,0.23063350923189954,0.2506818889186662,0.2566762997375786,0.24743234013685533,0.2225680860000738,0.18256273925541686,0.12877087581897034,0.06339013493636744,-0.010617349295218181,-0.08964697741323371,-0.1696119802323752,-0.24613461781837798,-0.31475910259630246,-0.37117570680030565,-0.41144469052055266,-0.43220845214435083,-0.4308806796227811,-0.40580225753498556,-0.35635521764627226,-0.28302803533990717,-0.187427969950852,-0.0722388011028484,0.05887491198907235,0.20141317105264114,0.35022902170777614,0.49975144871271493,0.6442321103834694,0.7780040258931075,0.8957396184216221,0.992695449836068,1.0649315658049785,1.1094945766040856,1.124555367855928,1.1094945766040856,1.0649315658049785,0.992695449836068,0.8957396184216221,0.7780040258931075,0.6442321103834694,0.49975144871271493,0.35022902170777614,0.20141317105264114,0.05887491198907235,-0.0722388011028484,-0.187427969950852,-0.28302803533990717,-0.35635521764627226,-0.40580225753498556,-0.4308806796227811,-0.43220845214435083,-0.41144469052055266,-0.37117570680030565,-0.31475910259630246,-0.24613461781837798,-0.1696119802323752,-0.08964697741323371,-0.010617349295218181,0.06339013493636744,0.12877087581897034,0.18256273925541686,0.2225680860000738,0.24743234013685533,0.2566762997375786,0.2506818889186662,0.23063350923189954,0.19841943861188654,0.15649972810645998,0.10774865812501504,0.05528095770522729,0.0022716100207446164,-0.04822085787410071,-0.09341816596346665],[-0.1254554756233313,-0.08634370978474622,-0.039868134180728126,0.011507919583092052,0.0649104168254659,0.11720338291232232,0.16515865057394133,0.20563779959612533,0.23577655069724138,0.2531614457800734,0.2559887694405144,0.2431963471432226,0.21456006847846779,0.17074867404778504,0.11333242903336226,0.044743679368913644,-0.03181017613329085,-0.11247819731414006,-0.1929363397545002,-0.268589046149572,-0.33479237619194996,-0.38708768931988075,-0.42143408131469146,-0.43442757176285574,-0.42349546556438716,-0.38705535500366767,-0.324629843053556,-0.23691017597600564,-0.1257644689695074,0.005811034304373925,0.1537963512162099,0.3133036361206578,0.47877771528316526,0.6442321103834694,0.803509484779075,0.9505541014891831,1.0796831610910465,1.1858438330909473,1.2648434125627805,1.3135412961886945,1.3299933154720727,1.3135412961886945,1.2648434125627805,1.1858438330909473,1.0796831610910465,0.9505541014891831,0.803509484779075,0.6442321103834694,0.47877771528316526,0.3133036361206578,0.1537963512162099,0.005811034304373925,-0.1257644689695074,-0.23691017597600564,-0.324629843053556,-0.38705535500366767,-0.42349546556438716,-0.43442757176285574,-0.42143408131469146,-0.38708768931988075,-0.33479237619194996,-0.268589046149572,-0.1929363397545002,-0.11247819731414006,-0.03181017613329085,0.044743679368913644,0.11333242903336226,0.17074867404778504,0.21456006847846779,0.2431963471432226,0.2559887694405144,0.2531614457800734,0.23577655069724138,0.20563779959612533,0.16515865057394133,0.11720338291232232,0.0649104168254659,0.011507919583092052,-0.039868134180728126,-0.08634370978474622],[-0.12058300781296416,-0.08017262722723162,-0.032657564269347995,0.019407660252202565,0.07306884206017318,0.12512633286074154,0.17230988766358785,0.21146505144444128,0.23974108638511749,0.25477004091850136,0.2548267267047997,0.23896010343988033,0.2070878465419809,0.16004763127913005,0.09960082298540655,0.02838670735216783,-0.050171999808914604,-0.132008995765264,-0.2125937105436689,-0.28714197491104243,-0.35084804028714445,-0.3991265770886398,-0.42785247459104203,-0.4335860886421158,-0.4137720534188708,-0.36690087535799776,-0.29262421276448536,-0.19181693290541052,-0.06658162124929747,0.07980593576993696,0.24300880867803662,0.4177941096414197,0.5982441516081277,0.7780040258931075,0.9505541014891831,1.1094945766040856,1.2488284837498442,1.3632295064019535,1.4482816142111579,1.500678835049543,1.518375390968938,1.500678835049543,1.4482816142111579,1.3632295064019535,1.2488284837498442,1.1094945766040856,0.9505541014891831,0.7780040258931075,0.5982441516081277,0.4177941096414197,0.24300880867803662,0.07980593576993696,-0.06658162124929747,-0.19181693290541052,-0.29262421276448536,-0.36690087535799776,-0.4137720534188708,-0.4335860886421158,-0.42785247459104203,-0.3991265770886398,-0.35084804028714445,-0.28714197491104243,-0.2125937105436689,-0.132008995765264,-0.050171999808914604,0.02838670735216783,0.09960082298540655,0.16004763127913005,0.2070878465419809,0.23896010343988033,0.2548267267047997,0.25477004091850136,0.23974108638511749,0.21146505144444128,0.17230988766358785,0.12512633286074154,0.07306884206017318,0.019407660252202565,-0.032657564269347995,-0.08017262722723162],[-0.1164544699167505,-0.0750007897964791,-0.026665677985416577,0.025921773001301992,0.07974244535617742,0.13154597877649798,0.17802983029511174,0.21602931256266372,0.242708395806646,0.2557406839380664,0.25347017586536014,0.23504220166614895,0.20049625055173417,0.15081422331281308,0.08791985781076668,0.014627580006334946,-0.06545830501430487,-0.14809048863531396,-0.22856545626592412,-0.30194177876754097,-0.3632795822101567,-0.407889497747319,-0.43157859884674826,-0.4308806796227811,-0.40325873487122593,-0.3472686537517362,-0.2626748843273063,-0.15051108239111077,-0.0130814139378774,0.14609889758077332,0.32242214992953067,0.5103612401471838,0.7036898157513979,0.8957396184216221,1.0796831610910465,1.2488284837498442,1.3969119972732167,1.518375390968938,1.608613254431116,1.6641794167481594,1.682941969615793,1.6641794167481594,1.608613254431116,1.518375390968938,1.3969119972732167,1.2488284837498442,1.0796831610910465,0.8957396184216221,0.7036898157513979,0.5103612401471838,0.32242214992953067,0.14609889758077332,-0.0130814139378774,-0.15051108239111077,-0.2626748843273063,-0.3472686537517362,-0.40325873487122593,-0.4308806796227811,-0.43157859884674826,-0.407889497747319,-0.3632795822101567,-0.30194177876754097,-0.22856545626592412,-0.14809048863531396,-0.06545830501430487,0.014627580006334946,0.08791985781076668,0.15081422331281308,0.20049625055173417,0.23504220166614895,0.25347017586536014,0.2557406839380664,0.242708395806646,0.21602931256266372,0.17802983029511174,0.13154597877649798,0.07974244535617742,0.025921773001301992,-0.026665677985416577,-0.0750007897964791],[-0.1131560467581887,-0.07090368426500879,-0.021950582012676394,0.031016232090896562,0.08492762656935865,0.13649472168344115,0.18239124981424537,0.21944644111666822,0.24483804991090946,0.2562747828163765,0.252157618714697,0.2317103248693539,0.19507084218595108,0.1433370736825879,0.07856287339249271,0.0037025838949493145,-0.07749482277960204,-0.16063822727306362,-0.24088710992360066,-0.31317589634427284,-0.37245933283868765,-0.41396693622794944,-0.4334537754581445,-0.4274347075936389,-0.39338972722403176,-0.32992927901128904,-0.23691017597600564,-0.11549507625799743,0.03184881503912622,0.20141317105264114,0.38837235101706136,0.5869627944413911,0.7907103570985019,0.992695449836068,1.1858438330909473,1.3632295064019535,1.518375390968938,1.6455374774968983,1.7399588071171015,1.7980810383563555,1.8177033600622243,1.7980810383563555,1.7399588071171015,1.6455374774968983,1.518375390968938,1.3632295064019535,1.1858438330909473,0.992695449836068,0.7907103570985019,0.5869627944413911,0.38837235101706136,0.20141317105264114,0.03184881503912622,-0.11549507625799743,-0.23691017597600564,-0.32992927901128904,-0.39338972722403176,-0.4274347075936389,-0.4334537754581445,-0.41396693622794944,-0.37245933283868765,-0.31317589634427284,-0.24088710992360066,-0.16063822727306362,-0.07749482277960204,0.0037025838949493145,0.07856287339249271,0.1433370736825879,0.19507084218595108,0.2317103248693539,0.252157618714697,0.2562747828163765,0.24483804991090946,0.21944644111666822,0.18239124981424537,0.13649472168344115,0.08492762656935865,0.031016232090896562,-0.021950582012676394,-0.07090368426500879],[-0.1107536917561867,-0.06793803188546253,-0.01855449981019833,0.03466854669458865,0.08862652853638416,0.14000357308347133,0.18545724476618586,0.22181346801290225,0.24626113579560338,0.25653555744366946,0.25108014921898075,0.22917661128094333,0.19103523332295086,0.13783886506830845,0.07173638515428266,-0.004215913110515241,-0.08616386191642225,-0.1696119802323752,-0.24962054293732017,-0.3210343185560354,-0.3787322233669178,-0.417885750201407,-0.434213248547002,-0.42421701152445723,-0.3853906832849483,-0.3163857196862348,-0.21712746254366178,-0.08887373699192957,0.0657883626364726,0.24300880867803662,0.4378022692207818,0.6442321103834694,0.8556429685382863,1.0649315658049785,1.2648434125627805,1.4482816142111579,1.608613254431116,1.7399588071171015,1.8374507397311368,1.8974488797623419,1.917702154416812,1.8974488797623419,1.8374507397311368,1.7399588071171015,1.608613254431116,1.4482816142111579,1.2648434125627805,1.0649315658049785,0.8556429685382863,0.6442321103834694,0.4378022692207818,0.24300880867803662,0.0657883626364726,-0.08887373699192957,-0.21712746254366178,-0.3163857196862348,-0.3853906832849483,-0.42421701152445723,-0.434213248547002,-0.417885750201407,-0.3787322233669178,-0.3210343185560354,-0.24962054293732017,-0.1696119802323752,-0.08616386191642225,-0.004215913110515241,0.07173638515428266,0.13783886506830845,0.19103523332295086,0.22917661128094333,0.25108014921898075,0.25653555744366946,0.24626113579560338,0.22181346801290225,0.18545724476618586,0.14000357308347133,0.08862652853638416,0.03466854669458865,-0.01855449981019833,-0.06793803188546253],[-0.10929387900894774,-0.06614321685638791,-0.016505930263581485,0.03686485131708162,0.09084339726921295,0.14209785531573388,0.18727640924644018,0.2232034254780841,0.24707500803079696,0.2566430509401283,0.25037713957121355,0.22759450814784551,0.18854967763954522,0.134477311926808,0.06758414818694233,-0.009011537058698997,-0.09139170665445415,-0.17499760171649797,-0.254829433326894,-0.32567778292945404,-0.382375848005458,-0.4200602785751461,-0.43442757176285574,-0.42197287899622543,-0.3801986514917913,-0.3077817863653888,-0.20468978410715197,-0.0722388011028484,0.08691073780520595,0.2688222513075441,0.4684129583840573,0.6796406846183429,0.8957396184216221,1.1094945766040856,1.3135412961886945,1.500678835049543,1.6641794167481594,1.7980810383563555,1.8974488797623419,1.9585929762944412,1.9792316740361835,1.9585929762944412,1.8974488797623419,1.7980810383563555,1.6641794167481594,1.500678835049543,1.3135412961886945,1.1094945766040856,0.8957396184216221,0.6796406846183429,0.4684129583840573,0.2688222513075441,0.08691073780520595,-0.0722388011028484,-0.20468978410715197,-0.3077817863653888,-0.3801986514917913,-0.42197287899622543,-0.43442757176285574,-0.4200602785751461,-0.382375848005458,-0.32567778292945404,-0.254829433326894,-0.17499760171649797,-0.09139170665445415,-0.009011537058698997,0.06758414818694233,0.134477311926808,0.18854967763954522,0.22759450814784551,0.25037713957121355,0.2566430509401283,0.24707500803079696,0.2232034254780841,0.18727640924644018,0.14209785531573388,0.09084339726921295,0.03686485131708162,-0.016505930263581485,-0.06614321685638791],[-0.10880422217787396,-0.06554239869174844,-0.015821288518275644,0.03759772656874239,0.09158188560927924,0.14279404657238684,0.18787932061729182,0.22366162672468853,0.24733956165584545,0.2566706526738519,0.25013332713993036,0.2270567942100705,0.18771045677679687,0.1333463922312941,0.0661907655654817,-0.010617349295218181,-0.09313849939964196,-0.17679272260843765,-0.2565601183892334,-0.32721314035298743,-0.3835697098652554,-0.4207548585159486,-0.43445783007337646,-0.421171462695804,-0.3784012476539641,-0.30483270332925,-0.20044755867978276,-0.06658162124929747,0.0940800053732448,0.277571630583514,0.47877771528316526,0.69162061945593,0.9092974268256817,1.124555367855928,1.3299933154720727,1.518375390968938,1.682941969615793,1.8177033600622243,1.917702154416812,1.9792316740361835,null,1.9792316740361835,1.917702154416812,1.8177033600622243,1.682941969615793,1.518375390968938,1.3299933154720727,1.124555367855928,0.9092974268256817,0.69162061945593,0.47877771528316526,0.277571630583514,0.0940800053732448,-0.06658162124929747,-0.20044755867978276,-0.30483270332925,-0.3784012476539641,-0.421171462695804,-0.43445783007337646,-0.4207548585159486,-0.3835697098652554,-0.32721314035298743,-0.2565601183892334,-0.17679272260843765,-0.09313849939964196,-0.010617349295218181,0.0661907655654817,0.1333463922312941,0.18771045677679687,0.2270567942100705,0.25013332713993036,0.2566706526738519,0.24733956165584545,0.22366162672468853,0.18787932061729182,0.14279404657238684,0.09158188560927924,0.03759772656874239,-0.015821288518275644,-0.06554239869174844],[-0.10929387900894774,-0.06614321685638791,-0.016505930263581485,0.03686485131708162,0.09084339726921295,0.14209785531573388,0.18727640924644018,0.2232034254780841,0.24707500803079696,0.2566430509401283,0.25037713957121355,0.22759450814784551,0.18854967763954522,0.134477311926808,0.06758414818694233,-0.009011537058698997,-0.09139170665445415,-0.17499760171649797,-0.254829433326894,-0.32567778292945404,-0.382375848005458,-0.4200602785751461,-0.43442757176285574,-0.42197287899622543,-0.3801986514917913,-0.3077817863653888,-0.20468978410715197,-0.0722388011028484,0.08691073780520595,0.2688222513075441,0.4684129583840573,0.6796406846183429,0.8957396184216221,1.1094945766040856,1.3135412961886945,1.500678835049543,1.6641794167481594,1.7980810383563555,1.8974488797623419,1.9585929762944412,1.9792316740361835,1.9585929762944412,1.8974488797623419,1.7980810383563555,1.6641794167481594,1.500678835049543,1.3135412961886945,1.1094945766040856,0.8957396184216221,0.6796406846183429,0.4684129583840573,0.2688222513075441,0.08691073780520595,-0.0722388011028484,-0.20468978410715197,-0.3077817863653888,-0.3801986514917913,-0.42197287899622543,-0.43442757176285574,-0.4200602785751461,-0.382375848005458,-0.32567778292945404,-0.254829433326894,-0.17499760171649797,-0.09139170665445415,-0.009011537058698997,0.06758414818694233,0.134477311926808,0.18854967763954522,0.22759450814784551,0.25037713957121355,0.2566430509401283,0.24707500803079696,0.2232034254780841,0.18727640924644018,0.14209785531573388,0.09084339726921295,0.03686485131708162,-0.016505930263581485,-0.06614321685638791],[-0.1107536917561867,-0.06793803188546253,-0.01855449981019833,0.03466854669458865,0.08862652853638416,0.14000357308347133,0.18545724476618586,0.22181346801290225,0.24626113579560338,0.25653555744366946,0.25108014921898075,0.22917661128094333,0.19103523332295086,0.13783886506830845,0.07173638515428266,-0.004215913110515241,-0.08616386191642225,-0.1696119802323752,-0.24962054293732017,-0.3210343185560354,-0.3787322233669178,-0.417885750201407,-0.434213248547002,-0.42421701152445723,-0.3853906832849483,-0.3163857196862348,-0.21712746254366178,-0.08887373699192957,0.0657883626364726,0.24300880867803662,0.4378022692207818,0.6442321103834694,0.8556429685382863,1.0649315658049785,1.2648434125627805,1.4482816142111579,1.608613254431116,1.7399588071171015,1.8374507397311368,1.8974488797623419,1.917702154416812,1.8974488797623419,1.8374507397311368,1.7399588071171015,1.608613254431116,1.4482816142111579,1.2648434125627805,1.0649315658049785,0.8556429685382863,0.6442321103834694,0.4378022692207818,0.24300880867803662,0.0657883626364726,-0.08887373699192957,-0.21712746254366178,-0.3163857196862348,-0.3853906832849483,-0.42421701152445723,-0.434213248547002,-0.417885750201407,-0.3787322233669178,-0.3210343185560354,-0.24962054293732017,-0.1696119802323752,-0.08616386191642225,-0.004215913110515241,0.07173638515428266,0.13783886506830845,0.19103523332295086,0.22917661128094333,0.25108014921898075,0.25653555744366946,0.24626113579560338,0.22181346801290225,0.18545724476618586,0.14000357308347133,0.08862652853638416,0.03466854669458865,-0.01855449981019833,-0.06793803188546253],[-0.1131560467581887,-0.07090368426500879,-0.021950582012676394,0.031016232090896562,0.08492762656935865,0.13649472168344115,0.18239124981424537,0.21944644111666822,0.24483804991090946,0.2562747828163765,0.252157618714697,0.2317103248693539,0.19507084218595108,0.1433370736825879,0.07856287339249271,0.0037025838949493145,-0.07749482277960204,-0.16063822727306362,-0.24088710992360066,-0.31317589634427284,-0.37245933283868765,-0.41396693622794944,-0.4334537754581445,-0.4274347075936389,-0.39338972722403176,-0.32992927901128904,-0.23691017597600564,-0.11549507625799743,0.03184881503912622,0.20141317105264114,0.38837235101706136,0.5869627944413911,0.7907103570985019,0.992695449836068,1.1858438330909473,1.3632295064019535,1.518375390968938,1.6455374774968983,1.7399588071171015,1.7980810383563555,1.8177033600622243,1.7980810383563555,1.7399588071171015,1.6455374774968983,1.518375390968938,1.3632295064019535,1.1858438330909473,0.992695449836068,0.7907103570985019,0.5869627944413911,0.38837235101706136,0.20141317105264114,0.03184881503912622,-0.11549507625799743,-0.23691017597600564,-0.32992927901128904,-0.39338972722403176,-0.4274347075936389,-0.4334537754581445,-0.41396693622794944,-0.37245933283868765,-0.31317589634427284,-0.24088710992360066,-0.16063822727306362,-0.07749482277960204,0.0037025838949493145,0.07856287339249271,0.1433370736825879,0.19507084218595108,0.2317103248693539,0.252157618714697,0.2562747828163765,0.24483804991090946,0.21944644111666822,0.18239124981424537,0.13649472168344115,0.08492762656935865,0.031016232090896562,-0.021950582012676394,-0.07090368426500879],[-0.1164544699167505,-0.0750007897964791,-0.026665677985416577,0.025921773001301992,0.07974244535617742,0.13154597877649798,0.17802983029511174,0.21602931256266372,0.242708395806646,0.2557406839380664,0.25347017586536014,0.23504220166614895,0.20049625055173417,0.15081422331281308,0.08791985781076668,0.014627580006334946,-0.06545830501430487,-0.14809048863531396,-0.22856545626592412,-0.30194177876754097,-0.3632795822101567,-0.407889497747319,-0.43157859884674826,-0.4308806796227811,-0.40325873487122593,-0.3472686537517362,-0.2626748843273063,-0.15051108239111077,-0.0130814139378774,0.14609889758077332,0.32242214992953067,0.5103612401471838,0.7036898157513979,0.8957396184216221,1.0796831610910465,1.2488284837498442,1.3969119972732167,1.518375390968938,1.608613254431116,1.6641794167481594,1.682941969615793,1.6641794167481594,1.608613254431116,1.518375390968938,1.3969119972732167,1.2488284837498442,1.0796831610910465,0.8957396184216221,0.7036898157513979,0.5103612401471838,0.32242214992953067,0.14609889758077332,-0.0130814139378774,-0.15051108239111077,-0.2626748843273063,-0.3472686537517362,-0.40325873487122593,-0.4308806796227811,-0.43157859884674826,-0.407889497747319,-0.3632795822101567,-0.30194177876754097,-0.22856545626592412,-0.14809048863531396,-0.06545830501430487,0.014627580006334946,0.08791985781076668,0.15081422331281308,0.20049625055173417,0.23504220166614895,0.25347017586536014,0.2557406839380664,0.242708395806646,0.21602931256266372,0.17802983029511174,0.13154597877649798,0.07974244535617742,0.025921773001301992,-0.026665677985416577,-0.0750007897964791],[-0.12058300781296416,-0.08017262722723162,-0.032657564269347995,0.019407660252202565,0.07306884206017318,0.12512633286074154,0.17230988766358785,0.21146505144444128,0.23974108638511749,0.25477004091850136,0.2548267267047997,0.23896010343988033,0.2070878465419809,0.16004763127913005,0.09960082298540655,0.02838670735216783,-0.050171999808914604,-0.132008995765264,-0.2125937105436689,-0.28714197491104243,-0.35084804028714445,-0.3991265770886398,-0.42785247459104203,-0.4335860886421158,-0.4137720534188708,-0.36690087535799776,-0.29262421276448536,-0.19181693290541052,-0.06658162124929747,0.07980593576993696,0.24300880867803662,0.4177941096414197,0.5982441516081277,0.7780040258931075,0.9505541014891831,1.1094945766040856,1.2488284837498442,1.3632295064019535,1.4482816142111579,1.500678835049543,1.518375390968938,1.500678835049543,1.4482816142111579,1.3632295064019535,1.2488284837498442,1.1094945766040856,0.9505541014891831,0.7780040258931075,0.5982441516081277,0.4177941096414197,0.24300880867803662,0.07980593576993696,-0.06658162124929747,-0.19181693290541052,-0.29262421276448536,-0.36690087535799776,-0.4137720534188708,-0.4335860886421158,-0.42785247459104203,-0.3991265770886398,-0.35084804028714445,-0.28714197491104243,-0.2125937105436689,-0.132008995765264,-0.050171999808914604,0.02838670735216783,0.09960082298540655,0.16004763127913005,0.2070878465419809,0.23896010343988033,0.2548267267047997,0.25477004091850136,0.23974108638511749,0.21146505144444128,0.17230988766358785,0.12512633286074154,0.07306884206017318,0.019407660252202565,-0.032657564269347995,-0.08017262722723162],[-0.1254554756233313,-0.08634370978474622,-0.039868134180728126,0.011507919583092052,0.0649104168254659,0.11720338291232232,0.16515865057394133,0.20563779959612533,0.23577655069724138,0.2531614457800734,0.2559887694405144,0.2431963471432226,0.21456006847846779,0.17074867404778504,0.11333242903336226,0.044743679368913644,-0.03181017613329085,-0.11247819731414006,-0.1929363397545002,-0.268589046149572,-0.33479237619194996,-0.38708768931988075,-0.42143408131469146,-0.43442757176285574,-0.42349546556438716,-0.38705535500366767,-0.324629843053556,-0.23691017597600564,-0.1257644689695074,0.005811034304373925,0.1537963512162099,0.3133036361206578,0.47877771528316526,0.6442321103834694,0.803509484779075,0.9505541014891831,1.0796831610910465,1.1858438330909473,1.2648434125627805,1.3135412961886945,1.3299933154720727,1.3135412961886945,1.2648434125627805,1.1858438330909473,1.0796831610910465,0.9505541014891831,0.803509484779075,0.6442321103834694,0.47877771528316526,0.3133036361206578,0.1537963512162099,0.005811034304373925,-0.1257644689695074,-0.23691017597600564,-0.324629843053556,-0.38705535500366767,-0.42349546556438716,-0.43442757176285574,-0.42143408131469146,-0.38708768931988075,-0.33479237619194996,-0.268589046149572,-0.1929363397545002,-0.11247819731414006,-0.03181017613329085,0.044743679368913644,0.11333242903336226,0.17074867404778504,0.21456006847846779,0.2431963471432226,0.2559887694405144,0.2531614457800734,0.23577655069724138,0.20563779959612533,0.16515865057394133,0.11720338291232232,0.0649104168254659,0.011507919583092052,-0.039868134180728126,-0.08634370978474622],[-0.13096468174943518,-0.09341816596346665,-0.04822085787410071,0.0022716100207446164,0.05528095770522729,0.10774865812501504,0.15649972810645998,0.19841943861188654,0.23063350923189954,0.2506818889186662,0.2566762997375786,0.24743234013685533,0.2225680860000738,0.18256273925541686,0.12877087581897034,0.06339013493636744,-0.010617349295218181,-0.08964697741323371,-0.1696119802323752,-0.24613461781837798,-0.31475910259630246,-0.37117570680030565,-0.41144469052055266,-0.43220845214435083,-0.4308806796227811,-0.40580225753498556,-0.35635521764627226,-0.28302803533990717,-0.187427969950852,-0.0722388011028484,0.05887491198907235,0.20141317105264114,0.35022902170777614,0.49975144871271493,0.6442321103834694,0.7780040258931075,0.8957396184216221,0.992695449836068,1.0649315658049785,1.1094945766040856,1.124555367855928,1.1094945766040856,1.0649315658049785,0.992695449836068,0.8957396184216221,0.7780040258931075,0.6442321103834694,0.49975144871271493,0.35022902170777614,0.20141317105264114,0.05887491198907235,-0.0722388011028484,-0.187427969950852,-0.28302803533990717,-0.35635521764627226,-0.40580225753498556,-0.4308806796227811,-0.43220845214435083,-0.41144469052055266,-0.37117570680030565,-0.31475910259630246,-0.24613461781837798,-0.1696119802323752,-0.08964697741323371,-0.010617349295218181,0.06339013493636744,0.12877087581897034,0.18256273925541686,0.2225680860000738,0.24743234013685533,0.2566762997375786,0.2506818889186662,0.23063350923189954,0.19841943861188654,0.15649972810645998,0.10774865812501504,0.05528095770522729,0.0022716100207446164,-0.04822085787410071,-0.09341816596346665],[-0.13698176393514344,-0.10127808535368477,-0.05761803324395176,-0.00823327044894154,0.044209509361482956,0.09674378883254962,0.14626024334832619,0.18967745729212915,0.22411724822563847,0.24707500803079696,0.256575492104657,0.25130504004127213,0.23071227369415245,0.19507084218595108,0.14549969299473817,0.08393854575868848,0.013078615468659323,-0.06374895250625122,-0.1427221428215067,-0.21970771693043264,-0.29046275344788247,-0.35084804028714445,-0.3970424421347404,-0.42574709936268906,-0.43436863670247905,-0.421171462695804,-0.3853906832849483,-0.3272990644317678,-0.24822376277499153,-0.15051108239111077,-0.03744017720227128,0.08691073780520595,0.21783961811686398,0.35022902170777614,0.47877771528316526,0.5982441516081277,0.7036898157513979,0.7907103570985019,0.8556429685382863,0.8957396184216221,0.9092974268256817,0.8957396184216221,0.8556429685382863,0.7907103570985019,0.7036898157513979,0.5982441516081277,0.47877771528316526,0.35022902170777614,0.21783961811686398,0.08691073780520595,-0.03744017720227128,-0.15051108239111077,-0.24822376277499153,-0.3272990644317678,-0.3853906832849483,-0.421171462695804,-0.43436863670247905,-0.42574709936268906,-0.3970424421347404,-0.35084804028714445,-0.29046275344788247,-0.21970771693043264,-0.1427221428215067,-0.06374895250625122,0.013078615468659323,0.08393854575868848,0.14549969299473817,0.19507084218595108,0.23071227369415245,0.25130504004127213,0.256575492104657,0.24707500803079696,0.22411724822563847,0.18967745729212915,0.14626024334832619,0.09674378883254962,0.044209509361482956,-0.00823327044894154,-0.05761803324395176,-0.10127808535368477],[-0.14335579129849668,-0.10978201113265723,-0.06793803188546253,-0.019915691575644292,0.031745840459068614,0.08418731130237875,0.13437885433763305,0.1792839709402817,0.21602931256266372,0.2420710146043941,0.255348298963932,0.25441554164532254,0.23854497801642713,0.20779364608280457,0.1630299764243758,0.10591753298818528,0.03885568116655977,-0.03512071345143313,-0.11247819731414006,-0.18935183535374994,-0.2617343483375656,-0.32567778292945404,-0.37749737145928347,-0.41396693622794944,-0.43249545715781157,-0.4312752446188071,-0.4093935036702951,-0.36690087535799776,-0.30483270332925,-0.22518118755916025,-0.13081912452072303,-0.025378460035175753,0.08691073780520595,0.20141317105264114,0.3133036361206578,0.4177941096414197,0.5103612401471838,0.5869627944413911,0.6442321103834694,0.6796406846183429,0.69162061945593,0.6796406846183429,0.6442321103834694,0.5869627944413911,0.5103612401471838,0.4177941096414197,0.3133036361206578,0.20141317105264114,0.08691073780520595,-0.025378460035175753,-0.13081912452072303,-0.22518118755916025,-0.30483270332925,-0.36690087535799776,-0.4093935036702951,-0.4312752446188071,-0.43249545715781157,-0.41396693622794944,-0.37749737145928347,-0.32567778292945404,-0.2617343483375656,-0.18935183535374994,-0.11247819731414006,-0.03512071345143313,0.03885568116655977,0.10591753298818528,0.1630299764243758,0.20779364608280457,0.23854497801642713,0.25441554164532254,0.255348298963932,0.2420710146043941,0.21602931256266372,0.1792839709402817,0.13437885433763305,0.08418731130237875,0.031745840459068614,-0.019915691575644292,-0.06793803188546253,-0.10978201113265723],[-0.1499137997580331,-0.11876378051842666,-0.07903277128303789,-0.032657564269347995,0.017966041941118966,0.07010183827093616,0.12081441070397907,0.16712567793535366,0.2061784643801796,0.23539823538075702,0.25264402764959015,0.2563400102730029,0.2455799958764798,0.22019854657881394,0.18080401871815463,0.12877087581897034,0.0661907655654817,-0.004215913110515241,-0.0792240541655952,-0.15525760655490364,-0.22856545626592412,-0.29541051237375787,-0.35226222727992795,-0.39598244357893553,-0.42399466300627076,-0.43442757176285574,-0.42622489689420734,-0.39921534828629784,-0.3541384336243295,-0.29262421276448536,-0.21712746254366178,-0.13081912452072303,-0.03744017720227128,0.05887491198907235,0.1537963512162099,0.24300880867803662,0.32242214992953067,0.38837235101706136,0.4378022692207818,0.4684129583840573,0.47877771528316526,0.4684129583840573,0.4378022692207818,0.38837235101706136,0.32242214992953067,0.24300880867803662,0.1537963512162099,0.05887491198907235,-0.03744017720227128,-0.13081912452072303,-0.21712746254366178,-0.29262421276448536,-0.3541384336243295,-0.39921534828629784,-0.42622489689420734,-0.43442757176285574,-0.42399466300627076,-0.39598244357893553,-0.35226222727992795,-0.29541051237375787,-0.22856545626592412,-0.15525760655490364,-0.0792240541655952,-0.004215913110515241,0.0661907655654817,0.12877087581897034,0.18080401871815463,0.22019854657881394,0.2455799958764798,0.2563400102730029,0.25264402764959015,0.23539823538075702,0.2061784643801796,0.16712567793535366,0.12081441070397907,0.07010183827093616,0.017966041941118966,-0.032657564269347995,-0.07903277128303789,-0.11876378051842666],[-0.15646143337355978,-0.12803192632998142,-0.0907256642328181,-0.046310064114579955,0.0029779491154211806,0.054541276561040686,0.10555493165712146,0.15311446345017118,0.1943926655354523,0.22679610352037188,0.24811283911536614,0.2566430509401283,0.25130504004127213,0.2317103248693539,0.19820311451195688,0.15186131748507978,0.09445829662141196,0.02838670735216783,-0.043452159632214875,-0.1177881852505473,-0.19114437378651342,-0.26001264723920775,-0.3210343185560354,-0.37117570680030565,-0.407889497747319,-0.42925310491460716,-0.434076417833265,-0.42197287899622543,-0.39338972722403176,-0.3495953826561967,-0.29262421276448536,-0.22518118755916025,-0.15051108239111077,-0.0722388011028484,0.005811034304373925,0.07980593576993696,0.14609889758077332,0.20141317105264114,0.24300880867803662,0.2688222513075441,0.277571630583514,0.2688222513075441,0.24300880867803662,0.20141317105264114,0.14609889758077332,0.07980593576993696,0.005811034304373925,-0.0722388011028484,-0.15051108239111077,-0.22518118755916025,-0.29262421276448536,-0.3495953826561967,-0.39338972722403176,-0.42197287899622543,-0.434076417833265,-0.42925310491460716,-0.407889497747319,-0.37117570680030565,-0.3210343185560354,-0.26001264723920775,-0.19114437378651342,-0.1177881852505473,-0.043452159632214875,0.02838670735216783,0.09445829662141196,0.15186131748507978,0.19820311451195688,0.2317103248693539,0.25130504004127213,0.2566430509401283,0.24811283911536614,0.22679610352037188,0.1943926655354523,0.15311446345017118,0.10555493165712146,0.054541276561040686,0.0029779491154211806,-0.046310064114579955,-0.0907256642328181,-0.12803192632998142],[-0.16278435980926842,-0.13736985507049018,-0.10281030706494562,-0.060690608986011814,-0.013073952151520388,0.03759772656874239,0.08862652853638416,0.13719827990417027,0.18053174205108255,0.21602931256266372,0.24142096714711753,0.254893432701845,0.25519727019112654,0.24172565029557566,0.21456006847846779,0.17447999195279823,0.12293536517635703,0.06198291759831892,-0.005810793613848673,-0.07749482277960204,-0.14988136590815446,-0.21970771693043264,-0.2838041182964338,-0.3392585664190622,-0.3835697098652554,-0.4147795406040892,-0.43157859884674826,-0.4333778373354074,-0.4203430458705095,-0.39338972722403176,-0.3541384336243295,-0.30483270332925,-0.24822376277499153,-0.187427969950852,-0.1257644689695074,-0.06658162124929747,-0.0130814139378774,0.03184881503912622,0.0657883626364726,0.08691073780520595,0.0940800053732448,0.08691073780520595,0.0657883626364726,0.03184881503912622,-0.0130814139378774,-0.06658162124929747,-0.1257644689695074,-0.187427969950852,-0.24822376277499153,-0.30483270332925,-0.3541384336243295,-0.39338972722403176,-0.4203430458705095,-0.4333778373354074,-0.43157859884674826,-0.4147795406040892,-0.3835697098652554,-0.3392585664190622,-0.2838041182964338,-0.21970771693043264,-0.14988136590815446,-0.07749482277960204,-0.005810793613848673,0.06198291759831892,0.12293536517635703,0.17447999195279823,0.21456006847846779,0.24172565029557566,0.25519727019112654,0.254893432701845,0.24142096714711753,0.21602931256266372,0.18053174205108255,0.13719827990417027,0.08862652853638416,0.03759772656874239,-0.013073952151520388,-0.060690608986011814,-0.10281030706494562,-0.13736985507049018],[-0.16865061331126227,-0.14653700801271363,-0.11505016730310495,-0.07558080422426758,-0.030004497243790427,0.019407660252202565,0.07010183827093616,0.11937185506223688,0.16450028494360933,0.20290271423033404,0.23226729318028777,0.2506818889186662,0.2567417315441088,0.24963143467045815,0.22917661128094333,0.19586192453391038,0.15081422331281308,0.0957513146109,0.032898814044057145,-0.03512071345143313,-0.10542055787501849,-0.17499760171649797,-0.24088710992360066,-0.3003162506586467,-0.35084804028714445,-0.3905078789395116,-0.417885750201407,-0.43220845214435083,-0.4333778373354074,-0.42197287899622543,-0.39921534828629784,-0.36690087535799776,-0.3272990644317678,-0.28302803533990717,-0.23691017597600564,-0.19181693290541052,-0.15051108239111077,-0.11549507625799743,-0.08887373699192957,-0.0722388011028484,-0.06658162124929747,-0.0722388011028484,-0.08887373699192957,-0.11549507625799743,-0.15051108239111077,-0.19181693290541052,-0.23691017597600564,-0.28302803533990717,-0.3272990644317678,-0.36690087535799776,-0.39921534828629784,-0.42197287899622543,-0.4333778373354074,-0.43220845214435083,-0.417885750201407,-0.3905078789395116,-0.35084804028714445,-0.3003162506586467,-0.24088710992360066,-0.17499760171649797,-0.10542055787501849,-0.03512071345143313,0.032898814044057145,0.0957513146109,0.15081422331281308,0.19586192453391038,0.22917661128094333,0.24963143467045815,0.2567417315441088,0.2506818889186662,0.23226729318028777,0.20290271423033404,0.16450028494360933,0.11937185506223688,0.07010183827093616,0.019407660252202565,-0.030004497243790427,-0.07558080422426758,-0.11505016730310495,-0.14653700801271363],[-0.1738139924448547,-0.15527119023634722,-0.1271795169340972,-0.0907256642328181,-0.04758506314163741,0.0001569493213448689,0.05010748884225075,0.09968670899986165,0.14626024334832619,0.18727640924644018,0.22040074178662336,0.24364050109720906,0.2554522819126627,0.2548267267047997,0.2413455569066888,0.2152076253393881,0.1772223753881244,0.12877087581897034,0.07173638515428266,0.00840808631479302,-0.05863687417657578,-0.12666669235949252,-0.1929363397545002,-0.254829433326894,-0.309992807249447,-0.3564564355250057,-0.39273214882544505,-0.417885750201407,-0.43157859884674826,-0.434076417833265,-0.42622489689420734,-0.4093935036702951,-0.3853906832849483,-0.35635521764627226,-0.324629843053556,-0.29262421276448536,-0.2626748843273063,-0.23691017597600564,-0.21712746254366178,-0.20468978410715197,-0.20044755867978276,-0.20468978410715197,-0.21712746254366178,-0.23691017597600564,-0.2626748843273063,-0.29262421276448536,-0.324629843053556,-0.35635521764627226,-0.3853906832849483,-0.4093935036702951,-0.42622489689420734,-0.434076417833265,-0.43157859884674826,-0.417885750201407,-0.39273214882544505,-0.3564564355250057,-0.309992807249447,-0.254829433326894,-0.1929363397545002,-0.12666669235949252,-0.05863687417657578,0.00840808631479302,0.07173638515428266,0.12877087581897034,0.1772223753881244,0.2152076253393881,0.2413455569066888,0.2548267267047997,0.2554522819126627,0.24364050109720906,0.22040074178662336,0.18727640924644018,0.14626024334832619,0.09968670899986165,0.05010748884225075,0.0001569493213448689,-0.04758506314163741,-0.0907256642328181,-0.1271795169340972,-0.15527119023634722],[-0.17801860199902664,-0.16329221750830802,-0.13890582780165694,-0.10583439818051152,-0.06554239869174844,-0.019915691575644292,0.02883009042098063,0.07825990831739421,0.1258425822940911,0.16908036038891633,0.20563779959612533,0.23346296309158113,0.2508943222213973,0.25674750760048576,0.25037713957121355,0.2317103248693539,0.20124995852555586,0.16004763127913005,0.1096476200446325,0.05200503792795912,-0.010617349295218181,-0.0757679524450742,-0.1409342819269669,-0.2036729142303004,-0.2617343483375656,-0.31317589634427284,-0.3564564355250057,-0.3905078789395116,-0.4147795406040892,-0.42925310491460716,-0.43442757176285574,-0.4312752446188071,-0.421171462695804,-0.40580225753498556,-0.38705535500366767,-0.36690087535799776,-0.3472686537517362,-0.32992927901128904,-0.3163857196862348,-0.3077817863653888,-0.30483270332925,-0.3077817863653888,-0.3163857196862348,-0.32992927901128904,-0.3472686537517362,-0.36690087535799776,-0.38705535500366767,-0.40580225753498556,-0.421171462695804,-0.4312752446188071,-0.43442757176285574,-0.42925310491460716,-0.4147795406040892,-0.3905078789395116,-0.3564564355250057,-0.31317589634427284,-0.2617343483375656,-0.2036729142303004,-0.1409342819269669,-0.0757679524450742,-0.010617349295218181,0.05200503792795912,0.1096476200446325,0.16004763127913005,0.20124995852555586,0.2317103248693539,0.25037713957121355,0.25674750760048576,0.2508943222213973,0.23346296309158113,0.20563779959612533,0.16908036038891633,0.1258425822940911,0.07825990831739421,0.02883009042098063,-0.019915691575644292,-0.06554239869174844,-0.10583439818051152,-0.13890582780165694,-0.16329221750830802],[-0.18100457917857166,-0.17030698199702413,-0.1499137997580331,-0.12058300781296416,-0.08355939645450051,-0.040517266401149735,0.0065202421682302655,0.05528095770522729,0.10335731863015635,0.14832776112580212,0.18787932061729182,0.21992483146863692,0.242708395806646,0.254893432701845,0.25562857790064414,0.24458792842044305,0.22198354690007724,0.18854967763954522,0.14549969299473817,0.09445829662141196,0.037372873633869375,-0.02359098016854476,-0.08616386191642225,-0.14809048863531396,-0.20724458052139974,-0.2617343483375656,-0.309992807249447,-0.35084804028714445,-0.3835697098652554,-0.407889497747319,-0.42399466300627076,-0.43249545715781157,-0.43436863670247905,-0.4308806796227811,-0.42349546556438716,-0.4137720534188708,-0.40325873487122593,-0.39338972722403176,-0.3853906832849483,-0.3801986514917913,-0.3784012476539641,-0.3801986514917913,-0.3853906832849483,-0.39338972722403176,-0.40325873487122593,-0.4137720534188708,-0.42349546556438716,-0.4308806796227811,-0.43436863670247905,-0.43249545715781157,-0.42399466300627076,-0.407889497747319,-0.3835697098652554,-0.35084804028714445,-0.309992807249447,-0.2617343483375656,-0.20724458052139974,-0.14809048863531396,-0.08616386191642225,-0.02359098016854476,0.037372873633869375,0.09445829662141196,0.14549969299473817,0.18854967763954522,0.22198354690007724,0.24458792842044305,0.25562857790064414,0.254893432701845,0.242708395806646,0.21992483146863692,0.18787932061729182,0.14832776112580212,0.10335731863015635,0.05528095770522729,0.0065202421682302655,-0.040517266401149735,-0.08355939645450051,-0.12058300781296416,-0.1499137997580331,-0.17030698199702413],[-0.18251498442862385,-0.1760159755489718,-0.15987112992755653,-0.13461888616197776,-0.10127808535368477,-0.061301442485772274,-0.016505930263581485,0.031016232090896562,0.07900122348247962,0.12512633286074154,0.16712567793535366,0.20290271423033404,0.23063350923189954,0.24885528388828942,0.25653555744366946,0.25311832399967577,0.23854497801642713,0.21324911772700825,0.17812580971586786,0.134477311926808,0.08393854575868848,0.02838670735216783,-0.030159748399708135,-0.08964697741323371,-0.14809048863531396,-0.2036729142303004,-0.254829433326894,-0.3003162506586467,-0.3392585664190622,-0.37117570680030565,-0.39598244357893553,-0.41396693622794944,-0.42574709936268906,-0.43220845214435083,-0.43442757176285574,-0.4335860886421158,-0.4308806796227811,-0.4274347075936389,-0.42421701152445723,-0.42197287899622543,-0.421171462695804,-0.42197287899622543,-0.42421701152445723,-0.4274347075936389,-0.4308806796227811,-0.4335860886421158,-0.43442757176285574,-0.43220845214435083,-0.42574709936268906,-0.41396693622794944,-0.39598244357893553,-0.37117570680030565,-0.3392585664190622,-0.3003162506586467,-0.254829433326894,-0.2036729142303004,-0.14809048863531396,-0.08964697741323371,-0.030159748399708135,0.02838670735216783,0.08393854575868848,0.134477311926808,0.17812580971586786,0.21324911772700825,0.23854497801642713,0.25311832399967577,0.25653555744366946,0.24885528388828942,0.23063350923189954,0.20290271423033404,0.16712567793535366,0.12512633286074154,0.07900122348247962,0.031016232090896562,-0.016505930263581485,-0.061301442485772274,-0.10127808535368477,-0.13461888616197776,-0.15987112992755653,-0.1760159755489718],[-0.18230376872794093,-0.18012123502583363,-0.16843605361995675,-0.14756752732225356,-0.11830504740258321,-0.08187218787401292,-0.039868134180728126,0.0058103924762656495,0.05306249567952219,0.09968670899986165,0.14348926836260514,0.18239124981424537,0.2145288714461612,0.2383416766936446,0.25264402764959015,0.2566762997375786,0.25013332713993036,0.23316893482082693,0.2063767337439853,0.17074867404778504,0.12761407121954643,0.07856287339249271,0.02535776443828009,-0.030159748399708135,-0.08616386191642225,-0.1409342819269669,-0.1929363397545002,-0.24088710992360066,-0.2838041182964338,-0.3210343185560354,-0.35226222727992795,-0.37749737145928347,-0.3970424421347404,-0.41144469052055266,-0.42143408131469146,-0.42785247459104203,-0.43157859884674826,-0.4334537754581445,-0.434213248547002,-0.43442757176285574,-0.43445783007337646,-0.43442757176285574,-0.434213248547002,-0.4334537754581445,-0.43157859884674826,-0.42785247459104203,-0.42143408131469146,-0.41144469052055266,-0.3970424421347404,-0.37749737145928347,-0.35226222727992795,-0.3210343185560354,-0.2838041182964338,-0.24088710992360066,-0.1929363397545002,-0.1409342819269669,-0.08616386191642225,-0.030159748399708135,0.02535776443828009,0.07856287339249271,0.12761407121954643,0.17074867404778504,0.2063767337439853,0.23316893482082693,0.25013332713993036,0.2566762997375786,0.25264402764959015,0.2383416766936446,0.2145288714461612,0.18239124981424537,0.14348926836260514,0.09968670899986165,0.05306249567952219,0.0058103924762656495,-0.039868134180728126,-0.08187218787401292,-0.11830504740258321,-0.14756752732225356,-0.16843605361995675,-0.18012123502583363],[-0.1801446545297837,-0.18233559039097344,-0.1752665961050691,-0.15904136091487175,-0.13421936300715656,-0.10179031338845618,-0.0631265026963309,-0.019915691575644292,0.025921773001301992,0.07232710218505171,0.11720338291232232,0.15851669454452746,0.1943926655354523,0.2232034254780841,0.24364050109720906,0.25477004091850136,0.2560677827399544,0.24743234013685533,0.22917661128094333,0.20199833430642128,0.16693195814109418,0.12528500092613942,0.07856287339249271,0.02838670735216783,-0.02359098016854476,-0.0757679524450742,-0.12666669235949252,-0.17499760171649797,-0.21970771693043264,-0.26001264723920775,-0.29541051237375787,-0.32567778292945404,-0.35084804028714445,-0.37117570680030565,-0.38708768931988075,-0.3991265770886398,-0.407889497747319,-0.41396693622794944,-0.417885750201407,-0.4200602785751461,-0.4207548585159486,-0.4200602785751461,-0.417885750201407,-0.41396693622794944,-0.407889497747319,-0.3991265770886398,-0.38708768931988075,-0.37117570680030565,-0.35084804028714445,-0.32567778292945404,-0.29541051237375787,-0.26001264723920775,-0.21970771693043264,-0.17499760171649797,-0.12666669235949252,-0.0757679524450742,-0.02359098016854476,0.02838670735216783,0.07856287339249271,0.12528500092613942,0.16693195814109418,0.20199833430642128,0.22917661128094333,0.24743234013685533,0.2560677827399544,0.25477004091850136,0.24364050109720906,0.2232034254780841,0.1943926655354523,0.15851669454452746,0.11720338291232232,0.07232710218505171,0.025921773001301992,-0.019915691575644292,-0.0631265026963309,-0.10179031338845618,-0.13421936300715656,-0.15904136091487175,-0.1752665961050691,-0.18233559039097344],[-0.17584069010379264,-0.18239300622958532,-0.1800313728705813,-0.16865061331126227,-0.14858307017251748,-0.12058300781296416,-0.0857896329957062,-0.045670869380806056,-0.001951040868825416,0.043473546354522816,0.08862652853638416,0.13154597877649798,0.17037647050011584,0.20345392533496165,0.22937894091767205,0.24707500803079696,0.25582893038458626,0.2553118000893658,0.2455799958764798,0.2270567942100705,0.20049625055173417,0.16693195814109418,0.12761407121954643,0.08393854575868848,0.037372873633869375,-0.010617349295218181,-0.05863687417657578,-0.10542055787501849,-0.14988136590815446,-0.19114437378651342,-0.22856545626592412,-0.2617343483375656,-0.29046275344788247,-0.31475910259630246,-0.33479237619194996,-0.35084804028714445,-0.3632795822101567,-0.37245933283868765,-0.3787322233669178,-0.382375848005458,-0.3835697098652554,-0.382375848005458,-0.3787322233669178,-0.37245933283868765,-0.3632795822101567,-0.35084804028714445,-0.33479237619194996,-0.31475910259630246,-0.29046275344788247,-0.2617343483375656,-0.22856545626592412,-0.19114437378651342,-0.14988136590815446,-0.10542055787501849,-0.05863687417657578,-0.010617349295218181,0.037372873633869375,0.08393854575868848,0.12761407121954643,0.16693195814109418,0.20049625055173417,0.2270567942100705,0.2455799958764798,0.2553118000893658,0.25582893038458626,0.24707500803079696,0.22937894091767205,0.20345392533496165,0.17037647050011584,0.13154597877649798,0.08862652853638416,0.043473546354522816,-0.001951040868825416,-0.045670869380806056,-0.0857896329957062,-0.12058300781296416,-0.14858307017251748,-0.16865061331126227,-0.1800313728705813,-0.18239300622958532],[-0.16923416092386775,-0.1800597155006458,-0.18242166855756492,-0.1760159755489718,-0.1609539875623888,-0.13775630818181953,-0.10732612754693129,-0.07090368426500879,-0.030004497243790427,0.013655158230898757,0.058241427706856384,0.1018902143955224,0.14279404657238684,0.1792839709402817,0.20990234059772522,0.23346296309158113,0.24909585663212155,0.2562747828163765,0.2548267267047997,0.24492352037505036,0.2270567942100705,0.20199833430642128,0.17074867404778504,0.134477311926808,0.09445829662141196,0.05200503792795912,0.00840808631479302,-0.03512071345143313,-0.07749482277960204,-0.1177881852505473,-0.15525760655490364,-0.18935183535374994,-0.21970771693043264,-0.24613461781837798,-0.268589046149572,-0.28714197491104243,-0.30194177876754097,-0.31317589634427284,-0.3210343185560354,-0.32567778292945404,-0.32721314035298743,-0.32567778292945404,-0.3210343185560354,-0.31317589634427284,-0.30194177876754097,-0.28714197491104243,-0.268589046149572,-0.24613461781837798,-0.21970771693043264,-0.18935183535374994,-0.15525760655490364,-0.1177881852505473,-0.07749482277960204,-0.03512071345143313,0.00840808631479302,0.05200503792795912,0.09445829662141196,0.134477311926808,0.17074867404778504,0.20199833430642128,0.2270567942100705,0.24492352037505036,0.2548267267047997,0.2562747828163765,0.24909585663212155,0.23346296309158113,0.20990234059772522,0.1792839709402817,0.14279404657238684,0.1018902143955224,0.058241427706856384,0.013655158230898757,-0.030004497243790427,-0.07090368426500879,-0.10732612754693129,-0.13775630818181953,-0.1609539875623888,-0.1760159755489718,-0.18242166855756492,-0.1800597155006458],[-0.16021647158282734,-0.1751457556394694,-0.1821644169794075,-0.18078273088932142,-0.17090060569317098,-0.1528102839666787,-0.1271795169340972,-0.0950164022704569,-0.05761803324395176,-0.016505930263581485,0.026648129724923395,0.07010183827093616,0.11212338767979044,0.15106960365711752,0.18545724476618586,0.21402402107025095,0.23577655069724138,0.25002327766855664,0.25639126767027576,0.2548267267047997,0.2455799958764798,0.22917661128094333,0.2063767337439853,0.17812580971586786,0.14549969299473817,0.1096476200446325,0.07173638515428266,0.032898814044057145,-0.005810793613848673,-0.043452159632214875,-0.0792240541655952,-0.11247819731414006,-0.1427221428215067,-0.1696119802323752,-0.1929363397545002,-0.2125937105436689,-0.22856545626592412,-0.24088710992360066,-0.24962054293732017,-0.254829433326894,-0.2565601183892334,-0.254829433326894,-0.24962054293732017,-0.24088710992360066,-0.22856545626592412,-0.2125937105436689,-0.1929363397545002,-0.1696119802323752,-0.1427221428215067,-0.11247819731414006,-0.0792240541655952,-0.043452159632214875,-0.005810793613848673,0.032898814044057145,0.07173638515428266,0.1096476200446325,0.14549969299473817,0.17812580971586786,0.2063767337439853,0.22917661128094333,0.2455799958764798,0.2548267267047997,0.25639126767027576,0.25002327766855664,0.23577655069724138,0.21402402107025095,0.18545724476618586,0.15106960365711752,0.11212338767979044,0.07010183827093616,0.026648129724923395,-0.016505930263581485,-0.05761803324395176,-0.0950164022704569,-0.1271795169340972,-0.1528102839666787,-0.17090060569317098,-0.18078273088932142,-0.1821644169794075,-0.1751457556394694],[-0.1487375524385824,-0.16751643729146143,-0.17903560277058095,-0.1826358700412797,-0.17801860199902664,-0.16525654180237792,-0.14478624788034108,-0.11738288358628372,-0.08411903827788304,-0.046310064114579955,-0.005449066140771361,0.03686485131708162,0.07900122348247962,0.11937185506223688,0.15649972810645998,0.1890798565922851,0.21602931256266372,0.2365243422174828,0.25002327766855664,0.2562747828163765,0.2553118000893658,0.24743234013685533,0.23316893482082693,0.21324911772700825,0.18854967763954522,0.16004763127913005,0.12877087581897034,0.0957513146109,0.06198291759831892,0.02838670735216783,-0.004215913110515241,-0.03512071345143313,-0.06374895250625122,-0.08964697741323371,-0.11247819731414006,-0.132008995765264,-0.14809048863531396,-0.16063822727306362,-0.1696119802323752,-0.17499760171649797,-0.17679272260843765,-0.17499760171649797,-0.1696119802323752,-0.16063822727306362,-0.14809048863531396,-0.132008995765264,-0.11247819731414006,-0.08964697741323371,-0.06374895250625122,-0.03512071345143313,-0.004215913110515241,0.02838670735216783,0.06198291759831892,0.0957513146109,0.12877087581897034,0.16004763127913005,0.18854967763954522,0.21324911772700825,0.23316893482082693,0.24743234013685533,0.2553118000893658,0.2562747828163765,0.25002327766855664,0.2365243422174828,0.21602931256266372,0.1890798565922851,0.15649972810645998,0.11937185506223688,0.07900122348247962,0.03686485131708162,-0.005449066140771361,-0.046310064114579955,-0.08411903827788304,-0.11738288358628372,-0.14478624788034108,-0.16525654180237792,-0.17801860199902664,-0.1826358700412797,-0.17903560277058095,-0.16751643729146143],[-0.13481430178982187,-0.15710321083861073,-0.17287351607260817,-0.18131560690315682,-0.18194839266053625,-0.17463748569481502,-0.15959621882048483,-0.13736985507049018,-0.10880422217787396,-0.0750007897964791,-0.03726086233570953,0.0029779491154211806,0.044209509361482956,0.08492762656935865,0.12369173187889267,0.15918658398472915,0.1902732638436695,0.21602931256266372,0.23577655069724138,0.24909585663212155,0.25582893038458626,0.2560677827399544,0.25013332713993036,0.23854497801642713,0.22198354690007724,0.20124995852555586,0.1772223753881244,0.15081422331281308,0.12293536517635703,0.09445829662141196,0.0661907655654817,0.03885568116655977,0.013078615468659323,-0.010617349295218181,-0.03181017613329085,-0.050171999808914604,-0.06545830501430487,-0.07749482277960204,-0.08616386191642225,-0.09139170665445415,-0.09313849939964196,-0.09139170665445415,-0.08616386191642225,-0.07749482277960204,-0.06545830501430487,-0.050171999808914604,-0.03181017613329085,-0.010617349295218181,0.013078615468659323,0.03885568116655977,0.0661907655654817,0.09445829662141196,0.12293536517635703,0.15081422331281308,0.1772223753881244,0.20124995852555586,0.22198354690007724,0.23854497801642713,0.25013332713993036,0.2560677827399544,0.25582893038458626,0.24909585663212155,0.23577655069724138,0.21602931256266372,0.1902732638436695,0.15918658398472915,0.12369173187889267,0.08492762656935865,0.044209509361482956,0.0029779491154211806,-0.03726086233570953,-0.0750007897964791,-0.10880422217787396,-0.13736985507049018,-0.15959621882048483,-0.17463748569481502,-0.18194839266053625,-0.18131560690315682,-0.17287351607260817,-0.15710321083861073],[-0.11853755153953285,-0.14391335124448024,-0.163591222139663,-0.17663261032673944,-0.18239300622958532,-0.18054660691367944,-0.17109514979541934,-0.1543609103022869,-0.13096468174943518,-0.10179031338845618,-0.06793803188546253,-0.03066927919323432,0.008653858363151095,0.04863139306208121,0.0878871354792479,0.12512633286074154,0.15918658398472915,0.1890798565922851,0.21402402107025095,0.23346296309158113,0.24707500803079696,0.25477004091850136,0.2566762997375786,0.25311832399967577,0.24458792842044305,0.2317103248693539,0.2152076253393881,0.19586192453391038,0.17447999195279823,0.15186131748507978,0.12877087581897034,0.10591753298818528,0.08393854575868848,0.06339013493636744,0.044743679368913644,0.02838670735216783,0.014627580006334946,0.0037025838949493145,-0.004215913110515241,-0.009011537058698997,-0.010617349295218181,-0.009011537058698997,-0.004215913110515241,0.0037025838949493145,0.014627580006334946,0.02838670735216783,0.044743679368913644,0.06339013493636744,0.08393854575868848,0.10591753298818528,0.12877087581897034,0.15186131748507978,0.17447999195279823,0.19586192453391038,0.2152076253393881,0.2317103248693539,0.24458792842044305,0.25311832399967577,0.2566762997375786,0.25477004091850136,0.24707500803079696,0.23346296309158113,0.21402402107025095,0.1890798565922851,0.15918658398472915,0.12512633286074154,0.0878871354792479,0.04863139306208121,0.008653858363151095,-0.03066927919323432,-0.06793803188546253,-0.10179031338845618,-0.13096468174943518,-0.1543609103022869,-0.17109514979541934,-0.18054660691367944,-0.18239300622958532,-0.17663261032673944,-0.163591222139663,-0.14391335124448024],[-0.10007704610444179,-0.12803786284735597,-0.1511875643863488,-0.16848219583369567,-0.17913546063850083,-0.18264893898060253,-0.1788278960809016,-0.16778234479339135,-0.1499137997580331,-0.1258888846262905,-0.096601590755175,-0.0631265026963309,-0.026665677985416577,0.011507919583092052,0.05010748884225075,0.0878871354792479,0.12369173187889267,0.15649972810645998,0.18545724476618586,0.20990234059772522,0.22937894091767205,0.24364050109720906,0.25264402764959015,0.25653555744366946,0.25562857790064414,0.25037713957121355,0.2413455569066888,0.22917661128094333,0.21456006847846779,0.19820311451195688,0.18080401871815463,0.1630299764243758,0.14549969299473817,0.12877087581897034,0.11333242903336226,0.09960082298540655,0.08791985781076668,0.07856287339249271,0.07173638515428266,0.06758414818694233,0.0661907655654817,0.06758414818694233,0.07173638515428266,0.07856287339249271,0.08791985781076668,0.09960082298540655,0.11333242903336226,0.12877087581897034,0.14549969299473817,0.1630299764243758,0.18080401871815463,0.19820311451195688,0.21456006847846779,0.22917661128094333,0.2413455569066888,0.25037713957121355,0.25562857790064414,0.25653555744366946,0.25264402764959015,0.24364050109720906,0.22937894091767205,0.20990234059772522,0.18545724476618586,0.15649972810645998,0.12369173187889267,0.0878871354792479,0.05010748884225075,0.011507919583092052,-0.026665677985416577,-0.0631265026963309,-0.096601590755175,-0.1258888846262905,-0.1499137997580331,-0.16778234479339135,-0.1788278960809016,-0.18264893898060253,-0.17913546063850083,-0.16848219583369567,-0.1511875643863488,-0.12803786284735597],[-0.07968395387291566,-0.10965701691843574,-0.13575600794040762,-0.15685668268767797,-0.17205475511311313,-0.1807007071005138,-0.18242166855756492,-0.17712974307464055,-0.16501687105976595,-0.14653700801271363,-0.12237701362727325,-0.09341816596346665,-0.060690608986011814,-0.02532329427921568,0.011507919583092052,0.04863139306208121,0.08492762656935865,0.11937185506223688,0.15106960365711752,0.1792839709402817,0.20345392533496165,0.2232034254780841,0.2383416766936446,0.24885528388828942,0.254893432701845,0.25674750760048576,0.2548267267047997,0.24963143467045815,0.24172565029557566,0.2317103248693539,0.22019854657881394,0.20779364608280457,0.19507084218595108,0.18256273925541686,0.17074867404778504,0.16004763127913005,0.15081422331281308,0.1433370736825879,0.13783886506830845,0.134477311926808,0.1333463922312941,0.134477311926808,0.13783886506830845,0.1433370736825879,0.15081422331281308,0.16004763127913005,0.17074867404778504,0.18256273925541686,0.19507084218595108,0.20779364608280457,0.22019854657881394,0.2317103248693539,0.24172565029557566,0.24963143467045815,0.2548267267047997,0.25674750760048576,0.254893432701845,0.24885528388828942,0.2383416766936446,0.2232034254780841,0.20345392533496165,0.1792839709402817,0.15106960365711752,0.11937185506223688,0.08492762656935865,0.04863139306208121,0.011507919583092052,-0.02532329427921568,-0.060690608986011814,-0.09341816596346665,-0.12237701362727325,-0.14653700801271363,-0.16501687105976595,-0.17712974307464055,-0.18242166855756492,-0.1807007071005138,-0.17205475511311313,-0.15685668268767797,-0.13575600794040762,-0.10965701691843574],[-0.05769048962428924,-0.08904297911487404,-0.11749065565570795,-0.14185512230149663,-0.16113955966514656,-0.17456713788189782,-0.18160802037610754,-0.18199408570471504,-0.17572115154133375,-0.16303912773542587,-0.14443111863131364,-0.12058300781296416,-0.09234546620178369,-0.060690608986011814,-0.026665677985416577,0.008653858363151095,0.044209509361482956,0.07900122348247962,0.11212338767979044,0.14279404657238684,0.17037647050011584,0.1943926655354523,0.2145288714461612,0.23063350923189954,0.242708395806646,0.2508943222213973,0.2554522819126627,0.2567417315441088,0.25519727019112654,0.25130504004127213,0.2455799958764798,0.23854497801642713,0.23071227369415245,0.2225680860000738,0.21456006847846779,0.2070878465419809,0.20049625055173417,0.19507084218595108,0.19103523332295086,0.18854967763954522,0.18771045677679687,0.18854967763954522,0.19103523332295086,0.19507084218595108,0.20049625055173417,0.2070878465419809,0.21456006847846779,0.2225680860000738,0.23071227369415245,0.23854497801642713,0.2455799958764798,0.25130504004127213,0.25519727019112654,0.2567417315441088,0.2554522819126627,0.2508943222213973,0.242708395806646,0.23063350923189954,0.2145288714461612,0.1943926655354523,0.17037647050011584,0.14279404657238684,0.11212338767979044,0.07900122348247962,0.044209509361482956,0.008653858363151095,-0.026665677985416577,-0.060690608986011814,-0.09234546620178369,-0.12058300781296416,-0.14443111863131364,-0.16303912773542587,-0.17572115154133375,-0.18199408570471504,-0.18160802037610754,-0.17456713788189782,-0.16113955966514656,-0.14185512230149663,-0.11749065565570795,-0.08904297911487404],[-0.0345063152690242,-0.06655906279410359,-0.09668883252747353,-0.12368964794720452,-0.1464987033293174,-0.1642373823959323,-0.17624240938958516,-0.18208605074549258,-0.18158488243001691,-0.1747972342928682,-0.16200998595397612,-0.1437158894806465,-0.12058300781296416,-0.09341816596346665,-0.0631265026963309,-0.03066927919323432,0.0029779491154211806,0.03686485131708162,0.07010183827093616,0.1018902143955224,0.13154597877649798,0.15851669454452746,0.18239124981424537,0.20290271423033404,0.21992483146863692,0.23346296309158113,0.24364050109720906,0.2506818889186662,0.254893432701845,0.2566430509401283,0.2563400102730029,0.25441554164532254,0.25130504004127213,0.24743234013685533,0.2431963471432226,0.23896010343988033,0.23504220166614895,0.2317103248693539,0.22917661128094333,0.22759450814784551,0.2270567942100705,0.22759450814784551,0.22917661128094333,0.2317103248693539,0.23504220166614895,0.23896010343988033,0.2431963471432226,0.24743234013685533,0.25130504004127213,0.25441554164532254,0.2563400102730029,0.2566430509401283,0.254893432701845,0.2506818889186662,0.24364050109720906,0.23346296309158113,0.21992483146863692,0.20290271423033404,0.18239124981424537,0.15851669454452746,0.13154597877649798,0.1018902143955224,0.07010183827093616,0.03686485131708162,0.0029779491154211806,-0.03066927919323432,-0.0631265026963309,-0.09341816596346665,-0.12058300781296416,-0.1437158894806465,-0.16200998595397612,-0.1747972342928682,-0.18158488243001691,-0.18208605074549258,-0.17624240938958516,-0.1642373823959323,-0.1464987033293174,-0.12368964794720452,-0.09668883252747353,-0.06655906279410359],[-0.01061150357619211,-0.042655257000177006,-0.07374973820785838,-0.10268778525178764,-0.1283676319466868,-0.14983554931501694,-0.16632015713858264,-0.17725715646546372,-0.18230376872794093,-0.18134271385500067,-0.17447608825271163,-0.16200998595397612,-0.14443111863131364,-0.12237701362727325,-0.096601590755175,-0.06793803188546253,-0.03726086233570953,-0.005449066140771361,0.026648129724923395,0.058241427706856384,0.08862652853638416,0.11720338291232232,0.14348926836260514,0.16712567793535366,0.18787932061729182,0.20563779959612533,0.22040074178662336,0.23226729318028777,0.24142096714711753,0.24811283911536614,0.25264402764959015,0.255348298963932,0.256575492104657,0.2566762997375786,0.2559887694405144,0.2548267267047997,0.25347017586536014,0.252157618714697,0.25108014921898075,0.25037713957121355,0.25013332713993036,0.25037713957121355,0.25108014921898075,0.252157618714697,0.25347017586536014,0.2548267267047997,0.2559887694405144,0.2566762997375786,0.256575492104657,0.255348298963932,0.25264402764959015,0.24811283911536614,0.24142096714711753,0.23226729318028777,0.22040074178662336,0.20563779959612533,0.18787932061729182,0.16712567793535366,0.14348926836260514,0.11720338291232232,0.08862652853638416,0.058241427706856384,0.026648129724923395,-0.005449066140771361,-0.03726086233570953,-0.06793803188546253,-0.096601590755175,-0.12237701362727325,-0.14443111863131364,-0.16200998595397612,-0.17447608825271163,-0.18134271385500067,-0.18230376872794093,-0.17725715646546372,-0.16632015713858264,-0.14983554931501694,-0.1283676319466868,-0.10268778525178764,-0.07374973820785838,-0.042655257000177006],[0.013454008098850966,-0.017859822184363938,-0.04916880920228074,-0.07929019757294747,-0.10711012813756442,-0.1316269478872783,-0.15198770280837584,-0.16751643729146143,-0.17773339606034183,-0.18236471957976835,-0.18134271385500067,-0.1747972342928682,-0.16303912773542587,-0.14653700801271363,-0.1258888846262905,-0.10179031338845618,-0.0750007897964791,-0.046310064114579955,-0.016505930263581485,0.013655158230898757,0.043473546354522816,0.07232710218505171,0.09968670899986165,0.12512633286074154,0.14832776112580212,0.16908036038891633,0.18727640924644018,0.20290271423033404,0.21602931256266372,0.22679610352037188,0.23539823538075702,0.2420710146043941,0.24707500803079696,0.2506818889186662,0.2531614457800734,0.25477004091850136,0.2557406839380664,0.2562747828163765,0.25653555744366946,0.2566430509401283,0.2566706526738519,0.2566430509401283,0.25653555744366946,0.2562747828163765,0.2557406839380664,0.25477004091850136,0.2531614457800734,0.2506818889186662,0.24707500803079696,0.2420710146043941,0.23539823538075702,0.22679610352037188,0.21602931256266372,0.20290271423033404,0.18727640924644018,0.16908036038891633,0.14832776112580212,0.12512633286074154,0.09968670899986165,0.07232710218505171,0.043473546354522816,0.013655158230898757,-0.016505930263581485,-0.046310064114579955,-0.0750007897964791,-0.10179031338845618,-0.1258888846262905,-0.14653700801271363,-0.16303912773542587,-0.1747972342928682,-0.18134271385500067,-0.18236471957976835,-0.17773339606034183,-0.16751643729146143,-0.15198770280837584,-0.1316269478872783,-0.10711012813756442,-0.07929019757294747,-0.04916880920228074,-0.017859822184363938],[0.037104384846577534,0.007233082355737275,-0.023527608249201665,-0.054043516875550875,-0.08321475815193494,-0.11001880232017779,-0.13354819579908725,-0.15304146672549196,-0.167906160972842,-0.17773339606034183,-0.18230376872794093,-0.18158488243001691,-0.17572115154133375,-0.16501687105976595,-0.1499137997580331,-0.13096468174943518,-0.10880422217787396,-0.08411903827788304,-0.05761803324395176,-0.030004497243790427,-0.001951040868825416,0.025921773001301992,0.05306249567952219,0.07900122348247962,0.10335731863015635,0.1258425822940911,0.14626024334832619,0.16450028494360933,0.18053174205108255,0.1943926655354523,0.2061784643801796,0.21602931256266372,0.22411724822563847,0.23063350923189954,0.23577655069724138,0.23974108638511749,0.242708395806646,0.24483804991090946,0.24626113579560338,0.24707500803079696,0.24733956165584545,0.24707500803079696,0.24626113579560338,0.24483804991090946,0.242708395806646,0.23974108638511749,0.23577655069724138,0.23063350923189954,0.22411724822563847,0.21602931256266372,0.2061784643801796,0.1943926655354523,0.18053174205108255,0.16450028494360933,0.14626024334832619,0.1258425822940911,0.10335731863015635,0.07900122348247962,0.05306249567952219,0.025921773001301992,-0.001951040868825416,-0.030004497243790427,-0.05761803324395176,-0.08411903827788304,-0.10880422217787396,-0.13096468174943518,-0.1499137997580331,-0.16501687105976595,-0.17572115154133375,-0.18158488243001691,-0.18230376872794093,-0.17773339606034183,-0.167906160972842,-0.15304146672549196,-0.13354819579908725,-0.11001880232017779,-0.08321475815193494,-0.054043516875550875,-0.023527608249201665,0.007233082355737275],[0.059725017515438364,0.03197958453286062,0.0025207381574719806,-0.027588123185645037,-0.0572857273340844,-0.08555491563889543,-0.1114606806231028,-0.13418273806183595,-0.15304146672549196,-0.16751643729146143,-0.17725715646546372,-0.18208605074549258,-0.18199408570471504,-0.17712974307464055,-0.16778234479339135,-0.1543609103022869,-0.13736985507049018,-0.11738288358628372,-0.0950164022704569,-0.07090368426500879,-0.045670869380806056,-0.019915691575644292,0.0058103924762656495,0.031016232090896562,0.05528095770522729,0.07825990831739421,0.09968670899986165,0.11937185506223688,0.13719827990417027,0.15311446345017118,0.16712567793535366,0.1792839709402817,0.18967745729212915,0.19841943861188654,0.20563779959612533,0.21146505144444128,0.21602931256266372,0.21944644111666822,0.22181346801290225,0.2232034254780841,0.22366162672468853,0.2232034254780841,0.22181346801290225,0.21944644111666822,0.21602931256266372,0.21146505144444128,0.20563779959612533,0.19841943861188654,0.18967745729212915,0.1792839709402817,0.16712567793535366,0.15311446345017118,0.13719827990417027,0.11937185506223688,0.09968670899986165,0.07825990831739421,0.05528095770522729,0.031016232090896562,0.0058103924762656495,-0.019915691575644292,-0.045670869380806056,-0.07090368426500879,-0.0950164022704569,-0.11738288358628372,-0.13736985507049018,-0.1543609103022869,-0.16778234479339135,-0.17712974307464055,-0.18199408570471504,-0.18208605074549258,-0.17725715646546372,-0.16751643729146143,-0.15304146672549196,-0.13418273806183595,-0.1114606806231028,-0.08555491563889543,-0.0572857273340844,-0.027588123185645037,0.0025207381574719806,0.03197958453286062],[0.08069235790121831,0.05570574218106777,0.028270310898122826,-0.0006409754282528475,-0.03002807965783915,-0.05890402451081101,-0.08633239590937543,-0.1114606806231028,-0.13354819579908725,-0.15198770280837584,-0.16632015713858264,-0.17624240938958516,-0.18160802037610754,-0.18242166855756492,-0.1788278960809016,-0.17109514979541934,-0.15959621882048483,-0.14478624788034108,-0.1271795169340972,-0.10732612754693129,-0.0857896329957062,-0.0631265026963309,-0.039868134180728126,-0.016505930263581485,0.0065202421682302655,0.02883009042098063,0.05010748884225075,0.07010183827093616,0.08862652853638416,0.10555493165712146,0.12081441070397907,0.13437885433763305,0.14626024334832619,0.15649972810645998,0.16515865057394133,0.17230988766358785,0.17802983029511174,0.18239124981424537,0.18545724476618586,0.18727640924644018,0.18787932061729182,0.18727640924644018,0.18545724476618586,0.18239124981424537,0.17802983029511174,0.17230988766358785,0.16515865057394133,0.15649972810645998,0.14626024334832619,0.13437885433763305,0.12081441070397907,0.10555493165712146,0.08862652853638416,0.07010183827093616,0.05010748884225075,0.02883009042098063,0.0065202421682302655,-0.016505930263581485,-0.039868134180728126,-0.0631265026963309,-0.0857896329957062,-0.10732612754693129,-0.1271795169340972,-0.14478624788034108,-0.15959621882048483,-0.17109514979541934,-0.1788278960809016,-0.18242166855756492,-0.18160802037610754,-0.17624240938958516,-0.16632015713858264,-0.15198770280837584,-0.13354819579908725,-0.1114606806231028,-0.08633239590937543,-0.05890402451081101,-0.03002807965783915,-0.0006409754282528475,0.028270310898122826,0.05570574218106777],[0.0993958462307399,0.07773008237271903,0.05298490441364873,0.026026147564044762,-0.0022274559793407315,-0.030841885736018544,-0.05890402451081101,-0.08555491563889543,-0.11001880232017779,-0.1316269478872783,-0.14983554931501694,-0.1642373823959323,-0.17456713788189782,-0.1807007071005138,-0.18264893898060253,-0.18054660691367944,-0.17463748569481502,-0.16525654180237792,-0.1528102839666787,-0.13775630818181953,-0.12058300781296416,-0.10179031338845618,-0.08187218787401292,-0.061301442485772274,-0.040517266401149735,-0.019915691575644292,0.0001569493213448689,0.019407660252202565,0.03759772656874239,0.054541276561040686,0.07010183827093616,0.08418731130237875,0.09674378883254962,0.10774865812501504,0.11720338291232232,0.12512633286074154,0.13154597877649798,0.13649472168344115,0.14000357308347133,0.14209785531573388,0.14279404657238684,0.14209785531573388,0.14000357308347133,0.13649472168344115,0.13154597877649798,0.12512633286074154,0.11720338291232232,0.10774865812501504,0.09674378883254962,0.08418731130237875,0.07010183827093616,0.054541276561040686,0.03759772656874239,0.019407660252202565,0.0001569493213448689,-0.019915691575644292,-0.040517266401149735,-0.061301442485772274,-0.08187218787401292,-0.10179031338845618,-0.12058300781296416,-0.13775630818181953,-0.1528102839666787,-0.16525654180237792,-0.17463748569481502,-0.18054660691367944,-0.18264893898060253,-0.1807007071005138,-0.17456713788189782,-0.1642373823959323,-0.14983554931501694,-0.1316269478872783,-0.11001880232017779,-0.08555491563889543,-0.05890402451081101,-0.030841885736018544,-0.0022274559793407315,0.026026147564044762,0.05298490441364873,0.07773008237271903],[0.11526115097856117,0.09738828403656238,0.0759235678781371,0.05161237775613617,0.025275083284098894,-0.0022274559793407315,-0.03002807965783915,-0.0572857273340844,-0.08321475815193494,-0.10711012813756442,-0.1283676319466868,-0.1464987033293174,-0.16113955966514656,-0.17205475511311313,-0.17913546063850083,-0.18239300622958532,-0.18194839266053625,-0.17801860199902664,-0.17090060569317098,-0.1609539875623888,-0.14858307017251748,-0.13421936300715656,-0.11830504740258321,-0.10127808535368477,-0.08355939645450051,-0.06554239869174844,-0.04758506314163741,-0.030004497243790427,-0.013073952151520388,0.0029779491154211806,0.017966041941118966,0.031745840459068614,0.044209509361482956,0.05528095770522729,0.0649104168254659,0.07306884206017318,0.07974244535617742,0.08492762656935865,0.08862652853638416,0.09084339726921295,0.09158188560927924,0.09084339726921295,0.08862652853638416,0.08492762656935865,0.07974244535617742,0.07306884206017318,0.0649104168254659,0.05528095770522729,0.044209509361482956,0.031745840459068614,0.017966041941118966,0.0029779491154211806,-0.013073952151520388,-0.030004497243790427,-0.04758506314163741,-0.06554239869174844,-0.08355939645450051,-0.10127808535368477,-0.11830504740258321,-0.13421936300715656,-0.14858307017251748,-0.1609539875623888,-0.17090060569317098,-0.17801860199902664,-0.18194839266053625,-0.18239300622958532,-0.17913546063850083,-0.17205475511311313,-0.16113955966514656,-0.1464987033293174,-0.1283676319466868,-0.10711012813756442,-0.08321475815193494,-0.0572857273340844,-0.03002807965783915,-0.0022274559793407315,0.025275083284098894,0.05161237775613617,0.0759235678781371,0.09738828403656238],[0.12777380562398274,0.11405907878471819,0.09636827159298987,0.07531659368730659,0.05161237775613617,0.026026147564044762,-0.0006409754282528475,-0.027588123185645037,-0.054043516875550875,-0.07929019757294747,-0.10268778525178764,-0.12368964794720452,-0.14185512230149663,-0.15685668268767797,-0.16848219583369567,-0.17663261032673944,-0.18131560690315682,-0.1826358700412797,-0.18078273088932142,-0.1760159755489718,-0.16865061331126227,-0.15904136091487175,-0.14756752732225356,-0.13461888616197776,-0.12058300781296416,-0.10583439818051152,-0.0907256642328181,-0.07558080422426758,-0.060690608986011814,-0.046310064114579955,-0.032657564269347995,-0.019915691575644292,-0.00823327044894154,0.0022716100207446164,0.011507919583092052,0.019407660252202565,0.025921773001301992,0.031016232090896562,0.03466854669458865,0.03686485131708162,0.03759772656874239,0.03686485131708162,0.03466854669458865,0.031016232090896562,0.025921773001301992,0.019407660252202565,0.011507919583092052,0.0022716100207446164,-0.00823327044894154,-0.019915691575644292,-0.032657564269347995,-0.046310064114579955,-0.060690608986011814,-0.07558080422426758,-0.0907256642328181,-0.10583439818051152,-0.12058300781296416,-0.13461888616197776,-0.14756752732225356,-0.15904136091487175,-0.16865061331126227,-0.1760159755489718,-0.18078273088932142,-0.1826358700412797,-0.18131560690315682,-0.17663261032673944,-0.16848219583369567,-0.15685668268767797,-0.14185512230149663,-0.12368964794720452,-0.10268778525178764,-0.07929019757294747,-0.054043516875550875,-0.027588123185645037,-0.0006409754282528475,0.026026147564044762,0.05161237775613617,0.07531659368730659,0.09636827159298987,0.11405907878471819],[0.13650222610828716,0.12719030582037316,0.1136526088802527,0.09636827159298987,0.0759235678781371,0.05298490441364873,0.028270310898122826,0.0025207381574719806,-0.023527608249201665,-0.04916880920228074,-0.07374973820785838,-0.09668883252747353,-0.11749065565570795,-0.13575600794040762,-0.1511875643863488,-0.163591222139663,-0.17287351607260817,-0.17903560277058095,-0.1821644169794075,-0.18242166855756492,-0.1800313728705813,-0.1752665961050691,-0.16843605361995675,-0.15987112992755653,-0.1499137997580331,-0.13890582780165694,-0.1271795169340972,-0.11505016730310495,-0.10281030706494562,-0.0907256642328181,-0.07903277128303789,-0.06793803188546253,-0.05761803324395176,-0.04822085787410071,-0.039868134180728126,-0.032657564269347995,-0.026665677985416577,-0.021950582012676394,-0.01855449981019833,-0.016505930263581485,-0.015821288518275644,-0.016505930263581485,-0.01855449981019833,-0.021950582012676394,-0.026665677985416577,-0.032657564269347995,-0.039868134180728126,-0.04822085787410071,-0.05761803324395176,-0.06793803188546253,-0.07903277128303789,-0.0907256642328181,-0.10281030706494562,-0.11505016730310495,-0.1271795169340972,-0.13890582780165694,-0.1499137997580331,-0.15987112992755653,-0.16843605361995675,-0.1752665961050691,-0.1800313728705813,-0.18242166855756492,-0.1821644169794075,-0.17903560277058095,-0.17287351607260817,-0.163591222139663,-0.1511875643863488,-0.13575600794040762,-0.11749065565570795,-0.09668883252747353,-0.07374973820785838,-0.04916880920228074,-0.023527608249201665,0.0025207381574719806,0.028270310898122826,0.05298490441364873,0.0759235678781371,0.09636827159298987,0.1136526088802527,0.12719030582037316],[0.14111903500315878,0.13632396086944565,0.12719030582037316,0.11405907878471819,0.09738828403656238,0.07773008237271903,0.05570574218106777,0.03197958453286062,0.007233082355737275,-0.017859822184363938,-0.042655257000177006,-0.06655906279410359,-0.08904297911487404,-0.10965701691843574,-0.12803786284735597,-0.14391335124448024,-0.15710321083861073,-0.16751643729146143,-0.1751457556394694,-0.1800597155006458,-0.18239300622958532,-0.18233559039097344,-0.18012123502583363,-0.1760159755489718,-0.17030698199702413,-0.16329221750830802,-0.15527119023634722,-0.14653700801271363,-0.13736985507049018,-0.12803192632998142,-0.11876378051842666,-0.10978201113265723,-0.10127808535368477,-0.09341816596346665,-0.08634370978474622,-0.08017262722723162,-0.0750007897964791,-0.07090368426500879,-0.06793803188546253,-0.06614321685638791,-0.06554239869174844,-0.06614321685638791,-0.06793803188546253,-0.07090368426500879,-0.0750007897964791,-0.08017262722723162,-0.08634370978474622,-0.09341816596346665,-0.10127808535368477,-0.10978201113265723,-0.11876378051842666,-0.12803192632998142,-0.13736985507049018,-0.14653700801271363,-0.15527119023634722,-0.16329221750830802,-0.17030698199702413,-0.1760159755489718,-0.18012123502583363,-0.18233559039097344,-0.18239300622958532,-0.1800597155006458,-0.1751457556394694,-0.16751643729146143,-0.15710321083861073,-0.14391335124448024,-0.12803786284735597,-0.10965701691843574,-0.08904297911487404,-0.06655906279410359,-0.042655257000177006,-0.017859822184363938,0.007233082355737275,0.03197958453286062,0.05570574218106777,0.07773008237271903,0.09738828403656238,0.11405907878471819,0.12719030582037316,0.13632396086944565]]}],                        {\"legend\":{\"bgcolor\":\"#151516\",\"font\":{\"color\":\"#D9D9D9\"}},\"paper_bgcolor\":\"#151516\",\"plot_bgcolor\":\"#151516\",\"template\":{\"data\":{\"bar\":[{\"error_x\":{\"color\":\"#2a3f5f\"},\"error_y\":{\"color\":\"#2a3f5f\"},\"marker\":{\"line\":{\"color\":\"#E5ECF6\",\"width\":0.5},\"pattern\":{\"fillmode\":\"overlay\",\"size\":10,\"solidity\":0.2}},\"type\":\"bar\"}],\"barpolar\":[{\"marker\":{\"line\":{\"color\":\"#E5ECF6\",\"width\":0.5},\"pattern\":{\"fillmode\":\"overlay\",\"size\":10,\"solidity\":0.2}},\"type\":\"barpolar\"}],\"carpet\":[{\"aaxis\":{\"endlinecolor\":\"#2a3f5f\",\"gridcolor\":\"white\",\"linecolor\":\"white\",\"minorgridcolor\":\"white\",\"startlinecolor\":\"#2a3f5f\"},\"baxis\":{\"endlinecolor\":\"#2a3f5f\",\"gridcolor\":\"white\",\"linecolor\":\"white\",\"minorgridcolor\":\"white\",\"startlinecolor\":\"#2a3f5f\"},\"type\":\"carpet\"}],\"choropleth\":[{\"colorbar\":{\"outlinewidth\":0,\"ticks\":\"\"},\"type\":\"choropleth\"}],\"contour\":[{\"colorbar\":{\"outlinewidth\":0,\"ticks\":\"\"},\"colorscale\":[[0.0,\"#0d0887\"],[0.1111111111111111,\"#46039f\"],[0.2222222222222222,\"#7201a8\"],[0.3333333333333333,\"#9c179e\"],[0.4444444444444444,\"#bd3786\"],[0.5555555555555556,\"#d8576b\"],[0.6666666666666666,\"#ed7953\"],[0.7777777777777778,\"#fb9f3a\"],[0.8888888888888888,\"#fdca26\"],[1.0,\"#f0f921\"]],\"type\":\"contour\"}],\"contourcarpet\":[{\"colorbar\":{\"outlinewidth\":0,\"ticks\":\"\"},\"type\":\"contourcarpet\"}],\"heatmap\":[{\"colorbar\":{\"outlinewidth\":0,\"ticks\":\"\"},\"colorscale\":[[0.0,\"#0d0887\"],[0.1111111111111111,\"#46039f\"],[0.2222222222222222,\"#7201a8\"],[0.3333333333333333,\"#9c179e\"],[0.4444444444444444,\"#bd3786\"],[0.5555555555555556,\"#d8576b\"],[0.6666666666666666,\"#ed7953\"],[0.7777777777777778,\"#fb9f3a\"],[0.8888888888888888,\"#fdca26\"],[1.0,\"#f0f921\"]],\"type\":\"heatmap\"}],\"heatmapgl\":[{\"colorbar\":{\"outlinewidth\":0,\"ticks\":\"\"},\"colorscale\":[[0.0,\"#0d0887\"],[0.1111111111111111,\"#46039f\"],[0.2222222222222222,\"#7201a8\"],[0.3333333333333333,\"#9c179e\"],[0.4444444444444444,\"#bd3786\"],[0.5555555555555556,\"#d8576b\"],[0.6666666666666666,\"#ed7953\"],[0.7777777777777778,\"#fb9f3a\"],[0.8888888888888888,\"#fdca26\"],[1.0,\"#f0f921\"]],\"type\":\"heatmapgl\"}],\"histogram\":[{\"marker\":{\"pattern\":{\"fillmode\":\"overlay\",\"size\":10,\"solidity\":0.2}},\"type\":\"histogram\"}],\"histogram2d\":[{\"colorbar\":{\"outlinewidth\":0,\"ticks\":\"\"},\"colorscale\":[[0.0,\"#0d0887\"],[0.1111111111111111,\"#46039f\"],[0.2222222222222222,\"#7201a8\"],[0.3333333333333333,\"#9c179e\"],[0.4444444444444444,\"#bd3786\"],[0.5555555555555556,\"#d8576b\"],[0.6666666666666666,\"#ed7953\"],[0.7777777777777778,\"#fb9f3a\"],[0.8888888888888888,\"#fdca26\"],[1.0,\"#f0f921\"]],\"type\":\"histogram2d\"}],\"histogram2dcontour\":[{\"colorbar\":{\"outlinewidth\":0,\"ticks\":\"\"},\"colorscale\":[[0.0,\"#0d0887\"],[0.1111111111111111,\"#46039f\"],[0.2222222222222222,\"#7201a8\"],[0.3333333333333333,\"#9c179e\"],[0.4444444444444444,\"#bd3786\"],[0.5555555555555556,\"#d8576b\"],[0.6666666666666666,\"#ed7953\"],[0.7777777777777778,\"#fb9f3a\"],[0.8888888888888888,\"#fdca26\"],[1.0,\"#f0f921\"]],\"type\":\"histogram2dcontour\"}],\"mesh3d\":[{\"colorbar\":{\"outlinewidth\":0,\"ticks\":\"\"},\"type\":\"mesh3d\"}],\"parcoords\":[{\"line\":{\"colorbar\":{\"outlinewidth\":0,\"ticks\":\"\"}},\"type\":\"parcoords\"}],\"pie\":[{\"automargin\":true,\"type\":\"pie\"}],\"scatter\":[{\"marker\":{\"colorbar\":{\"outlinewidth\":0,\"ticks\":\"\"}},\"type\":\"scatter\"}],\"scatter3d\":[{\"line\":{\"colorbar\":{\"outlinewidth\":0,\"ticks\":\"\"}},\"marker\":{\"colorbar\":{\"outlinewidth\":0,\"ticks\":\"\"}},\"type\":\"scatter3d\"}],\"scattercarpet\":[{\"marker\":{\"colorbar\":{\"outlinewidth\":0,\"ticks\":\"\"}},\"type\":\"scattercarpet\"}],\"scattergeo\":[{\"marker\":{\"colorbar\":{\"outlinewidth\":0,\"ticks\":\"\"}},\"type\":\"scattergeo\"}],\"scattergl\":[{\"marker\":{\"colorbar\":{\"outlinewidth\":0,\"ticks\":\"\"}},\"type\":\"scattergl\"}],\"scattermapbox\":[{\"marker\":{\"colorbar\":{\"outlinewidth\":0,\"ticks\":\"\"}},\"type\":\"scattermapbox\"}],\"scatterpolar\":[{\"marker\":{\"colorbar\":{\"outlinewidth\":0,\"ticks\":\"\"}},\"type\":\"scatterpolar\"}],\"scatterpolargl\":[{\"marker\":{\"colorbar\":{\"outlinewidth\":0,\"ticks\":\"\"}},\"type\":\"scatterpolargl\"}],\"scatterternary\":[{\"marker\":{\"colorbar\":{\"outlinewidth\":0,\"ticks\":\"\"}},\"type\":\"scatterternary\"}],\"surface\":[{\"colorbar\":{\"outlinewidth\":0,\"ticks\":\"\"},\"colorscale\":[[0.0,\"#0d0887\"],[0.1111111111111111,\"#46039f\"],[0.2222222222222222,\"#7201a8\"],[0.3333333333333333,\"#9c179e\"],[0.4444444444444444,\"#bd3786\"],[0.5555555555555556,\"#d8576b\"],[0.6666666666666666,\"#ed7953\"],[0.7777777777777778,\"#fb9f3a\"],[0.8888888888888888,\"#fdca26\"],[1.0,\"#f0f921\"]],\"type\":\"surface\"}],\"table\":[{\"cells\":{\"fill\":{\"color\":\"#EBF0F8\"},\"line\":{\"color\":\"white\"}},\"header\":{\"fill\":{\"color\":\"#C8D4E3\"},\"line\":{\"color\":\"white\"}},\"type\":\"table\"}]},\"layout\":{\"annotationdefaults\":{\"arrowcolor\":\"#2a3f5f\",\"arrowhead\":0,\"arrowwidth\":1},\"autotypenumbers\":\"strict\",\"coloraxis\":{\"colorbar\":{\"outlinewidth\":0,\"ticks\":\"\"}},\"colorscale\":{\"diverging\":[[0,\"#8e0152\"],[0.1,\"#c51b7d\"],[0.2,\"#de77ae\"],[0.3,\"#f1b6da\"],[0.4,\"#fde0ef\"],[0.5,\"#f7f7f7\"],[0.6,\"#e6f5d0\"],[0.7,\"#b8e186\"],[0.8,\"#7fbc41\"],[0.9,\"#4d9221\"],[1,\"#276419\"]],\"sequential\":[[0.0,\"#0d0887\"],[0.1111111111111111,\"#46039f\"],[0.2222222222222222,\"#7201a8\"],[0.3333333333333333,\"#9c179e\"],[0.4444444444444444,\"#bd3786\"],[0.5555555555555556,\"#d8576b\"],[0.6666666666666666,\"#ed7953\"],[0.7777777777777778,\"#fb9f3a\"],[0.8888888888888888,\"#fdca26\"],[1.0,\"#f0f921\"]],\"sequentialminus\":[[0.0,\"#0d0887\"],[0.1111111111111111,\"#46039f\"],[0.2222222222222222,\"#7201a8\"],[0.3333333333333333,\"#9c179e\"],[0.4444444444444444,\"#bd3786\"],[0.5555555555555556,\"#d8576b\"],[0.6666666666666666,\"#ed7953\"],[0.7777777777777778,\"#fb9f3a\"],[0.8888888888888888,\"#fdca26\"],[1.0,\"#f0f921\"]]},\"colorway\":[\"#636efa\",\"#EF553B\",\"#00cc96\",\"#ab63fa\",\"#FFA15A\",\"#19d3f3\",\"#FF6692\",\"#B6E880\",\"#FF97FF\",\"#FECB52\"],\"font\":{\"color\":\"#2a3f5f\"},\"geo\":{\"bgcolor\":\"white\",\"lakecolor\":\"white\",\"landcolor\":\"#E5ECF6\",\"showlakes\":true,\"showland\":true,\"subunitcolor\":\"white\"},\"hoverlabel\":{\"align\":\"left\"},\"hovermode\":\"closest\",\"mapbox\":{\"style\":\"light\"},\"paper_bgcolor\":\"white\",\"plot_bgcolor\":\"#E5ECF6\",\"polar\":{\"angularaxis\":{\"gridcolor\":\"white\",\"linecolor\":\"white\",\"ticks\":\"\"},\"bgcolor\":\"#E5ECF6\",\"radialaxis\":{\"gridcolor\":\"white\",\"linecolor\":\"white\",\"ticks\":\"\"}},\"scene\":{\"xaxis\":{\"backgroundcolor\":\"#E5ECF6\",\"gridcolor\":\"white\",\"gridwidth\":2,\"linecolor\":\"white\",\"showbackground\":true,\"ticks\":\"\",\"zerolinecolor\":\"white\"},\"yaxis\":{\"backgroundcolor\":\"#E5ECF6\",\"gridcolor\":\"white\",\"gridwidth\":2,\"linecolor\":\"white\",\"showbackground\":true,\"ticks\":\"\",\"zerolinecolor\":\"white\"},\"zaxis\":{\"backgroundcolor\":\"#E5ECF6\",\"gridcolor\":\"white\",\"gridwidth\":2,\"linecolor\":\"white\",\"showbackground\":true,\"ticks\":\"\",\"zerolinecolor\":\"white\"}},\"shapedefaults\":{\"line\":{\"color\":\"#2a3f5f\"}},\"ternary\":{\"aaxis\":{\"gridcolor\":\"white\",\"linecolor\":\"white\",\"ticks\":\"\"},\"baxis\":{\"gridcolor\":\"white\",\"linecolor\":\"white\",\"ticks\":\"\"},\"bgcolor\":\"#E5ECF6\",\"caxis\":{\"gridcolor\":\"white\",\"linecolor\":\"white\",\"ticks\":\"\"}},\"title\":{\"x\":0.05},\"xaxis\":{\"automargin\":true,\"gridcolor\":\"white\",\"linecolor\":\"white\",\"ticks\":\"\",\"title\":{\"standoff\":15},\"zerolinecolor\":\"white\",\"zerolinewidth\":2},\"yaxis\":{\"automargin\":true,\"gridcolor\":\"white\",\"linecolor\":\"white\",\"ticks\":\"\",\"title\":{\"standoff\":15},\"zerolinecolor\":\"white\",\"zerolinewidth\":2}}},\"title\":{\"font\":{\"color\":\"#D9D9D9\"}},\"xaxis\":{\"gridcolor\":\"#434343\",\"showgrid\":true,\"tickfont\":{\"color\":\"#C2C2C2\"},\"title\":{\"font\":{\"color\":\"#D9D9D9\"},\"text\":\"\"},\"zerolinecolor\":\"#666570\"},\"yaxis\":{\"gridcolor\":\"#434343\",\"showgrid\":true,\"tickfont\":{\"color\":\"#C2C2C2\"},\"title\":{\"font\":{\"color\":\"#D9D9D9\"},\"text\":\"\"},\"zerolinecolor\":\"#666570\"}},                        {\"showLink\": true, \"linkText\": \"Export to plotly.your-company.com\", \"plotlyServerURL\": \"https://plotly.your-company.com\", \"responsive\": true}                    ).then(function(){\n",
       "                            \n",
       "var gd = document.getElementById('21919d25-ac53-402a-b36d-687e5f8440d7');\n",
       "var x = new MutationObserver(function (mutations, observer) {{\n",
       "        var display = window.getComputedStyle(gd).display;\n",
       "        if (!display || display === 'none') {{\n",
       "            console.log([gd, 'removed!']);\n",
       "            Plotly.purge(gd);\n",
       "            observer.disconnect();\n",
       "        }}\n",
       "}});\n",
       "\n",
       "// Listen for the removal of the full notebook cells\n",
       "var notebookContainer = gd.closest('#notebook-container');\n",
       "if (notebookContainer) {{\n",
       "    x.observe(notebookContainer, {childList: true});\n",
       "}}\n",
       "\n",
       "// Listen for the clearing of the current output cell\n",
       "var outputEl = gd.closest('.output');\n",
       "if (outputEl) {{\n",
       "    x.observe(outputEl, {childList: true});\n",
       "}}\n",
       "\n",
       "                        })                };                });            </script>        </div>"
      ]
     },
     "metadata": {},
     "output_type": "display_data"
    }
   ],
   "source": [
    "cf.datagen.sinwave(10,0.25).iplot(kind='surface')"
   ]
  },
  {
   "cell_type": "code",
   "execution_count": null,
   "metadata": {},
   "outputs": [],
   "source": []
  }
 ],
 "metadata": {
  "kernelspec": {
   "display_name": "Python 3",
   "language": "python",
   "name": "python3"
  },
  "language_info": {
   "codemirror_mode": {
    "name": "ipython",
    "version": 3
   },
   "file_extension": ".py",
   "mimetype": "text/x-python",
   "name": "python",
   "nbconvert_exporter": "python",
   "pygments_lexer": "ipython3",
   "version": "3.8.5"
  }
 },
 "nbformat": 4,
 "nbformat_minor": 2
}
